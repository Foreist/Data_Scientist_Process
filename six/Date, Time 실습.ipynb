{
 "cells": [
  {
   "cell_type": "code",
   "execution_count": 10,
   "metadata": {
    "ExecuteTime": {
     "end_time": "2019-08-22T07:51:01.035942Z",
     "start_time": "2019-08-22T07:51:01.009573Z"
    }
   },
   "outputs": [],
   "source": [
    "from time import localtime, strftime # 현재 시간을 년-월-일 시:분:초로 출력하기(localtime, strftime)\n",
    "\n",
    "def writelog(logfile, log): # logfile, log를 입력 인자로 받음\n",
    "    time_stamp = strftime('%Y-%m-%d %X\\t', localtime()) # time_stamp 변수에 time.strftime(년-월-일 시간, time.localtime()) 넣어줌\n",
    "    log = time_stamp + log + '\\n'# log는 위에 입력한 time_stamp + log(재귀) + 엔터\n",
    "\n",
    "    with open(logfile, 'a') as f: # logfile을 여는 거를 f에 저장\n",
    "        f.writelines(log) # 연 거에 log를 적어주고 닫음\n",
    "\n",
    "logfile = 'test.log' # logfile 변수는 test.log\n",
    "# ! rm $logfile\n",
    "! del test.log # 변수 삭제\n",
    "\n",
    "writelog(logfile, '첫번째 로깅 문장입니다.')"
   ]
  },
  {
   "cell_type": "code",
   "execution_count": 1,
   "metadata": {},
   "outputs": [],
   "source": [
    "? time"
   ]
  },
  {
   "cell_type": "code",
   "execution_count": 35,
   "metadata": {
    "ExecuteTime": {
     "end_time": "2019-08-22T07:51:08.948517Z",
     "start_time": "2019-08-22T07:51:08.928008Z"
    }
   },
   "outputs": [
    {
     "name": "stdout",
     "output_type": "stream",
     "text": [
      "2019-08-22 16:51:01\t첫번째 로깅 문장입니다.\n"
     ]
    }
   ],
   "source": [
    "# ! cat $logfile\n",
    "! type test.log"
   ]
  },
  {
   "cell_type": "code",
   "execution_count": 37,
   "metadata": {
    "ExecuteTime": {
     "end_time": "2019-08-22T07:54:45.830451Z",
     "start_time": "2019-08-22T07:54:45.825569Z"
    }
   },
   "outputs": [
    {
     "name": "stdout",
     "output_type": "stream",
     "text": [
      "time.struct_time(tm_year=2019, tm_mon=8, tm_mday=22, tm_hour=16, tm_min=54, tm_sec=45, tm_wday=3, tm_yday=234, tm_isdst=0)\n",
      "오늘은 [2019-01-01]이후 [234]일째 되는 날입니다.\n"
     ]
    }
   ],
   "source": [
    "from time import localtime # 올해 경과된 날짜수 계산하기(localtime)\n",
    "\n",
    "t = localtime()\n",
    "print(t)\n",
    "\n",
    "start_day = '%d-01-01' % (t.tm_year) # 년만 현재 데이터를 받아줌\n",
    "elapsed_day = t.tm_yday # 현재 2019년의 몇 번째 날인지를 elapsed_day에 입력\n",
    "\n",
    "print('오늘은 [%s]이후 [%d]일째 되는 날입니다.' %(start_day, elapsed_day))"
   ]
  },
  {
   "cell_type": "code",
   "execution_count": 39,
   "metadata": {
    "ExecuteTime": {
     "end_time": "2019-08-22T07:56:56.897758Z",
     "start_time": "2019-08-22T07:56:56.885061Z"
    }
   },
   "outputs": [
    {
     "data": {
      "text/plain": [
       "'2019-8-22'"
      ]
     },
     "execution_count": 39,
     "metadata": {},
     "output_type": "execute_result"
    }
   ],
   "source": [
    "today = '{yy}-{mm}-{dd}'.format(\n",
    "    yy = t.tm_year,\n",
    "    mm = t.tm_mon,\n",
    "    dd = t.tm_mday,\n",
    ")\n",
    "today"
   ]
  },
  {
   "cell_type": "code",
   "execution_count": 42,
   "metadata": {
    "ExecuteTime": {
     "end_time": "2019-08-22T08:00:57.704982Z",
     "start_time": "2019-08-22T08:00:57.698146Z"
    }
   },
   "outputs": [
    {
     "name": "stdout",
     "output_type": "stream",
     "text": [
      "[2019-8-22] 오늘은 [목요일]입니다.\n"
     ]
    }
   ],
   "source": [
    "# 오늘의 요일 계산하기(localtime)\n",
    "from time import localtime\n",
    "\n",
    "weekdays = ['월요일', '화요일', '수요일', '목요일', '금요일', '토요일', '일요일'] # 일주일을 전부 다 저장\n",
    "\n",
    "t = localtime() # time.struct_time(tm_year=2019, tm_mon=8, tm_mday=22, tm_hour=16, tm_min=59...\n",
    "today = '%d-%d-%d' %(t.tm_year, t.tm_mon, t.tm_mday) # 위의 t에서 데이터 수집\n",
    "week = weekdays[t.tm_wday] # 인덱스 3을 넣어줌\n",
    "print('[%s] 오늘은 [%s]입니다.' %(today, week)); "
   ]
  },
  {
   "cell_type": "code",
   "execution_count": 3,
   "metadata": {},
   "outputs": [
    {
     "name": "stdout",
     "output_type": "stream",
     "text": [
      "1에서 백만까지 더합니다.\n",
      "1에서 백만까지 더한 결과: 499999500000\n",
      "총 계산 시간: 0:00:00.108708\n",
      "총 계산 시간: 108ms\n"
     ]
    }
   ],
   "source": [
    "# 프로그램 실행 시간 계산하기(datetimenow)\n",
    "from datetime import datetime, timedelta\n",
    "\n",
    "start = datetime.now()\n",
    "print('1에서 백만까지 더합니다.')\n",
    "\n",
    "ret = 0\n",
    "for i in range(1000000):\n",
    "    ret += i\n",
    "\n",
    "print('1에서 백만까지 더한 결과: %d' %ret)\n",
    "end = datetime.now()\n",
    "\n",
    "elapsed = end - start\n",
    "print('총 계산 시간: ', end='');   print(elapsed)\n",
    "elapsed_ms = int(elapsed.total_seconds()*1000)\n",
    "print('총 계산 시간: %dms' %elapsed_ms)"
   ]
  },
  {
   "cell_type": "code",
   "execution_count": 4,
   "metadata": {},
   "outputs": [
    {
     "data": {
      "text/plain": [
       "datetime.datetime"
      ]
     },
     "execution_count": 4,
     "metadata": {},
     "output_type": "execute_result"
    }
   ],
   "source": [
    "type(start)"
   ]
  },
  {
   "cell_type": "code",
   "execution_count": 1,
   "metadata": {},
   "outputs": [
    {
     "name": "stdout",
     "output_type": "stream",
     "text": [
      "2019-08-22 23:14:38.844678\n",
      "2019-08-22\n",
      "<class 'str'>\n",
      "2019-08-22 23:14:38\n"
     ]
    }
   ],
   "source": [
    "from datetime import datetime\n",
    " \n",
    "now = datetime.now()\n",
    "print(now)          # yyyy-MM-dd hh:mm:ss\n",
    " \n",
    "nowDate = now.strftime('%Y-%m-%d')\n",
    "print(nowDate)      # yyyy-MM-dd \n",
    " \n",
    "nowTime = now.strftime('%H:%M:%S')\n",
    "print(typenowTime)      # 1hh:mm:ss\n",
    " \n",
    "nowDatetime = now.strftime('%Y-%m-%d %H:%M:%S')\n",
    "print(nowDatetime)  # yyyy-MM-dd hh:mm:ss"
   ]
  },
  {
   "cell_type": "code",
   "execution_count": null,
   "metadata": {},
   "outputs": [],
   "source": [
    "type(now)"
   ]
  },
  {
   "cell_type": "code",
   "execution_count": 9,
   "metadata": {},
   "outputs": [
    {
     "data": {
      "text/plain": [
       "datetime.datetime(2002, 3, 2, 0, 0)"
      ]
     },
     "execution_count": 9,
     "metadata": {},
     "output_type": "execute_result"
    }
   ],
   "source": [
    "m_day = datetime(2002, 3, 2)\n",
    "# m_day = m_day.strftime('%Y-%m-%d')\n",
    "m_day"
   ]
  },
  {
   "cell_type": "code",
   "execution_count": 22,
   "metadata": {},
   "outputs": [
    {
     "data": {
      "text/plain": [
       "datetime.datetime(2019, 8, 22, 20, 20, 1, 120055)"
      ]
     },
     "execution_count": 22,
     "metadata": {},
     "output_type": "execute_result"
    }
   ],
   "source": [
    "today = datetime.now()\n",
    "today"
   ]
  },
  {
   "cell_type": "code",
   "execution_count": 11,
   "metadata": {},
   "outputs": [
    {
     "data": {
      "text/plain": [
       "datetime.timedelta(days=6382, seconds=72681, microseconds=944370)"
      ]
     },
     "execution_count": 11,
     "metadata": {},
     "output_type": "execute_result"
    }
   ],
   "source": [
    "elapsed = today - m_day\n",
    "elapsed"
   ]
  },
  {
   "cell_type": "code",
   "execution_count": 12,
   "metadata": {},
   "outputs": [
    {
     "data": {
      "text/plain": [
       "(6382, 72681, 944370)"
      ]
     },
     "execution_count": 12,
     "metadata": {},
     "output_type": "execute_result"
    }
   ],
   "source": [
    "elapsed.days, elapsed.seconds, elapsed.microseconds"
   ]
  },
  {
   "cell_type": "code",
   "execution_count": 13,
   "metadata": {},
   "outputs": [
    {
     "data": {
      "text/plain": [
       "'러블리~ 우리 함께한지 벌써 6382일이나 지났고, 월수는 212개월, 년수는 17년이 지났네~!!'"
      ]
     },
     "execution_count": 13,
     "metadata": {},
     "output_type": "execute_result"
    }
   ],
   "source": [
    "elapsed_day   = elapsed.days\n",
    "elapsed_month = elapsed_day / 30\n",
    "elapsed_year  = elapsed_day / 365\n",
    "\n",
    "'러블리~ 우리 함께한지 벌써 {e_dd}일이나 지났고, 월수는 {e_mm}개월, 년수는 {e_yy}년이 지났네~!!'.format(\n",
    "    e_dd = elapsed_day,\n",
    "    e_mm = int(elapsed_month),\n",
    "    e_yy = int(elapsed_year)\n",
    ")"
   ]
  },
  {
   "cell_type": "code",
   "execution_count": null,
   "metadata": {},
   "outputs": [],
   "source": [
    "미션, 기념일 계산\n",
    "getMemorialDay(year, month, day, mem_day)\n",
    "\n",
    "특정기념일로 부터 얼마나 경과되었는지 알려주는 함수를 만드시오.\n",
    "경과일자가 1000일이 넘는경우, 천단위로 (,)를 붙혀서 출력해보기\n",
    "1234일 -> 1,234일"
   ]
  },
  {
   "cell_type": "code",
   "execution_count": 135,
   "metadata": {},
   "outputs": [],
   "source": [
    "from datetime import datetime # datetime으로 이미 되어 있어서 그대로 진행해봤습니다.\n",
    "\n",
    "def getMemorialDay(year, month, day, mem_day = '기념일', is_msg = True):\n",
    "    \n",
    "    m_day = datetime.now() - datetime(year, month, day)  # m_day = 현 날짜- 계산할 날짜\n",
    "    days = m_day.days #  일만 저장해 줍니다.\n",
    "    dayss = format(days, \",\") # dayss에 셋째 자리마다 쉼표를 붙여줍니다.\n",
    "    \n",
    "    if days >= 0: # 일수를 계산했을 때 값이 양의 정수인 경우\n",
    "        print(\"\"\"오늘은 \"{0}\"로부터 {1}일 경과되었고, 달 수로는 {2}개월째,\\n\\\n",
    "                연 수로는 {3}년째 되었습니다!!\"\"\"\\\n",
    "              .format(mem_day, dayss, days // 30 , (days // 30) // 12))\n",
    "    else:\n",
    "        print(\"입력한 내용 [{0}]: 숫자가 아닙니다.\".format(days))\n",
    "    return (days // 30)// 12, days // 30, days"
   ]
  },
  {
   "cell_type": "code",
   "execution_count": 139,
   "metadata": {},
   "outputs": [
    {
     "name": "stdout",
     "output_type": "stream",
     "text": [
      "오늘은 \"김진수 선생님과의 첫 만남\"로부터 10일 경과되었고, 달 수로는 0개월째,\n",
      "                연 수로는 0년째 되었습니다!!\n"
     ]
    },
    {
     "data": {
      "text/plain": [
       "(0, 0, 10)"
      ]
     },
     "execution_count": 139,
     "metadata": {},
     "output_type": "execute_result"
    }
   ],
   "source": [
    "getMemorialDay(2019, 8, 12, '김진수 선생님과의 첫 만남')"
   ]
  },
  {
   "cell_type": "code",
   "execution_count": 140,
   "metadata": {},
   "outputs": [
    {
     "name": "stdout",
     "output_type": "stream",
     "text": [
      "오늘은 \"밀레니엄일\"로부터 7,173일 경과되었고, 달 수로는 239개월째,\n",
      "                연 수로는 19년째 되었습니다!!\n"
     ]
    },
    {
     "data": {
      "text/plain": [
       "(19, 239, 7173)"
      ]
     },
     "execution_count": 140,
     "metadata": {},
     "output_type": "execute_result"
    }
   ],
   "source": [
    "getMemorialDay(2000,1,1, '밀레니엄일')"
   ]
  },
  {
   "cell_type": "code",
   "execution_count": 138,
   "metadata": {},
   "outputs": [
    {
     "name": "stdout",
     "output_type": "stream",
     "text": [
      "입력한 내용 [-125]: 숫자가 아닙니다.\n"
     ]
    },
    {
     "data": {
      "text/plain": [
       "'크리스마스까지는 125일 남았습니다!!'"
      ]
     },
     "execution_count": 138,
     "metadata": {},
     "output_type": "execute_result"
    }
   ],
   "source": [
    "_y, _m, elapsed_day = getMemorialDay(2019, 12, 25, '크리스마스', False)\n",
    "'크리스마스까지는 %d일 남았습니다!!' % -elapsed_day"
   ]
  },
  {
   "cell_type": "code",
   "execution_count": 51,
   "metadata": {},
   "outputs": [
    {
     "name": "stdout",
     "output_type": "stream",
     "text": [
      "19 8 22\n"
     ]
    }
   ],
   "source": [
    "t = datetime.now() \n",
    "\n",
    "print(y, m, d)"
   ]
  },
  {
   "cell_type": "code",
   "execution_count": null,
   "metadata": {},
   "outputs": [],
   "source": [
    "getMemorialDay(2000,1,1, '밀레니엄일')\n",
    "getMemorialDay(2014,4,16, '세월호침몰사고일')\n",
    "_y, _m, elapsed_day = getMemorialDay(2018, 12, 25, '크리스마스', False)\n",
    "'크리스마스까지는 %d일 남았습니다!!' % -elapsed_day"
   ]
  },
  {
   "cell_type": "code",
   "execution_count": 134,
   "metadata": {},
   "outputs": [
    {
     "data": {
      "text/plain": [
       "int"
      ]
     },
     "execution_count": 134,
     "metadata": {},
     "output_type": "execute_result"
    }
   ],
   "source": [
    "type(-1)"
   ]
  },
  {
   "cell_type": "code",
   "execution_count": null,
   "metadata": {},
   "outputs": [],
   "source": []
  }
 ],
 "metadata": {
  "kernelspec": {
   "display_name": "Python 3",
   "language": "python",
   "name": "python3"
  },
  "language_info": {
   "codemirror_mode": {
    "name": "ipython",
    "version": 3
   },
   "file_extension": ".py",
   "mimetype": "text/x-python",
   "name": "python",
   "nbconvert_exporter": "python",
   "pygments_lexer": "ipython3",
   "version": "3.7.0"
  },
  "varInspector": {
   "cols": {
    "lenName": 16,
    "lenType": 16,
    "lenVar": 40
   },
   "kernels_config": {
    "python": {
     "delete_cmd_postfix": "",
     "delete_cmd_prefix": "del ",
     "library": "var_list.py",
     "varRefreshCmd": "print(var_dic_list())"
    },
    "r": {
     "delete_cmd_postfix": ") ",
     "delete_cmd_prefix": "rm(",
     "library": "var_list.r",
     "varRefreshCmd": "cat(var_dic_list()) "
    }
   },
   "types_to_exclude": [
    "module",
    "function",
    "builtin_function_or_method",
    "instance",
    "_Feature"
   ],
   "window_display": false
  }
 },
 "nbformat": 4,
 "nbformat_minor": 2
}
