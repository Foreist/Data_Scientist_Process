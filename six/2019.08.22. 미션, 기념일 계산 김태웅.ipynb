{
 "cells": [
  {
   "cell_type": "code",
   "execution_count": 5,
   "metadata": {},
   "outputs": [],
   "source": [
    "from datetime import datetime # datetime으로 이미 되어 있어서 그대로 진행해봤습니다.\n",
    "\n",
    "def getMemorialDay(year, month, day, mem_day = '기념일', is_msg = True):\n",
    "    \n",
    "    m_day = datetime.now() - datetime(year, month, day)  # m_day = 현 날짜- 계산할 날짜\n",
    "    days = m_day.days #  일만 저장해 줍니다.\n",
    "    dayss = format(days, \",\") # dayss에 셋째 자리마다 쉼표를 붙여줍니다.\n",
    "    \n",
    "    if days >= 0: # 일수를 계산했을 때 값이 양의 정수인 경우\n",
    "        print(\"\"\"오늘은 \"{0}\"로부터 {1}일 경과되었고, 달 수로는 {2}개월째,\\n\\\n",
    "                연 수로는 {3}년째 되었습니다!!\"\"\"\\\n",
    "              .format(mem_day, dayss, days // 30 , (days // 30) // 12))\n",
    "    else:\n",
    "        print(\"입력한 내용 [{0}]: 숫자가 아닙니다.\".format(days))\n",
    "    return (days // 30)// 12, days // 30, days"
   ]
  },
  {
   "cell_type": "code",
   "execution_count": 6,
   "metadata": {},
   "outputs": [
    {
     "name": "stdout",
     "output_type": "stream",
     "text": [
      "오늘은 \"김진수 선생님과의 첫 만남\"로부터 10일 경과되었고, 달 수로는 0개월째,\n",
      "                연 수로는 0년째 되었습니다!!\n"
     ]
    },
    {
     "data": {
      "text/plain": [
       "(0, 0, 10)"
      ]
     },
     "execution_count": 6,
     "metadata": {},
     "output_type": "execute_result"
    }
   ],
   "source": [
    "getMemorialDay(2019, 8, 12, '김진수 선생님과의 첫 만남')"
   ]
  },
  {
   "cell_type": "code",
   "execution_count": 7,
   "metadata": {},
   "outputs": [
    {
     "name": "stdout",
     "output_type": "stream",
     "text": [
      "오늘은 \"밀레니엄일\"로부터 7,173일 경과되었고, 달 수로는 239개월째,\n",
      "                연 수로는 19년째 되었습니다!!\n"
     ]
    },
    {
     "data": {
      "text/plain": [
       "(19, 239, 7173)"
      ]
     },
     "execution_count": 7,
     "metadata": {},
     "output_type": "execute_result"
    }
   ],
   "source": [
    "getMemorialDay(2000,1,1, '밀레니엄일')"
   ]
  },
  {
   "cell_type": "code",
   "execution_count": 8,
   "metadata": {},
   "outputs": [
    {
     "name": "stdout",
     "output_type": "stream",
     "text": [
      "입력한 내용 [-125]: 숫자가 아닙니다.\n"
     ]
    },
    {
     "data": {
      "text/plain": [
       "'크리스마스까지는 125일 남았습니다!!'"
      ]
     },
     "execution_count": 8,
     "metadata": {},
     "output_type": "execute_result"
    }
   ],
   "source": [
    "_y, _m, elapsed_day = getMemorialDay(2019, 12, 25, '크리스마스', False)\n",
    "'크리스마스까지는 %d일 남았습니다!!' % -elapsed_day"
   ]
  }
 ],
 "metadata": {
  "kernelspec": {
   "display_name": "Python 3",
   "language": "python",
   "name": "python3"
  },
  "language_info": {
   "codemirror_mode": {
    "name": "ipython",
    "version": 3
   },
   "file_extension": ".py",
   "mimetype": "text/x-python",
   "name": "python",
   "nbconvert_exporter": "python",
   "pygments_lexer": "ipython3",
   "version": "3.7.0"
  }
 },
 "nbformat": 4,
 "nbformat_minor": 2
}
