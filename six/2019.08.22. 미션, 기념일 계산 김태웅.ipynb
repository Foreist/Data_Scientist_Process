{
 "cells": [
  {
   "cell_type": "code",
   "execution_count": 5,
   "metadata": {},
   "outputs": [],
   "source": [
    "from datetime import datetime # datetime으로 이미 되어 있어서 그대로 진행해봤습니다.\n",
    "\n",
    "def getMemorialDay(year, month, day, mem_day = '기념일', is_msg = True):\n",
    "    \n",
    "    m_day = datetime.now() - datetime(year, month, day)  # m_day = 현 날짜- 계산할 날짜\n",
    "    days = m_day.days #  일만 저장해 줍니다.\n",
    "    dayss = format(days, \",\") # dayss에 셋째 자리마다 쉼표를 붙여줍니다.\n",
    "    \n",
    "    if days >= 0: # 일수를 계산했을 때 값이 양의 정수인 경우\n",
    "        print(\"\"\"오늘은 \"{0}\"로부터 {1}일 경과되었고, 달 수로는 {2}개월째,\\n\\\n",
    "                연 수로는 {3}년째 되었습니다!!\"\"\"\\\n",
    "              .format(mem_day, dayss, days // 30 , (days // 30) // 12))\n",
    "    else:\n",
    "        print(\"입력한 내용 [{0}]: 숫자가 아닙니다.\".format(days))\n",
    "    return (days // 30)// 12, days // 30, days"
   ]
  },
  {
   "cell_type": "code",
   "execution_count": 6,
   "metadata": {},
   "outputs": [
    {
     "name": "stdout",
     "output_type": "stream",
     "text": [
      "오늘은 \"김진수 선생님과의 첫 만남\"로부터 10일 경과되었고, 달 수로는 0개월째,\n",
      "                연 수로는 0년째 되었습니다!!\n"
     ]
    },
    {
     "data": {
      "text/plain": [
       "(0, 0, 10)"
      ]
     },
     "execution_count": 6,
     "metadata": {},
     "output_type": "execute_result"
    }
   ],
   "source": [
    "getMemorialDay(2019, 8, 12, '김진수 선생님과의 첫 만남')"
   ]
  },
  {
   "cell_type": "code",
   "execution_count": 7,
   "metadata": {},
   "outputs": [
    {
     "name": "stdout",
     "output_type": "stream",
     "text": [
      "오늘은 \"밀레니엄일\"로부터 7,173일 경과되었고, 달 수로는 239개월째,\n",
      "                연 수로는 19년째 되었습니다!!\n"
     ]
    },
    {
     "data": {
      "text/plain": [
       "(19, 239, 7173)"
      ]
     },
     "execution_count": 7,
     "metadata": {},
     "output_type": "execute_result"
    }
   ],
   "source": [
    "getMemorialDay(2000,1,1, '밀레니엄일')"
   ]
  },
  {
   "cell_type": "code",
   "execution_count": 8,
   "metadata": {},
   "outputs": [
    {
     "name": "stdout",
     "output_type": "stream",
     "text": [
      "입력한 내용 [-125]: 숫자가 아닙니다.\n"
     ]
    },
    {
     "data": {
      "text/plain": [
       "'크리스마스까지는 125일 남았습니다!!'"
      ]
     },
     "execution_count": 8,
     "metadata": {},
     "output_type": "execute_result"
    }
   ],
   "source": [
    "_y, _m, elapsed_day = getMemorialDay(2019, 12, 25, '크리스마스', False)\n",
    "'크리스마스까지는 %d일 남았습니다!!' % -elapsed_day"
   ]
  },
  {
   "cell_type": "code",
   "execution_count": 3,
   "metadata": {
    "ExecuteTime": {
     "end_time": "2019-08-23T00:17:34.980859Z",
     "start_time": "2019-08-23T00:17:34.976952Z"
    }
   },
   "outputs": [
    {
     "name": "stdout",
     "output_type": "stream",
     "text": [
      "<enumerate object at 0x00000208C30CB900>\n"
     ]
    }
   ],
   "source": [
    "#enumerate를 하게 되면 가져온 데이터를 인덱스를 붙여줌\n",
    "print(enumerate('야야야')"
   ]
  },
  {
   "cell_type": "code",
   "execution_count": 24,
   "metadata": {
    "ExecuteTime": {
     "end_time": "2019-08-23T01:59:44.739660Z",
     "start_time": "2019-08-23T01:59:44.730872Z"
    }
   },
   "outputs": [
    {
     "name": "stdout",
     "output_type": "stream",
     "text": [
      "{'cat': 0, 'sheep': 0, 'duck': 0} cat\n",
      "{'cat': 0, 'sheep': 0, 'duck': 0} cat\n",
      "{'cat': 0, 'sheep': 0, 'duck': 0} cat\n",
      "{'cat': 0, 'sheep': 0, 'duck': 0} sheep\n",
      "{'cat': 0, 'sheep': 0, 'duck': 0} sheep\n",
      "{'cat': 0, 'sheep': 0, 'duck': 0} duck\n",
      "{'cat': 0, 'sheep': 0, 'duck': 0} duck\n",
      "{'cat': 0, 'sheep': 0, 'duck': 0} duck\n",
      "{'cat': 0, 'sheep': 0, 'duck': 0} duck\n"
     ]
    },
    {
     "data": {
      "text/plain": [
       "{'cat': 0, 'sheep': 0, 'duck': 0}"
      ]
     },
     "execution_count": 24,
     "metadata": {},
     "output_type": "execute_result"
    }
   ],
   "source": [
    "from functools import reduce\n",
    "# 리듀스 활용하기, \n",
    "def draw_histogram(datas, b):\n",
    "    print(datas, b)\n",
    "    return datas\n",
    "\n",
    "reduce(\n",
    "    draw_histogram,\n",
    "    [\"cat\", \"cat\", \"cat\", \"sheep\", \"sheep\", \"duck\", \"duck\", \"duck\", \"duck\" ],\n",
    "    {\"cat\": 0, \"sheep\": 0, \"duck\" : 0})"
   ]
  },
  {
   "cell_type": "code",
   "execution_count": null,
   "metadata": {},
   "outputs": [],
   "source": []
  }
 ],
 "metadata": {
  "kernelspec": {
   "display_name": "Python 3",
   "language": "python",
   "name": "python3"
  },
  "language_info": {
   "codemirror_mode": {
    "name": "ipython",
    "version": 3
   },
   "file_extension": ".py",
   "mimetype": "text/x-python",
   "name": "python",
   "nbconvert_exporter": "python",
   "pygments_lexer": "ipython3",
   "version": "3.7.3"
  },
  "varInspector": {
   "cols": {
    "lenName": 16,
    "lenType": 16,
    "lenVar": 40
   },
   "kernels_config": {
    "python": {
     "delete_cmd_postfix": "",
     "delete_cmd_prefix": "del ",
     "library": "var_list.py",
     "varRefreshCmd": "print(var_dic_list())"
    },
    "r": {
     "delete_cmd_postfix": ") ",
     "delete_cmd_prefix": "rm(",
     "library": "var_list.r",
     "varRefreshCmd": "cat(var_dic_list()) "
    }
   },
   "types_to_exclude": [
    "module",
    "function",
    "builtin_function_or_method",
    "instance",
    "_Feature"
   ],
   "window_display": false
  }
 },
 "nbformat": 4,
 "nbformat_minor": 2
}
