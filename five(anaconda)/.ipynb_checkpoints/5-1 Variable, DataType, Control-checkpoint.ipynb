{
 "cells": [
  {
   "cell_type": "code",
   "execution_count": 7,
   "metadata": {},
   "outputs": [
    {
     "name": "stdout",
     "output_type": "stream",
     "text": [
      "1.0\n",
      "7.0\n",
      "(2+3j)\n"
     ]
    }
   ],
   "source": [
    "c1 = 1+7j\n",
    "print(c1.real); print(c1.imag)\n",
    "\n",
    "c2 = complex(2, 3)\n",
    "print(c2)"
   ]
  },
  {
   "cell_type": "code",
   "execution_count": null,
   "metadata": {},
   "outputs": [],
   "source": [
    "test = '파이썬 프로그래밍 재미있다!'        # 문자열을 변수에 저장\n",
    "\n",
    "result = test.startswith('파이썬')          # 문자열이 '파이썬으로 시작하는지 확인\n",
    "print(result)\n",
    "result = test.endswith('!')                 # 문자열이 '!'로 끝나는지 확인\n",
    "print(result)\n",
    "result = test.endswith('어려워요!')         # 문자열이 '어려워요!'로 끝나는지 확인\n",
    "print(result)\n",
    "# 변수명.replace(바꿀 대상, 변경이 된 문자열)\n",
    "result = test.replace('파이썬', 'Python')   # 문자열중 '파이썬'을 'Python'으로 변경\n",
    "print(result)"
   ]
  },
  {
   "cell_type": "code",
   "execution_count": null,
   "metadata": {},
   "outputs": [],
   "source": [
    "test = 'Python Programming is Interesting!'\n",
    "\n",
    "result = test.upper()        # 문자열을 모두 대문자로 변경\n",
    "print(result)\n",
    "result = test.lower()        # 문자열을 모두 소문자로 변경\n",
    "print(result)\n",
    "# 조인은 '넣을 문자열'.join(변수명)\n",
    "result = '/'.join(test)      # 문자열의 각 문자 사이에 '/'문자 집어 넣기\n",
    "print(result)"
   ]
  },
  {
   "cell_type": "code",
   "execution_count": 11,
   "metadata": {},
   "outputs": [
    {
     "name": "stdout",
     "output_type": "stream",
     "text": [
      "<class 'str'>\n",
      "<class 'str'>\n",
      "<class 'str'>\n"
     ]
    }
   ],
   "source": [
    "# 조건문\n",
    "scope = list(\"123\")\n",
    "for x in scope:\n",
    "    print(type(x))"
   ]
  },
  {
   "cell_type": "code",
   "execution_count": 12,
   "metadata": {},
   "outputs": [
    {
     "name": "stdout",
     "output_type": "stream",
     "text": [
      "1\n",
      "2\n",
      "3\n"
     ]
    }
   ],
   "source": [
    "# for~continue~break \n",
    "scope = [1, 2, 3, 4, 5]\n",
    "\n",
    "for x in scope:\n",
    "    print(x)\n",
    "    if x < 3:\n",
    "        pass\n",
    "    else:\n",
    "        break"
   ]
  },
  {
   "cell_type": "code",
   "execution_count": null,
   "metadata": {},
   "outputs": [],
   "source": [
    "# for~else\n",
    "scope = [1, 2, 3]\n",
    "\n",
    "for x in scope:\n",
    "    print(x)\n",
    "    break\n",
    "    \n",
    "# for문에 else를 쓰면 for문이 다 수행되고 난 뒤 else를 수행함.\n",
    "else:\n",
    "    print('Perfect')"
   ]
  },
  {
   "cell_type": "code",
   "execution_count": 15,
   "metadata": {},
   "outputs": [
    {
     "name": "stdout",
     "output_type": "stream",
     "text": [
      "E\n",
      "C\n",
      "A\n"
     ]
    }
   ],
   "source": [
    "scope = ['A', 'B', 'C', 'D', 'E']\n",
    "for x in scope[::-2]:\n",
    "    print(x)"
   ]
  },
  {
   "cell_type": "code",
   "execution_count": 1,
   "metadata": {
    "ExecuteTime": {
     "end_time": "2019-08-20T01:28:21.213322Z",
     "start_time": "2019-08-20T01:28:21.206486Z"
    }
   },
   "outputs": [
    {
     "name": "stdout",
     "output_type": "stream",
     "text": [
      "numbers : [0, 1, 2, 3, 4, 5, 6, 7, 8, 9]\n",
      "numbers의 합계는 45 입니다.\n",
      "10\n"
     ]
    }
   ],
   "source": [
    "numbers = list(range(10))\n",
    "print('numbers :', numbers)\n",
    "idx, sum = 0, 0\n",
    "\n",
    "while idx < len(numbers):\n",
    "    num = numbers[idx]\n",
    "    sum += idx\n",
    "    idx += 1\n",
    "\n",
    "print('numbers의 합계는', sum, '입니다.')\n",
    "print(idx)"
   ]
  }
 ],
 "metadata": {
  "kernelspec": {
   "display_name": "Python 3",
   "language": "python",
   "name": "python3"
  },
  "language_info": {
   "codemirror_mode": {
    "name": "ipython",
    "version": 3
   },
   "file_extension": ".py",
   "mimetype": "text/x-python",
   "name": "python",
   "nbconvert_exporter": "python",
   "pygments_lexer": "ipython3",
   "version": "3.7.3"
  },
  "varInspector": {
   "cols": {
    "lenName": 16,
    "lenType": 16,
    "lenVar": 40
   },
   "kernels_config": {
    "python": {
     "delete_cmd_postfix": "",
     "delete_cmd_prefix": "del ",
     "library": "var_list.py",
     "varRefreshCmd": "print(var_dic_list())"
    },
    "r": {
     "delete_cmd_postfix": ") ",
     "delete_cmd_prefix": "rm(",
     "library": "var_list.r",
     "varRefreshCmd": "cat(var_dic_list()) "
    }
   },
   "position": {
    "height": "144px",
    "left": "592px",
    "right": "20px",
    "top": "70px",
    "width": "350px"
   },
   "types_to_exclude": [
    "module",
    "function",
    "builtin_function_or_method",
    "instance",
    "_Feature"
   ],
   "window_display": true
  }
 },
 "nbformat": 4,
 "nbformat_minor": 2
}
