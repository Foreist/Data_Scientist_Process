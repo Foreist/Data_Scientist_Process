{
 "cells": [
  {
   "cell_type": "markdown",
   "metadata": {},
   "source": [
    "# 데이터 타입\n",
    "- 숫자형 : int, float\n",
    "- 문자형 : str\n",
    "- 논리형 : boolean\n",
    "- 구조형 : list, tuple, set, dict ==> 공통점 : elements\n",
    "- None\n",
    "- function도 하나의 타입"
   ]
  },
  {
   "cell_type": "markdown",
   "metadata": {},
   "source": [
    "# Wrap-up\n",
    "- list : elements, order, duplicate\n",
    "- tuple : elements, order, duplicate, 변경 X\n",
    "- set : elements, order X, duplicate X\n",
    "- dict : elements, order X, key, value, key duplicate X"
   ]
  },
  {
   "cell_type": "code",
   "execution_count": 7,
   "metadata": {
    "ExecuteTime": {
     "end_time": "2019-08-20T01:48:57.871385Z",
     "start_time": "2019-08-20T01:48:57.865524Z"
    }
   },
   "outputs": [
    {
     "name": "stdout",
     "output_type": "stream",
     "text": [
      "name\n",
      "gender\n",
      "email\n",
      "company\n",
      "address\n"
     ]
    }
   ],
   "source": [
    "customer = {\n",
    "    \"name\"    : \"김진수\",\n",
    "    'gender'  : '남자',\n",
    "    \"email\"   : \"bigpycraft@gmail.com\",\n",
    "    \"company\" : \"빅파이크래프트\",\n",
    "    \"address\" : \"서울시 노원구 월계로\"\n",
    "}\n",
    "\n",
    "for i in customer:\n",
    "    print(i)"
   ]
  },
  {
   "cell_type": "code",
   "execution_count": 11,
   "metadata": {
    "ExecuteTime": {
     "end_time": "2019-08-20T01:50:05.239515Z",
     "start_time": "2019-08-20T01:50:05.233686Z"
    }
   },
   "outputs": [
    {
     "name": "stdout",
     "output_type": "stream",
     "text": [
      "index  = 0, key =  name, value = 김진수\n",
      "index  = 1, key =  gender, value = 남자\n",
      "index  = 2, key =  email, value = bigpycraft@gmail.com\n",
      "index  = 3, key =  company, value = 빅파이크래프트\n",
      "index  = 4, key =  address, value = 서울시 노원구 월계로\n"
     ]
    }
   ],
   "source": [
    "count = 0\n",
    "for i in customer:\n",
    "    # dict는 for에 넣고 돌리면 key값이 나온다.\n",
    "    print(\"index  = {0}, key =  {1}, value = {2}\".format(count, i, customer[i]))\n",
    "    count += 1"
   ]
  }
 ],
 "metadata": {
  "kernelspec": {
   "display_name": "Python 3",
   "language": "python",
   "name": "python3"
  },
  "language_info": {
   "codemirror_mode": {
    "name": "ipython",
    "version": 3
   },
   "file_extension": ".py",
   "mimetype": "text/x-python",
   "name": "python",
   "nbconvert_exporter": "python",
   "pygments_lexer": "ipython3",
   "version": "3.7.3"
  },
  "varInspector": {
   "cols": {
    "lenName": 16,
    "lenType": 16,
    "lenVar": 40
   },
   "kernels_config": {
    "python": {
     "delete_cmd_postfix": "",
     "delete_cmd_prefix": "del ",
     "library": "var_list.py",
     "varRefreshCmd": "print(var_dic_list())"
    },
    "r": {
     "delete_cmd_postfix": ") ",
     "delete_cmd_prefix": "rm(",
     "library": "var_list.r",
     "varRefreshCmd": "cat(var_dic_list()) "
    }
   },
   "oldHeight": 122,
   "position": {
    "height": "217px",
    "left": "647px",
    "right": "20px",
    "top": "109px",
    "width": "350px"
   },
   "types_to_exclude": [
    "module",
    "function",
    "builtin_function_or_method",
    "instance",
    "_Feature"
   ],
   "varInspector_section_display": "block",
   "window_display": true
  }
 },
 "nbformat": 4,
 "nbformat_minor": 2
}
