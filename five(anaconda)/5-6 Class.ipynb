{
 "cells": [
  {
   "cell_type": "code",
   "execution_count": 4,
   "metadata": {
    "ExecuteTime": {
     "end_time": "2019-08-20T04:45:03.359668Z",
     "start_time": "2019-08-20T04:45:03.353808Z"
    }
   },
   "outputs": [
    {
     "name": "stdout",
     "output_type": "stream",
     "text": [
      "1 2\n"
     ]
    }
   ],
   "source": [
    "# init이 있고 없고의 차이점을 확인해 보자\n",
    "class high:\n",
    "    q = \"\"\n",
    "    w = \"\"\n",
    "\n",
    "    def adder(self, q, w):\n",
    "        print(q, w)\n",
    "        \n",
    "high().adder(1, 2)"
   ]
  },
  {
   "cell_type": "code",
   "execution_count": 26,
   "metadata": {
    "ExecuteTime": {
     "end_time": "2019-08-20T05:01:38.422952Z",
     "start_time": "2019-08-20T05:01:38.415139Z"
    }
   },
   "outputs": [],
   "source": [
    "# init이 없는 거\n",
    "\n",
    "class 빵틀:\n",
    "    모양 = str()    # 붕어, 잉어\n",
    "    단가 = int()\n",
    "\n",
    "    def 굽기(self, 주문갯수):\n",
    "        # 한번에 최대 10개씩 굽는다.\n",
    "        # 한판 굽는데 걸리는 시간은 5분\n",
    "        굽는횟수 = (주문갯수-1)/10 + 1\n",
    "        완성시간 = int(굽는횟수) * 5\n",
    "        return 완성시간\n",
    "\n",
    "    def 가격(self, 주문갯수):\n",
    "        금액 = 주문갯수 * self.단가\n",
    "        return 금액\n",
    "    \n",
    "    def 주문(self, 주문갯수, 지불금액):\n",
    "        대기시간 = self.굽기(주문갯수)\n",
    "        주문금액 = self.가격(주문갯수)        \n",
    "        거스름돈 = 지불금액 - 주문금액\n",
    "        return 대기시간, 거스름돈"
   ]
  },
  {
   "cell_type": "code",
   "execution_count": 27,
   "metadata": {
    "ExecuteTime": {
     "end_time": "2019-08-20T05:01:39.124210Z",
     "start_time": "2019-08-20T05:01:39.115376Z"
    }
   },
   "outputs": [
    {
     "name": "stdout",
     "output_type": "stream",
     "text": [
      "붕어빵 20개를 주문하였고, 10000원을 지불하였습니다.\n",
      "--------------------------------------------------\n",
      "잔돈은 4000원 입니다. 10분만 기다려주세요.\n"
     ]
    }
   ],
   "source": [
    "order = 20\n",
    "payment = 10000\n",
    "\n",
    "wait_time, change = 붕어빵.주문(order, payment)\n",
    "shape = 붕어빵.모양\n",
    "print('{}빵 {}개를 주문하였고, {}원을 지불하였습니다.'.format(shape, order, payment))\n",
    "\n",
    "if change == 0:\n",
    "    message = '손님, {wt}분만 기다려주세요.'.format(wt=wait_time)\n",
    "elif change > 0:\n",
    "    message = '잔돈은 {ch}원 입니다. {wt}분만 기다려주세요.'.format(ch=change, wt=wait_time)\n",
    "elif change < 0:\n",
    "    message = '손님, 금액이 {ch}원 부족합니다.'.format(ch=-change)\n",
    "else:\n",
    "    message = 'Error'\n",
    "    \n",
    "print('-'*50)\n",
    "print(message)"
   ]
  },
  {
   "cell_type": "markdown",
   "metadata": {},
   "source": [
    "# 클래스 변수와 인스턴스 변수"
   ]
  },
  {
   "cell_type": "code",
   "execution_count": null,
   "metadata": {},
   "outputs": [],
   "source": [
    "# 클래스 변수(인스턴스간 공유 됨)\n",
    "class Dog:\n",
    "    tricks = []  # 클래스 변수 선언\n",
    "\n",
    "    def __init__(self, name):\n",
    "        self.name = name\n",
    "\n",
    "    def add_trick(self, trick):\n",
    "        self.tricks.append(trick)  # 클래스 변수에 값 추가\n",
    "\n",
    "\n",
    "dog1 = Dog('마음이')\n",
    "dog2 = Dog('진돌이')\n",
    "\n",
    "dog1.add_trick('구르기')\n",
    "dog2.add_trick('두발로 서기')\n",
    "dog2.add_trick('죽은척 하기')\n",
    "\n",
    "print(dog1.name, ':', dog1.tricks)\n",
    "print(dog2.name, ':', dog2.tricks)"
   ]
  },
  {
   "cell_type": "code",
   "execution_count": null,
   "metadata": {},
   "outputs": [],
   "source": [
    "# 인스턴스 변수(인스턴스간 공유 안됨)\n",
    "class Cat:\n",
    "    def __init__(self, name):\n",
    "        self.name = name\n",
    "        self.tricks = []  # 인스턴스 변수 선언\n",
    "\n",
    "    def add_trick(self, trick):\n",
    "        self.tricks.append(trick)  # 인스턴스 변수에 값 추가\n",
    "\n",
    "\n",
    "cat1 = Cat('하늘이')\n",
    "cat2 = Cat('야옹이')\n",
    "\n",
    "cat1.add_trick('구르기')\n",
    "cat2.add_trick('두발로 서기')\n",
    "cat2.add_trick('죽은척 하기')\n",
    "\n",
    "print(cat1.name, ':', cat1.tricks)\n",
    "print(cat2.name, ':', cat2.tricks)"
   ]
  }
 ],
 "metadata": {
  "kernelspec": {
   "display_name": "Python 3",
   "language": "python",
   "name": "python3"
  },
  "language_info": {
   "codemirror_mode": {
    "name": "ipython",
    "version": 3
   },
   "file_extension": ".py",
   "mimetype": "text/x-python",
   "name": "python",
   "nbconvert_exporter": "python",
   "pygments_lexer": "ipython3",
   "version": "3.7.3"
  },
  "varInspector": {
   "cols": {
    "lenName": 16,
    "lenType": 16,
    "lenVar": 40
   },
   "kernels_config": {
    "python": {
     "delete_cmd_postfix": "",
     "delete_cmd_prefix": "del ",
     "library": "var_list.py",
     "varRefreshCmd": "print(var_dic_list())"
    },
    "r": {
     "delete_cmd_postfix": ") ",
     "delete_cmd_prefix": "rm(",
     "library": "var_list.r",
     "varRefreshCmd": "cat(var_dic_list()) "
    }
   },
   "types_to_exclude": [
    "module",
    "function",
    "builtin_function_or_method",
    "instance",
    "_Feature"
   ],
   "window_display": false
  }
 },
 "nbformat": 4,
 "nbformat_minor": 2
}
