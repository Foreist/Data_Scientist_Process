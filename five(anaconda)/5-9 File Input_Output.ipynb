{
 "cells": [
  {
   "cell_type": "markdown",
   "metadata": {},
   "source": [
    "# 파일 입출력"
   ]
  },
  {
   "cell_type": "code",
   "execution_count": 2,
   "metadata": {
    "ExecuteTime": {
     "end_time": "2019-08-20T06:38:18.141646Z",
     "start_time": "2019-08-20T06:38:17.971715Z"
    }
   },
   "outputs": [
    {
     "ename": "FileNotFoundError",
     "evalue": "[Errno 2] No such file or directory: '.hello.txt'",
     "output_type": "error",
     "traceback": [
      "\u001b[1;31m---------------------------------------------------------------------------\u001b[0m",
      "\u001b[1;31mFileNotFoundError\u001b[0m                         Traceback (most recent call last)",
      "\u001b[1;32m<ipython-input-2-dbb105be29a4>\u001b[0m in \u001b[0;36m<module>\u001b[1;34m\u001b[0m\n\u001b[1;32m----> 1\u001b[1;33m \u001b[0mfp\u001b[0m \u001b[1;33m=\u001b[0m \u001b[0mopen\u001b[0m\u001b[1;33m(\u001b[0m\u001b[1;34m'.hello.txt'\u001b[0m\u001b[1;33m,\u001b[0m \u001b[1;34m'r'\u001b[0m\u001b[1;33m)\u001b[0m\u001b[1;33m\u001b[0m\u001b[1;33m\u001b[0m\u001b[0m\n\u001b[0m",
      "\u001b[1;31mFileNotFoundError\u001b[0m: [Errno 2] No such file or directory: '.hello.txt'"
     ]
    }
   ],
   "source": [
    "fp = open('./data/hello.txt', 'r')"
   ]
  },
  {
   "cell_type": "code",
   "execution_count": 3,
   "metadata": {
    "ExecuteTime": {
     "end_time": "2019-08-20T06:38:34.512725Z",
     "start_time": "2019-08-20T06:38:34.501005Z"
    }
   },
   "outputs": [
    {
     "data": {
      "text/plain": [
       "'Hello, Bigdata sience !!!'"
      ]
     },
     "execution_count": 3,
     "metadata": {},
     "output_type": "execute_result"
    }
   ],
   "source": [
    "fp.read()"
   ]
  },
  {
   "cell_type": "code",
   "execution_count": 4,
   "metadata": {
    "ExecuteTime": {
     "end_time": "2019-08-20T06:38:54.839114Z",
     "start_time": "2019-08-20T06:38:54.835254Z"
    }
   },
   "outputs": [],
   "source": [
    "fp.close()"
   ]
  },
  {
   "cell_type": "code",
   "execution_count": 8,
   "metadata": {
    "ExecuteTime": {
     "end_time": "2019-08-20T06:40:04.096146Z",
     "start_time": "2019-08-20T06:40:04.087322Z"
    }
   },
   "outputs": [
    {
     "ename": "ValueError",
     "evalue": "I/O operation on closed file.",
     "output_type": "error",
     "traceback": [
      "\u001b[1;31m---------------------------------------------------------------------------\u001b[0m",
      "\u001b[1;31mValueError\u001b[0m                                Traceback (most recent call last)",
      "\u001b[1;32m<ipython-input-8-661af395faa1>\u001b[0m in \u001b[0;36m<module>\u001b[1;34m\u001b[0m\n\u001b[0;32m      1\u001b[0m \u001b[1;31m# 항상 오픈 후 read\u001b[0m\u001b[1;33m\u001b[0m\u001b[1;33m\u001b[0m\u001b[1;33m\u001b[0m\u001b[0m\n\u001b[0;32m      2\u001b[0m \u001b[0mfp\u001b[0m\u001b[1;33m\u001b[0m\u001b[1;33m\u001b[0m\u001b[0m\n\u001b[1;32m----> 3\u001b[1;33m \u001b[0mfp\u001b[0m\u001b[1;33m.\u001b[0m\u001b[0mread\u001b[0m\u001b[1;33m(\u001b[0m\u001b[1;33m)\u001b[0m\u001b[1;33m\u001b[0m\u001b[1;33m\u001b[0m\u001b[0m\n\u001b[0m",
      "\u001b[1;31mValueError\u001b[0m: I/O operation on closed file."
     ]
    }
   ],
   "source": [
    "# 항상 오픈 후 read\n",
    "fp.read()"
   ]
  },
  {
   "cell_type": "code",
   "execution_count": 10,
   "metadata": {
    "ExecuteTime": {
     "end_time": "2019-08-20T06:41:22.129994Z",
     "start_time": "2019-08-20T06:41:22.124135Z"
    }
   },
   "outputs": [
    {
     "name": "stdout",
     "output_type": "stream",
     "text": [
      "Hello, Bigdata sience !!!\n"
     ]
    }
   ],
   "source": [
    "# with을 쓰면 close 안 해도 됨\n",
    "with open('./data/hello.txt', 'r') as fp:\n",
    "    data = fp.read()\n",
    "print(data)"
   ]
  },
  {
   "cell_type": "code",
   "execution_count": 11,
   "metadata": {
    "ExecuteTime": {
     "end_time": "2019-08-20T06:41:38.972785Z",
     "start_time": "2019-08-20T06:41:38.923954Z"
    }
   },
   "outputs": [
    {
     "name": "stdout",
     "output_type": "stream",
     "text": [
      " C 드라이브의 볼륨에는 이름이 없습니다.\n",
      " 볼륨 일련 번호: 8484-2321\n",
      "\n",
      " C:\\Users\\301-1\\Desktop\\data\\Python\\five(anaconda)\\data 디렉터리\n",
      "\n",
      "2019-08-20  오후 03:37    <DIR>          .\n",
      "2019-08-20  오후 03:37    <DIR>          ..\n",
      "2019-08-20  오후 03:37    <DIR>          .ipynb_checkpoints\n",
      "2019-08-20  오후 03:37                25 hello.txt\n",
      "               1개 파일                  25 바이트\n",
      "               3개 디렉터리  23,153,074,176 바이트 남음\n"
     ]
    }
   ],
   "source": [
    "%ls data"
   ]
  },
  {
   "cell_type": "code",
   "execution_count": 14,
   "metadata": {
    "ExecuteTime": {
     "end_time": "2019-08-20T06:44:37.416869Z",
     "start_time": "2019-08-20T06:44:37.411986Z"
    }
   },
   "outputs": [],
   "source": [
    "with open('./data/subject.txt', 'w') as fp:\n",
    "    data = \"파이썬을 활용한 빅데이터 분석!!\"\n",
    "    fp.write(data)"
   ]
  },
  {
   "cell_type": "code",
   "execution_count": 20,
   "metadata": {
    "ExecuteTime": {
     "end_time": "2019-08-20T06:45:32.599797Z",
     "start_time": "2019-08-20T06:45:32.588078Z"
    }
   },
   "outputs": [
    {
     "name": "stdout",
     "output_type": "stream",
     "text": [
      "파이썬을 활용한 빅데이터 분석!!\n"
     ]
    },
    {
     "ename": "ValueError",
     "evalue": "I/O operation on closed file.",
     "output_type": "error",
     "traceback": [
      "\u001b[1;31m---------------------------------------------------------------------------\u001b[0m",
      "\u001b[1;31mValueError\u001b[0m                                Traceback (most recent call last)",
      "\u001b[1;32m<ipython-input-20-2df88991d8e3>\u001b[0m in \u001b[0;36m<module>\u001b[1;34m\u001b[0m\n\u001b[0;32m      1\u001b[0m \u001b[1;32mwith\u001b[0m \u001b[0mopen\u001b[0m\u001b[1;33m(\u001b[0m\u001b[1;34m'./data/subject.txt'\u001b[0m\u001b[1;33m,\u001b[0m \u001b[1;34m'r'\u001b[0m\u001b[1;33m)\u001b[0m \u001b[1;32mas\u001b[0m \u001b[0mfp\u001b[0m\u001b[1;33m:\u001b[0m\u001b[1;33m\u001b[0m\u001b[1;33m\u001b[0m\u001b[0m\n\u001b[0;32m      2\u001b[0m     \u001b[0mprint\u001b[0m\u001b[1;33m(\u001b[0m\u001b[0mfp\u001b[0m\u001b[1;33m.\u001b[0m\u001b[0mread\u001b[0m\u001b[1;33m(\u001b[0m\u001b[1;33m)\u001b[0m\u001b[1;33m)\u001b[0m\u001b[1;33m\u001b[0m\u001b[1;33m\u001b[0m\u001b[0m\n\u001b[1;32m----> 3\u001b[1;33m \u001b[0mfp\u001b[0m\u001b[1;33m.\u001b[0m\u001b[0mread\u001b[0m\u001b[1;33m(\u001b[0m\u001b[1;33m)\u001b[0m\u001b[1;33m\u001b[0m\u001b[1;33m\u001b[0m\u001b[0m\n\u001b[0m",
      "\u001b[1;31mValueError\u001b[0m: I/O operation on closed file."
     ]
    }
   ],
   "source": [
    "with open('./data/subject.txt', 'r') as fp:\n",
    "    print(fp.read())"
   ]
  },
  {
   "cell_type": "code",
   "execution_count": 2,
   "metadata": {
    "ExecuteTime": {
     "end_time": "2019-08-20T07:12:19.686351Z",
     "start_time": "2019-08-20T07:12:19.678584Z"
    }
   },
   "outputs": [],
   "source": [
    "def read_csv(filepath):\n",
    "    # 파일을 불러오고 read할 거고, utf-8로 인코딩할 거임.\n",
    "    fp = open(filepath, 'r', encoding='utf-8')\n",
    "    # data는 그냥 다 읽어오는 변수\n",
    "    data = fp.read()\n",
    "    # 읽고 나서 닫아줌\n",
    "    fp.close()\n",
    "    \n",
    "    # 나중에 반환해줄 변수\n",
    "    # return dataL\n",
    "    elements = []\n",
    "    #데이터를 처음에 받으면 한 줄로 받게 되는데 \\n를 구분으로 잘라서 rows에 넣어줌\n",
    "    rows = data.split(\"\\n\")\n",
    "    # print(rows)\n",
    "    for row in rows:        \n",
    "        # ,을 기준으로 다 분리시켜줌\n",
    "        fields = row.split(\",\")\n",
    "        # print(fields)\n",
    "        # 불러오는 fields마다 0은 name, 1은 school, 2는 email로 넣어줌\n",
    "        element = {   \n",
    "            \"name\"   : fields[0],\n",
    "            \"school\" : fields[1],\n",
    "            \"email\"  : fields[2],\n",
    "        }\n",
    "        # element에 넣은 값들을 elemnets에 1개씩 넣어줌\n",
    "        elements.append(element)\n",
    "    return elements"
   ]
  },
  {
   "cell_type": "code",
   "execution_count": 6,
   "metadata": {
    "ExecuteTime": {
     "end_time": "2019-08-20T07:12:43.316643Z",
     "start_time": "2019-08-20T07:12:43.310783Z"
    }
   },
   "outputs": [
    {
     "name": "stdout",
     "output_type": "stream",
     "text": [
      "데이터의 column명은 ['이름', '학교', '이메일']입니다.\n"
     ]
    },
    {
     "data": {
      "text/plain": [
       "[{'이름': '김태희', '학교': '서울대', '이메일': 'thkim@gmail.com'},\n",
       " {'이름': '신민아', '학교': '성균관대', '이메일': 'sma@gmial.com'},\n",
       " {'이름': '전지현', '학교': '중앙대', '이메일': 'jhjeon@gmail.com'},\n",
       " {'이름': '이영애', '학교': '숭실대', '이메일': 'janggumi@gamil.com'}]"
      ]
     },
     "execution_count": 6,
     "metadata": {},
     "output_type": "execute_result"
    }
   ],
   "source": [
    "filepath = './data/students.csv'\n",
    "read_csv(filepath)"
   ]
  },
  {
   "cell_type": "code",
   "execution_count": 4,
   "metadata": {
    "ExecuteTime": {
     "end_time": "2019-08-20T09:05:54.274815Z",
     "start_time": "2019-08-20T09:05:54.266025Z"
    }
   },
   "outputs": [],
   "source": [
    "def read_csv(filepath):\n",
    "    \n",
    "    fp = open(filepath, 'r', encoding='utf-8') # 파일을 불러오고 read할 거고, utf-8로 인코딩할 거임.\n",
    "    data = fp.read() # data는 전체 데이터를 의미\n",
    "    fp.close() # 읽고 나서 닫아줌\n",
    "\n",
    "    line = data.split(\"\\n\") # data를 row마다 구분\n",
    "    title = line[0].split(', ') # 제목을 잘라서 넣어줄 공간\n",
    "    \n",
    "    print('데이터의 column명은 {0}입니다.'.format(title))\n",
    "    \n",
    "    elements = [] # 마지막 전체 거 다 넣는 장소\n",
    "    columns = len(title) # 컬럼 총 갯수\n",
    "    \n",
    "    for row in line[1:]: # line 첫 줄 제외하고 나머지를 row에 넣음\n",
    "        element =  {} # 포문 한 번 돌릴 때마다 넣는 임시 저장소\n",
    "        fields = row.split(', ') # 첫 줄 제외한 데이터들을 ,로 구분함\n",
    "        \n",
    "        for column in range(columns): #  컬럼 갯수들을 정수로 한 개씩 불러올 거임            \n",
    "            element[title[column]] = fields[column] # dict 타입의 element에 key값 넣고, key값 없으면 value값도 넣어줌\n",
    "        elements.append(element) # 위 for문 다 돌아가면 element에 저장된 것들 list타입 elements에 저장\n",
    "    return elements"
   ]
  },
  {
   "cell_type": "code",
   "execution_count": 5,
   "metadata": {
    "ExecuteTime": {
     "end_time": "2019-08-20T09:05:54.559012Z",
     "start_time": "2019-08-20T09:05:54.552175Z"
    },
    "scrolled": true
   },
   "outputs": [
    {
     "name": "stdout",
     "output_type": "stream",
     "text": [
      "데이터의 column명은 ['이름', '학교', '이메일']입니다.\n"
     ]
    },
    {
     "data": {
      "text/plain": [
       "[{'이름': '김태희', '학교': '서울대', '이메일': 'thkim@gmail.com'},\n",
       " {'이름': '신민아', '학교': '성균관대', '이메일': 'sma@gmial.com'},\n",
       " {'이름': '전지현', '학교': '중앙대', '이메일': 'jhjeon@gmail.com'},\n",
       " {'이름': '이영애', '학교': '숭실대', '이메일': 'janggumi@gamil.com'}]"
      ]
     },
     "execution_count": 5,
     "metadata": {},
     "output_type": "execute_result"
    }
   ],
   "source": [
    "filepath = './data/students.csv'\n",
    "read_csv(filepath)"
   ]
  },
  {
   "cell_type": "code",
   "execution_count": 349,
   "metadata": {
    "ExecuteTime": {
     "end_time": "2019-08-20T09:51:01.654028Z",
     "start_time": "2019-08-20T09:51:01.646216Z"
    }
   },
   "outputs": [],
   "source": [
    "# 버전 2\n",
    "def read(categori):\n",
    "    op = open(categori, 'r', encoding='UTF-8')\n",
    "    input = op.read()\n",
    "    op.close()\n",
    "    slice = input.split('\\n')\n",
    "    head = slice[0].split(', ')    \n",
    "    print(\"현 자료의 Column명들은 아래와 같습니다. \\n {Column_head}\".format(Column_head = head))    \n",
    "    result = []    \n",
    "    for lines in slice[1:]:\n",
    "        dummy = {}\n",
    "        line = lines.split(', ')\n",
    "        \n",
    "        for word in line:\n",
    "            dummy[head[line.index(word)]] =  word\n",
    "        result.append(dummy)\n",
    "    return result"
   ]
  },
  {
   "cell_type": "code",
   "execution_count": 348,
   "metadata": {
    "ExecuteTime": {
     "end_time": "2019-08-20T09:50:36.908443Z",
     "start_time": "2019-08-20T09:50:36.901607Z"
    }
   },
   "outputs": [
    {
     "name": "stdout",
     "output_type": "stream",
     "text": [
      "현 자료의 Column명들은 아래와 같습니다. \n",
      " ['랭킹', '회사이름', '영문명', '창업자']\n"
     ]
    },
    {
     "data": {
      "text/plain": [
       "[{'랭킹': '1', '회사이름': '애플', '영문명': 'Apple', '창업자': '스티브잡스'},\n",
       " {'랭킹': '2', '회사이름': '구글', '영문명': 'Google', '창업자': '세르게이브린 & 레리페이지'},\n",
       " {'랭킹': '3', '회사이름': '마이크로소프트', '영문명': 'Microsoft', '창업자': '빌게이츠 & 폴앨런'},\n",
       " {'랭킹': '4', '회사이름': '페이스북', '영문명': 'Facebook', '창업자': '마크쥬크버그'},\n",
       " {'랭킹': '5', '회사이름': '에어비엔비', '영문명': 'Airbnb', '창업자': '브라이언체크키 & 조게비어'}]"
      ]
     },
     "execution_count": 348,
     "metadata": {},
     "output_type": "execute_result"
    }
   ],
   "source": [
    "read('./data/company.csv')"
   ]
  },
  {
   "cell_type": "code",
   "execution_count": null,
   "metadata": {},
   "outputs": [],
   "source": []
  },
  {
   "cell_type": "code",
   "execution_count": null,
   "metadata": {},
   "outputs": [],
   "source": []
  },
  {
   "cell_type": "code",
   "execution_count": null,
   "metadata": {},
   "outputs": [],
   "source": []
  },
  {
   "cell_type": "code",
   "execution_count": null,
   "metadata": {},
   "outputs": [],
   "source": []
  },
  {
   "cell_type": "code",
   "execution_count": null,
   "metadata": {},
   "outputs": [],
   "source": []
  },
  {
   "cell_type": "code",
   "execution_count": null,
   "metadata": {},
   "outputs": [],
   "source": []
  },
  {
   "cell_type": "code",
   "execution_count": null,
   "metadata": {},
   "outputs": [],
   "source": []
  },
  {
   "cell_type": "code",
   "execution_count": null,
   "metadata": {},
   "outputs": [],
   "source": []
  },
  {
   "cell_type": "code",
   "execution_count": null,
   "metadata": {},
   "outputs": [],
   "source": []
  },
  {
   "cell_type": "code",
   "execution_count": null,
   "metadata": {},
   "outputs": [],
   "source": []
  },
  {
   "cell_type": "code",
   "execution_count": null,
   "metadata": {},
   "outputs": [],
   "source": []
  },
  {
   "cell_type": "code",
   "execution_count": null,
   "metadata": {},
   "outputs": [],
   "source": []
  },
  {
   "cell_type": "code",
   "execution_count": null,
   "metadata": {},
   "outputs": [],
   "source": []
  },
  {
   "cell_type": "code",
   "execution_count": null,
   "metadata": {},
   "outputs": [],
   "source": []
  }
 ],
 "metadata": {
  "kernelspec": {
   "display_name": "Python 3",
   "language": "python",
   "name": "python3"
  },
  "language_info": {
   "codemirror_mode": {
    "name": "ipython",
    "version": 3
   },
   "file_extension": ".py",
   "mimetype": "text/x-python",
   "name": "python",
   "nbconvert_exporter": "python",
   "pygments_lexer": "ipython3",
   "version": "3.7.3"
  },
  "varInspector": {
   "cols": {
    "lenName": 16,
    "lenType": 16,
    "lenVar": 40
   },
   "kernels_config": {
    "python": {
     "delete_cmd_postfix": "",
     "delete_cmd_prefix": "del ",
     "library": "var_list.py",
     "varRefreshCmd": "print(var_dic_list())"
    },
    "r": {
     "delete_cmd_postfix": ") ",
     "delete_cmd_prefix": "rm(",
     "library": "var_list.r",
     "varRefreshCmd": "cat(var_dic_list()) "
    }
   },
   "position": {
    "height": "230px",
    "left": "653px",
    "right": "20px",
    "top": "59px",
    "width": "333px"
   },
   "types_to_exclude": [
    "module",
    "function",
    "builtin_function_or_method",
    "instance",
    "_Feature"
   ],
   "window_display": false
  }
 },
 "nbformat": 4,
 "nbformat_minor": 2
}
