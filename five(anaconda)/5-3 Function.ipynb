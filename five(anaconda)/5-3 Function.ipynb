{
 "cells": [
  {
   "cell_type": "markdown",
   "metadata": {},
   "source": [
    "# 입출력은 항상 1개 이상 가능\n",
    "- 디폴트값 넣는 것 확인(항상 우측부터 넣을 수 있음)\n",
    "- 순서가 달라도 변수명을 지정해주면 제대로 들어감.\n",
    "- 전역변수와 지역변수 다시 한 번 확인"
   ]
  },
  {
   "cell_type": "code",
   "execution_count": 8,
   "metadata": {
    "ExecuteTime": {
     "end_time": "2019-08-20T02:17:30.418515Z",
     "start_time": "2019-08-20T02:17:30.412654Z"
    }
   },
   "outputs": [
    {
     "ename": "SyntaxError",
     "evalue": "invalid syntax (<ipython-input-8-bdbf45c2f7d6>, line 3)",
     "output_type": "error",
     "traceback": [
      "\u001b[1;36m  File \u001b[1;32m\"<ipython-input-8-bdbf45c2f7d6>\"\u001b[1;36m, line \u001b[1;32m3\u001b[0m\n\u001b[1;33m    return c = [\"리턴값이 나왔다면 성공한 것입니다.\" , \"짜잔\"]\u001b[0m\n\u001b[1;37m             ^\u001b[0m\n\u001b[1;31mSyntaxError\u001b[0m\u001b[1;31m:\u001b[0m invalid syntax\n"
     ]
    }
   ],
   "source": [
    "def adder(one, two):\n",
    "    print(\"{0} + {1} = {2}\".format(one, two, one + two))\n",
    "    return 이 값이 나왔다면 성공한 것입니다.\" , \"짜잔\"\n",
    "\n",
    "adder(1, 2)"
   ]
  },
  {
   "cell_type": "code",
   "execution_count": 5,
   "metadata": {
    "ExecuteTime": {
     "end_time": "2019-08-20T02:13:53.593430Z",
     "start_time": "2019-08-20T02:13:53.588548Z"
    }
   },
   "outputs": [
    {
     "name": "stdout",
     "output_type": "stream",
     "text": [
      "1 + 2 = 3\n"
     ]
    }
   ],
   "source": [
    "# 위와 같은 경우에 인자를 하나라도 입력하지 않으면 출력이 되지 않는데 그것을 방지하기 위해 기본값을 넣어줍니다.\n",
    "\n",
    "def adder(one, two = 2):\n",
    "    print(\"{0} + {1} = {2}\".format(one, two, one + two))\n",
    "    \n",
    "# 이렇게 하면 인자 하나를 입력하지 않으면 입력하지 않는 인자에 기본값으로 2가 들어갑니다.    \n",
    "adder(1)"
   ]
  },
  {
   "cell_type": "code",
   "execution_count": 6,
   "metadata": {
    "ExecuteTime": {
     "end_time": "2019-08-20T02:15:01.219477Z",
     "start_time": "2019-08-20T02:15:01.213573Z"
    }
   },
   "outputs": [
    {
     "ename": "SyntaxError",
     "evalue": "non-default argument follows default argument (<ipython-input-6-112f9db7b504>, line 2)",
     "output_type": "error",
     "traceback": [
      "\u001b[1;36m  File \u001b[1;32m\"<ipython-input-6-112f9db7b504>\"\u001b[1;36m, line \u001b[1;32m2\u001b[0m\n\u001b[1;33m    def adder(one = 2, two):\u001b[0m\n\u001b[1;37m             ^\u001b[0m\n\u001b[1;31mSyntaxError\u001b[0m\u001b[1;31m:\u001b[0m non-default argument follows default argument\n"
     ]
    }
   ],
   "source": [
    "# 하지만 하단과 같이 하게 되면 안 됩니다. 기본값은 항상 우측에서부터(내가 입력한 인자가\n",
    "# 어느 위치에 들어가는 인자인지 모르기 때문\n",
    "\n",
    "def adder(one = 2, two):\n",
    "    print(\"{0} + {1} = {2}\".format(one, two, one + two))\n",
    "adder(1)"
   ]
  }
 ],
 "metadata": {
  "kernelspec": {
   "display_name": "Python 3",
   "language": "python",
   "name": "python3"
  },
  "language_info": {
   "codemirror_mode": {
    "name": "ipython",
    "version": 3
   },
   "file_extension": ".py",
   "mimetype": "text/x-python",
   "name": "python",
   "nbconvert_exporter": "python",
   "pygments_lexer": "ipython3",
   "version": "3.7.3"
  },
  "varInspector": {
   "cols": {
    "lenName": 16,
    "lenType": 16,
    "lenVar": 40
   },
   "kernels_config": {
    "python": {
     "delete_cmd_postfix": "",
     "delete_cmd_prefix": "del ",
     "library": "var_list.py",
     "varRefreshCmd": "print(var_dic_list())"
    },
    "r": {
     "delete_cmd_postfix": ") ",
     "delete_cmd_prefix": "rm(",
     "library": "var_list.r",
     "varRefreshCmd": "cat(var_dic_list()) "
    }
   },
   "types_to_exclude": [
    "module",
    "function",
    "builtin_function_or_method",
    "instance",
    "_Feature"
   ],
   "window_display": false
  }
 },
 "nbformat": 4,
 "nbformat_minor": 2
}
