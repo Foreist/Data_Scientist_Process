{
 "cells": [
  {
   "cell_type": "code",
   "execution_count": null,
   "metadata": {},
   "outputs": [],
   "source": [
    "# 이 방법보다\n",
    "\n",
    "def add1(a, b):\n",
    "    return a + b"
   ]
  },
  {
   "cell_type": "code",
   "execution_count": null,
   "metadata": {},
   "outputs": [],
   "source": [
    "# 이 방법이 더 좋고\n",
    "\n",
    "def add3(numbers):   # 숫자 리스트를 받아서, 합을 리턴하는 함수\n",
    "    sum = 0\n",
    "    for num in numbers:\n",
    "        sum += num\n",
    "        \n",
    "    return sum"
   ]
  },
  {
   "cell_type": "code",
   "execution_count": null,
   "metadata": {},
   "outputs": [],
   "source": [
    "# 이 방법이 제일 좋다\n",
    "\n",
    "def add4(*numbers):   # 숫자 리스트를 받아서, 합을 리턴하는 함수\n",
    "    sum = 0\n",
    "    for num in numbers:\n",
    "        sum += num\n",
    "        \n",
    "    return sum"
   ]
  },
  {
   "cell_type": "code",
   "execution_count": 8,
   "metadata": {
    "ExecuteTime": {
     "end_time": "2019-08-20T02:30:33.707241Z",
     "start_time": "2019-08-20T02:30:33.702402Z"
    }
   },
   "outputs": [
    {
     "name": "stdout",
     "output_type": "stream",
     "text": [
      "3\n"
     ]
    }
   ],
   "source": [
    "# 인자를 2개 받는 함수를 생성\n",
    "def meme(one, two):\n",
    "    print(one + two)\n",
    "    \n",
    "q = {1, 2}\n",
    "# meme(q) # 이거는 안 되지만\n",
    "meme(*q) # 이거는 됨  "
   ]
  },
  {
   "cell_type": "code",
   "execution_count": 15,
   "metadata": {
    "ExecuteTime": {
     "end_time": "2019-08-20T02:41:38.810598Z",
     "start_time": "2019-08-20T02:41:38.806662Z"
    }
   },
   "outputs": [
    {
     "name": "stdout",
     "output_type": "stream",
     "text": [
      "{1: '11', 2: '22'}\n"
     ]
    }
   ],
   "source": [
    "# 튜플 리스트를 dict 형태로 변환하는 DC\n",
    "score_tuples = [('math', 90), ('history', 80), ('english', 95), ('computer engineering', 100)]\n",
    "# score_dict = {t[0]: t[1] for t in score_tuples}\n",
    "# {'math': 90, 'history': 80, 'english': 95, 'computer engineering': 100}\n",
    "c = {a for a in score_tuples}\n",
    "print(c)"
   ]
  },
  {
   "cell_type": "code",
   "execution_count": 1,
   "metadata": {},
   "outputs": [
    {
     "name": "stdout",
     "output_type": "stream",
     "text": [
      "['AD', 'AE', 'AA', 'BD', 'BE', 'BA', 'CD', 'CE', 'CA']\n"
     ]
    }
   ],
   "source": [
    "def add(a, b):\n",
    "    return a + b\n",
    "\n",
    "data = (10, 20)\n",
    "\n",
    "\n",
    "def introduce(name, greeting):\n",
    "    return \"{name}님, {greeting}\".format(\n",
    "        name=name,\n",
    "        greeting=greeting,\n",
    "    )\n",
    "#\n",
    "introduce_dict = {\n",
    "    \"name\" : \"김진수\",\n",
    "    \"greeting\" : \"안녕하세요\",\n",
    "}\n",
    "\n",
    "#print(add(*data))\n",
    "\n",
    "#print(introduce(**introduce_dict))\n",
    "#print(introduce_dict)\n",
    "\n",
    "case_1 = [\"A\", \"B\", \"C\"]\n",
    "case_2 = [\"D\", \"E\", \"A\"]\n",
    "\n",
    "result = [i+j for i in case_1 for j in case_2]\n",
    "print(result)"
   ]
  },
  {
   "cell_type": "code",
   "execution_count": 1,
   "metadata": {},
   "outputs": [
    {
     "data": {
      "text/plain": [
       "['HW',\n",
       " 'Ho',\n",
       " 'Hr',\n",
       " 'Hl',\n",
       " 'Hd',\n",
       " 'eW',\n",
       " 'eo',\n",
       " 'er',\n",
       " 'el',\n",
       " 'ed',\n",
       " 'lW',\n",
       " 'lo',\n",
       " 'lr',\n",
       " 'll',\n",
       " 'ld',\n",
       " 'lW',\n",
       " 'lo',\n",
       " 'lr',\n",
       " 'll',\n",
       " 'ld',\n",
       " 'oW',\n",
       " 'oo',\n",
       " 'or',\n",
       " 'ol',\n",
       " 'od']"
      ]
     },
     "execution_count": 1,
     "metadata": {},
     "output_type": "execute_result"
    }
   ],
   "source": [
    "word_1 = \"Hello\"\n",
    "word_2 = \"World\"\n",
    "c = [i+j for i in word_1 for j in word_2]\n",
    "c"
   ]
  },
  {
   "cell_type": "code",
   "execution_count": 2,
   "metadata": {},
   "outputs": [
    {
     "data": {
      "text/plain": [
       "[['HW', 'eW', 'lW', 'lW', 'oW'],\n",
       " ['Ho', 'eo', 'lo', 'lo', 'oo'],\n",
       " ['Hr', 'er', 'lr', 'lr', 'or'],\n",
       " ['Hl', 'el', 'll', 'll', 'ol'],\n",
       " ['Hd', 'ed', 'ld', 'ld', 'od']]"
      ]
     },
     "execution_count": 2,
     "metadata": {},
     "output_type": "execute_result"
    }
   ],
   "source": [
    "word_1 = \"Hello\"\n",
    "word_2 = \"World\"\n",
    "c = [[i+j for i in word_1] for j in word_2]\n",
    "c"
   ]
  },
  {
   "cell_type": "code",
   "execution_count": null,
   "metadata": {},
   "outputs": [],
   "source": [
    "dummy = \"The BigpyCraft find the information to design valuable society with Technology & Craft.\"\n",
    "box = [i.upper() if i.islower() else i.lower() for i in dummy]\n",
    "print(\"대소문자 바꿔서 출력 \\n{0}\".format(''.join(box)))"
   ]
  }
 ],
 "metadata": {
  "kernelspec": {
   "display_name": "Python 3",
   "language": "python",
   "name": "python3"
  },
  "language_info": {
   "codemirror_mode": {
    "name": "ipython",
    "version": 3
   },
   "file_extension": ".py",
   "mimetype": "text/x-python",
   "name": "python",
   "nbconvert_exporter": "python",
   "pygments_lexer": "ipython3",
   "version": "3.7.0"
  },
  "varInspector": {
   "cols": {
    "lenName": 16,
    "lenType": 16,
    "lenVar": 40
   },
   "kernels_config": {
    "python": {
     "delete_cmd_postfix": "",
     "delete_cmd_prefix": "del ",
     "library": "var_list.py",
     "varRefreshCmd": "print(var_dic_list())"
    },
    "r": {
     "delete_cmd_postfix": ") ",
     "delete_cmd_prefix": "rm(",
     "library": "var_list.r",
     "varRefreshCmd": "cat(var_dic_list()) "
    }
   },
   "types_to_exclude": [
    "module",
    "function",
    "builtin_function_or_method",
    "instance",
    "_Feature"
   ],
   "window_display": false
  }
 },
 "nbformat": 4,
 "nbformat_minor": 2
}
