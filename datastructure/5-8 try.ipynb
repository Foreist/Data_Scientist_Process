{
 "cells": [
  {
   "cell_type": "markdown",
   "metadata": {},
   "source": [
    "# try-except 구문으로 예외상황 제어, Exceptions Handling in Program"
   ]
  },
  {
   "cell_type": "code",
   "execution_count": null,
   "metadata": {},
   "outputs": [],
   "source": [
    "try:\n",
    "    print('안녕하세요.')\n",
    "    print(param)\n",
    "except:\n",
    "    print('예외가 발생했습니다!')\n",
    "# 예외가 발생하지 않을 경우    \n",
    "else:\n",
    "    print('예외가 발생하지 않았습니다.')\n",
    "# 마지막에는 무조건 실행하는 코드    \n",
    "finally:\n",
    "    print('무조건 실행하는 코드')"
   ]
  },
  {
   "cell_type": "code",
   "execution_count": 1,
   "metadata": {
    "ExecuteTime": {
     "end_time": "2019-08-20T05:55:11.666229Z",
     "start_time": "2019-08-20T05:55:11.660369Z"
    }
   },
   "outputs": [
    {
     "name": "stdout",
     "output_type": "stream",
     "text": [
      "[1] Can you add 2 and '2' in python? \n",
      "[2] I got TypeError! \n",
      "[3] It's not possible to add integer and string together. \n"
     ]
    }
   ],
   "source": [
    "# 예외상황에 대한 처리를 구현한 함수\n",
    "def exception_test2():\n",
    "    print(\"[1] Can you add 2 and '2' in python? \")\n",
    "    \n",
    "    try:\n",
    "        print(\"[2] Try it~! \", 2+'2')     # TypeError 발생\n",
    "    except TypeError:\n",
    "        print(\"[2] I got TypeError! \")    # 에러 메시지 출력\n",
    "    \n",
    "    \n",
    "    print(\"[3] It's not possible to add integer and string together. \")\n",
    "    \n",
    "exception_test2()"
   ]
  },
  {
   "cell_type": "code",
   "execution_count": null,
   "metadata": {},
   "outputs": [],
   "source": [
    "import traceback \n",
    "\n",
    "# 처음에 보았던 트레이스백 메시지와 함께 나타낸 함수\n",
    "def exception_test4():\n",
    "    print(\"[1] Can you add 2 and '2' in python? \")\n",
    "    \n",
    "    try:\n",
    "        print(\"[2] Try it~! \", 2+'2')     # TypeError 발생\n",
    "    except TypeError:\n",
    "        print(\"[2] I got TypeError! Check below! \")    # 에러 메시지 출력\n",
    "        traceback.print_exc()                          # 트레이스백 메시지 출력\n",
    "    \n",
    "    print(\"[3] It's not possible to add integer and string together. \")\n",
    "    \n",
    "exception_test4()"
   ]
  },
  {
   "cell_type": "code",
   "execution_count": 11,
   "metadata": {
    "ExecuteTime": {
     "end_time": "2019-08-20T06:10:23.036206Z",
     "start_time": "2019-08-20T06:10:23.025462Z"
    }
   },
   "outputs": [],
   "source": [
    "# 예외 클래스 \n",
    "# TooBigNumError라는 클래스를 만들고 Exxception을 모체로 가져옴\n",
    "class TooBigNumError(Exception):\n",
    "    def __init__(self, val):\n",
    "        self.val = val\n",
    "    def __str__(self):\n",
    "        return 'too big number {}. Use 1~10! '.format(self.val)\n",
    "    \n",
    "# raise TooBigNumError(Exception)"
   ]
  },
  {
   "cell_type": "code",
   "execution_count": 12,
   "metadata": {
    "ExecuteTime": {
     "end_time": "2019-08-20T06:12:03.516704Z",
     "start_time": "2019-08-20T06:12:01.858405Z"
    }
   },
   "outputs": [
    {
     "name": "stdout",
     "output_type": "stream",
     "text": [
      "1부터 10 사이의 점수를 입력하세요! : 11\n"
     ]
    },
    {
     "ename": "TooBigNumError",
     "evalue": "too big number 11. Use 1~10! ",
     "output_type": "error",
     "traceback": [
      "\u001b[1;31m---------------------------------------------------------------------------\u001b[0m",
      "\u001b[1;31mTooBigNumError\u001b[0m                            Traceback (most recent call last)",
      "\u001b[1;32m<ipython-input-12-62aa400a6174>\u001b[0m in \u001b[0;36m<module>\u001b[1;34m()\u001b[0m\n\u001b[0;32m      6\u001b[0m     \u001b[0mprint\u001b[0m\u001b[1;33m(\u001b[0m\u001b[1;34m'숫자 {} 를 입력하셨군요! '\u001b[0m\u001b[1;33m.\u001b[0m\u001b[0mformat\u001b[0m\u001b[1;33m(\u001b[0m\u001b[0mnum\u001b[0m\u001b[1;33m)\u001b[0m\u001b[1;33m)\u001b[0m\u001b[1;33m\u001b[0m\u001b[0m\n\u001b[0;32m      7\u001b[0m \u001b[1;33m\u001b[0m\u001b[0m\n\u001b[1;32m----> 8\u001b[1;33m \u001b[0muser_defined_exception_test\u001b[0m\u001b[1;33m(\u001b[0m\u001b[1;33m)\u001b[0m\u001b[1;33m\u001b[0m\u001b[0m\n\u001b[0m",
      "\u001b[1;32m<ipython-input-12-62aa400a6174>\u001b[0m in \u001b[0;36muser_defined_exception_test\u001b[1;34m()\u001b[0m\n\u001b[0;32m      3\u001b[0m     \u001b[0mnum\u001b[0m \u001b[1;33m=\u001b[0m \u001b[0mint\u001b[0m\u001b[1;33m(\u001b[0m\u001b[0minput\u001b[0m\u001b[1;33m(\u001b[0m\u001b[1;34m'1부터 10 사이의 점수를 입력하세요! : '\u001b[0m\u001b[1;33m)\u001b[0m\u001b[1;33m)\u001b[0m   \u001b[1;31m# 숫자 입력\u001b[0m\u001b[1;33m\u001b[0m\u001b[0m\n\u001b[0;32m      4\u001b[0m     \u001b[1;32mif\u001b[0m \u001b[0mnum\u001b[0m \u001b[1;33m>\u001b[0m \u001b[1;36m10\u001b[0m\u001b[1;33m:\u001b[0m\u001b[1;33m\u001b[0m\u001b[0m\n\u001b[1;32m----> 5\u001b[1;33m         \u001b[1;32mraise\u001b[0m \u001b[0mTooBigNumError\u001b[0m\u001b[1;33m(\u001b[0m\u001b[0mnum\u001b[0m\u001b[1;33m)\u001b[0m                              \u001b[1;31m# 에러 발생\u001b[0m\u001b[1;33m\u001b[0m\u001b[0m\n\u001b[0m\u001b[0;32m      6\u001b[0m     \u001b[0mprint\u001b[0m\u001b[1;33m(\u001b[0m\u001b[1;34m'숫자 {} 를 입력하셨군요! '\u001b[0m\u001b[1;33m.\u001b[0m\u001b[0mformat\u001b[0m\u001b[1;33m(\u001b[0m\u001b[0mnum\u001b[0m\u001b[1;33m)\u001b[0m\u001b[1;33m)\u001b[0m\u001b[1;33m\u001b[0m\u001b[0m\n\u001b[0;32m      7\u001b[0m \u001b[1;33m\u001b[0m\u001b[0m\n",
      "\u001b[1;31mTooBigNumError\u001b[0m: too big number 11. Use 1~10! "
     ]
    }
   ],
   "source": [
    "# 사용자 정의 예외를 위한 테스트 함수\n",
    "def user_defined_exception_test():\n",
    "    num = int(input('1부터 10 사이의 점수를 입력하세요! : '))   # 숫자 입력\n",
    "    if num > 10:\n",
    "        raise TooBigNumError(num)                              # 에러 발생\n",
    "    print('숫자 {} 를 입력하셨군요! '.format(num))  \n",
    "    \n",
    "user_defined_exception_test()"
   ]
  },
  {
   "cell_type": "code",
   "execution_count": 2,
   "metadata": {},
   "outputs": [
    {
     "name": "stdout",
     "output_type": "stream",
     "text": [
      "3\n"
     ]
    }
   ],
   "source": [
    "print(3)"
   ]
  },
  {
   "cell_type": "code",
   "execution_count": null,
   "metadata": {},
   "outputs": [],
   "source": []
  }
 ],
 "metadata": {
  "kernelspec": {
   "display_name": "Python 3",
   "language": "python",
   "name": "python3"
  },
  "varInspector": {
   "cols": {
    "lenName": 16,
    "lenType": 16,
    "lenVar": 40
   },
   "kernels_config": {
    "python": {
     "delete_cmd_postfix": "",
     "delete_cmd_prefix": "del ",
     "library": "var_list.py",
     "varRefreshCmd": "print(var_dic_list())"
    },
    "r": {
     "delete_cmd_postfix": ") ",
     "delete_cmd_prefix": "rm(",
     "library": "var_list.r",
     "varRefreshCmd": "cat(var_dic_list()) "
    }
   },
   "types_to_exclude": [
    "module",
    "function",
    "builtin_function_or_method",
    "instance",
    "_Feature"
   ],
   "window_display": false
  }
 },
 "nbformat": 4,
 "nbformat_minor": 2
}
