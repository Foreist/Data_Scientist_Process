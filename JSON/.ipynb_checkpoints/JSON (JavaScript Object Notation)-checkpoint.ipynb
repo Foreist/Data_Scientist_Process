{
 "cells": [
  {
   "cell_type": "code",
   "execution_count": 5,
   "metadata": {
    "ExecuteTime": {
     "end_time": "2019-08-23T06:47:10.008845Z",
     "start_time": "2019-08-23T06:47:10.002987Z"
    }
   },
   "outputs": [
    {
     "name": "stdout",
     "output_type": "stream",
     "text": [
      "{\"firstname\": \"\\uae38\\ub3d9\", \"lastname\": \"\\ud64d\", \"age\": 20, \"country\": \"\\uc728\\ub3c4\\uad6d\"}\n"
     ]
    }
   ],
   "source": [
    "import json\n",
    "from pprint import pprint\n",
    "json_data = {\n",
    "    'firstname' : '길동',\n",
    "    'lastname'  : '홍',\n",
    "    'age'       : 20, \n",
    "    'country'   : '율도국'\n",
    "}\n",
    "json_code = json.JSONEncoder().encode(json_data)\n",
    "print(json_code)"
   ]
  },
  {
   "cell_type": "code",
   "execution_count": 7,
   "metadata": {
    "ExecuteTime": {
     "end_time": "2019-08-23T06:47:57.967726Z",
     "start_time": "2019-08-23T06:47:57.962843Z"
    }
   },
   "outputs": [
    {
     "name": "stdout",
     "output_type": "stream",
     "text": [
      "{\"firstname\": \"길동\", \"lastname\": \"홍\", \"age\": 20, \"country\": \"율도국\"}\n"
     ]
    }
   ],
   "source": [
    "check = json.dumps(json_data, ensure_ascii=False)\n",
    "print(check) # ensure를 위와 같이 하면 한글이 안 깨짐"
   ]
  },
  {
   "cell_type": "code",
   "execution_count": 8,
   "metadata": {
    "ExecuteTime": {
     "end_time": "2019-08-23T06:49:29.048291Z",
     "start_time": "2019-08-23T06:49:29.035595Z"
    }
   },
   "outputs": [
    {
     "data": {
      "text/plain": [
       "{'firstname': '길동', 'lastname': '홍', 'age': 20, 'country': '율도국'}"
      ]
     },
     "execution_count": 8,
     "metadata": {},
     "output_type": "execute_result"
    }
   ],
   "source": [
    "json_code = json.JSONDecoder().decode(check) # check를 code를 풀어줌\n",
    "json_code # 이건 파이썬으로 다시 바뀐 거임"
   ]
  },
  {
   "cell_type": "code",
   "execution_count": 13,
   "metadata": {
    "ExecuteTime": {
     "end_time": "2019-08-23T06:54:12.969351Z",
     "start_time": "2019-08-23T06:54:12.963492Z"
    }
   },
   "outputs": [
    {
     "data": {
      "text/plain": [
       "'홍길동은 20살이고, 율도국에 살고 있습니다.'"
      ]
     },
     "execution_count": 13,
     "metadata": {},
     "output_type": "execute_result"
    }
   ],
   "source": [
    "\"{0}{1}은 {2}살이고, {3}에 살고 있습니다.\".format(\n",
    "    json_code['lastname'],\n",
    "    json_code['firstname'],\n",
    "    json_code['age'],\n",
    "    json_code['country'],\n",
    ") # json으로 변형했을 때 dict 타입 key값을 다 넣어서 value만 가져옴"
   ]
  },
  {
   "cell_type": "markdown",
   "metadata": {},
   "source": [
    "# JSON 코드 작성하기"
   ]
  },
  {
   "cell_type": "code",
   "execution_count": 16,
   "metadata": {
    "ExecuteTime": {
     "end_time": "2019-08-23T07:01:28.545802Z",
     "start_time": "2019-08-23T07:01:28.539943Z"
    }
   },
   "outputs": [],
   "source": [
    "with open('girlgroup.json', 'w') as fp:\n",
    "    data = '[\"소녀시대\", \"앱터스쿨\", \"에이핑크\", \"걸스데이\", \"우주소녀\"]'\n",
    "    fp.write(data) # 만들어서"
   ]
  },
  {
   "cell_type": "code",
   "execution_count": 18,
   "metadata": {
    "ExecuteTime": {
     "end_time": "2019-08-23T07:06:39.308262Z",
     "start_time": "2019-08-23T07:06:39.301426Z"
    }
   },
   "outputs": [
    {
     "data": {
      "text/plain": [
       "'내가 좋아하는 걸그룹은 에이핑크와 우주소녀입니다.'"
      ]
     },
     "execution_count": 18,
     "metadata": {},
     "output_type": "execute_result"
    }
   ],
   "source": [
    "with open('girlgroup.json') as data_file:    \n",
    "    girlgroup = json.load(data_file) # 저장하면 json 형식의 파일을  괄호 안에 들어가 있는\n",
    "                                        #  파일이 실행하게 됨\n",
    "\"내가 좋아하는 걸그룹은 {}와 {}입니다.\".format(\n",
    "    girlgroup[2], girlgroup[4]\n",
    ") "
   ]
  },
  {
   "cell_type": "code",
   "execution_count": 21,
   "metadata": {
    "ExecuteTime": {
     "end_time": "2019-08-23T07:10:35.787040Z",
     "start_time": "2019-08-23T07:10:35.781180Z"
    }
   },
   "outputs": [],
   "source": [
    "data = '''\n",
    "    {\n",
    "        \"name\" : \"홍길동\",\n",
    "        \"age\"  : 20,\n",
    "        \"addr\" : {\n",
    "            \"city\"  : \"서울시\",\n",
    "            \"dong\"  : \"염창동\"\n",
    "        }\n",
    " }\n",
    "'''\n",
    "with open('member.json', 'w') as fp:\n",
    "    fp.write(data)"
   ]
  },
  {
   "cell_type": "code",
   "execution_count": 24,
   "metadata": {
    "ExecuteTime": {
     "end_time": "2019-08-23T07:11:32.138991Z",
     "start_time": "2019-08-23T07:11:32.133132Z"
    }
   },
   "outputs": [],
   "source": [
    "with open('member.json') as rr:\n",
    "    rrr = json.load(rr)"
   ]
  },
  {
   "cell_type": "code",
   "execution_count": 31,
   "metadata": {
    "ExecuteTime": {
     "end_time": "2019-08-23T07:12:35.339982Z",
     "start_time": "2019-08-23T07:12:35.334148Z"
    }
   },
   "outputs": [
    {
     "data": {
      "text/plain": [
       "'홍길동은 20살이고, 서울시 염창동에 살고 있습니다.'"
      ]
     },
     "execution_count": 31,
     "metadata": {},
     "output_type": "execute_result"
    }
   ],
   "source": [
    " \"{0}은 {1}살이고, {2} {3}에 살고 있습니다.\".format(\n",
    "    rrr['name'],\n",
    "    rrr['age'],\n",
    "    rrr['addr']['city'],\n",
    "    rrr['addr']['dong']\n",
    "    ) # json으로 변형했을 때 dict 타입 key값을 다 넣어서 value만 가져옴"
   ]
  },
  {
   "cell_type": "code",
   "execution_count": 48,
   "metadata": {
    "ExecuteTime": {
     "end_time": "2019-08-23T07:21:12.388035Z",
     "start_time": "2019-08-23T07:21:12.382122Z"
    }
   },
   "outputs": [],
   "source": [
    "data = '''\n",
    "    { \n",
    "    \"name\" : \"홍길동\", \n",
    "    \"dog\" : { \n",
    "        \"name\" : \"순둥이\", \n",
    "        \"toys\" : [ \n",
    "            { \"name\" : \"뽀로로\" }, \n",
    "            { \"name\" : \"토마스\" } \n",
    "        ] \n",
    "    } \n",
    "}\n",
    "'''\n",
    "with open('person.json', 'w') as wr:\n",
    "    wr.write(data)"
   ]
  },
  {
   "cell_type": "code",
   "execution_count": 49,
   "metadata": {
    "ExecuteTime": {
     "end_time": "2019-08-23T07:21:12.635109Z",
     "start_time": "2019-08-23T07:21:12.631160Z"
    }
   },
   "outputs": [
    {
     "name": "stdout",
     "output_type": "stream",
     "text": [
      "{'name': '홍길동', 'dog': {'name': '순둥이', 'toys': [{'name': '뽀로로'}, {'name': '토마스'}]}}\n"
     ]
    }
   ],
   "source": [
    "with open('person.json') as re:\n",
    "    re = json.load(re)\n",
    "    \n",
    "print(re)"
   ]
  },
  {
   "cell_type": "code",
   "execution_count": 77,
   "metadata": {
    "ExecuteTime": {
     "end_time": "2019-08-23T07:26:20.941302Z",
     "start_time": "2019-08-23T07:26:20.934465Z"
    }
   },
   "outputs": [
    {
     "data": {
      "text/plain": [
       "'홍길동의 개 순둥이의 장난감은 뽀로로, 토마스입니다.'"
      ]
     },
     "execution_count": 77,
     "metadata": {},
     "output_type": "execute_result"
    }
   ],
   "source": [
    "\"{0}의 개 {1}의 장난감은 {2}, {3}입니다.\".format(\n",
    "    re['name'],\n",
    "    re['dog']['name'],\n",
    "    re['dog']['toys'][0]['name'],\n",
    "    re['dog']['toys'][1]['name'])"
   ]
  }
 ],
 "metadata": {
  "kernelspec": {
   "display_name": "Python 3",
   "language": "python",
   "name": "python3"
  },
  "language_info": {
   "codemirror_mode": {
    "name": "ipython",
    "version": 3
   },
   "file_extension": ".py",
   "mimetype": "text/x-python",
   "name": "python",
   "nbconvert_exporter": "python",
   "pygments_lexer": "ipython3",
   "version": "3.7.0"
  },
  "varInspector": {
   "cols": {
    "lenName": 16,
    "lenType": 16,
    "lenVar": 40
   },
   "kernels_config": {
    "python": {
     "delete_cmd_postfix": "",
     "delete_cmd_prefix": "del ",
     "library": "var_list.py",
     "varRefreshCmd": "print(var_dic_list())"
    },
    "r": {
     "delete_cmd_postfix": ") ",
     "delete_cmd_prefix": "rm(",
     "library": "var_list.r",
     "varRefreshCmd": "cat(var_dic_list()) "
    }
   },
   "types_to_exclude": [
    "module",
    "function",
    "builtin_function_or_method",
    "instance",
    "_Feature"
   ],
   "window_display": false
  }
 },
 "nbformat": 4,
 "nbformat_minor": 2
}
