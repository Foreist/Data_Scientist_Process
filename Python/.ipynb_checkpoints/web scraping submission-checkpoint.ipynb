{
 "cells": [
  {
   "cell_type": "code",
   "execution_count": 1,
   "metadata": {
    "ExecuteTime": {
     "end_time": "2019-09-05T07:11:02.054199Z",
     "start_time": "2019-09-05T07:11:01.611789Z"
    }
   },
   "outputs": [],
   "source": [
    "import requests\n",
    "from bs4 import BeautifulSoup"
   ]
  },
  {
   "cell_type": "code",
   "execution_count": 4,
   "metadata": {
    "ExecuteTime": {
     "end_time": "2019-09-05T07:14:40.227702Z",
     "start_time": "2019-09-05T07:14:38.266644Z"
    }
   },
   "outputs": [
    {
     "data": {
      "text/plain": [
       "<title>\n",
       "  The 50 Best Sandwiches in Chicago |\n",
       "  Chicago magazine\n",
       "      |  November 2012\n",
       "    </title>"
      ]
     },
     "execution_count": 4,
     "metadata": {},
     "output_type": "execute_result"
    }
   ],
   "source": [
    "url = \"https://www.chicagomag.com/Chicago-Magazine/November-2012/Best-Sandwiches-Chicago/\"\n",
    "html_food = requests.get(url).text\n",
    "soup_food = BeautifulSoup(html_food, 'lxml')\n",
    "soup_food.title"
   ]
  },
  {
   "cell_type": "code",
   "execution_count": 119,
   "metadata": {
    "ExecuteTime": {
     "end_time": "2019-09-05T07:54:57.032125Z",
     "start_time": "2019-09-05T07:54:57.022404Z"
    }
   },
   "outputs": [
    {
     "data": {
      "text/plain": [
       "'BLT\\r\\nOld Oak Tap\\nRead more '"
      ]
     },
     "execution_count": 119,
     "metadata": {},
     "output_type": "execute_result"
    }
   ],
   "source": [
    "c = soup_food.find('div', 'sammyListing').text; c"
   ]
  },
  {
   "cell_type": "code",
   "execution_count": 73,
   "metadata": {
    "ExecuteTime": {
     "end_time": "2019-09-05T07:38:07.074768Z",
     "start_time": "2019-09-05T07:38:07.068907Z"
    }
   },
   "outputs": [
    {
     "data": {
      "text/plain": [
       "'Old Oak Tap'"
      ]
     },
     "execution_count": 73,
     "metadata": {},
     "output_type": "execute_result"
    }
   ],
   "source": [
    "c[c.find('\\r\\n') + 2:c.rfind('\\n')]"
   ]
  },
  {
   "cell_type": "code",
   "execution_count": 84,
   "metadata": {
    "ExecuteTime": {
     "end_time": "2019-09-05T07:41:44.901373Z",
     "start_time": "2019-09-05T07:41:44.894537Z"
    }
   },
   "outputs": [
    {
     "data": {
      "text/plain": [
       "<a href=\"/Chicago-Magazine/November-2012/Best-Sandwiches-in-Chicago-Old-Oak-Tap-BLT/\"><b>BLT</b><br/>\n",
       "Old Oak Tap<br/>\n",
       "<em>Read more</em> </a>"
      ]
     },
     "execution_count": 84,
     "metadata": {},
     "output_type": "execute_result"
    }
   ],
   "source": []
  },
  {
   "cell_type": "code",
   "execution_count": 90,
   "metadata": {
    "ExecuteTime": {
     "end_time": "2019-09-05T07:42:34.834077Z",
     "start_time": "2019-09-05T07:42:34.829194Z"
    }
   },
   "outputs": [],
   "source": [
    "ad = str(ad)"
   ]
  },
  {
   "cell_type": "code",
   "execution_count": 94,
   "metadata": {
    "ExecuteTime": {
     "end_time": "2019-09-05T07:43:38.722700Z",
     "start_time": "2019-09-05T07:43:38.716841Z"
    }
   },
   "outputs": [
    {
     "data": {
      "text/plain": [
       "'/Chicago-Magazine/November-2012/Best-Sandwiches-in-Chicago-Old-Oak-Tap-BLT/'"
      ]
     },
     "execution_count": 94,
     "metadata": {},
     "output_type": "execute_result"
    }
   ],
   "source": [
    "ad[ad.find('/'):ad.rfind('BLT/') + 4]"
   ]
  },
  {
   "cell_type": "code",
   "execution_count": null,
   "metadata": {},
   "outputs": [],
   "source": [
    "https://www.chicagomag.com/"
   ]
  },
  {
   "cell_type": "code",
   "execution_count": 95,
   "metadata": {
    "ExecuteTime": {
     "end_time": "2019-09-05T07:44:28.422970Z",
     "start_time": "2019-09-05T07:44:28.398554Z"
    }
   },
   "outputs": [
    {
     "ename": "AttributeError",
     "evalue": "ResultSet object has no attribute 'text'. You're probably treating a list of items like a single item. Did you call find_all() when you meant to call find()?",
     "output_type": "error",
     "traceback": [
      "\u001b[1;31m---------------------------------------------------------------------------\u001b[0m",
      "\u001b[1;31mAttributeError\u001b[0m                            Traceback (most recent call last)",
      "\u001b[1;32m<ipython-input-95-11a9745910ce>\u001b[0m in \u001b[0;36m<module>\u001b[1;34m\u001b[0m\n\u001b[1;32m----> 1\u001b[1;33m \u001b[0mrank\u001b[0m \u001b[1;33m=\u001b[0m \u001b[0msoup_food\u001b[0m\u001b[1;33m.\u001b[0m\u001b[0mfind_all\u001b[0m\u001b[1;33m(\u001b[0m\u001b[1;34m'div'\u001b[0m\u001b[1;33m,\u001b[0m \u001b[1;34m'sammyRank'\u001b[0m\u001b[1;33m)\u001b[0m\u001b[1;33m.\u001b[0m\u001b[0mtext\u001b[0m\u001b[1;33m;\u001b[0m \u001b[0mrank\u001b[0m\u001b[1;33m[\u001b[0m\u001b[1;33m:\u001b[0m\u001b[1;36m10\u001b[0m\u001b[1;33m]\u001b[0m\u001b[1;33m\u001b[0m\u001b[1;33m\u001b[0m\u001b[0m\n\u001b[0m",
      "\u001b[1;32mC:\\Python\\Anaconda3\\lib\\site-packages\\bs4\\element.py\u001b[0m in \u001b[0;36m__getattr__\u001b[1;34m(self, key)\u001b[0m\n\u001b[0;32m   1618\u001b[0m     \u001b[1;32mdef\u001b[0m \u001b[0m__getattr__\u001b[0m\u001b[1;33m(\u001b[0m\u001b[0mself\u001b[0m\u001b[1;33m,\u001b[0m \u001b[0mkey\u001b[0m\u001b[1;33m)\u001b[0m\u001b[1;33m:\u001b[0m\u001b[1;33m\u001b[0m\u001b[1;33m\u001b[0m\u001b[0m\n\u001b[0;32m   1619\u001b[0m         raise AttributeError(\n\u001b[1;32m-> 1620\u001b[1;33m             \u001b[1;34m\"ResultSet object has no attribute '%s'. You're probably treating a list of items like a single item. Did you call find_all() when you meant to call find()?\"\u001b[0m \u001b[1;33m%\u001b[0m \u001b[0mkey\u001b[0m\u001b[1;33m\u001b[0m\u001b[1;33m\u001b[0m\u001b[0m\n\u001b[0m\u001b[0;32m   1621\u001b[0m         )\n",
      "\u001b[1;31mAttributeError\u001b[0m: ResultSet object has no attribute 'text'. You're probably treating a list of items like a single item. Did you call find_all() when you meant to call find()?"
     ]
    }
   ],
   "source": [
    "rank = soup_food.find_all('div', 'sammyRank').text; rank[:10]"
   ]
  },
  {
   "cell_type": "code",
   "execution_count": 103,
   "metadata": {
    "ExecuteTime": {
     "end_time": "2019-09-05T07:47:18.652962Z",
     "start_time": "2019-09-05T07:47:18.638313Z"
    }
   },
   "outputs": [],
   "source": [
    "ranks = soup_food.find_all('div', 'sammyRank')"
   ]
  },
  {
   "cell_type": "code",
   "execution_count": 104,
   "metadata": {
    "ExecuteTime": {
     "end_time": "2019-09-05T07:47:42.821413Z",
     "start_time": "2019-09-05T07:47:42.814577Z"
    },
    "scrolled": true
   },
   "outputs": [
    {
     "data": {
      "text/plain": [
       "['1',\n",
       " '2',\n",
       " '3',\n",
       " '4',\n",
       " '5',\n",
       " '6',\n",
       " '7',\n",
       " '8',\n",
       " '9',\n",
       " '10',\n",
       " '11',\n",
       " '12',\n",
       " '13',\n",
       " '14',\n",
       " '15',\n",
       " '16',\n",
       " '17',\n",
       " '18',\n",
       " '19',\n",
       " '20',\n",
       " '21',\n",
       " '22',\n",
       " '23',\n",
       " '24',\n",
       " '25',\n",
       " '26',\n",
       " '27',\n",
       " '28',\n",
       " '29',\n",
       " '30',\n",
       " '31',\n",
       " '32',\n",
       " '33',\n",
       " '34',\n",
       " '35',\n",
       " '36',\n",
       " '37',\n",
       " '38',\n",
       " '39',\n",
       " '40',\n",
       " '41',\n",
       " '42',\n",
       " '43',\n",
       " '44',\n",
       " '45',\n",
       " '46',\n",
       " '47',\n",
       " '48',\n",
       " '49',\n",
       " '50']"
      ]
     },
     "execution_count": 104,
     "metadata": {},
     "output_type": "execute_result"
    }
   ],
   "source": [
    "# 랭킹\n",
    "ranks = [rank.get_text() for rank in ranks]; ranks"
   ]
  },
  {
   "cell_type": "code",
   "execution_count": 110,
   "metadata": {
    "ExecuteTime": {
     "end_time": "2019-09-05T07:51:22.387364Z",
     "start_time": "2019-09-05T07:51:22.366857Z"
    }
   },
   "outputs": [
    {
     "data": {
      "text/plain": [
       "['BLT',\n",
       " 'Fried Bologna',\n",
       " 'Woodland Mushroom',\n",
       " 'Roast Beef',\n",
       " 'PB&L',\n",
       " 'Belgian Chicken Curry Salad',\n",
       " 'Lobster Roll',\n",
       " 'Smoked Salmon Salad',\n",
       " 'Atomica Cemitas',\n",
       " 'Grilled Laughing Bird Shrimp and Fried Po’ Boy',\n",
       " 'Ham and Raclette Panino',\n",
       " 'Breaded Steak',\n",
       " 'The Hawkeye',\n",
       " 'Chicken Dip',\n",
       " 'Wild Boar Sloppy Joe',\n",
       " 'Meatball Sub',\n",
       " 'Corned Beef',\n",
       " 'Turkey Club',\n",
       " 'Falafel',\n",
       " 'Crab Cake',\n",
       " 'Chicken Schnitzel',\n",
       " 'Shawarma',\n",
       " 'Toasted Pimiento Cheese',\n",
       " 'Vegetarian Panino',\n",
       " 'Cali Chèvre',\n",
       " 'Pastrami',\n",
       " 'The Fredo',\n",
       " 'Smoked Ham',\n",
       " 'Jibarito',\n",
       " 'Shaved Prime Rib',\n",
       " 'Serrano Ham and Manchego Cheese',\n",
       " 'Tuna Salad',\n",
       " 'Paramount Reuben',\n",
       " 'The Istanbul',\n",
       " 'B.A.D.',\n",
       " 'Duck Confit and Mozzarella',\n",
       " 'Croque Monsieur',\n",
       " 'Green Garbanzo',\n",
       " 'The Hen House',\n",
       " 'Tuscan Chicken',\n",
       " 'The Marty ',\n",
       " 'Whitefish',\n",
       " 'Oat Bread, Pecan Butter, and Fruit Jam',\n",
       " 'Cauliflower Melt',\n",
       " 'Cubana',\n",
       " 'Kufta',\n",
       " 'Debbie’s Egg Salad',\n",
       " 'Beef Curry',\n",
       " 'Le Végétarien',\n",
       " 'The Gatsby']"
      ]
     },
     "execution_count": 110,
     "metadata": {},
     "output_type": "execute_result"
    }
   ],
   "source": [
    "# 상품명\n",
    "labels = soup_food.find_all('div', 'sammyListing'); labels\n",
    "# label = labels.find('b'); label\n",
    "label = [label.find('b').text for label in labels]; label"
   ]
  },
  {
   "cell_type": "code",
   "execution_count": 129,
   "metadata": {
    "ExecuteTime": {
     "end_time": "2019-09-05T07:58:03.370477Z",
     "start_time": "2019-09-05T07:58:03.350945Z"
    }
   },
   "outputs": [
    {
     "data": {
      "text/plain": [
       "['Old Oak Tap',\n",
       " 'Au Cheval',\n",
       " 'Xoco',\n",
       " 'Al’s Deli',\n",
       " 'Publican Quality Meats',\n",
       " 'Hendrickx Belgian Bread Crafter',\n",
       " 'Acadia',\n",
       " 'Birchwood Kitchen',\n",
       " 'Cemitas Puebla',\n",
       " 'Nana']"
      ]
     },
     "execution_count": 129,
     "metadata": {},
     "output_type": "execute_result"
    }
   ],
   "source": [
    "# 카페명\n",
    "names = soup_food.find_all('div', 'sammyListing'); \n",
    "names = [name.text for name in names]; name[:10]\n",
    "name = [(name[name.find('\\r\\n') + 2 : name.rfind('\\n')])\n",
    "        for name in names]; name[:10]"
   ]
  },
  {
   "cell_type": "code",
   "execution_count": 234,
   "metadata": {
    "ExecuteTime": {
     "end_time": "2019-09-05T08:51:07.246286Z",
     "start_time": "2019-09-05T08:51:07.219917Z"
    }
   },
   "outputs": [
    {
     "data": {
      "text/plain": [
       "['https://www.chicagomag.com/Chicago-Magazine/November-2012/Best-Sandwiches-in-Chicago-Old-Oak-Tap-BLT',\n",
       " 'https://www.chicagomag.com/Chicago-Magazine/November-2012/Best-Sandwiches-in-Chicago-Au-Cheval-Fried-Bologna',\n",
       " 'https://www.chicagomag.com/Chicago-Magazine/November-2012/Best-Sandwiches-in-Chicago-Xoco-Woodland-Mushroom',\n",
       " 'https://www.chicagomag.com/Chicago-Magazine/November-2012/Best-Sandwiches-in-Chicago-Als-Deli-Roast-Beef',\n",
       " 'https://www.chicagomag.com/Chicago-Magazine/November-2012/Best-Sandwiches-in-Chicago-Publican-Quality-Meats-PB-L',\n",
       " 'https://www.chicagomag.com/Chicago-Magazine/November-2012/Best-Sandwiches-in-Chicago-Hendrickx-Belgian-Bread-Crafter-Belgian-Chicken-Curry-Salad',\n",
       " 'https://www.chicagomag.com/Chicago-Magazine/November-2012/Best-Sandwiches-in-Chicago-Acadia-Lobster-Roll',\n",
       " 'https://www.chicagomag.com/Chicago-Magazine/November-2012/Best-Sandwiches-in-Chicago-Birchwood-Kitchen-Smoked-Salmon-Salad',\n",
       " 'https://www.chicagomag.com/Chicago-Magazine/November-2012/Best-Sandwiches-in-Chicago-Cemitas-Puebla-Atomica-Cemitas',\n",
       " 'https://www.chicagomag.com/Chicago-Magazine/November-2012/Best-Sandwiches-in-Chicago-Nana-Grilled-Laughing-Bird-Shrimp-and-Fried-Oyster-Po-Boy']"
      ]
     },
     "execution_count": 234,
     "metadata": {},
     "output_type": "execute_result"
    }
   ],
   "source": [
    "# 링크명 구해주기\n",
    "links = soup_food.find_all('div', 'sammyListing');\n",
    "links = [str(link) for link in links]; links[:1]\n",
    "ht = \"https://www.chicagomag.com\"\n",
    "dummy = []\n",
    "for link in links:\n",
    "    if not \"www.chicagomag.com\" in link:\n",
    "        dummy.append(ht + link[link.find('/') : link.rfind('/\">')])\n",
    "    else:\n",
    "        dummy.append(\"https:\" + link[link.find('/') : link.rfind('/\">')])\n",
    "                                   \n",
    "dummy[:10]"
   ]
  },
  {
   "cell_type": "code",
   "execution_count": 167,
   "metadata": {
    "ExecuteTime": {
     "end_time": "2019-09-05T08:16:25.195261Z",
     "start_time": "2019-09-05T08:16:23.177563Z"
    }
   },
   "outputs": [
    {
     "data": {
      "text/plain": [
       "<title>\n",
       "  1. Old Oak Tap BLT |\n",
       "  Chicago magazine\n",
       "      |  November 2012\n",
       "    </title>"
      ]
     },
     "execution_count": 167,
     "metadata": {},
     "output_type": "execute_result"
    }
   ],
   "source": [
    "# 과제2 : 상세페이지 정보 크롤링 - 가격, 주소, 전화번호, 홈페이지정보\n",
    "\n",
    "url = dummy[0]\n",
    "html_food2 = requests.get(url).text\n",
    "soup_food2 = BeautifulSoup(html_food2, 'lxml')\n",
    "soup_food2.title"
   ]
  },
  {
   "cell_type": "code",
   "execution_count": 180,
   "metadata": {
    "ExecuteTime": {
     "end_time": "2019-09-05T08:22:23.749991Z",
     "start_time": "2019-09-05T08:22:23.737336Z"
    }
   },
   "outputs": [
    {
     "data": {
      "text/plain": [
       "[<em>$10. 2109 W. Chicago Ave., 773-772-0406, <a href=\"http://www.theoldoaktap.com/\">theoldoaktap.com</a></em>,\n",
       " <em> Chicago</em>,\n",
       " <em>Chicago</em>,\n",
       " <em>Chicago</em>]"
      ]
     },
     "execution_count": 180,
     "metadata": {},
     "output_type": "execute_result"
    }
   ],
   "source": [
    "qw = soup_food2.select('em');"
   ]
  },
  {
   "cell_type": "code",
   "execution_count": 236,
   "metadata": {
    "ExecuteTime": {
     "end_time": "2019-09-05T08:54:26.915503Z",
     "start_time": "2019-09-05T08:53:00.556807Z"
    }
   },
   "outputs": [
    {
     "data": {
      "text/plain": [
       "[[<em>$10. 2109 W. Chicago Ave., 773-772-0406, <a href=\"http://www.theoldoaktap.com/\">theoldoaktap.com</a></em>,\n",
       "  <em> Chicago</em>,\n",
       "  <em>Chicago</em>,\n",
       "  <em>Chicago</em>],\n",
       " [<em>$9. 800 W. Randolph St., 312-929-4580, <a href=\"http://aucheval.tumblr.com/\">aucheval.tumblr.com</a></em>,\n",
       "  <em> Chicago</em>,\n",
       "  <em>Chicago</em>,\n",
       "  <em>Chicago</em>],\n",
       " [<em>$9.50. 445 N. Clark St., 312-334-3688, <a href=\"http://www.rickbayless.com/\">rickbayless.com</a></em>,\n",
       "  <em> Chicago</em>,\n",
       "  <em>Chicago</em>,\n",
       "  <em>Chicago</em>],\n",
       " [<em>$9.40. 914 Noyes St., Evanston, 847-475-9400, <a href=\"http://alsdeli.net/\">alsdeli.net</a></em>,\n",
       "  <em> Chicago</em>,\n",
       "  <em>Chicago</em>,\n",
       "  <em>Chicago</em>],\n",
       " [<em>$10. 825 W. Fulton Mkt., 312-445-8977, <a href=\"http://publicanqualitymeats.com/\">publicanqualitymeats.com</a></em>,\n",
       "  <em> Chicago</em>,\n",
       "  <em>Chicago</em>,\n",
       "  <em>Chicago</em>],\n",
       " [<em>$7.25. 100 E. Walton St., 312-649-6717</em>,\n",
       "  <em> Chicago</em>,\n",
       "  <em>Chicago</em>,\n",
       "  <em>Chicago</em>],\n",
       " [<em>$16. 1639 S. Wabash Ave., 312-360-9500, <a href=\"http://acadiachicago.com/\">acadiachicago.com</a></em>,\n",
       "  <em> Chicago</em>,\n",
       "  <em>Chicago</em>,\n",
       "  <em>Chicago</em>],\n",
       " [<em>$10. 2211 W. North Ave., 773-276-2100, <a href=\"http://www.birchwoodkitchen.com/\">birchwoodkitchen.com</a></em>,\n",
       "  <em> Chicago</em>,\n",
       "  <em>Chicago</em>,\n",
       "  <em>Chicago</em>],\n",
       " [<em>$9. 3619 W. North Ave., 773-772-8435, <a href=\"http://cemitaspuebla.com/\">cemitaspuebla.com</a></em>,\n",
       "  <em> Chicago</em>,\n",
       "  <em>Chicago</em>,\n",
       "  <em>Chicago</em>],\n",
       " [<em>$17. 3267 S. Halsted St., 312-929-2486, <a href=\"http://nanaorganic.com/\">nanaorganic.com</a></em>,\n",
       "  <em> Chicago</em>,\n",
       "  <em>Chicago</em>,\n",
       "  <em>Chicago</em>]]"
      ]
     },
     "execution_count": 236,
     "metadata": {},
     "output_type": "execute_result"
    }
   ],
   "source": [
    "urllist = []\n",
    "for url in dummy:\n",
    "    html_food2 = requests.get(url).text\n",
    "    soup_food2 = BeautifulSoup(html_food2, 'lxml')\n",
    "    urllist.append(soup_food2.select('em'))\n",
    "    \n",
    "urllist[:10]"
   ]
  },
  {
   "cell_type": "code",
   "execution_count": 269,
   "metadata": {
    "ExecuteTime": {
     "end_time": "2019-09-05T09:02:31.130946Z",
     "start_time": "2019-09-05T09:02:31.125087Z"
    }
   },
   "outputs": [
    {
     "data": {
      "text/plain": [
       "[<em>$10. 2109 W. Chicago Ave., 773-772-0406, <a href=\"http://www.theoldoaktap.com/\">theoldoaktap.com</a></em>,\n",
       " <em> Chicago</em>,\n",
       " <em>Chicago</em>,\n",
       " <em>Chicago</em>]"
      ]
     },
     "execution_count": 269,
     "metadata": {},
     "output_type": "execute_result"
    }
   ],
   "source": []
  },
  {
   "cell_type": "code",
   "execution_count": 311,
   "metadata": {
    "ExecuteTime": {
     "end_time": "2019-09-05T09:19:52.718424Z",
     "start_time": "2019-09-05T09:19:52.710611Z"
    }
   },
   "outputs": [],
   "source": [
    "meme = [str(me) for me in urllist]"
   ]
  },
  {
   "cell_type": "code",
   "execution_count": 317,
   "metadata": {
    "ExecuteTime": {
     "end_time": "2019-09-05T09:22:04.348333Z",
     "start_time": "2019-09-05T09:22:04.343450Z"
    }
   },
   "outputs": [
    {
     "data": {
      "text/plain": [
       "'[<em>$10. 2109 W. Chicago Ave., 773-772-0406, <a href=\"http://www.theoldoaktap.com/\">theoldoaktap.com</a></em>, <em> Chicago</em>, <em>Chicago</em>, <em>Chicago</em>]'"
      ]
     },
     "execution_count": 317,
     "metadata": {},
     "output_type": "execute_result"
    }
   ],
   "source": [
    "meme[0]"
   ]
  },
  {
   "cell_type": "code",
   "execution_count": 323,
   "metadata": {
    "ExecuteTime": {
     "end_time": "2019-09-05T09:23:32.666087Z",
     "start_time": "2019-09-05T09:23:32.651438Z"
    }
   },
   "outputs": [
    {
     "data": {
      "text/plain": [
       "['[', '[', '[', '[', '[', '[', '[', '[', '[', '[']"
      ]
     },
     "execution_count": 323,
     "metadata": {},
     "output_type": "execute_result"
    }
   ],
   "source": [
    "\n"
   ]
  },
  {
   "cell_type": "code",
   "execution_count": 303,
   "metadata": {
    "ExecuteTime": {
     "end_time": "2019-09-05T09:12:45.387284Z",
     "start_time": "2019-09-05T09:12:45.381425Z"
    }
   },
   "outputs": [
    {
     "data": {
      "text/plain": [
       "['<em>$10. 2109 W. Chicago Ave., 773-772-0406, <a href=\"http://www.theoldoaktap.com/\">theoldoaktap.com</a></em>',\n",
       " '<em>$9. 800 W. Randolph St., 312-929-4580, <a href=\"http://aucheval.tumblr.com/\">aucheval.tumblr.com</a></em>',\n",
       " '<em>$9.50. 445 N. Clark St., 312-334-3688, <a href=\"http://www.rickbayless.com/\">rickbayless.com</a></em>',\n",
       " '<em>$9.40. 914 Noyes St., Evanston, 847-475-9400, <a href=\"http://alsdeli.net/\">alsdeli.net</a></em>',\n",
       " '<em>$10. 825 W. Fulton Mkt., 312-445-8977, <a href=\"http://publicanqualitymeats.com/\">publicanqualitymeats.com</a></em>',\n",
       " '<em>$7.25. 100 E. Walton St., 312-649-6717</em>',\n",
       " '<em>$16. 1639 S. Wabash Ave., 312-360-9500, <a href=\"http://acadiachicago.com/\">acadiachicago.com</a></em>',\n",
       " '<em>$10. 2211 W. North Ave., 773-276-2100, <a href=\"http://www.birchwoodkitchen.com/\">birchwoodkitchen.com</a></em>',\n",
       " '<em>$9. 3619 W. North Ave., 773-772-8435, <a href=\"http://cemitaspuebla.com/\">cemitaspuebla.com</a></em>',\n",
       " '<em>$17. 3267 S. Halsted St., 312-929-2486, <a href=\"http://nanaorganic.com/\">nanaorganic.com</a></em>',\n",
       " '<em>$11. 2537 N. Kedzie Blvd., 773-489-9554, <a href=\"http://lulacafe.com/\">lulacafe.com</a></em>',\n",
       " '<em>$5.49. Multiple locations, <a href=\"http://www.ricobenespizza.com/\">ricobenespizza.com</a></em>',\n",
       " '<em>Man v. Food–</em>',\n",
       " '<em>$10. 3455 N. Southport Ave., 773-883-2525, <a href=\"http://crosbyskitchenchicago.com/\">crosbyskitchenchicago.com</a></em>',\n",
       " '<em>$13. 2657 N. Kedzie Ave., 773-276-7110, <a href=\"http://www.longmanandeagle.com/\">longmanandeagle.com</a></em>',\n",
       " '<em>$4.50. 1120 W. Grand Ave., 312-666-0730, <a href=\"http://www.bariitaliansubs.com/\">bariitaliansubs.com</a></em>',\n",
       " '<em>$11.95. 1141 S. Jefferson St., 312-939-2855, <a href=\"http://mannysdeli.com/\">mannysdeli.com</a></em>',\n",
       " '<em>$11.50. 333 E. Benton Pl., 773-234-3449, <a href=\"http://www.eggysdiner.com/\">eggysdiner.com</a></em>',\n",
       " '<em>$6.25. 1411 N. Wells St., 312-944-0459, <a href=\"http://oldjerusalemchicago.com/\">oldjerusalemchicago.com</a></em>',\n",
       " '<em>$15. 1747 N. Damen Ave., 773-489-1747, <a href=\"http://hotchocolatechicago.com/\">hotchocolatechicago.com</a></em>',\n",
       " '<em>$5. 3209 W. Irving Park Rd., 773-539-8038</em>',\n",
       " '<em>$6. Multiple locations, <a href=\"http://www.dawalikitchen.com/\">dawalikitchen.com</a></em>',\n",
       " '<em>$8. 5347 N. Clark St., 773-275-5725, <a href=\"http://bigjoneschicago.com/\">bigjoneschicago.com</a></em>',\n",
       " '<em>$5.99. 2954 W. Irving Park Rd., 773-539-5321, <a href=\"http://lapanechicago.com/\">lapanechicago.com</a></em>',\n",
       " '<em>$7.52. Multiple locations, <a href=\"http://pastoralartisan.com/\">pastoralartisan.com</a></em>',\n",
       " '<em>$11.95. 191 Skokie Valley Rd., Highland Park, 847-831-0600, <a href=\"http://maxs-deli.com/\">maxs-deli.com</a></em>',\n",
       " '<em>$7.50. Multiple locations, <a href=\"http://www.luckysandwich.com/\">luckysandwich.com</a></em>',\n",
       " '<em>$12.95. 1818 W. Wilson Ave., 773-293-2489, <a href=\"http://cityprovisions.com/\">cityprovisions.com</a></em>',\n",
       " '<em>$7. 2517 W. Division St., 773-862-8313, <a href=\"http://papascachesabroso.com/\">papascachesabroso.com</a></em>',\n",
       " '<em>$21. 218 W. Kinzie St., 312-624-8154</em>',\n",
       " '<em>$9.79. Multiple locations, <a href=\"http://hannahsbretzel.com/\">hannahsbretzel.com</a></em>',\n",
       " '<em>$9.75. 1547 N. Wells St., 312-624-9430, <a href=\"http://lafournette.com/\">lafournette.com</a></em>',\n",
       " '<em>$13. 415 N. Milwaukee Ave., 312-829-6300, <a href=\"http://paramountroom.com/\">paramountroom.com</a></em>',\n",
       " '<em>$7.95. 1840 N. Damen Ave., 773-681-9914, <a href=\"http://meltsandwichshoppechicago.com\">meltsandwichshoppechicago.com</a></em>',\n",
       " '<em>$9. 1220 W. Webster Ave., 773-883-1313, <a href=\"http://www.floriole.com/\">floriole.com</a></em>',\n",
       " '<em>$9. 5357 N. Ashland Ave., 773-275-4297, <a href=\"http://firstslice.org/\">firstslice.org</a></em>',\n",
       " '<em>$8. 1834 W. Montrose Ave., 773-334-5664, <a href=\"http://troquetchicago.com/\">troquetchicago.com</a></em>',\n",
       " '<em>$8. 615 N. State St., 312-265-0434, <a href=\"http://grahamwich.com/\">grahamwich.com</a></em>',\n",
       " '<em>$7. Multiple locations, <a href=\"http://saigonsisters.com\">saigonsisters.com</a></em>',\n",
       " '<em>$6. 241 N. York Rd., Elmhurst, 630-516-3354, <a href=\"http://rosaliasdeli.com/\">rosaliasdeli.com</a></em>',\n",
       " '<em>$7.25. 1323 E. 57th St., 773-538-7372, <a href=\"http://zhmarketcafe.com/\">zhmarketcafe.com</a></em>',\n",
       " '<em>$11. 655 Forest Ave., Lake Forest, 847-234-8800, <a href=\"http://www.themarkethouse.com/\">themarkethouse.com</a></em>',\n",
       " '<em>$6. Hotel Lincoln, 1816 N. Clark St., 312-254-4665, <a href=\"http://www.jdvhotels.com/hotels/chicago/lincoln\">jdvhotels.com/hotels/chicago/lincoln</a></em>',\n",
       " '<em>$9. 100 S. Marion St., Oak Park, 708-725-7200, <a href=\"http://marionstreetcheesemarket.com/\">marionstreetcheesemarket.com</a></em>',\n",
       " '<em>$5.49. 26 E. Congress Pkwy., 312-922-2233, <a href=\"http://cafecitochicago.com/\">cafecitochicago.com</a></em>',\n",
       " '<em>$8. 2018 W. Chicago Ave., 773-384-9930, <a href=\"http://chickpeaonthego.com/\">chickpeaonthego.com</a></em>',\n",
       " '<em>$6.50. 25 E. Delaware Pl., 312-896-2600, <a href=\"http://goddessandgrocer.com/\">goddessandgrocer.com</a></em>',\n",
       " '<em>$7.50. 416 N. York St., Elmhurst, 630-359-5234, <a href=\"http://eatmyzenwich.com/\">eatmyzenwich.com</a></em>',\n",
       " '<em>$8.75. 65 E. Washington St., 312-726-2020, <a href=\"http://www.tonipatisserie.com/\">tonipatisserie.com</a></em>',\n",
       " '<em>$6.85. 3351 N. Broadway, 773-868-4000, <a href=\"http://phoebesbakery.com/\">phoebesbakery.com</a></em>']"
      ]
     },
     "execution_count": 303,
     "metadata": {},
     "output_type": "execute_result"
    }
   ],
   "source": [
    "meme"
   ]
  },
  {
   "cell_type": "code",
   "execution_count": 308,
   "metadata": {
    "ExecuteTime": {
     "end_time": "2019-09-05T09:14:19.459288Z",
     "start_time": "2019-09-05T09:14:19.454405Z"
    }
   },
   "outputs": [
    {
     "data": {
      "text/plain": [
       "[<em>Man v. Food–</em>,\n",
       " <em>$14. 3124 N. Broadway, 773-661-9166, <a href=\"http://frognsnail.com/\">frognsnail.com</a></em>,\n",
       " <em> Chicago</em>,\n",
       " <em>Chicago</em>,\n",
       " <em>Chicago</em>]"
      ]
     },
     "execution_count": 308,
     "metadata": {},
     "output_type": "execute_result"
    }
   ],
   "source": []
  },
  {
   "cell_type": "code",
   "execution_count": 259,
   "metadata": {
    "ExecuteTime": {
     "end_time": "2019-09-05T09:01:02.113974Z",
     "start_time": "2019-09-05T09:01:02.109043Z"
    }
   },
   "outputs": [
    {
     "data": {
      "text/plain": [
       "str"
      ]
     },
     "execution_count": 259,
     "metadata": {},
     "output_type": "execute_result"
    }
   ],
   "source": []
  },
  {
   "cell_type": "code",
   "execution_count": 398,
   "metadata": {
    "ExecuteTime": {
     "end_time": "2019-09-05T10:19:55.824340Z",
     "start_time": "2019-09-05T10:19:55.813597Z"
    }
   },
   "outputs": [],
   "source": [
    "# pay, ad, call, web\n",
    "pay = []\n",
    "ad = []\n",
    "call = []\n",
    "web = []\n",
    "\n",
    "\n",
    "for address in meme:\n",
    "    pay.append(re.findall('\\$[0-9]+', address))\n",
    "    ad.append(re.findall('\\w+?[0-9]+?\\w+? +?[A-z+\\n?. +?[A-Z]+?\\w+ ?\\w+.', address))\n",
    "    call.append(address[address.find(',') +3:address.find(', <')])\n",
    "\n",
    "    try:\n",
    "        web.append(address[address.find('f=') +3:address.find('/\">')])\n",
    "    except:\n",
    "        pass"
   ]
  },
  {
   "cell_type": "code",
   "execution_count": 384,
   "metadata": {
    "ExecuteTime": {
     "end_time": "2019-09-05T09:51:56.678704Z",
     "start_time": "2019-09-05T09:51:56.673866Z"
    }
   },
   "outputs": [
    {
     "data": {
      "text/plain": [
       "['[<em>$10. 2109 W. Chicago Ave., 773-772-0406, <a href=\"http://www.theoldoaktap.com/\">theoldoaktap.com</a></em>, <em> Chicago</em>, <em>Chicago</em>, <em>Chicago</em>]',\n",
       " '[<em>$9. 800 W. Randolph St., 312-929-4580, <a href=\"http://aucheval.tumblr.com/\">aucheval.tumblr.com</a></em>, <em> Chicago</em>, <em>Chicago</em>, <em>Chicago</em>]',\n",
       " '[<em>$9.50. 445 N. Clark St., 312-334-3688, <a href=\"http://www.rickbayless.com/\">rickbayless.com</a></em>, <em> Chicago</em>, <em>Chicago</em>, <em>Chicago</em>]',\n",
       " '[<em>$9.40. 914 Noyes St., Evanston, 847-475-9400, <a href=\"http://alsdeli.net/\">alsdeli.net</a></em>, <em> Chicago</em>, <em>Chicago</em>, <em>Chicago</em>]',\n",
       " '[<em>$10. 825 W. Fulton Mkt., 312-445-8977, <a href=\"http://publicanqualitymeats.com/\">publicanqualitymeats.com</a></em>, <em> Chicago</em>, <em>Chicago</em>, <em>Chicago</em>]',\n",
       " '[<em>$7.25. 100 E. Walton St., 312-649-6717</em>, <em> Chicago</em>, <em>Chicago</em>, <em>Chicago</em>]',\n",
       " '[<em>$16. 1639 S. Wabash Ave., 312-360-9500, <a href=\"http://acadiachicago.com/\">acadiachicago.com</a></em>, <em> Chicago</em>, <em>Chicago</em>, <em>Chicago</em>]',\n",
       " '[<em>$10. 2211 W. North Ave., 773-276-2100, <a href=\"http://www.birchwoodkitchen.com/\">birchwoodkitchen.com</a></em>, <em> Chicago</em>, <em>Chicago</em>, <em>Chicago</em>]',\n",
       " '[<em>$9. 3619 W. North Ave., 773-772-8435, <a href=\"http://cemitaspuebla.com/\">cemitaspuebla.com</a></em>, <em> Chicago</em>, <em>Chicago</em>, <em>Chicago</em>]',\n",
       " '[<em>$17. 3267 S. Halsted St., 312-929-2486, <a href=\"http://nanaorganic.com/\">nanaorganic.com</a></em>, <em> Chicago</em>, <em>Chicago</em>, <em>Chicago</em>]',\n",
       " '[<em>$11. 2537 N. Kedzie Blvd., 773-489-9554, <a href=\"http://lulacafe.com/\">lulacafe.com</a></em>, <em> Chicago</em>, <em>Chicago</em>, <em>Chicago</em>]',\n",
       " '[<em>$5.49. Multiple locations, <a href=\"http://www.ricobenespizza.com/\">ricobenespizza.com</a></em>, <em> Chicago</em>, <em>Chicago</em>, <em>Chicago</em>]',\n",
       " '[<em>Man v. Food–</em>, <em>$14. 3124 N. Broadway, 773-661-9166, <a href=\"http://frognsnail.com/\">frognsnail.com</a></em>, <em> Chicago</em>, <em>Chicago</em>, <em>Chicago</em>]',\n",
       " '[<em>$10. 3455 N. Southport Ave., 773-883-2525, <a href=\"http://crosbyskitchenchicago.com/\">crosbyskitchenchicago.com</a></em>, <em> Chicago</em>, <em>Chicago</em>, <em>Chicago</em>]',\n",
       " '[<em>$13. 2657 N. Kedzie Ave., 773-276-7110, <a href=\"http://www.longmanandeagle.com/\">longmanandeagle.com</a></em>, <em> Chicago</em>, <em>Chicago</em>, <em>Chicago</em>]',\n",
       " '[<em>$4.50. 1120 W. Grand Ave., 312-666-0730, <a href=\"http://www.bariitaliansubs.com/\">bariitaliansubs.com</a></em>, <em> Chicago</em>, <em>Chicago</em>, <em>Chicago</em>]',\n",
       " '[<em>$11.95. 1141 S. Jefferson St., 312-939-2855, <a href=\"http://mannysdeli.com/\">mannysdeli.com</a></em>, <em> Chicago</em>, <em>Chicago</em>, <em>Chicago</em>]',\n",
       " '[<em>$11.50. 333 E. Benton Pl., 773-234-3449, <a href=\"http://www.eggysdiner.com/\">eggysdiner.com</a></em>, <em> Chicago</em>, <em>Chicago</em>, <em>Chicago</em>]',\n",
       " '[<em>$6.25. 1411 N. Wells St., 312-944-0459, <a href=\"http://oldjerusalemchicago.com/\">oldjerusalemchicago.com</a></em>, <em> Chicago</em>, <em>Chicago</em>, <em>Chicago</em>]',\n",
       " '[<em>$15. 1747 N. Damen Ave., 773-489-1747, <a href=\"http://hotchocolatechicago.com/\">hotchocolatechicago.com</a></em>, <em> Chicago</em>, <em>Chicago</em>, <em>Chicago</em>]',\n",
       " '[<em>$5. 3209 W. Irving Park Rd., 773-539-8038</em>, <em> Chicago</em>, <em>Chicago</em>, <em>Chicago</em>]',\n",
       " '[<em>$6. Multiple locations, <a href=\"http://www.dawalikitchen.com/\">dawalikitchen.com</a></em>, <em> Chicago</em>, <em>Chicago</em>, <em>Chicago</em>]',\n",
       " '[<em>$8. 5347 N. Clark St., 773-275-5725, <a href=\"http://bigjoneschicago.com/\">bigjoneschicago.com</a></em>, <em> Chicago</em>, <em>Chicago</em>, <em>Chicago</em>]',\n",
       " '[<em>$5.99. 2954 W. Irving Park Rd., 773-539-5321, <a href=\"http://lapanechicago.com/\">lapanechicago.com</a></em>, <em> Chicago</em>, <em>Chicago</em>, <em>Chicago</em>]',\n",
       " '[<em>$7.52. Multiple locations, <a href=\"http://pastoralartisan.com/\">pastoralartisan.com</a></em>, <em> Chicago</em>, <em>Chicago</em>, <em>Chicago</em>]',\n",
       " '[<em>$11.95. 191 Skokie Valley Rd., Highland Park, 847-831-0600, <a href=\"http://maxs-deli.com/\">maxs-deli.com</a></em>, <em> Chicago</em>, <em>Chicago</em>, <em>Chicago</em>]',\n",
       " '[<em>$7.50. Multiple locations, <a href=\"http://www.luckysandwich.com/\">luckysandwich.com</a></em>, <em> Chicago</em>, <em>Chicago</em>, <em>Chicago</em>]',\n",
       " '[<em>$12.95. 1818 W. Wilson Ave., 773-293-2489, <a href=\"http://cityprovisions.com/\">cityprovisions.com</a></em>, <em> Chicago</em>, <em>Chicago</em>, <em>Chicago</em>]',\n",
       " '[<em>$7. 2517 W. Division St., 773-862-8313, <a href=\"http://papascachesabroso.com/\">papascachesabroso.com</a></em>, <em> Chicago</em>, <em>Chicago</em>, <em>Chicago</em>]',\n",
       " '[<em>$21. 218 W. Kinzie St., 312-624-8154</em>, <em> Chicago</em>, <em>Chicago</em>, <em>Chicago</em>]',\n",
       " '[<em>$9.79. Multiple locations, <a href=\"http://hannahsbretzel.com/\">hannahsbretzel.com</a></em>, <em> Chicago</em>, <em>Chicago</em>, <em>Chicago</em>]',\n",
       " '[<em>$9.75. 1547 N. Wells St., 312-624-9430, <a href=\"http://lafournette.com/\">lafournette.com</a></em>, <em> Chicago</em>, <em>Chicago</em>, <em>Chicago</em>]',\n",
       " '[<em>$13. 415 N. Milwaukee Ave., 312-829-6300, <a href=\"http://paramountroom.com/\">paramountroom.com</a></em>, <em> Chicago</em>, <em>Chicago</em>, <em>Chicago</em>]',\n",
       " '[<em>$7.95. 1840 N. Damen Ave., 773-681-9914, <a href=\"http://meltsandwichshoppechicago.com\">meltsandwichshoppechicago.com</a></em>, <em> Chicago</em>, <em>Chicago</em>, <em>Chicago</em>]',\n",
       " '[<em>$9. 1220 W. Webster Ave., 773-883-1313, <a href=\"http://www.floriole.com/\">floriole.com</a></em>, <em> Chicago</em>, <em>Chicago</em>, <em>Chicago</em>]',\n",
       " '[<em>$9. 5357 N. Ashland Ave., 773-275-4297, <a href=\"http://firstslice.org/\">firstslice.org</a></em>, <em> Chicago</em>, <em>Chicago</em>, <em>Chicago</em>]',\n",
       " '[<em>$8. 1834 W. Montrose Ave., 773-334-5664, <a href=\"http://troquetchicago.com/\">troquetchicago.com</a></em>, <em> Chicago</em>, <em>Chicago</em>, <em>Chicago</em>]',\n",
       " '[<em>$8. 615 N. State St., 312-265-0434, <a href=\"http://grahamwich.com/\">grahamwich.com</a></em>, <em> Chicago</em>, <em>Chicago</em>, <em>Chicago</em>]',\n",
       " '[<em>$7. Multiple locations, <a href=\"http://saigonsisters.com\">saigonsisters.com</a></em>, <em> Chicago</em>, <em>Chicago</em>, <em>Chicago</em>]',\n",
       " '[<em>$6. 241 N. York Rd., Elmhurst, 630-516-3354, <a href=\"http://rosaliasdeli.com/\">rosaliasdeli.com</a></em>, <em> Chicago</em>, <em>Chicago</em>, <em>Chicago</em>]',\n",
       " '[<em>$7.25. 1323 E. 57th St., 773-538-7372, <a href=\"http://zhmarketcafe.com/\">zhmarketcafe.com</a></em>, <em> Chicago</em>, <em>Chicago</em>, <em>Chicago</em>]',\n",
       " '[<em>$11. 655 Forest Ave., Lake Forest, 847-234-8800, <a href=\"http://www.themarkethouse.com/\">themarkethouse.com</a></em>, <em> Chicago</em>, <em>Chicago</em>, <em>Chicago</em>]',\n",
       " '[<em>$6. Hotel Lincoln, 1816 N. Clark St., 312-254-4665, <a href=\"http://www.jdvhotels.com/hotels/chicago/lincoln\">jdvhotels.com/hotels/chicago/lincoln</a></em>, <em> Chicago</em>, <em>Chicago</em>, <em>Chicago</em>]',\n",
       " '[<em>$9. 100 S. Marion St., Oak Park, 708-725-7200, <a href=\"http://marionstreetcheesemarket.com/\">marionstreetcheesemarket.com</a></em>, <em> Chicago</em>, <em>Chicago</em>, <em>Chicago</em>]',\n",
       " '[<em>$5.49. 26 E. Congress Pkwy., 312-922-2233, <a href=\"http://cafecitochicago.com/\">cafecitochicago.com</a></em>, <em> Chicago</em>, <em>Chicago</em>, <em>Chicago</em>]',\n",
       " '[<em>$8. 2018 W. Chicago Ave., 773-384-9930, <a href=\"http://chickpeaonthego.com/\">chickpeaonthego.com</a></em>, <em> Chicago</em>, <em>Chicago</em>, <em>Chicago</em>]',\n",
       " '[<em>$6.50. 25 E. Delaware Pl., 312-896-2600, <a href=\"http://goddessandgrocer.com/\">goddessandgrocer.com</a></em>, <em> Chicago</em>, <em>Chicago</em>, <em>Chicago</em>]',\n",
       " '[<em>$7.50. 416 N. York St., Elmhurst, 630-359-5234, <a href=\"http://eatmyzenwich.com/\">eatmyzenwich.com</a></em>, <em> Chicago</em>, <em>Chicago</em>, <em>Chicago</em>]',\n",
       " '[<em>$8.75. 65 E. Washington St., 312-726-2020, <a href=\"http://www.tonipatisserie.com/\">tonipatisserie.com</a></em>, <em> Chicago</em>, <em>Chicago</em>, <em>Chicago</em>]',\n",
       " '[<em>$6.85. 3351 N. Broadway, 773-868-4000, <a href=\"http://phoebesbakery.com/\">phoebesbakery.com</a></em>, <em> Chicago</em>, <em>Chicago</em>, <em>Chicago</em>]']"
      ]
     },
     "execution_count": 384,
     "metadata": {},
     "output_type": "execute_result"
    }
   ],
   "source": [
    "# meme[12][meme[12].find('$'):meme[12].find('.')]\n",
    "meme"
   ]
  },
  {
   "cell_type": "code",
   "execution_count": 358,
   "metadata": {
    "ExecuteTime": {
     "end_time": "2019-09-05T09:43:57.110209Z",
     "start_time": "2019-09-05T09:43:57.105318Z"
    }
   },
   "outputs": [
    {
     "data": {
      "text/plain": [
       "'[<em>Man v. Food–</em>, <em>$14. 3124 N. Broadway, 773-661-9166, <a href=\"http://frognsnail.com/\">frognsnail.com</a></em>, <em> Chicago</em>, <em>Chicago</em>, <em>Chicago</em>]'"
      ]
     },
     "execution_count": 358,
     "metadata": {},
     "output_type": "execute_result"
    }
   ],
   "source": [
    "meme[12]"
   ]
  },
  {
   "cell_type": "code",
   "execution_count": null,
   "metadata": {},
   "outputs": [],
   "source": [
    "import re"
   ]
  },
  {
   "cell_type": "code",
   "execution_count": 401,
   "metadata": {
    "ExecuteTime": {
     "end_time": "2019-09-05T10:21:15.769559Z",
     "start_time": "2019-09-05T10:21:15.764728Z"
    }
   },
   "outputs": [
    {
     "data": {
      "text/plain": [
       "['73-772-0406',\n",
       " '12-929-4580',\n",
       " '12-334-3688',\n",
       " 'vanston, 847-475-9400',\n",
       " '12-445-8977',\n",
       " '12-649-6717</em>',\n",
       " '12-360-9500',\n",
       " '73-276-2100',\n",
       " '73-772-8435',\n",
       " '12-929-2486',\n",
       " '73-489-9554',\n",
       " '',\n",
       " '',\n",
       " '73-883-2525',\n",
       " '73-276-7110',\n",
       " '12-666-0730',\n",
       " '12-939-2855',\n",
       " '73-234-3449',\n",
       " '12-944-0459',\n",
       " '73-489-1747',\n",
       " '73-539-8038</em>',\n",
       " '',\n",
       " '73-275-5725',\n",
       " '73-539-5321',\n",
       " '',\n",
       " 'ighland Park, 847-831-0600',\n",
       " '',\n",
       " '73-293-2489',\n",
       " '73-862-8313',\n",
       " '12-624-8154</em>',\n",
       " '',\n",
       " '12-624-9430',\n",
       " '12-829-6300',\n",
       " '73-681-9914',\n",
       " '73-883-1313',\n",
       " '73-275-4297',\n",
       " '73-334-5664',\n",
       " '12-265-0434',\n",
       " '',\n",
       " 'lmhurst, 630-516-3354',\n",
       " '73-538-7372',\n",
       " 'ake Forest, 847-234-8800',\n",
       " '816 N. Clark St., 312-254-4665',\n",
       " 'ak Park, 708-725-7200',\n",
       " '12-922-2233',\n",
       " '73-384-9930',\n",
       " '12-896-2600',\n",
       " 'lmhurst, 630-359-5234',\n",
       " '12-726-2020',\n",
       " '73-868-4000']"
      ]
     },
     "execution_count": 401,
     "metadata": {},
     "output_type": "execute_result"
    }
   ],
   "source": [
    "call"
   ]
  }
 ],
 "metadata": {
  "kernelspec": {
   "display_name": "Python 3",
   "language": "python",
   "name": "python3"
  },
  "language_info": {
   "codemirror_mode": {
    "name": "ipython",
    "version": 3
   },
   "file_extension": ".py",
   "mimetype": "text/x-python",
   "name": "python",
   "nbconvert_exporter": "python",
   "pygments_lexer": "ipython3",
   "version": "3.7.3"
  },
  "varInspector": {
   "cols": {
    "lenName": 16,
    "lenType": 16,
    "lenVar": 40
   },
   "kernels_config": {
    "python": {
     "delete_cmd_postfix": "",
     "delete_cmd_prefix": "del ",
     "library": "var_list.py",
     "varRefreshCmd": "print(var_dic_list())"
    },
    "r": {
     "delete_cmd_postfix": ") ",
     "delete_cmd_prefix": "rm(",
     "library": "var_list.r",
     "varRefreshCmd": "cat(var_dic_list()) "
    }
   },
   "types_to_exclude": [
    "module",
    "function",
    "builtin_function_or_method",
    "instance",
    "_Feature"
   ],
   "window_display": false
  }
 },
 "nbformat": 4,
 "nbformat_minor": 2
}
