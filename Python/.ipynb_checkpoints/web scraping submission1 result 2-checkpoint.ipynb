{
 "cells": [
  {
   "cell_type": "code",
   "execution_count": 6,
   "metadata": {
    "ExecuteTime": {
     "end_time": "2019-09-06T02:24:28.883721Z",
     "start_time": "2019-09-06T02:24:28.142509Z"
    }
   },
   "outputs": [],
   "source": [
    "#과제2 : 서브페이지 정보 크롤링 - 메뉴가격, 카페주소, 전화번호, 홈페이지import pandas as pd\n",
    "import time\n",
    "import re\n",
    "import pandas as pd\n",
    "from bs4 import BeautifulSoup \n",
    "from urllib.request import urlopen"
   ]
  },
  {
   "cell_type": "markdown",
   "metadata": {
    "ExecuteTime": {
     "end_time": "2019-09-06T02:22:59.385200Z",
     "start_time": "2019-09-06T02:22:59.380318Z"
    }
   },
   "source": [
    "## STEP5 : 메인페이지 크롤링한 데이터 파일 읽어오기\n",
    "- 불필요한 칼럼 삭제\n",
    "- 랭킹정보 인덱스 설정"
   ]
  },
  {
   "cell_type": "code",
   "execution_count": 7,
   "metadata": {
    "ExecuteTime": {
     "end_time": "2019-09-06T02:27:37.372442Z",
     "start_time": "2019-09-06T02:27:37.332400Z"
    }
   },
   "outputs": [
    {
     "data": {
      "text/html": [
       "<div>\n",
       "<style scoped>\n",
       "    .dataframe tbody tr th:only-of-type {\n",
       "        vertical-align: middle;\n",
       "    }\n",
       "\n",
       "    .dataframe tbody tr th {\n",
       "        vertical-align: top;\n",
       "    }\n",
       "\n",
       "    .dataframe thead th {\n",
       "        text-align: right;\n",
       "    }\n",
       "</style>\n",
       "<table border=\"1\" class=\"dataframe\">\n",
       "  <thead>\n",
       "    <tr style=\"text-align: right;\">\n",
       "      <th></th>\n",
       "      <th>Unnamed: 0</th>\n",
       "      <th>랭킹</th>\n",
       "      <th>메뉴</th>\n",
       "      <th>카페</th>\n",
       "      <th>링크</th>\n",
       "    </tr>\n",
       "  </thead>\n",
       "  <tbody>\n",
       "    <tr>\n",
       "      <th>0</th>\n",
       "      <td>0</td>\n",
       "      <td>1</td>\n",
       "      <td>BLT</td>\n",
       "      <td>Old Oak Tap</td>\n",
       "      <td>http://www.chicagomag.com/Chicago-Magazine/Nov...</td>\n",
       "    </tr>\n",
       "    <tr>\n",
       "      <th>1</th>\n",
       "      <td>1</td>\n",
       "      <td>2</td>\n",
       "      <td>Fried Bologna</td>\n",
       "      <td>Au Cheval</td>\n",
       "      <td>http://www.chicagomag.com/Chicago-Magazine/Nov...</td>\n",
       "    </tr>\n",
       "    <tr>\n",
       "      <th>2</th>\n",
       "      <td>2</td>\n",
       "      <td>3</td>\n",
       "      <td>Woodland Mushroom</td>\n",
       "      <td>Xoco</td>\n",
       "      <td>http://www.chicagomag.com/Chicago-Magazine/Nov...</td>\n",
       "    </tr>\n",
       "    <tr>\n",
       "      <th>3</th>\n",
       "      <td>3</td>\n",
       "      <td>4</td>\n",
       "      <td>Roast Beef</td>\n",
       "      <td>Al’s Deli</td>\n",
       "      <td>http://www.chicagomag.com/Chicago-Magazine/Nov...</td>\n",
       "    </tr>\n",
       "    <tr>\n",
       "      <th>4</th>\n",
       "      <td>4</td>\n",
       "      <td>5</td>\n",
       "      <td>PB&amp;L</td>\n",
       "      <td>Publican Quality Meats</td>\n",
       "      <td>http://www.chicagomag.com/Chicago-Magazine/Nov...</td>\n",
       "    </tr>\n",
       "  </tbody>\n",
       "</table>\n",
       "</div>"
      ],
      "text/plain": [
       "   Unnamed: 0  랭킹                 메뉴                      카페  \\\n",
       "0           0   1                BLT             Old Oak Tap   \n",
       "1           1   2      Fried Bologna               Au Cheval   \n",
       "2           2   3  Woodland Mushroom                    Xoco   \n",
       "3           3   4         Roast Beef               Al’s Deli   \n",
       "4           4   5               PB&L  Publican Quality Meats   \n",
       "\n",
       "                                                  링크  \n",
       "0  http://www.chicagomag.com/Chicago-Magazine/Nov...  \n",
       "1  http://www.chicagomag.com/Chicago-Magazine/Nov...  \n",
       "2  http://www.chicagomag.com/Chicago-Magazine/Nov...  \n",
       "3  http://www.chicagomag.com/Chicago-Magazine/Nov...  \n",
       "4  http://www.chicagomag.com/Chicago-Magazine/Nov...  "
      ]
     },
     "execution_count": 7,
     "metadata": {},
     "output_type": "execute_result"
    }
   ],
   "source": [
    "df = pd.read_csv('data/chicagomag_info.csv', encoding='utf-8')\n",
    "df.head()"
   ]
  },
  {
   "cell_type": "code",
   "execution_count": 8,
   "metadata": {
    "ExecuteTime": {
     "end_time": "2019-09-06T02:27:42.655021Z",
     "start_time": "2019-09-06T02:27:42.644261Z"
    }
   },
   "outputs": [
    {
     "data": {
      "text/html": [
       "<div>\n",
       "<style scoped>\n",
       "    .dataframe tbody tr th:only-of-type {\n",
       "        vertical-align: middle;\n",
       "    }\n",
       "\n",
       "    .dataframe tbody tr th {\n",
       "        vertical-align: top;\n",
       "    }\n",
       "\n",
       "    .dataframe thead th {\n",
       "        text-align: right;\n",
       "    }\n",
       "</style>\n",
       "<table border=\"1\" class=\"dataframe\">\n",
       "  <thead>\n",
       "    <tr style=\"text-align: right;\">\n",
       "      <th></th>\n",
       "      <th>랭킹</th>\n",
       "      <th>메뉴</th>\n",
       "      <th>카페</th>\n",
       "      <th>링크</th>\n",
       "    </tr>\n",
       "  </thead>\n",
       "  <tbody>\n",
       "    <tr>\n",
       "      <th>0</th>\n",
       "      <td>1</td>\n",
       "      <td>BLT</td>\n",
       "      <td>Old Oak Tap</td>\n",
       "      <td>http://www.chicagomag.com/Chicago-Magazine/Nov...</td>\n",
       "    </tr>\n",
       "    <tr>\n",
       "      <th>1</th>\n",
       "      <td>2</td>\n",
       "      <td>Fried Bologna</td>\n",
       "      <td>Au Cheval</td>\n",
       "      <td>http://www.chicagomag.com/Chicago-Magazine/Nov...</td>\n",
       "    </tr>\n",
       "    <tr>\n",
       "      <th>2</th>\n",
       "      <td>3</td>\n",
       "      <td>Woodland Mushroom</td>\n",
       "      <td>Xoco</td>\n",
       "      <td>http://www.chicagomag.com/Chicago-Magazine/Nov...</td>\n",
       "    </tr>\n",
       "    <tr>\n",
       "      <th>3</th>\n",
       "      <td>4</td>\n",
       "      <td>Roast Beef</td>\n",
       "      <td>Al’s Deli</td>\n",
       "      <td>http://www.chicagomag.com/Chicago-Magazine/Nov...</td>\n",
       "    </tr>\n",
       "    <tr>\n",
       "      <th>4</th>\n",
       "      <td>5</td>\n",
       "      <td>PB&amp;L</td>\n",
       "      <td>Publican Quality Meats</td>\n",
       "      <td>http://www.chicagomag.com/Chicago-Magazine/Nov...</td>\n",
       "    </tr>\n",
       "  </tbody>\n",
       "</table>\n",
       "</div>"
      ],
      "text/plain": [
       "   랭킹                 메뉴                      카페  \\\n",
       "0   1                BLT             Old Oak Tap   \n",
       "1   2      Fried Bologna               Au Cheval   \n",
       "2   3  Woodland Mushroom                    Xoco   \n",
       "3   4         Roast Beef               Al’s Deli   \n",
       "4   5               PB&L  Publican Quality Meats   \n",
       "\n",
       "                                                  링크  \n",
       "0  http://www.chicagomag.com/Chicago-Magazine/Nov...  \n",
       "1  http://www.chicagomag.com/Chicago-Magazine/Nov...  \n",
       "2  http://www.chicagomag.com/Chicago-Magazine/Nov...  \n",
       "3  http://www.chicagomag.com/Chicago-Magazine/Nov...  \n",
       "4  http://www.chicagomag.com/Chicago-Magazine/Nov...  "
      ]
     },
     "execution_count": 8,
     "metadata": {},
     "output_type": "execute_result"
    }
   ],
   "source": [
    "# index_col='Unnamed: 0'') 삭제\n",
    "del df['Unnamed: 0']\n",
    "df.head()"
   ]
  },
  {
   "cell_type": "code",
   "execution_count": 9,
   "metadata": {
    "ExecuteTime": {
     "end_time": "2019-09-06T02:27:48.343793Z",
     "start_time": "2019-09-06T02:27:48.333076Z"
    }
   },
   "outputs": [
    {
     "data": {
      "text/html": [
       "<div>\n",
       "<style scoped>\n",
       "    .dataframe tbody tr th:only-of-type {\n",
       "        vertical-align: middle;\n",
       "    }\n",
       "\n",
       "    .dataframe tbody tr th {\n",
       "        vertical-align: top;\n",
       "    }\n",
       "\n",
       "    .dataframe thead th {\n",
       "        text-align: right;\n",
       "    }\n",
       "</style>\n",
       "<table border=\"1\" class=\"dataframe\">\n",
       "  <thead>\n",
       "    <tr style=\"text-align: right;\">\n",
       "      <th></th>\n",
       "      <th>메뉴</th>\n",
       "      <th>카페</th>\n",
       "      <th>링크</th>\n",
       "    </tr>\n",
       "    <tr>\n",
       "      <th>랭킹</th>\n",
       "      <th></th>\n",
       "      <th></th>\n",
       "      <th></th>\n",
       "    </tr>\n",
       "  </thead>\n",
       "  <tbody>\n",
       "    <tr>\n",
       "      <th>1</th>\n",
       "      <td>BLT</td>\n",
       "      <td>Old Oak Tap</td>\n",
       "      <td>http://www.chicagomag.com/Chicago-Magazine/Nov...</td>\n",
       "    </tr>\n",
       "    <tr>\n",
       "      <th>2</th>\n",
       "      <td>Fried Bologna</td>\n",
       "      <td>Au Cheval</td>\n",
       "      <td>http://www.chicagomag.com/Chicago-Magazine/Nov...</td>\n",
       "    </tr>\n",
       "    <tr>\n",
       "      <th>3</th>\n",
       "      <td>Woodland Mushroom</td>\n",
       "      <td>Xoco</td>\n",
       "      <td>http://www.chicagomag.com/Chicago-Magazine/Nov...</td>\n",
       "    </tr>\n",
       "    <tr>\n",
       "      <th>4</th>\n",
       "      <td>Roast Beef</td>\n",
       "      <td>Al’s Deli</td>\n",
       "      <td>http://www.chicagomag.com/Chicago-Magazine/Nov...</td>\n",
       "    </tr>\n",
       "    <tr>\n",
       "      <th>5</th>\n",
       "      <td>PB&amp;L</td>\n",
       "      <td>Publican Quality Meats</td>\n",
       "      <td>http://www.chicagomag.com/Chicago-Magazine/Nov...</td>\n",
       "    </tr>\n",
       "  </tbody>\n",
       "</table>\n",
       "</div>"
      ],
      "text/plain": [
       "                   메뉴                      카페  \\\n",
       "랭킹                                              \n",
       "1                 BLT             Old Oak Tap   \n",
       "2       Fried Bologna               Au Cheval   \n",
       "3   Woodland Mushroom                    Xoco   \n",
       "4          Roast Beef               Al’s Deli   \n",
       "5                PB&L  Publican Quality Meats   \n",
       "\n",
       "                                                   링크  \n",
       "랭킹                                                     \n",
       "1   http://www.chicagomag.com/Chicago-Magazine/Nov...  \n",
       "2   http://www.chicagomag.com/Chicago-Magazine/Nov...  \n",
       "3   http://www.chicagomag.com/Chicago-Magazine/Nov...  \n",
       "4   http://www.chicagomag.com/Chicago-Magazine/Nov...  \n",
       "5   http://www.chicagomag.com/Chicago-Magazine/Nov...  "
      ]
     },
     "execution_count": 9,
     "metadata": {},
     "output_type": "execute_result"
    }
   ],
   "source": [
    "df.set_index('랭킹', inplace=True)\n",
    "df.head()"
   ]
  },
  {
   "cell_type": "code",
   "execution_count": 10,
   "metadata": {
    "ExecuteTime": {
     "end_time": "2019-09-06T02:27:52.660484Z",
     "start_time": "2019-09-06T02:27:52.651664Z"
    }
   },
   "outputs": [
    {
     "name": "stdout",
     "output_type": "stream",
     "text": [
      "<class 'pandas.core.frame.DataFrame'>\n",
      "Int64Index: 50 entries, 1 to 50\n",
      "Data columns (total 3 columns):\n",
      "메뉴    50 non-null object\n",
      "카페    50 non-null object\n",
      "링크    50 non-null object\n",
      "dtypes: object(3)\n",
      "memory usage: 1.6+ KB\n"
     ]
    }
   ],
   "source": [
    "df.info()"
   ]
  },
  {
   "cell_type": "code",
   "execution_count": 11,
   "metadata": {
    "ExecuteTime": {
     "end_time": "2019-09-06T02:27:57.209551Z",
     "start_time": "2019-09-06T02:27:57.203691Z"
    }
   },
   "outputs": [
    {
     "data": {
      "text/plain": [
       "'BLT'"
      ]
     },
     "execution_count": 11,
     "metadata": {},
     "output_type": "execute_result"
    }
   ],
   "source": [
    "df['메뉴'][1]"
   ]
  },
  {
   "cell_type": "code",
   "execution_count": 12,
   "metadata": {
    "ExecuteTime": {
     "end_time": "2019-09-06T02:28:01.065246Z",
     "start_time": "2019-09-06T02:28:01.060363Z"
    }
   },
   "outputs": [
    {
     "data": {
      "text/plain": [
       "'http://www.chicagomag.com/Chicago-Magazine/November-2012/Best-Sandwiches-in-Chicago-Old-Oak-Tap-BLT/'"
      ]
     },
     "execution_count": 12,
     "metadata": {},
     "output_type": "execute_result"
    }
   ],
   "source": [
    "df['링크'][1]"
   ]
  },
  {
   "cell_type": "markdown",
   "metadata": {
    "ExecuteTime": {
     "end_time": "2019-09-06T02:28:19.402266Z",
     "start_time": "2019-09-06T02:28:19.219639Z"
    }
   },
   "source": [
    "### STEP6 : 서브페이지의 수집할 데이터 Tag & Class 확인\n",
    "## 서브페이지 크롤링대상 타겟데이터\n",
    "\n",
    "- 메뉴가격\n",
    "- 카페주소\n",
    "- 전화번호\n",
    "- 홈페이지"
   ]
  },
  {
   "cell_type": "code",
   "execution_count": 14,
   "metadata": {
    "ExecuteTime": {
     "end_time": "2019-09-06T02:28:30.394126Z",
     "start_time": "2019-09-06T02:28:25.948596Z"
    }
   },
   "outputs": [],
   "source": [
    "site = df['링크'][1]\n",
    "html = urlopen(site)\n",
    "soup = BeautifulSoup(html, \"lxml\")"
   ]
  },
  {
   "cell_type": "code",
   "execution_count": 15,
   "metadata": {
    "ExecuteTime": {
     "end_time": "2019-09-06T02:28:30.479112Z",
     "start_time": "2019-09-06T02:28:30.473233Z"
    }
   },
   "outputs": [
    {
     "data": {
      "text/plain": [
       "<title>\n",
       "  1. Old Oak Tap BLT |\n",
       "  Chicago magazine\n",
       "      |  November 2012\n",
       "    </title>"
      ]
     },
     "execution_count": 15,
     "metadata": {},
     "output_type": "execute_result"
    }
   ],
   "source": [
    "# 서브페이지 로딩 확인\n",
    "soup.title"
   ]
  },
  {
   "cell_type": "code",
   "execution_count": 16,
   "metadata": {
    "ExecuteTime": {
     "end_time": "2019-09-06T02:28:33.431457Z",
     "start_time": "2019-09-06T02:28:33.420716Z"
    }
   },
   "outputs": [
    {
     "data": {
      "text/plain": [
       "<p class=\"addy\">\n",
       "<em>$10. 2109 W. Chicago Ave., 773-772-0406, <a href=\"http://www.theoldoaktap.com/\">theoldoaktap.com</a></em></p>"
      ]
     },
     "execution_count": 16,
     "metadata": {},
     "output_type": "execute_result"
    }
   ],
   "source": [
    "p_tag = soup.find('p', 'addy')\n",
    "p_tag"
   ]
  },
  {
   "cell_type": "code",
   "execution_count": 17,
   "metadata": {
    "ExecuteTime": {
     "end_time": "2019-09-06T02:28:38.672936Z",
     "start_time": "2019-09-06T02:28:38.668100Z"
    }
   },
   "outputs": [
    {
     "name": "stdout",
     "output_type": "stream",
     "text": [
      "<p class=\"addy\">\n",
      " <em>\n",
      "  $10. 2109 W. Chicago Ave., 773-772-0406,\n",
      "  <a href=\"http://www.theoldoaktap.com/\">\n",
      "   theoldoaktap.com\n",
      "  </a>\n",
      " </em>\n",
      "</p>\n",
      "\n"
     ]
    }
   ],
   "source": [
    "print(p_tag.prettify())"
   ]
  },
  {
   "cell_type": "code",
   "execution_count": 18,
   "metadata": {
    "ExecuteTime": {
     "end_time": "2019-09-06T02:28:43.081400Z",
     "start_time": "2019-09-06T02:28:43.076518Z"
    }
   },
   "outputs": [
    {
     "data": {
      "text/plain": [
       "'\\n$10. 2109 W. Chicago Ave., 773-772-0406, theoldoaktap.com'"
      ]
     },
     "execution_count": 18,
     "metadata": {},
     "output_type": "execute_result"
    }
   ],
   "source": [
    "taginfo = p_tag.get_text()\n",
    "taginfo"
   ]
  },
  {
   "cell_type": "code",
   "execution_count": 19,
   "metadata": {
    "ExecuteTime": {
     "end_time": "2019-09-06T02:28:46.641181Z",
     "start_time": "2019-09-06T02:28:46.636299Z"
    }
   },
   "outputs": [
    {
     "data": {
      "text/plain": [
       "'$10. 2109 W. Chicago Ave., 773-772-0406, theoldoaktap.com'"
      ]
     },
     "execution_count": 19,
     "metadata": {},
     "output_type": "execute_result"
    }
   ],
   "source": [
    "# taginfo = taginfo[taginfo.find('$'):]\n",
    "taginfo = taginfo.strip()\n",
    "taginfo"
   ]
  },
  {
   "cell_type": "markdown",
   "metadata": {},
   "source": [
    "### STEP7 : RegEx를 활용하여 분류\n",
    "## 태그정보로는 분류 안됨\n",
    "\n",
    "- 메뉴가격 : $로 시작\n",
    "- 카페주소 : 패턴 안보이므로 일단보류. 가격과 전화번호 사이\n",
    "- 전화번호 : 이거슨 RegEx, 숫자3-숫자3-숫자4\n",
    "- 홈페이지 : 요것도 RegEx, .com 혹은 .net 으로 끝남"
   ]
  },
  {
   "cell_type": "markdown",
   "metadata": {},
   "source": [
    "### 참조. Regular Expression 관련 사이트\n",
    "## http://regexr.com/ : text 정보를 re로 테스트\n",
    "## https://regexper.com/ : 작성된 re를 다이어그램으로 표현"
   ]
  },
  {
   "cell_type": "code",
   "execution_count": 20,
   "metadata": {
    "ExecuteTime": {
     "end_time": "2019-09-06T02:29:22.100310Z",
     "start_time": "2019-09-06T02:29:22.094449Z"
    }
   },
   "outputs": [
    {
     "data": {
      "text/plain": [
       "'$10.'"
      ]
     },
     "execution_count": 20,
     "metadata": {},
     "output_type": "execute_result"
    }
   ],
   "source": [
    "# 메뉴가격\n",
    "menu_price = re.search('\\$\\d+\\.(\\d+)?', taginfo).group()\n",
    "menu_price"
   ]
  },
  {
   "cell_type": "code",
   "execution_count": 21,
   "metadata": {
    "ExecuteTime": {
     "end_time": "2019-09-06T02:29:26.408182Z",
     "start_time": "2019-09-06T02:29:26.405251Z"
    }
   },
   "outputs": [],
   "source": [
    "# 카페주소\n",
    "cafe_addr = '일단보류' "
   ]
  },
  {
   "cell_type": "code",
   "execution_count": 22,
   "metadata": {
    "ExecuteTime": {
     "end_time": "2019-09-06T02:29:30.762932Z",
     "start_time": "2019-09-06T02:29:30.756096Z"
    }
   },
   "outputs": [
    {
     "data": {
      "text/plain": [
       "'773-772-0406'"
      ]
     },
     "execution_count": 22,
     "metadata": {},
     "output_type": "execute_result"
    }
   ],
   "source": [
    "# 전화번호\n",
    "cafe_tel = re.search('\\d{3}[-]\\d{3}[-]\\d{4}', taginfo)\n",
    "if cafe_tel is not None:\n",
    "    cafe_tel = cafe_tel.group()\n",
    "else:\n",
    "    cafe_tel = 'No Contact'\n",
    "    \n",
    "cafe_tel"
   ]
  },
  {
   "cell_type": "code",
   "execution_count": 23,
   "metadata": {
    "ExecuteTime": {
     "end_time": "2019-09-06T02:29:34.648905Z",
     "start_time": "2019-09-06T02:29:34.644067Z"
    }
   },
   "outputs": [
    {
     "data": {
      "text/plain": [
       "'$10. 2109 W. Chicago Ave., 773-772-0406, theoldoaktap.com'"
      ]
     },
     "execution_count": 23,
     "metadata": {},
     "output_type": "execute_result"
    }
   ],
   "source": [
    "taginfo"
   ]
  },
  {
   "cell_type": "code",
   "execution_count": 24,
   "metadata": {
    "ExecuteTime": {
     "end_time": "2019-09-06T02:29:38.442099Z",
     "start_time": "2019-09-06T02:29:38.437216Z"
    }
   },
   "outputs": [
    {
     "data": {
      "text/plain": [
       "['$10. 2109 W. Chicago Ave.', '773-772-0406', 'theoldoaktap.com']"
      ]
     },
     "execution_count": 24,
     "metadata": {},
     "output_type": "execute_result"
    }
   ],
   "source": [
    "info_list = taginfo.split(', ')\n",
    "info_list"
   ]
  },
  {
   "cell_type": "code",
   "execution_count": 25,
   "metadata": {
    "ExecuteTime": {
     "end_time": "2019-09-06T02:29:42.619150Z",
     "start_time": "2019-09-06T02:29:42.612268Z"
    }
   },
   "outputs": [
    {
     "data": {
      "text/plain": [
       "'theoldoaktap.com'"
      ]
     },
     "execution_count": 25,
     "metadata": {},
     "output_type": "execute_result"
    }
   ],
   "source": [
    "# 홈페이지\n",
    "if info_list[-1].endswith('.com') or info_list[-1].endswith('.net'):\n",
    "    home_page = info_list[-1]\n",
    "else:\n",
    "    home_page = 'No Homepage'\n",
    "\n",
    "home_page"
   ]
  },
  {
   "cell_type": "code",
   "execution_count": 26,
   "metadata": {
    "ExecuteTime": {
     "end_time": "2019-09-06T02:29:47.865509Z",
     "start_time": "2019-09-06T02:29:47.860626Z"
    }
   },
   "outputs": [
    {
     "data": {
      "text/plain": [
       "'$10. 2109 W. Chicago Ave.'"
      ]
     },
     "execution_count": 26,
     "metadata": {},
     "output_type": "execute_result"
    }
   ],
   "source": [
    "info_list[0]"
   ]
  },
  {
   "cell_type": "code",
   "execution_count": 27,
   "metadata": {
    "ExecuteTime": {
     "end_time": "2019-09-06T02:29:51.938016Z",
     "start_time": "2019-09-06T02:29:51.934110Z"
    }
   },
   "outputs": [
    {
     "data": {
      "text/plain": [
       "'$10.'"
      ]
     },
     "execution_count": 27,
     "metadata": {},
     "output_type": "execute_result"
    }
   ],
   "source": [
    "menu_price"
   ]
  },
  {
   "cell_type": "code",
   "execution_count": 28,
   "metadata": {
    "ExecuteTime": {
     "end_time": "2019-09-06T02:29:55.954856Z",
     "start_time": "2019-09-06T02:29:55.948995Z"
    }
   },
   "outputs": [
    {
     "data": {
      "text/plain": [
       "'2109 W. Chicago Ave.'"
      ]
     },
     "execution_count": 28,
     "metadata": {},
     "output_type": "execute_result"
    }
   ],
   "source": [
    "# 카페주소\n",
    "idx = len(menu_price)\n",
    "cafe_addr = info_list[0][idx:].strip()\n",
    "cafe_addr"
   ]
  },
  {
   "cell_type": "markdown",
   "metadata": {},
   "source": [
    "## STEP8 : 서브페이지 정보 크롤링 모듈\n",
    "- 파일의 링크정보에 순차적으로 접속하여 데이터 크롤링\n",
    "- 메뉴가격, 카페주소, 전화번호, 홈페이지\n",
    "- 우선 TOP5 페이지정도만 수집후 데이터 검토"
   ]
  },
  {
   "cell_type": "code",
   "execution_count": 29,
   "metadata": {
    "ExecuteTime": {
     "end_time": "2019-09-06T02:30:14.658112Z",
     "start_time": "2019-09-06T02:30:14.653229Z"
    }
   },
   "outputs": [
    {
     "name": "stdout",
     "output_type": "stream",
     "text": [
      "Top1 : http://www.chicagomag.com/Chicago-Magazine/November-2012/Best-Sandwiches-in-Chicago-Old-Oak-Tap-BLT/\n",
      "Top2 : http://www.chicagomag.com/Chicago-Magazine/November-2012/Best-Sandwiches-in-Chicago-Au-Cheval-Fried-Bologna/\n",
      "Top3 : http://www.chicagomag.com/Chicago-Magazine/November-2012/Best-Sandwiches-in-Chicago-Xoco-Woodland-Mushroom/\n",
      "Top4 : http://www.chicagomag.com/Chicago-Magazine/November-2012/Best-Sandwiches-in-Chicago-Als-Deli-Roast-Beef/\n",
      "Top5 : http://www.chicagomag.com/Chicago-Magazine/November-2012/Best-Sandwiches-in-Chicago-Publican-Quality-Meats-PB-L/\n"
     ]
    }
   ],
   "source": [
    "for ranking in df.index[:5]:\n",
    "    sub_link = df['링크'][ranking]\n",
    "    print('Top{} : {}'.format(ranking, sub_link))"
   ]
  },
  {
   "cell_type": "code",
   "execution_count": 30,
   "metadata": {
    "ExecuteTime": {
     "end_time": "2019-09-06T02:30:45.469557Z",
     "start_time": "2019-09-06T02:30:23.709432Z"
    }
   },
   "outputs": [
    {
     "name": "stdout",
     "output_type": "stream",
     "text": [
      "Top1 Page : Crawling is completed.\n",
      "Top2 Page : Crawling is completed.\n",
      "Top3 Page : Crawling is completed.\n",
      "Top4 Page : Crawling is completed.\n",
      "Top5 Page : Crawling is completed.\n",
      "--------------------------------------------------\n",
      "크롤링 완료!!!\n"
     ]
    }
   ],
   "source": [
    "price_list = list()\n",
    "cfadd_list = list()\n",
    "cftel_list = list()\n",
    "homep_list = list()\n",
    "\n",
    "for ranking in df.index[:5]:\n",
    "    sub_link = df['링크'][ranking]\n",
    "    # print('{} : {}'.format(idx, sub_link))\n",
    "    html = urlopen(sub_link)\n",
    "    soup = BeautifulSoup(html, \"lxml\")\n",
    "    \n",
    "    p_tag = soup.find('p', 'addy')\n",
    "    taginfo = p_tag.get_text()\n",
    "    taginfo = taginfo.strip()\n",
    "\n",
    "    # 메뉴가격\n",
    "    menu_price = re.search('\\$\\d+\\.(\\d+)?', taginfo).group()\n",
    "\n",
    "    # 카페주소\n",
    "    cafe_addr = '일단보류' \n",
    "\n",
    "    # 전화번호\n",
    "    cafe_tel = re.search('\\d{3}[-]\\d{3}[-]\\d{4}', taginfo)\n",
    "    if cafe_tel is not None:\n",
    "        cafe_tel = cafe_tel.group()\n",
    "    else:\n",
    "        cafe_tel = 'No Contact'\n",
    "\n",
    "    info_list = taginfo.split(', ')\n",
    "\n",
    "    # 홈페이지\n",
    "    if info_list[-1].endswith('.com') or info_list[-1].endswith('.net'):\n",
    "        home_page = info_list[-1]\n",
    "    else:\n",
    "        home_page = 'No Homepage'\n",
    "\n",
    "    # 카페주소\n",
    "    idx = len(menu_price)\n",
    "    cafe_addr = info_list[0][idx:].strip()\n",
    "\n",
    "    price_list.append(menu_price)\n",
    "    cfadd_list.append(cafe_addr )\n",
    "    cftel_list.append(cafe_tel  )\n",
    "    homep_list.append(home_page )\n",
    "    \n",
    "    print('Top{} Page : Crawling is completed.'.format(ranking))\n",
    "else:\n",
    "    print('-'*50)\n",
    "    print('크롤링 완료!!!')"
   ]
  },
  {
   "cell_type": "code",
   "execution_count": 31,
   "metadata": {
    "ExecuteTime": {
     "end_time": "2019-09-06T02:30:45.554511Z",
     "start_time": "2019-09-06T02:30:45.549598Z"
    }
   },
   "outputs": [
    {
     "data": {
      "text/plain": [
       "['$10.', '$9.', '$9.50', '$9.40', '$10.']"
      ]
     },
     "execution_count": 31,
     "metadata": {},
     "output_type": "execute_result"
    }
   ],
   "source": [
    "price_list"
   ]
  },
  {
   "cell_type": "code",
   "execution_count": 32,
   "metadata": {
    "ExecuteTime": {
     "end_time": "2019-09-06T02:30:45.646283Z",
     "start_time": "2019-09-06T02:30:45.640424Z"
    }
   },
   "outputs": [
    {
     "data": {
      "text/plain": [
       "['2109 W. Chicago Ave.',\n",
       " '800 W. Randolph St.',\n",
       " '. 445 N. Clark St.',\n",
       " '. 914 Noyes St.',\n",
       " '825 W. Fulton Mkt.']"
      ]
     },
     "execution_count": 32,
     "metadata": {},
     "output_type": "execute_result"
    }
   ],
   "source": [
    "cfadd_list"
   ]
  },
  {
   "cell_type": "code",
   "execution_count": 33,
   "metadata": {
    "ExecuteTime": {
     "end_time": "2019-09-06T02:30:45.743944Z",
     "start_time": "2019-09-06T02:30:45.738086Z"
    }
   },
   "outputs": [
    {
     "data": {
      "text/plain": [
       "['773-772-0406',\n",
       " '312-929-4580',\n",
       " '312-334-3688',\n",
       " '847-475-9400',\n",
       " '312-445-8977']"
      ]
     },
     "execution_count": 33,
     "metadata": {},
     "output_type": "execute_result"
    }
   ],
   "source": [
    "cftel_list"
   ]
  },
  {
   "cell_type": "code",
   "execution_count": 34,
   "metadata": {
    "ExecuteTime": {
     "end_time": "2019-09-06T02:30:51.618361Z",
     "start_time": "2019-09-06T02:30:51.613435Z"
    }
   },
   "outputs": [
    {
     "data": {
      "text/plain": [
       "['theoldoaktap.com',\n",
       " 'aucheval.tumblr.com',\n",
       " 'rickbayless.com',\n",
       " 'alsdeli.net',\n",
       " 'publicanqualitymeats.com']"
      ]
     },
     "execution_count": 34,
     "metadata": {},
     "output_type": "execute_result"
    }
   ],
   "source": [
    "homep_list"
   ]
  },
  {
   "cell_type": "code",
   "execution_count": 35,
   "metadata": {
    "ExecuteTime": {
     "end_time": "2019-09-06T02:30:55.729889Z",
     "start_time": "2019-09-06T02:30:55.725050Z"
    }
   },
   "outputs": [
    {
     "data": {
      "text/plain": [
       "['$10.', '$9.', '$9.50', '$9.40', '$10.']"
      ]
     },
     "execution_count": 35,
     "metadata": {},
     "output_type": "execute_result"
    }
   ],
   "source": [
    "price_list"
   ]
  },
  {
   "cell_type": "markdown",
   "metadata": {},
   "source": [
    "# 메뉴가격과 카페주소 정보를 수정보완"
   ]
  },
  {
   "cell_type": "code",
   "execution_count": 36,
   "metadata": {
    "ExecuteTime": {
     "end_time": "2019-09-06T02:31:05.970731Z",
     "start_time": "2019-09-06T02:31:05.964873Z"
    }
   },
   "outputs": [
    {
     "data": {
      "text/plain": [
       "'$10'"
      ]
     },
     "execution_count": 36,
     "metadata": {},
     "output_type": "execute_result"
    }
   ],
   "source": [
    "menu_price = price_list[0]\n",
    "if menu_price.endswith('.'):\n",
    "    menu_price = menu_price[:-1]\n",
    "menu_price"
   ]
  },
  {
   "cell_type": "code",
   "execution_count": 37,
   "metadata": {
    "ExecuteTime": {
     "end_time": "2019-09-06T02:31:09.844008Z",
     "start_time": "2019-09-06T02:31:09.837173Z"
    }
   },
   "outputs": [
    {
     "data": {
      "text/plain": [
       "'445 N. Clark St.'"
      ]
     },
     "execution_count": 37,
     "metadata": {},
     "output_type": "execute_result"
    }
   ],
   "source": [
    "cafe_addr = cfadd_list[2]\n",
    "if cafe_addr.startswith('.'):\n",
    "    cafe_addr = cafe_addr[1:].strip()\n",
    "cafe_addr"
   ]
  },
  {
   "cell_type": "code",
   "execution_count": 38,
   "metadata": {
    "ExecuteTime": {
     "end_time": "2019-09-06T02:31:21.300780Z",
     "start_time": "2019-09-06T02:31:21.253867Z"
    }
   },
   "outputs": [],
   "source": [
    "# 만약 문제가 없다면, 전체 정보를 한번에 다 가져오기\n",
    "\n",
    "from tqdm import tqdm_notebook\n",
    "\n",
    "def getSubpagesData(df):\n",
    "\n",
    "    ret_dict  = dict()\n",
    "    columns   = [ '메뉴가격', '카페주소', '전화번호', '홈페이지' ]\n",
    "    price_list = list()\n",
    "    cfadd_list = list()\n",
    "    cftel_list = list()\n",
    "    homep_list = list()\n",
    "\n",
    "    for ranking in tqdm_notebook(df.index):\n",
    "        \n",
    "        sub_link = df['링크'][ranking]\n",
    "        html = urlopen(sub_link)\n",
    "        soup = BeautifulSoup(html, \"lxml\")\n",
    "\n",
    "        p_tag = soup.find('p', 'addy')\n",
    "        taginfo = p_tag.get_text()\n",
    "        taginfo = taginfo.strip()\n",
    "\n",
    "        # 메뉴가격\n",
    "        menu_price = re.search('\\$\\d+\\.(\\d+)?', taginfo).group()\n",
    "\n",
    "        # 카페주소\n",
    "        # cafe_addr = '일단보류' \n",
    "\n",
    "        # 전화번호\n",
    "        cafe_tel = re.search('\\d{3}[-]\\d{3}[-]\\d{4}', taginfo)\n",
    "        if cafe_tel is not None:\n",
    "            cafe_tel = cafe_tel.group()\n",
    "        else:\n",
    "            cafe_tel = 'No Contact'\n",
    "\n",
    "        info_list = taginfo.split(', ')\n",
    "\n",
    "        # 홈페이지\n",
    "        if info_list[-1].endswith('.com') or info_list[-1].endswith('.net'):\n",
    "            home_page = info_list[-1]\n",
    "        else:\n",
    "            home_page = 'No Homepage'\n",
    "\n",
    "        # 카페주소\n",
    "        idx = len(menu_price)\n",
    "        cafe_addr = info_list[0][idx:].strip()\n",
    "        \n",
    "        # 리펙토링\n",
    "        menu_price = menu_price[:-1] if menu_price.endswith('.') else menu_price\n",
    "        cafe_addr  = cafe_addr[1:].strip() if cafe_addr.startswith('.') else cafe_addr\n",
    "        \n",
    "        # if menu_price.endswith('.'):\n",
    "        #     menu_price = menu_price[:-1]\n",
    "        # if cafe_addr.startswith('.'):\n",
    "        #     cafe_addr = cafe_addr[1:].strip()\n",
    "        \n",
    "\n",
    "        price_list.append(menu_price)\n",
    "        cfadd_list.append(cafe_addr )\n",
    "        cftel_list.append(cafe_tel  )\n",
    "        homep_list.append(home_page )\n",
    "\n",
    "        # print('Ranking{} subpage crawling is completed.'.format(ranking))\n",
    "        separator = ' |\\n' if ranking%5==0 else ' | '\n",
    "        print('Top{0:2d} 완료'.format(ranking), end=separator)\n",
    "    else:\n",
    "        print(); print('-'*100);\n",
    "        print('모든 서브페이지 크롤링 완료!!!')\n",
    "\n",
    "    ret_dict[columns[0]] = price_list\n",
    "    ret_dict[columns[1]] = cfadd_list\n",
    "    ret_dict[columns[2]] = cftel_list\n",
    "    ret_dict[columns[3]] = homep_list\n",
    "    \n",
    "    return ret_dict"
   ]
  },
  {
   "cell_type": "code",
   "execution_count": 39,
   "metadata": {
    "ExecuteTime": {
     "end_time": "2019-09-06T02:35:13.859454Z",
     "start_time": "2019-09-06T02:31:26.437768Z"
    }
   },
   "outputs": [
    {
     "data": {
      "application/vnd.jupyter.widget-view+json": {
       "model_id": "e98fafe6ea3142d4a7be15338607da65",
       "version_major": 2,
       "version_minor": 0
      },
      "text/plain": [
       "HBox(children=(IntProgress(value=0, max=50), HTML(value='')))"
      ]
     },
     "metadata": {},
     "output_type": "display_data"
    },
    {
     "name": "stdout",
     "output_type": "stream",
     "text": [
      "Top 1 완료 | Top 2 완료 | Top 3 완료 | Top 4 완료 | Top 5 완료 |\n",
      "Top 6 완료 | Top 7 완료 | Top 8 완료 | Top 9 완료 | Top10 완료 |\n",
      "Top11 완료 | Top12 완료 | Top13 완료 | Top14 완료 | Top15 완료 |\n",
      "Top16 완료 | Top17 완료 | Top18 완료 | Top19 완료 | Top20 완료 |\n",
      "Top21 완료 | Top22 완료 | Top23 완료 | Top24 완료 | Top25 완료 |\n",
      "Top26 완료 | Top27 완료 | Top28 완료 | Top29 완료 | Top30 완료 |\n",
      "Top31 완료 | Top32 완료 | Top33 완료 | Top34 완료 | Top35 완료 |\n",
      "Top36 완료 | Top37 완료 | Top38 완료 | Top39 완료 | Top40 완료 |\n",
      "Top41 완료 | Top42 완료 | Top43 완료 | Top44 완료 | Top45 완료 |\n",
      "Top46 완료 | Top47 완료 | Top48 완료 | Top49 완료 | Top50 완료 |\n",
      "\n",
      "\n",
      "----------------------------------------------------------------------------------------------------\n",
      "모든 서브페이지 크롤링 완료!!!\n"
     ]
    }
   ],
   "source": [
    "ret_dict = getSubpagesData(df)"
   ]
  },
  {
   "cell_type": "code",
   "execution_count": 40,
   "metadata": {
    "ExecuteTime": {
     "end_time": "2019-09-06T03:36:31.116861Z",
     "start_time": "2019-09-06T03:36:31.111978Z"
    }
   },
   "outputs": [
    {
     "data": {
      "text/plain": [
       "dict_keys(['메뉴가격', '카페주소', '전화번호', '홈페이지'])"
      ]
     },
     "execution_count": 40,
     "metadata": {},
     "output_type": "execute_result"
    }
   ],
   "source": [
    "ret_dict.keys()"
   ]
  },
  {
   "cell_type": "code",
   "execution_count": 41,
   "metadata": {
    "ExecuteTime": {
     "end_time": "2019-09-06T03:36:35.538008Z",
     "start_time": "2019-09-06T03:36:35.532149Z"
    }
   },
   "outputs": [
    {
     "data": {
      "text/plain": [
       "['$10',\n",
       " '$9',\n",
       " '$9.50',\n",
       " '$9.40',\n",
       " '$10',\n",
       " '$7.25',\n",
       " '$16',\n",
       " '$10',\n",
       " '$9',\n",
       " '$17',\n",
       " '$11',\n",
       " '$5.49',\n",
       " '$14',\n",
       " '$10',\n",
       " '$13',\n",
       " '$4.50',\n",
       " '$11.95',\n",
       " '$11.50',\n",
       " '$6.25',\n",
       " '$15',\n",
       " '$5',\n",
       " '$6',\n",
       " '$8',\n",
       " '$5.99',\n",
       " '$7.52',\n",
       " '$11.95',\n",
       " '$7.50',\n",
       " '$12.95',\n",
       " '$7',\n",
       " '$21',\n",
       " '$9.79',\n",
       " '$9.75',\n",
       " '$13',\n",
       " '$7.95',\n",
       " '$9',\n",
       " '$9',\n",
       " '$8',\n",
       " '$8',\n",
       " '$7',\n",
       " '$6',\n",
       " '$7.25',\n",
       " '$11',\n",
       " '$6',\n",
       " '$9',\n",
       " '$5.49',\n",
       " '$8',\n",
       " '$6.50',\n",
       " '$7.50',\n",
       " '$8.75',\n",
       " '$6.85']"
      ]
     },
     "execution_count": 41,
     "metadata": {},
     "output_type": "execute_result"
    }
   ],
   "source": [
    "ret_dict['메뉴가격']"
   ]
  },
  {
   "cell_type": "code",
   "execution_count": 42,
   "metadata": {
    "ExecuteTime": {
     "end_time": "2019-09-06T03:36:40.457231Z",
     "start_time": "2019-09-06T03:36:40.451372Z"
    }
   },
   "outputs": [
    {
     "data": {
      "text/plain": [
       "['2109 W. Chicago Ave.',\n",
       " '800 W. Randolph St.',\n",
       " '445 N. Clark St.',\n",
       " '914 Noyes St.',\n",
       " '825 W. Fulton Mkt.',\n",
       " '100 E. Walton St.',\n",
       " '1639 S. Wabash Ave.',\n",
       " '2211 W. North Ave.',\n",
       " '3619 W. North Ave.',\n",
       " '3267 S. Halsted St.',\n",
       " '2537 N. Kedzie Blvd.',\n",
       " 'Multiple locations',\n",
       " '3124 N. Broadway',\n",
       " '3455 N. Southport Ave.',\n",
       " '2657 N. Kedzie Ave.',\n",
       " '1120 W. Grand Ave.',\n",
       " '1141 S. Jefferson St.',\n",
       " '333 E. Benton Pl.',\n",
       " '1411 N. Wells St.',\n",
       " '1747 N. Damen Ave.',\n",
       " '3209 W. Irving Park Rd.',\n",
       " 'Multiple locations',\n",
       " '5347 N. Clark St.',\n",
       " '2954 W. Irving Park Rd.',\n",
       " 'Multiple locations',\n",
       " '191 Skokie Valley Rd.',\n",
       " 'Multiple locations',\n",
       " '1818 W. Wilson Ave.',\n",
       " '2517 W. Division St.',\n",
       " '218 W. Kinzie St.',\n",
       " 'Multiple locations',\n",
       " '1547 N. Wells St.',\n",
       " '415 N. Milwaukee Ave.',\n",
       " '1840 N. Damen Ave.',\n",
       " '1220 W. Webster Ave.',\n",
       " '5357 N. Ashland Ave.',\n",
       " '1834 W. Montrose Ave.',\n",
       " '615 N. State St.',\n",
       " 'Multiple locations',\n",
       " '241 N. York Rd.',\n",
       " '1323 E. 57th St.',\n",
       " '655 Forest Ave.',\n",
       " 'Hotel Lincoln',\n",
       " '100 S. Marion St.',\n",
       " '26 E. Congress Pkwy.',\n",
       " '2018 W. Chicago Ave.',\n",
       " '25 E. Delaware Pl.',\n",
       " '416 N. York St.',\n",
       " '65 E. Washington St.',\n",
       " '3351 N. Broadway']"
      ]
     },
     "execution_count": 42,
     "metadata": {},
     "output_type": "execute_result"
    }
   ],
   "source": [
    "ret_dict['카페주소']"
   ]
  },
  {
   "cell_type": "code",
   "execution_count": 43,
   "metadata": {
    "ExecuteTime": {
     "end_time": "2019-09-06T03:36:44.969204Z",
     "start_time": "2019-09-06T03:36:44.963389Z"
    }
   },
   "outputs": [
    {
     "data": {
      "text/plain": [
       "['773-772-0406',\n",
       " '312-929-4580',\n",
       " '312-334-3688',\n",
       " '847-475-9400',\n",
       " '312-445-8977',\n",
       " '312-649-6717',\n",
       " '312-360-9500',\n",
       " '773-276-2100',\n",
       " '773-772-8435',\n",
       " '312-929-2486',\n",
       " '773-489-9554',\n",
       " 'No Contact',\n",
       " '773-661-9166',\n",
       " '773-883-2525',\n",
       " '773-276-7110',\n",
       " '312-666-0730',\n",
       " '312-939-2855',\n",
       " '773-234-3449',\n",
       " '312-944-0459',\n",
       " '773-489-1747',\n",
       " '773-539-8038',\n",
       " 'No Contact',\n",
       " '773-275-5725',\n",
       " '773-539-5321',\n",
       " 'No Contact',\n",
       " '847-831-0600',\n",
       " 'No Contact',\n",
       " '773-293-2489',\n",
       " '773-862-8313',\n",
       " '312-624-8154',\n",
       " 'No Contact',\n",
       " '312-624-9430',\n",
       " '312-829-6300',\n",
       " '773-681-9914',\n",
       " '773-883-1313',\n",
       " '773-275-4297',\n",
       " '773-334-5664',\n",
       " '312-265-0434',\n",
       " 'No Contact',\n",
       " '630-516-3354',\n",
       " '773-538-7372',\n",
       " '847-234-8800',\n",
       " '312-254-4665',\n",
       " '708-725-7200',\n",
       " '312-922-2233',\n",
       " '773-384-9930',\n",
       " '312-896-2600',\n",
       " '630-359-5234',\n",
       " '312-726-2020',\n",
       " '773-868-4000']"
      ]
     },
     "execution_count": 43,
     "metadata": {},
     "output_type": "execute_result"
    }
   ],
   "source": [
    "ret_dict['전화번호']"
   ]
  },
  {
   "cell_type": "code",
   "execution_count": 44,
   "metadata": {
    "ExecuteTime": {
     "end_time": "2019-09-06T03:36:49.393283Z",
     "start_time": "2019-09-06T03:36:49.388400Z"
    }
   },
   "outputs": [
    {
     "data": {
      "text/plain": [
       "['theoldoaktap.com',\n",
       " 'aucheval.tumblr.com',\n",
       " 'rickbayless.com',\n",
       " 'alsdeli.net',\n",
       " 'publicanqualitymeats.com',\n",
       " 'No Homepage',\n",
       " 'acadiachicago.com',\n",
       " 'birchwoodkitchen.com',\n",
       " 'cemitaspuebla.com',\n",
       " 'nanaorganic.com',\n",
       " 'lulacafe.com',\n",
       " 'ricobenespizza.com',\n",
       " 'frognsnail.com',\n",
       " 'crosbyskitchenchicago.com',\n",
       " 'longmanandeagle.com',\n",
       " 'bariitaliansubs.com',\n",
       " 'mannysdeli.com',\n",
       " 'eggysdiner.com',\n",
       " 'oldjerusalemchicago.com',\n",
       " 'hotchocolatechicago.com',\n",
       " 'No Homepage',\n",
       " 'dawalikitchen.com',\n",
       " 'bigjoneschicago.com',\n",
       " 'lapanechicago.com',\n",
       " 'pastoralartisan.com',\n",
       " 'maxs-deli.com',\n",
       " 'luckysandwich.com',\n",
       " 'cityprovisions.com',\n",
       " 'papascachesabroso.com',\n",
       " 'No Homepage',\n",
       " 'hannahsbretzel.com',\n",
       " 'lafournette.com',\n",
       " 'paramountroom.com',\n",
       " 'meltsandwichshoppechicago.com',\n",
       " 'floriole.com',\n",
       " 'No Homepage',\n",
       " 'troquetchicago.com',\n",
       " 'grahamwich.com',\n",
       " 'saigonsisters.com',\n",
       " 'rosaliasdeli.com',\n",
       " 'zhmarketcafe.com',\n",
       " 'themarkethouse.com',\n",
       " 'No Homepage',\n",
       " 'marionstreetcheesemarket.com',\n",
       " 'cafecitochicago.com',\n",
       " 'chickpeaonthego.com',\n",
       " 'goddessandgrocer.com',\n",
       " 'eatmyzenwich.com',\n",
       " 'tonipatisserie.com',\n",
       " 'phoebesbakery.com']"
      ]
     },
     "execution_count": 44,
     "metadata": {},
     "output_type": "execute_result"
    }
   ],
   "source": [
    "ret_dict['홈페이지']"
   ]
  },
  {
   "cell_type": "markdown",
   "metadata": {},
   "source": [
    "### STEP9 : 최종 크롤링 데이터 저장\n",
    "## 기존 데이터에 칼럼 추가\n",
    "- 메인페이지 정보 크롤링 - 랭킹, 메뉴, 카페, 링크(상세페이지)\n",
    "- 서브페이지 정보 크롤링 - 메뉴가격, 카페주소, 전화번호, 홈페이지\n",
    "- 컬럼순서 조정후 저장"
   ]
  },
  {
   "cell_type": "code",
   "execution_count": 45,
   "metadata": {
    "ExecuteTime": {
     "end_time": "2019-09-06T03:42:50.483012Z",
     "start_time": "2019-09-06T03:42:50.472224Z"
    }
   },
   "outputs": [
    {
     "data": {
      "text/html": [
       "<div>\n",
       "<style scoped>\n",
       "    .dataframe tbody tr th:only-of-type {\n",
       "        vertical-align: middle;\n",
       "    }\n",
       "\n",
       "    .dataframe tbody tr th {\n",
       "        vertical-align: top;\n",
       "    }\n",
       "\n",
       "    .dataframe thead th {\n",
       "        text-align: right;\n",
       "    }\n",
       "</style>\n",
       "<table border=\"1\" class=\"dataframe\">\n",
       "  <thead>\n",
       "    <tr style=\"text-align: right;\">\n",
       "      <th></th>\n",
       "      <th>메뉴</th>\n",
       "      <th>카페</th>\n",
       "      <th>링크</th>\n",
       "    </tr>\n",
       "    <tr>\n",
       "      <th>랭킹</th>\n",
       "      <th></th>\n",
       "      <th></th>\n",
       "      <th></th>\n",
       "    </tr>\n",
       "  </thead>\n",
       "  <tbody>\n",
       "    <tr>\n",
       "      <th>1</th>\n",
       "      <td>BLT</td>\n",
       "      <td>Old Oak Tap</td>\n",
       "      <td>http://www.chicagomag.com/Chicago-Magazine/Nov...</td>\n",
       "    </tr>\n",
       "    <tr>\n",
       "      <th>2</th>\n",
       "      <td>Fried Bologna</td>\n",
       "      <td>Au Cheval</td>\n",
       "      <td>http://www.chicagomag.com/Chicago-Magazine/Nov...</td>\n",
       "    </tr>\n",
       "    <tr>\n",
       "      <th>3</th>\n",
       "      <td>Woodland Mushroom</td>\n",
       "      <td>Xoco</td>\n",
       "      <td>http://www.chicagomag.com/Chicago-Magazine/Nov...</td>\n",
       "    </tr>\n",
       "    <tr>\n",
       "      <th>4</th>\n",
       "      <td>Roast Beef</td>\n",
       "      <td>Al’s Deli</td>\n",
       "      <td>http://www.chicagomag.com/Chicago-Magazine/Nov...</td>\n",
       "    </tr>\n",
       "    <tr>\n",
       "      <th>5</th>\n",
       "      <td>PB&amp;L</td>\n",
       "      <td>Publican Quality Meats</td>\n",
       "      <td>http://www.chicagomag.com/Chicago-Magazine/Nov...</td>\n",
       "    </tr>\n",
       "  </tbody>\n",
       "</table>\n",
       "</div>"
      ],
      "text/plain": [
       "                   메뉴                      카페  \\\n",
       "랭킹                                              \n",
       "1                 BLT             Old Oak Tap   \n",
       "2       Fried Bologna               Au Cheval   \n",
       "3   Woodland Mushroom                    Xoco   \n",
       "4          Roast Beef               Al’s Deli   \n",
       "5                PB&L  Publican Quality Meats   \n",
       "\n",
       "                                                   링크  \n",
       "랭킹                                                     \n",
       "1   http://www.chicagomag.com/Chicago-Magazine/Nov...  \n",
       "2   http://www.chicagomag.com/Chicago-Magazine/Nov...  \n",
       "3   http://www.chicagomag.com/Chicago-Magazine/Nov...  \n",
       "4   http://www.chicagomag.com/Chicago-Magazine/Nov...  \n",
       "5   http://www.chicagomag.com/Chicago-Magazine/Nov...  "
      ]
     },
     "execution_count": 45,
     "metadata": {},
     "output_type": "execute_result"
    }
   ],
   "source": [
    "df.head()"
   ]
  },
  {
   "cell_type": "code",
   "execution_count": 46,
   "metadata": {
    "ExecuteTime": {
     "end_time": "2019-09-06T03:43:01.764881Z",
     "start_time": "2019-09-06T03:43:01.757045Z"
    }
   },
   "outputs": [],
   "source": [
    "# 기존 데이터에 칼럼 추가하기\n",
    "columns = [ '메뉴가격', '카페주소', '전화번호', '홈페이지' ]\n",
    "# df['메뉴가격'] = ret_dict['메뉴가격']\n",
    "# df['카페주소'] = ret_dict['카페주소']\n",
    "# df['전화번호'] = ret_dict['전화번호']\n",
    "# df['홈페이지'] = ret_dict['홈페이지']\n",
    "\n",
    "for column in columns:\n",
    "    df[column] = ret_dict[column]"
   ]
  },
  {
   "cell_type": "code",
   "execution_count": 47,
   "metadata": {
    "ExecuteTime": {
     "end_time": "2019-09-06T03:43:06.892101Z",
     "start_time": "2019-09-06T03:43:06.876476Z"
    }
   },
   "outputs": [
    {
     "data": {
      "text/html": [
       "<div>\n",
       "<style scoped>\n",
       "    .dataframe tbody tr th:only-of-type {\n",
       "        vertical-align: middle;\n",
       "    }\n",
       "\n",
       "    .dataframe tbody tr th {\n",
       "        vertical-align: top;\n",
       "    }\n",
       "\n",
       "    .dataframe thead th {\n",
       "        text-align: right;\n",
       "    }\n",
       "</style>\n",
       "<table border=\"1\" class=\"dataframe\">\n",
       "  <thead>\n",
       "    <tr style=\"text-align: right;\">\n",
       "      <th></th>\n",
       "      <th>메뉴</th>\n",
       "      <th>카페</th>\n",
       "      <th>링크</th>\n",
       "      <th>메뉴가격</th>\n",
       "      <th>카페주소</th>\n",
       "      <th>전화번호</th>\n",
       "      <th>홈페이지</th>\n",
       "    </tr>\n",
       "    <tr>\n",
       "      <th>랭킹</th>\n",
       "      <th></th>\n",
       "      <th></th>\n",
       "      <th></th>\n",
       "      <th></th>\n",
       "      <th></th>\n",
       "      <th></th>\n",
       "      <th></th>\n",
       "    </tr>\n",
       "  </thead>\n",
       "  <tbody>\n",
       "    <tr>\n",
       "      <th>1</th>\n",
       "      <td>BLT</td>\n",
       "      <td>Old Oak Tap</td>\n",
       "      <td>http://www.chicagomag.com/Chicago-Magazine/Nov...</td>\n",
       "      <td>$10</td>\n",
       "      <td>2109 W. Chicago Ave.</td>\n",
       "      <td>773-772-0406</td>\n",
       "      <td>theoldoaktap.com</td>\n",
       "    </tr>\n",
       "    <tr>\n",
       "      <th>2</th>\n",
       "      <td>Fried Bologna</td>\n",
       "      <td>Au Cheval</td>\n",
       "      <td>http://www.chicagomag.com/Chicago-Magazine/Nov...</td>\n",
       "      <td>$9</td>\n",
       "      <td>800 W. Randolph St.</td>\n",
       "      <td>312-929-4580</td>\n",
       "      <td>aucheval.tumblr.com</td>\n",
       "    </tr>\n",
       "    <tr>\n",
       "      <th>3</th>\n",
       "      <td>Woodland Mushroom</td>\n",
       "      <td>Xoco</td>\n",
       "      <td>http://www.chicagomag.com/Chicago-Magazine/Nov...</td>\n",
       "      <td>$9.50</td>\n",
       "      <td>445 N. Clark St.</td>\n",
       "      <td>312-334-3688</td>\n",
       "      <td>rickbayless.com</td>\n",
       "    </tr>\n",
       "    <tr>\n",
       "      <th>4</th>\n",
       "      <td>Roast Beef</td>\n",
       "      <td>Al’s Deli</td>\n",
       "      <td>http://www.chicagomag.com/Chicago-Magazine/Nov...</td>\n",
       "      <td>$9.40</td>\n",
       "      <td>914 Noyes St.</td>\n",
       "      <td>847-475-9400</td>\n",
       "      <td>alsdeli.net</td>\n",
       "    </tr>\n",
       "    <tr>\n",
       "      <th>5</th>\n",
       "      <td>PB&amp;L</td>\n",
       "      <td>Publican Quality Meats</td>\n",
       "      <td>http://www.chicagomag.com/Chicago-Magazine/Nov...</td>\n",
       "      <td>$10</td>\n",
       "      <td>825 W. Fulton Mkt.</td>\n",
       "      <td>312-445-8977</td>\n",
       "      <td>publicanqualitymeats.com</td>\n",
       "    </tr>\n",
       "  </tbody>\n",
       "</table>\n",
       "</div>"
      ],
      "text/plain": [
       "                   메뉴                      카페  \\\n",
       "랭킹                                              \n",
       "1                 BLT             Old Oak Tap   \n",
       "2       Fried Bologna               Au Cheval   \n",
       "3   Woodland Mushroom                    Xoco   \n",
       "4          Roast Beef               Al’s Deli   \n",
       "5                PB&L  Publican Quality Meats   \n",
       "\n",
       "                                                   링크   메뉴가격  \\\n",
       "랭킹                                                             \n",
       "1   http://www.chicagomag.com/Chicago-Magazine/Nov...    $10   \n",
       "2   http://www.chicagomag.com/Chicago-Magazine/Nov...     $9   \n",
       "3   http://www.chicagomag.com/Chicago-Magazine/Nov...  $9.50   \n",
       "4   http://www.chicagomag.com/Chicago-Magazine/Nov...  $9.40   \n",
       "5   http://www.chicagomag.com/Chicago-Magazine/Nov...    $10   \n",
       "\n",
       "                    카페주소          전화번호                      홈페이지  \n",
       "랭킹                                                                \n",
       "1   2109 W. Chicago Ave.  773-772-0406          theoldoaktap.com  \n",
       "2    800 W. Randolph St.  312-929-4580       aucheval.tumblr.com  \n",
       "3       445 N. Clark St.  312-334-3688           rickbayless.com  \n",
       "4          914 Noyes St.  847-475-9400               alsdeli.net  \n",
       "5     825 W. Fulton Mkt.  312-445-8977  publicanqualitymeats.com  "
      ]
     },
     "execution_count": 47,
     "metadata": {},
     "output_type": "execute_result"
    }
   ],
   "source": [
    "df.head()"
   ]
  },
  {
   "cell_type": "code",
   "execution_count": 48,
   "metadata": {
    "ExecuteTime": {
     "end_time": "2019-09-06T03:43:19.896745Z",
     "start_time": "2019-09-06T03:43:19.892839Z"
    }
   },
   "outputs": [],
   "source": [
    "# loc 혹은 iloc 를 사용하면 컬럼과 레코드전체가 옮겨진다. \n",
    "new_columns = [ '카페', '메뉴', '메뉴가격', '전화번호', '카페주소', '홈페이지', '링크' ]"
   ]
  },
  {
   "cell_type": "code",
   "execution_count": 49,
   "metadata": {
    "ExecuteTime": {
     "end_time": "2019-09-06T03:43:23.485817Z",
     "start_time": "2019-09-06T03:43:23.468238Z"
    }
   },
   "outputs": [
    {
     "data": {
      "text/html": [
       "<div>\n",
       "<style scoped>\n",
       "    .dataframe tbody tr th:only-of-type {\n",
       "        vertical-align: middle;\n",
       "    }\n",
       "\n",
       "    .dataframe tbody tr th {\n",
       "        vertical-align: top;\n",
       "    }\n",
       "\n",
       "    .dataframe thead th {\n",
       "        text-align: right;\n",
       "    }\n",
       "</style>\n",
       "<table border=\"1\" class=\"dataframe\">\n",
       "  <thead>\n",
       "    <tr style=\"text-align: right;\">\n",
       "      <th></th>\n",
       "      <th>카페</th>\n",
       "      <th>메뉴</th>\n",
       "      <th>메뉴가격</th>\n",
       "      <th>전화번호</th>\n",
       "      <th>카페주소</th>\n",
       "      <th>홈페이지</th>\n",
       "      <th>링크</th>\n",
       "    </tr>\n",
       "    <tr>\n",
       "      <th>랭킹</th>\n",
       "      <th></th>\n",
       "      <th></th>\n",
       "      <th></th>\n",
       "      <th></th>\n",
       "      <th></th>\n",
       "      <th></th>\n",
       "      <th></th>\n",
       "    </tr>\n",
       "  </thead>\n",
       "  <tbody>\n",
       "    <tr>\n",
       "      <th>1</th>\n",
       "      <td>Old Oak Tap</td>\n",
       "      <td>BLT</td>\n",
       "      <td>$10</td>\n",
       "      <td>773-772-0406</td>\n",
       "      <td>2109 W. Chicago Ave.</td>\n",
       "      <td>theoldoaktap.com</td>\n",
       "      <td>http://www.chicagomag.com/Chicago-Magazine/Nov...</td>\n",
       "    </tr>\n",
       "    <tr>\n",
       "      <th>2</th>\n",
       "      <td>Au Cheval</td>\n",
       "      <td>Fried Bologna</td>\n",
       "      <td>$9</td>\n",
       "      <td>312-929-4580</td>\n",
       "      <td>800 W. Randolph St.</td>\n",
       "      <td>aucheval.tumblr.com</td>\n",
       "      <td>http://www.chicagomag.com/Chicago-Magazine/Nov...</td>\n",
       "    </tr>\n",
       "    <tr>\n",
       "      <th>3</th>\n",
       "      <td>Xoco</td>\n",
       "      <td>Woodland Mushroom</td>\n",
       "      <td>$9.50</td>\n",
       "      <td>312-334-3688</td>\n",
       "      <td>445 N. Clark St.</td>\n",
       "      <td>rickbayless.com</td>\n",
       "      <td>http://www.chicagomag.com/Chicago-Magazine/Nov...</td>\n",
       "    </tr>\n",
       "    <tr>\n",
       "      <th>4</th>\n",
       "      <td>Al’s Deli</td>\n",
       "      <td>Roast Beef</td>\n",
       "      <td>$9.40</td>\n",
       "      <td>847-475-9400</td>\n",
       "      <td>914 Noyes St.</td>\n",
       "      <td>alsdeli.net</td>\n",
       "      <td>http://www.chicagomag.com/Chicago-Magazine/Nov...</td>\n",
       "    </tr>\n",
       "    <tr>\n",
       "      <th>5</th>\n",
       "      <td>Publican Quality Meats</td>\n",
       "      <td>PB&amp;L</td>\n",
       "      <td>$10</td>\n",
       "      <td>312-445-8977</td>\n",
       "      <td>825 W. Fulton Mkt.</td>\n",
       "      <td>publicanqualitymeats.com</td>\n",
       "      <td>http://www.chicagomag.com/Chicago-Magazine/Nov...</td>\n",
       "    </tr>\n",
       "  </tbody>\n",
       "</table>\n",
       "</div>"
      ],
      "text/plain": [
       "                        카페                 메뉴   메뉴가격          전화번호  \\\n",
       "랭킹                                                                   \n",
       "1              Old Oak Tap                BLT    $10  773-772-0406   \n",
       "2                Au Cheval      Fried Bologna     $9  312-929-4580   \n",
       "3                     Xoco  Woodland Mushroom  $9.50  312-334-3688   \n",
       "4                Al’s Deli         Roast Beef  $9.40  847-475-9400   \n",
       "5   Publican Quality Meats               PB&L    $10  312-445-8977   \n",
       "\n",
       "                    카페주소                      홈페이지  \\\n",
       "랭킹                                                   \n",
       "1   2109 W. Chicago Ave.          theoldoaktap.com   \n",
       "2    800 W. Randolph St.       aucheval.tumblr.com   \n",
       "3       445 N. Clark St.           rickbayless.com   \n",
       "4          914 Noyes St.               alsdeli.net   \n",
       "5     825 W. Fulton Mkt.  publicanqualitymeats.com   \n",
       "\n",
       "                                                   링크  \n",
       "랭킹                                                     \n",
       "1   http://www.chicagomag.com/Chicago-Magazine/Nov...  \n",
       "2   http://www.chicagomag.com/Chicago-Magazine/Nov...  \n",
       "3   http://www.chicagomag.com/Chicago-Magazine/Nov...  \n",
       "4   http://www.chicagomag.com/Chicago-Magazine/Nov...  \n",
       "5   http://www.chicagomag.com/Chicago-Magazine/Nov...  "
      ]
     },
     "execution_count": 49,
     "metadata": {},
     "output_type": "execute_result"
    }
   ],
   "source": [
    "df = df.loc[:, new_columns]\n",
    "df.head()"
   ]
  },
  {
   "cell_type": "code",
   "execution_count": 50,
   "metadata": {
    "ExecuteTime": {
     "end_time": "2019-09-06T03:43:28.413830Z",
     "start_time": "2019-09-06T03:43:28.405046Z"
    }
   },
   "outputs": [
    {
     "name": "stdout",
     "output_type": "stream",
     "text": [
      "<class 'pandas.core.frame.DataFrame'>\n",
      "Int64Index: 50 entries, 1 to 50\n",
      "Data columns (total 7 columns):\n",
      "카페      50 non-null object\n",
      "메뉴      50 non-null object\n",
      "메뉴가격    50 non-null object\n",
      "전화번호    50 non-null object\n",
      "카페주소    50 non-null object\n",
      "홈페이지    50 non-null object\n",
      "링크      50 non-null object\n",
      "dtypes: object(7)\n",
      "memory usage: 5.6+ KB\n"
     ]
    }
   ],
   "source": [
    "df.info()"
   ]
  },
  {
   "cell_type": "code",
   "execution_count": 51,
   "metadata": {
    "ExecuteTime": {
     "end_time": "2019-09-06T03:43:33.765740Z",
     "start_time": "2019-09-06T03:43:33.756951Z"
    }
   },
   "outputs": [],
   "source": [
    "# 추가로 변경작업한 데이터 파일로 저장하기 \n",
    "df.to_csv('data/chicagomag_info_ver2.csv', encoding='UTF-8')"
   ]
  },
  {
   "cell_type": "code",
   "execution_count": 52,
   "metadata": {
    "ExecuteTime": {
     "end_time": "2019-09-06T03:43:37.729790Z",
     "start_time": "2019-09-06T03:43:37.709281Z"
    }
   },
   "outputs": [
    {
     "data": {
      "text/html": [
       "<div>\n",
       "<style scoped>\n",
       "    .dataframe tbody tr th:only-of-type {\n",
       "        vertical-align: middle;\n",
       "    }\n",
       "\n",
       "    .dataframe tbody tr th {\n",
       "        vertical-align: top;\n",
       "    }\n",
       "\n",
       "    .dataframe thead th {\n",
       "        text-align: right;\n",
       "    }\n",
       "</style>\n",
       "<table border=\"1\" class=\"dataframe\">\n",
       "  <thead>\n",
       "    <tr style=\"text-align: right;\">\n",
       "      <th></th>\n",
       "      <th>카페</th>\n",
       "      <th>메뉴</th>\n",
       "      <th>메뉴가격</th>\n",
       "      <th>전화번호</th>\n",
       "      <th>카페주소</th>\n",
       "      <th>홈페이지</th>\n",
       "      <th>링크</th>\n",
       "    </tr>\n",
       "    <tr>\n",
       "      <th>랭킹</th>\n",
       "      <th></th>\n",
       "      <th></th>\n",
       "      <th></th>\n",
       "      <th></th>\n",
       "      <th></th>\n",
       "      <th></th>\n",
       "      <th></th>\n",
       "    </tr>\n",
       "  </thead>\n",
       "  <tbody>\n",
       "    <tr>\n",
       "      <th>1</th>\n",
       "      <td>Old Oak Tap</td>\n",
       "      <td>BLT</td>\n",
       "      <td>$10</td>\n",
       "      <td>773-772-0406</td>\n",
       "      <td>2109 W. Chicago Ave.</td>\n",
       "      <td>theoldoaktap.com</td>\n",
       "      <td>http://www.chicagomag.com/Chicago-Magazine/Nov...</td>\n",
       "    </tr>\n",
       "    <tr>\n",
       "      <th>2</th>\n",
       "      <td>Au Cheval</td>\n",
       "      <td>Fried Bologna</td>\n",
       "      <td>$9</td>\n",
       "      <td>312-929-4580</td>\n",
       "      <td>800 W. Randolph St.</td>\n",
       "      <td>aucheval.tumblr.com</td>\n",
       "      <td>http://www.chicagomag.com/Chicago-Magazine/Nov...</td>\n",
       "    </tr>\n",
       "    <tr>\n",
       "      <th>3</th>\n",
       "      <td>Xoco</td>\n",
       "      <td>Woodland Mushroom</td>\n",
       "      <td>$9.50</td>\n",
       "      <td>312-334-3688</td>\n",
       "      <td>445 N. Clark St.</td>\n",
       "      <td>rickbayless.com</td>\n",
       "      <td>http://www.chicagomag.com/Chicago-Magazine/Nov...</td>\n",
       "    </tr>\n",
       "    <tr>\n",
       "      <th>4</th>\n",
       "      <td>Al’s Deli</td>\n",
       "      <td>Roast Beef</td>\n",
       "      <td>$9.40</td>\n",
       "      <td>847-475-9400</td>\n",
       "      <td>914 Noyes St.</td>\n",
       "      <td>alsdeli.net</td>\n",
       "      <td>http://www.chicagomag.com/Chicago-Magazine/Nov...</td>\n",
       "    </tr>\n",
       "    <tr>\n",
       "      <th>5</th>\n",
       "      <td>Publican Quality Meats</td>\n",
       "      <td>PB&amp;L</td>\n",
       "      <td>$10</td>\n",
       "      <td>312-445-8977</td>\n",
       "      <td>825 W. Fulton Mkt.</td>\n",
       "      <td>publicanqualitymeats.com</td>\n",
       "      <td>http://www.chicagomag.com/Chicago-Magazine/Nov...</td>\n",
       "    </tr>\n",
       "  </tbody>\n",
       "</table>\n",
       "</div>"
      ],
      "text/plain": [
       "                        카페                 메뉴   메뉴가격          전화번호  \\\n",
       "랭킹                                                                   \n",
       "1              Old Oak Tap                BLT    $10  773-772-0406   \n",
       "2                Au Cheval      Fried Bologna     $9  312-929-4580   \n",
       "3                     Xoco  Woodland Mushroom  $9.50  312-334-3688   \n",
       "4                Al’s Deli         Roast Beef  $9.40  847-475-9400   \n",
       "5   Publican Quality Meats               PB&L    $10  312-445-8977   \n",
       "\n",
       "                    카페주소                      홈페이지  \\\n",
       "랭킹                                                   \n",
       "1   2109 W. Chicago Ave.          theoldoaktap.com   \n",
       "2    800 W. Randolph St.       aucheval.tumblr.com   \n",
       "3       445 N. Clark St.           rickbayless.com   \n",
       "4          914 Noyes St.               alsdeli.net   \n",
       "5     825 W. Fulton Mkt.  publicanqualitymeats.com   \n",
       "\n",
       "                                                   링크  \n",
       "랭킹                                                     \n",
       "1   http://www.chicagomag.com/Chicago-Magazine/Nov...  \n",
       "2   http://www.chicagomag.com/Chicago-Magazine/Nov...  \n",
       "3   http://www.chicagomag.com/Chicago-Magazine/Nov...  \n",
       "4   http://www.chicagomag.com/Chicago-Magazine/Nov...  \n",
       "5   http://www.chicagomag.com/Chicago-Magazine/Nov...  "
      ]
     },
     "execution_count": 52,
     "metadata": {},
     "output_type": "execute_result"
    }
   ],
   "source": [
    "# 변경저장된 데이터 파일 확인하기 \n",
    "final_df = pd.read_csv('data/chicagomag_info_ver2.csv', index_col='랭킹', encoding='UTF-8')\n",
    "final_df.head()"
   ]
  },
  {
   "cell_type": "code",
   "execution_count": null,
   "metadata": {},
   "outputs": [],
   "source": []
  }
 ],
 "metadata": {
  "kernelspec": {
   "display_name": "Python 3",
   "language": "python",
   "name": "python3"
  },
  "language_info": {
   "codemirror_mode": {
    "name": "ipython",
    "version": 3
   },
   "file_extension": ".py",
   "mimetype": "text/x-python",
   "name": "python",
   "nbconvert_exporter": "python",
   "pygments_lexer": "ipython3",
   "version": "3.7.3"
  },
  "varInspector": {
   "cols": {
    "lenName": 16,
    "lenType": 16,
    "lenVar": 40
   },
   "kernels_config": {
    "python": {
     "delete_cmd_postfix": "",
     "delete_cmd_prefix": "del ",
     "library": "var_list.py",
     "varRefreshCmd": "print(var_dic_list())"
    },
    "r": {
     "delete_cmd_postfix": ") ",
     "delete_cmd_prefix": "rm(",
     "library": "var_list.r",
     "varRefreshCmd": "cat(var_dic_list()) "
    }
   },
   "types_to_exclude": [
    "module",
    "function",
    "builtin_function_or_method",
    "instance",
    "_Feature"
   ],
   "window_display": false
  }
 },
 "nbformat": 4,
 "nbformat_minor": 2
}
