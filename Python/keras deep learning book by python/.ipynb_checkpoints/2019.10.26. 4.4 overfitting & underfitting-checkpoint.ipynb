{
 "cells": [
  {
   "cell_type": "code",
   "execution_count": 1,
   "metadata": {
    "colab": {
     "base_uri": "https://localhost:8080/",
     "height": 100
    },
    "colab_type": "code",
    "executionInfo": {
     "elapsed": 2516,
     "status": "ok",
     "timestamp": 1572056695853,
     "user": {
      "displayName": "김태웅",
      "photoUrl": "",
      "userId": "06196795162879697734"
     },
     "user_tz": -540
    },
    "id": "e9gSwSDI3Nka",
    "outputId": "977d53a8-e381-44fb-a51c-0940877ae539"
   },
   "outputs": [
    {
     "name": "stderr",
     "output_type": "stream",
     "text": [
      "Using TensorFlow backend.\n"
     ]
    },
    {
     "data": {
      "text/html": [
       "<p style=\"color: red;\">\n",
       "The default version of TensorFlow in Colab will soon switch to TensorFlow 2.x.<br>\n",
       "We recommend you <a href=\"https://www.tensorflow.org/guide/migrate\" target=\"_blank\">upgrade</a> now \n",
       "or ensure your notebook will continue to use TensorFlow 1.x via the <code>%tensorflow_version 1.x</code> magic:\n",
       "<a href=\"https://colab.research.google.com/notebooks/tensorflow_version.ipynb\" target=\"_blank\">more info</a>.</p>\n"
      ],
      "text/plain": [
       "<IPython.core.display.HTML object>"
      ]
     },
     "metadata": {
      "tags": []
     },
     "output_type": "display_data"
    }
   ],
   "source": [
    "import keras"
   ]
  },
  {
   "cell_type": "code",
   "execution_count": 2,
   "metadata": {
    "colab": {
     "base_uri": "https://localhost:8080/",
     "height": 54
    },
    "colab_type": "code",
    "executionInfo": {
     "elapsed": 12921,
     "status": "ok",
     "timestamp": 1572056706283,
     "user": {
      "displayName": "김태웅",
      "photoUrl": "",
      "userId": "06196795162879697734"
     },
     "user_tz": -540
    },
    "id": "G60oaX2Y3kHs",
    "outputId": "e877bb8c-c724-4443-eaf3-6284316ad205"
   },
   "outputs": [
    {
     "name": "stdout",
     "output_type": "stream",
     "text": [
      "Downloading data from https://s3.amazonaws.com/text-datasets/imdb.npz\n",
      "17465344/17464789 [==============================] - 1s 0us/step\n"
     ]
    }
   ],
   "source": [
    "from keras.datasets import imdb\n",
    "import numpy as np\n",
    "(train_data, train_labels), (test_data, test_labels) = imdb.load_data(num_words = 10000)\n",
    "\n",
    "def vectorize_sequences(sequences, dimension = 10000):\n",
    "  results = np.zeros((len(sequences), dimension))\n",
    "  for i, sequence in enumerate(sequences):\n",
    "      results[i, sequence] = 1.  # results[i]에서 특정 인덱스의 위치를 1로 만듭니다\n",
    "  return results\n",
    "\n",
    "# 훈련 데이터를 벡터로 변환합니다\n",
    "x_train = vectorize_sequences(train_data)\n",
    "# 테스트 데이터를 벡터로 변환합니다\n",
    "x_test = vectorize_sequences(test_data)\n",
    "# 레이블을 벡터로 변환합니다\n",
    "y_train = np.asarray(train_labels).astype('float32')\n",
    "y_test = np.asarray(test_labels).astype('float32')"
   ]
  },
  {
   "cell_type": "code",
   "execution_count": 12,
   "metadata": {
    "colab": {
     "base_uri": "https://localhost:8080/",
     "height": 783
    },
    "colab_type": "code",
    "executionInfo": {
     "elapsed": 52345,
     "status": "ok",
     "timestamp": 1572057278191,
     "user": {
      "displayName": "김태웅",
      "photoUrl": "",
      "userId": "06196795162879697734"
     },
     "user_tz": -540
    },
    "id": "plMmFJ5g6Hwc",
    "outputId": "b3dadcef-cf79-45cf-c7a4-4a8935a72944"
   },
   "outputs": [
    {
     "name": "stdout",
     "output_type": "stream",
     "text": [
      "Train on 25000 samples, validate on 25000 samples\n",
      "Epoch 1/20\n",
      "25000/25000 [==============================] - 3s 113us/step - loss: 0.4672 - acc: 0.8128 - val_loss: 0.3408 - val_acc: 0.8791\n",
      "Epoch 2/20\n",
      "25000/25000 [==============================] - 3s 100us/step - loss: 0.2646 - acc: 0.9061 - val_loss: 0.2873 - val_acc: 0.8884\n",
      "Epoch 3/20\n",
      "25000/25000 [==============================] - 3s 102us/step - loss: 0.2040 - acc: 0.9254 - val_loss: 0.2814 - val_acc: 0.8874\n",
      "Epoch 4/20\n",
      "25000/25000 [==============================] - 3s 104us/step - loss: 0.1697 - acc: 0.9396 - val_loss: 0.2960 - val_acc: 0.8829\n",
      "Epoch 5/20\n",
      "25000/25000 [==============================] - 3s 101us/step - loss: 0.1469 - acc: 0.9476 - val_loss: 0.3186 - val_acc: 0.8773\n",
      "Epoch 6/20\n",
      "25000/25000 [==============================] - 3s 101us/step - loss: 0.1288 - acc: 0.9547 - val_loss: 0.3311 - val_acc: 0.8759\n",
      "Epoch 7/20\n",
      "25000/25000 [==============================] - 3s 102us/step - loss: 0.1159 - acc: 0.9594 - val_loss: 0.3624 - val_acc: 0.8704\n",
      "Epoch 8/20\n",
      "25000/25000 [==============================] - 3s 101us/step - loss: 0.1024 - acc: 0.9648 - val_loss: 0.3795 - val_acc: 0.8695\n",
      "Epoch 9/20\n",
      "25000/25000 [==============================] - 3s 101us/step - loss: 0.0925 - acc: 0.9681 - val_loss: 0.4041 - val_acc: 0.8684\n",
      "Epoch 10/20\n",
      "25000/25000 [==============================] - 3s 101us/step - loss: 0.0830 - acc: 0.9729 - val_loss: 0.4362 - val_acc: 0.8668\n",
      "Epoch 11/20\n",
      "25000/25000 [==============================] - 2s 99us/step - loss: 0.0758 - acc: 0.9746 - val_loss: 0.4581 - val_acc: 0.8647\n",
      "Epoch 12/20\n",
      "25000/25000 [==============================] - 3s 101us/step - loss: 0.0658 - acc: 0.9785 - val_loss: 0.5307 - val_acc: 0.8504\n",
      "Epoch 13/20\n",
      "25000/25000 [==============================] - 3s 102us/step - loss: 0.0598 - acc: 0.9801 - val_loss: 0.5260 - val_acc: 0.8610\n",
      "Epoch 14/20\n",
      "25000/25000 [==============================] - 3s 101us/step - loss: 0.0530 - acc: 0.9835 - val_loss: 0.5669 - val_acc: 0.8535\n",
      "Epoch 15/20\n",
      "25000/25000 [==============================] - 3s 102us/step - loss: 0.0469 - acc: 0.9857 - val_loss: 0.5909 - val_acc: 0.8579\n",
      "Epoch 16/20\n",
      "25000/25000 [==============================] - 3s 101us/step - loss: 0.0457 - acc: 0.9846 - val_loss: 0.6226 - val_acc: 0.8529\n",
      "Epoch 17/20\n",
      "25000/25000 [==============================] - 3s 101us/step - loss: 0.0344 - acc: 0.9899 - val_loss: 0.6634 - val_acc: 0.8518\n",
      "Epoch 18/20\n",
      "25000/25000 [==============================] - 3s 103us/step - loss: 0.0332 - acc: 0.9904 - val_loss: 0.7033 - val_acc: 0.8480\n",
      "Epoch 19/20\n",
      "25000/25000 [==============================] - 3s 104us/step - loss: 0.0310 - acc: 0.9904 - val_loss: 0.7336 - val_acc: 0.8488\n",
      "Epoch 20/20\n",
      "25000/25000 [==============================] - 3s 102us/step - loss: 0.0246 - acc: 0.9935 - val_loss: 0.7632 - val_acc: 0.8485\n"
     ]
    }
   ],
   "source": [
    "# normal\n",
    "from keras import models\n",
    "from keras import layers\n",
    "from keras import regularizers\n",
    "original_model = models.Sequential()\n",
    "original_model.add(layers.Dense(16, activation = 'relu', input_shape = (10000,)))\n",
    "original_model.add(layers.Dense(16,activation = 'relu'))\n",
    "original_model.add(layers.Dense(1, activation = 'sigmoid'))\n",
    "original_model.compile(optimizer = 'rmsprop',\n",
    "                 loss = 'binary_crossentropy',\n",
    "                 metrics = ['acc'])\n",
    "original_hist = original_model.fit(x_train, y_train,\n",
    "                             epochs = 20,\n",
    "                             batch_size = 512,\n",
    "                             validation_data = (x_test, y_test))"
   ]
  },
  {
   "cell_type": "code",
   "execution_count": 5,
   "metadata": {
    "colab": {
     "base_uri": "https://localhost:8080/",
     "height": 146
    },
    "colab_type": "code",
    "executionInfo": {
     "elapsed": 1019,
     "status": "ok",
     "timestamp": 1572056951981,
     "user": {
      "displayName": "김태웅",
      "photoUrl": "",
      "userId": "06196795162879697734"
     },
     "user_tz": -540
    },
    "id": "qU1jzO0D37Gq",
    "outputId": "137a385d-c9c0-4b97-f1b5-fd8e2dd0b7c5"
   },
   "outputs": [
    {
     "name": "stdout",
     "output_type": "stream",
     "text": [
      "WARNING:tensorflow:From /usr/local/lib/python3.6/dist-packages/keras/backend/tensorflow_backend.py:66: The name tf.get_default_graph is deprecated. Please use tf.compat.v1.get_default_graph instead.\n",
      "\n",
      "WARNING:tensorflow:From /usr/local/lib/python3.6/dist-packages/keras/backend/tensorflow_backend.py:541: The name tf.placeholder is deprecated. Please use tf.compat.v1.placeholder instead.\n",
      "\n",
      "WARNING:tensorflow:From /usr/local/lib/python3.6/dist-packages/keras/backend/tensorflow_backend.py:4432: The name tf.random_uniform is deprecated. Please use tf.random.uniform instead.\n",
      "\n"
     ]
    }
   ],
   "source": [
    "# over fitting regularization l2\n",
    "l2_model = models.Sequential()\n",
    "l2_model.add(layers.Dense(16, kernel_regularizer = regularizers.l2(0.001),\n",
    "                          activation = 'relu', input_shape = (10000,)))\n",
    "l2_model.add(layers.Dense(16, kernel_regularizer = regularizers.l2(0.001),\n",
    "                          activation = 'relu'))\n",
    "l2_model.add(layers.Dense(1, activation = 'sigmoid'))\n",
    "l2_model.compile(optimizer = 'rmsprop',\n",
    "                 loss = 'binary_crossentropy',\n",
    "                 metrics = ['acc'])"
   ]
  },
  {
   "cell_type": "code",
   "execution_count": 8,
   "metadata": {
    "colab": {
     "base_uri": "https://localhost:8080/",
     "height": 1000
    },
    "colab_type": "code",
    "executionInfo": {
     "elapsed": 58223,
     "status": "ok",
     "timestamp": 1572057092860,
     "user": {
      "displayName": "김태웅",
      "photoUrl": "",
      "userId": "06196795162879697734"
     },
     "user_tz": -540
    },
    "id": "aoFHAJjv5e23",
    "outputId": "630b7972-b24d-418a-fe14-b29f22861d8f"
   },
   "outputs": [
    {
     "name": "stdout",
     "output_type": "stream",
     "text": [
      "WARNING:tensorflow:From /usr/local/lib/python3.6/dist-packages/keras/backend/tensorflow_backend.py:1033: The name tf.assign_add is deprecated. Please use tf.compat.v1.assign_add instead.\n",
      "\n",
      "WARNING:tensorflow:From /usr/local/lib/python3.6/dist-packages/keras/backend/tensorflow_backend.py:1020: The name tf.assign is deprecated. Please use tf.compat.v1.assign instead.\n",
      "\n",
      "WARNING:tensorflow:From /usr/local/lib/python3.6/dist-packages/keras/backend/tensorflow_backend.py:3005: The name tf.Session is deprecated. Please use tf.compat.v1.Session instead.\n",
      "\n",
      "Train on 25000 samples, validate on 25000 samples\n",
      "Epoch 1/20\n",
      "WARNING:tensorflow:From /usr/local/lib/python3.6/dist-packages/keras/backend/tensorflow_backend.py:190: The name tf.get_default_session is deprecated. Please use tf.compat.v1.get_default_session instead.\n",
      "\n",
      "WARNING:tensorflow:From /usr/local/lib/python3.6/dist-packages/keras/backend/tensorflow_backend.py:197: The name tf.ConfigProto is deprecated. Please use tf.compat.v1.ConfigProto instead.\n",
      "\n",
      "WARNING:tensorflow:From /usr/local/lib/python3.6/dist-packages/keras/backend/tensorflow_backend.py:207: The name tf.global_variables is deprecated. Please use tf.compat.v1.global_variables instead.\n",
      "\n",
      "WARNING:tensorflow:From /usr/local/lib/python3.6/dist-packages/keras/backend/tensorflow_backend.py:216: The name tf.is_variable_initialized is deprecated. Please use tf.compat.v1.is_variable_initialized instead.\n",
      "\n",
      "WARNING:tensorflow:From /usr/local/lib/python3.6/dist-packages/keras/backend/tensorflow_backend.py:223: The name tf.variables_initializer is deprecated. Please use tf.compat.v1.variables_initializer instead.\n",
      "\n",
      "25000/25000 [==============================] - 7s 291us/step - loss: 0.4685 - acc: 0.8280 - val_loss: 0.3702 - val_acc: 0.8799\n",
      "Epoch 2/20\n",
      "25000/25000 [==============================] - 3s 110us/step - loss: 0.3028 - acc: 0.9095 - val_loss: 0.3297 - val_acc: 0.8882\n",
      "Epoch 3/20\n",
      "25000/25000 [==============================] - 3s 110us/step - loss: 0.2625 - acc: 0.9221 - val_loss: 0.3271 - val_acc: 0.8882\n",
      "Epoch 4/20\n",
      "25000/25000 [==============================] - 3s 108us/step - loss: 0.2429 - acc: 0.9312 - val_loss: 0.3447 - val_acc: 0.8812\n",
      "Epoch 5/20\n",
      "25000/25000 [==============================] - 3s 108us/step - loss: 0.2305 - acc: 0.9362 - val_loss: 0.3472 - val_acc: 0.8810\n",
      "Epoch 6/20\n",
      "25000/25000 [==============================] - 3s 108us/step - loss: 0.2241 - acc: 0.9382 - val_loss: 0.3732 - val_acc: 0.8743\n",
      "Epoch 7/20\n",
      "25000/25000 [==============================] - 3s 111us/step - loss: 0.2165 - acc: 0.9400 - val_loss: 0.3846 - val_acc: 0.8711\n",
      "Epoch 8/20\n",
      "25000/25000 [==============================] - 3s 110us/step - loss: 0.2115 - acc: 0.9423 - val_loss: 0.3661 - val_acc: 0.8788\n",
      "Epoch 9/20\n",
      "25000/25000 [==============================] - 3s 102us/step - loss: 0.2079 - acc: 0.9466 - val_loss: 0.3714 - val_acc: 0.8772\n",
      "Epoch 10/20\n",
      "25000/25000 [==============================] - 2s 100us/step - loss: 0.2022 - acc: 0.9466 - val_loss: 0.4028 - val_acc: 0.8688\n",
      "Epoch 11/20\n",
      "25000/25000 [==============================] - 3s 102us/step - loss: 0.2024 - acc: 0.9470 - val_loss: 0.3860 - val_acc: 0.8730\n",
      "Epoch 12/20\n",
      "25000/25000 [==============================] - 3s 102us/step - loss: 0.1996 - acc: 0.9475 - val_loss: 0.3914 - val_acc: 0.8728\n",
      "Epoch 13/20\n",
      "25000/25000 [==============================] - 3s 100us/step - loss: 0.1946 - acc: 0.9495 - val_loss: 0.3987 - val_acc: 0.8715\n",
      "Epoch 14/20\n",
      "25000/25000 [==============================] - 3s 102us/step - loss: 0.1940 - acc: 0.9496 - val_loss: 0.4065 - val_acc: 0.8693\n",
      "Epoch 15/20\n",
      "25000/25000 [==============================] - 3s 102us/step - loss: 0.1906 - acc: 0.9511 - val_loss: 0.4078 - val_acc: 0.8699\n",
      "Epoch 16/20\n",
      "25000/25000 [==============================] - 3s 102us/step - loss: 0.1894 - acc: 0.9510 - val_loss: 0.4839 - val_acc: 0.8497\n",
      "Epoch 17/20\n",
      "25000/25000 [==============================] - 3s 101us/step - loss: 0.1886 - acc: 0.9502 - val_loss: 0.4164 - val_acc: 0.8689\n",
      "Epoch 18/20\n",
      "25000/25000 [==============================] - 3s 103us/step - loss: 0.1862 - acc: 0.9529 - val_loss: 0.4213 - val_acc: 0.8681\n",
      "Epoch 19/20\n",
      "25000/25000 [==============================] - 3s 103us/step - loss: 0.1855 - acc: 0.9526 - val_loss: 0.4886 - val_acc: 0.8500\n",
      "Epoch 20/20\n",
      "25000/25000 [==============================] - 3s 102us/step - loss: 0.1838 - acc: 0.9522 - val_loss: 0.4291 - val_acc: 0.8659\n"
     ]
    }
   ],
   "source": [
    "l2_model_hist = l2_model.fit(x_train, y_train,\n",
    "                             epochs = 20,\n",
    "                             batch_size = 512,\n",
    "                             validation_data = (x_test, y_test))"
   ]
  },
  {
   "cell_type": "code",
   "execution_count": 13,
   "metadata": {
    "colab": {
     "base_uri": "https://localhost:8080/",
     "height": 783
    },
    "colab_type": "code",
    "executionInfo": {
     "elapsed": 55000,
     "status": "ok",
     "timestamp": 1572057391874,
     "user": {
      "displayName": "김태웅",
      "photoUrl": "",
      "userId": "06196795162879697734"
     },
     "user_tz": -540
    },
    "id": "sroUsoiN6vwr",
    "outputId": "441f726c-e045-44aa-aae6-386ee2a550ab"
   },
   "outputs": [
    {
     "name": "stdout",
     "output_type": "stream",
     "text": [
      "Train on 25000 samples, validate on 25000 samples\n",
      "Epoch 1/20\n",
      "25000/25000 [==============================] - 3s 118us/step - loss: 0.9255 - acc: 0.7737 - val_loss: 0.6640 - val_acc: 0.8389\n",
      "Epoch 2/20\n",
      "25000/25000 [==============================] - 3s 106us/step - loss: 0.6322 - acc: 0.8431 - val_loss: 0.6074 - val_acc: 0.8517\n",
      "Epoch 3/20\n",
      "25000/25000 [==============================] - 3s 106us/step - loss: 0.5911 - acc: 0.8537 - val_loss: 0.5955 - val_acc: 0.8466\n",
      "Epoch 4/20\n",
      "25000/25000 [==============================] - 3s 108us/step - loss: 0.5755 - acc: 0.8554 - val_loss: 0.5806 - val_acc: 0.8490\n",
      "Epoch 5/20\n",
      "25000/25000 [==============================] - 3s 106us/step - loss: 0.5613 - acc: 0.8598 - val_loss: 0.5521 - val_acc: 0.8632\n",
      "Epoch 6/20\n",
      "25000/25000 [==============================] - 3s 107us/step - loss: 0.5536 - acc: 0.8608 - val_loss: 0.5949 - val_acc: 0.8384\n",
      "Epoch 7/20\n",
      "25000/25000 [==============================] - 3s 106us/step - loss: 0.5400 - acc: 0.8656 - val_loss: 0.5475 - val_acc: 0.8599\n",
      "Epoch 8/20\n",
      "25000/25000 [==============================] - 3s 106us/step - loss: 0.5371 - acc: 0.8672 - val_loss: 0.5312 - val_acc: 0.8679\n",
      "Epoch 9/20\n",
      "25000/25000 [==============================] - 3s 107us/step - loss: 0.5247 - acc: 0.8697 - val_loss: 0.6108 - val_acc: 0.8258\n",
      "Epoch 10/20\n",
      "25000/25000 [==============================] - 3s 106us/step - loss: 0.5239 - acc: 0.8688 - val_loss: 0.5754 - val_acc: 0.8436\n",
      "Epoch 11/20\n",
      "25000/25000 [==============================] - 3s 106us/step - loss: 0.5189 - acc: 0.8704 - val_loss: 0.5476 - val_acc: 0.8579\n",
      "Epoch 12/20\n",
      "25000/25000 [==============================] - 3s 106us/step - loss: 0.5128 - acc: 0.8730 - val_loss: 0.5146 - val_acc: 0.8721\n",
      "Epoch 13/20\n",
      "25000/25000 [==============================] - 3s 106us/step - loss: 0.5060 - acc: 0.8762 - val_loss: 0.5160 - val_acc: 0.8712\n",
      "Epoch 14/20\n",
      "25000/25000 [==============================] - 3s 106us/step - loss: 0.5039 - acc: 0.8788 - val_loss: 0.5498 - val_acc: 0.8549\n",
      "Epoch 15/20\n",
      "25000/25000 [==============================] - 3s 106us/step - loss: 0.5023 - acc: 0.8785 - val_loss: 0.5025 - val_acc: 0.8769\n",
      "Epoch 16/20\n",
      "25000/25000 [==============================] - 3s 108us/step - loss: 0.4921 - acc: 0.8794 - val_loss: 0.5159 - val_acc: 0.8694\n",
      "Epoch 17/20\n",
      "25000/25000 [==============================] - 3s 108us/step - loss: 0.4887 - acc: 0.8824 - val_loss: 0.4967 - val_acc: 0.8789\n",
      "Epoch 18/20\n",
      "25000/25000 [==============================] - 3s 107us/step - loss: 0.4794 - acc: 0.8862 - val_loss: 0.4902 - val_acc: 0.8801\n",
      "Epoch 19/20\n",
      "25000/25000 [==============================] - 3s 106us/step - loss: 0.4729 - acc: 0.8884 - val_loss: 0.4867 - val_acc: 0.8812\n",
      "Epoch 20/20\n",
      "25000/25000 [==============================] - 3s 107us/step - loss: 0.4682 - acc: 0.8889 - val_loss: 0.4997 - val_acc: 0.8686\n"
     ]
    }
   ],
   "source": [
    "# over fitting regularization l1\n",
    "l1_model = models.Sequential()\n",
    "l1_model.add(layers.Dense(16, kernel_regularizer = regularizers.l1(0.001),\n",
    "                          activation = 'relu', input_shape = (10000,)))\n",
    "l1_model.add(layers.Dense(16, kernel_regularizer = regularizers.l1(0.001),\n",
    "                          activation = 'relu'))\n",
    "l1_model.add(layers.Dense(1, activation = 'sigmoid'))\n",
    "l1_model.compile(optimizer = 'rmsprop',\n",
    "                 loss = 'binary_crossentropy',\n",
    "                 metrics = ['acc'])\n",
    "l1_model_hist = l1_model.fit(x_train, y_train,\n",
    "                             epochs = 20,\n",
    "                             batch_size = 512,\n",
    "                             validation_data = (x_test, y_test))"
   ]
  },
  {
   "cell_type": "code",
   "execution_count": 25,
   "metadata": {
    "colab": {
     "base_uri": "https://localhost:8080/",
     "height": 783
    },
    "colab_type": "code",
    "executionInfo": {
     "elapsed": 55762,
     "status": "ok",
     "timestamp": 1572057759579,
     "user": {
      "displayName": "김태웅",
      "photoUrl": "",
      "userId": "06196795162879697734"
     },
     "user_tz": -540
    },
    "id": "Hgm21LB-7dRy",
    "outputId": "fbacfc9e-39a0-49a6-82d2-cdebbb5b21a0"
   },
   "outputs": [
    {
     "name": "stdout",
     "output_type": "stream",
     "text": [
      "Train on 25000 samples, validate on 25000 samples\n",
      "Epoch 1/20\n",
      "25000/25000 [==============================] - 3s 128us/step - loss: 0.9689 - acc: 0.7675 - val_loss: 0.7320 - val_acc: 0.8120\n",
      "Epoch 2/20\n",
      "25000/25000 [==============================] - 3s 108us/step - loss: 0.6854 - acc: 0.8318 - val_loss: 0.6620 - val_acc: 0.8291\n",
      "Epoch 3/20\n",
      "25000/25000 [==============================] - 3s 106us/step - loss: 0.6308 - acc: 0.8402 - val_loss: 0.6120 - val_acc: 0.8466\n",
      "Epoch 4/20\n",
      "25000/25000 [==============================] - 3s 108us/step - loss: 0.5987 - acc: 0.8475 - val_loss: 0.6053 - val_acc: 0.8416\n",
      "Epoch 5/20\n",
      "25000/25000 [==============================] - 3s 108us/step - loss: 0.5776 - acc: 0.8539 - val_loss: 0.5793 - val_acc: 0.8476\n",
      "Epoch 6/20\n",
      "25000/25000 [==============================] - 3s 107us/step - loss: 0.5639 - acc: 0.8541 - val_loss: 0.5569 - val_acc: 0.8557\n",
      "Epoch 7/20\n",
      "25000/25000 [==============================] - 3s 106us/step - loss: 0.5491 - acc: 0.8610 - val_loss: 0.5452 - val_acc: 0.8582\n",
      "Epoch 8/20\n",
      "25000/25000 [==============================] - 3s 108us/step - loss: 0.5395 - acc: 0.8612 - val_loss: 0.5583 - val_acc: 0.8519\n",
      "Epoch 9/20\n",
      "25000/25000 [==============================] - 3s 109us/step - loss: 0.5294 - acc: 0.8648 - val_loss: 0.5325 - val_acc: 0.8634\n",
      "Epoch 10/20\n",
      "25000/25000 [==============================] - 3s 109us/step - loss: 0.5229 - acc: 0.8676 - val_loss: 0.5261 - val_acc: 0.8652\n",
      "Epoch 11/20\n",
      "25000/25000 [==============================] - 3s 107us/step - loss: 0.5162 - acc: 0.8694 - val_loss: 0.5222 - val_acc: 0.8666\n",
      "Epoch 12/20\n",
      "25000/25000 [==============================] - 3s 109us/step - loss: 0.5097 - acc: 0.8714 - val_loss: 0.5149 - val_acc: 0.8678\n",
      "Epoch 13/20\n",
      "25000/25000 [==============================] - 3s 107us/step - loss: 0.5055 - acc: 0.8732 - val_loss: 0.5412 - val_acc: 0.8528\n",
      "Epoch 14/20\n",
      "25000/25000 [==============================] - 3s 107us/step - loss: 0.5039 - acc: 0.8742 - val_loss: 0.5078 - val_acc: 0.8705\n",
      "Epoch 15/20\n",
      "25000/25000 [==============================] - 3s 106us/step - loss: 0.4970 - acc: 0.8756 - val_loss: 0.5242 - val_acc: 0.8627\n",
      "Epoch 16/20\n",
      "25000/25000 [==============================] - 3s 107us/step - loss: 0.4941 - acc: 0.8770 - val_loss: 0.5006 - val_acc: 0.8722\n",
      "Epoch 17/20\n",
      "25000/25000 [==============================] - 3s 107us/step - loss: 0.4889 - acc: 0.8792 - val_loss: 0.5009 - val_acc: 0.8729\n",
      "Epoch 18/20\n",
      "25000/25000 [==============================] - 3s 108us/step - loss: 0.4864 - acc: 0.8798 - val_loss: 0.4927 - val_acc: 0.8749\n",
      "Epoch 19/20\n",
      "25000/25000 [==============================] - 3s 107us/step - loss: 0.4803 - acc: 0.8821 - val_loss: 0.4906 - val_acc: 0.8754\n",
      "Epoch 20/20\n",
      "25000/25000 [==============================] - 3s 109us/step - loss: 0.4745 - acc: 0.8832 - val_loss: 0.5197 - val_acc: 0.8636\n"
     ]
    }
   ],
   "source": [
    "# over fitting regularization l1l2\n",
    "l1l2_model = models.Sequential()\n",
    "l1l2_model.add(layers.Dense(16, kernel_regularizer = regularizers.l1_l2(l1 = 0.001, l2 = 0.001),\n",
    "                          activation = 'relu', input_shape = (10000,)))\n",
    "l1l2_model.add(layers.Dense(16, kernel_regularizer = regularizers.l1_l2(l1 = 0.001, l2 = 0.001),\n",
    "                          activation = 'relu'))\n",
    "l1l2_model.add(layers.Dense(1, activation = 'sigmoid'))\n",
    "l1l2_model.compile(optimizer = 'rmsprop',\n",
    "                 loss = 'binary_crossentropy',\n",
    "                 metrics = ['acc'])\n",
    "l1l2_model_hist = l1l2_model.fit(x_train, y_train,\n",
    "                             epochs = 20,\n",
    "                             batch_size = 512,\n",
    "                             validation_data = (x_test, y_test))"
   ]
  },
  {
   "cell_type": "code",
   "execution_count": 0,
   "metadata": {
    "colab": {},
    "colab_type": "code",
    "id": "KKsFk-Fb5q8y"
   },
   "outputs": [],
   "source": [
    "epochs = range(1, 21)\n",
    "original_val_loss = original_hist.history['val_loss']\n",
    "l1_model_val_loss = l1_model_hist.history['val_loss']\n",
    "l2_model_val_loss = l2_model_hist.history['val_loss']\n",
    "l1l2_model_val_loss = l1l2_model_hist.history['val_loss']"
   ]
  },
  {
   "cell_type": "code",
   "execution_count": 19,
   "metadata": {
    "colab": {
     "base_uri": "https://localhost:8080/",
     "height": 279
    },
    "colab_type": "code",
    "executionInfo": {
     "elapsed": 838,
     "status": "ok",
     "timestamp": 1572057464887,
     "user": {
      "displayName": "김태웅",
      "photoUrl": "",
      "userId": "06196795162879697734"
     },
     "user_tz": -540
    },
    "id": "KQsMTfGu7DAj",
    "outputId": "dfdce5d7-6d65-4ea4-94bb-eb315fd12ba0"
   },
   "outputs": [
    {
     "data": {
      "image/png": "[encoded data removed]",
      "text/plain": [
       "<Figure size 432x288 with 1 Axes>"
      ]
     },
     "metadata": {
      "tags": []
     },
     "output_type": "display_data"
    }
   ],
   "source": [
    "import matplotlib.pyplot as plt\n",
    "\n",
    "plt.plot(epochs, original_val_loss, 'b+', label='Original model')\n",
    "plt.plot(epochs, l1_model_val_loss, 'bo', label='L1-regularized model')\n",
    "plt.xlabel('Epochs')\n",
    "plt.ylabel('Validation loss')\n",
    "plt.legend()\n",
    "\n",
    "plt.show()"
   ]
  },
  {
   "cell_type": "code",
   "execution_count": 20,
   "metadata": {
    "colab": {
     "base_uri": "https://localhost:8080/",
     "height": 279
    },
    "colab_type": "code",
    "executionInfo": {
     "elapsed": 1108,
     "status": "ok",
     "timestamp": 1572057481222,
     "user": {
      "displayName": "김태웅",
      "photoUrl": "",
      "userId": "06196795162879697734"
     },
     "user_tz": -540
    },
    "id": "5AsVOpXn7LD6",
    "outputId": "3467a8c0-b78f-4017-eac8-a467a4dc92e2"
   },
   "outputs": [
    {
     "data": {
      "image/png": "[encoded data removed]",
      "text/plain": [
       "<Figure size 432x288 with 1 Axes>"
      ]
     },
     "metadata": {
      "tags": []
     },
     "output_type": "display_data"
    }
   ],
   "source": [
    "plt.plot(epochs, original_val_loss, 'b+', label='Original model')\n",
    "plt.plot(epochs, l2_model_val_loss, 'bo', label='L2-regularized model')\n",
    "plt.xlabel('Epochs')\n",
    "plt.ylabel('Validation loss')\n",
    "plt.legend()\n",
    "\n",
    "plt.show()"
   ]
  },
  {
   "cell_type": "code",
   "execution_count": 28,
   "metadata": {
    "colab": {
     "base_uri": "https://localhost:8080/",
     "height": 279
    },
    "colab_type": "code",
    "executionInfo": {
     "elapsed": 1105,
     "status": "ok",
     "timestamp": 1572057859154,
     "user": {
      "displayName": "김태웅",
      "photoUrl": "",
      "userId": "06196795162879697734"
     },
     "user_tz": -540
    },
    "id": "hA7Z5GY88x6k",
    "outputId": "6a925673-2879-49c6-c0c8-b589e3b5422d"
   },
   "outputs": [
    {
     "data": {
      "image/png": "[encoded data removed]",
      "text/plain": [
       "<Figure size 432x288 with 1 Axes>"
      ]
     },
     "metadata": {
      "tags": []
     },
     "output_type": "display_data"
    }
   ],
   "source": [
    "plt.plot(epochs, original_val_loss, 'b+', label='Original model')\n",
    "plt.plot(epochs, l1l2_model_val_loss, 'bo', label='L1L2-regularized model')\n",
    "plt.xlabel('Epochs')\n",
    "plt.ylabel('Validation loss')\n",
    "plt.legend()\n",
    "\n",
    "plt.show()"
   ]
  },
  {
   "cell_type": "code",
   "execution_count": 23,
   "metadata": {
    "colab": {
     "base_uri": "https://localhost:8080/",
     "height": 279
    },
    "colab_type": "code",
    "executionInfo": {
     "elapsed": 1080,
     "status": "ok",
     "timestamp": 1572057519880,
     "user": {
      "displayName": "김태웅",
      "photoUrl": "",
      "userId": "06196795162879697734"
     },
     "user_tz": -540
    },
    "id": "D0N0t18T7ZOO",
    "outputId": "a7115cd2-e13a-4ea4-fb82-e356e54985c2"
   },
   "outputs": [
    {
     "data": {
      "image/png": "[encoded data removed]",
      "text/plain": [
       "<Figure size 432x288 with 1 Axes>"
      ]
     },
     "metadata": {
      "tags": []
     },
     "output_type": "display_data"
    }
   ],
   "source": [
    "plt.plot(epochs, l1_model_val_loss, 'b+', label='L1-regularized model')\n",
    "plt.plot(epochs, l2_model_val_loss, 'bo', label='L2-regularized model')\n",
    "plt.xlabel('Epochs')\n",
    "plt.ylabel('Validation loss')\n",
    "plt.legend()\n",
    "\n",
    "plt.show()"
   ]
  },
  {
   "cell_type": "code",
   "execution_count": 27,
   "metadata": {
    "colab": {
     "base_uri": "https://localhost:8080/",
     "height": 282
    },
    "colab_type": "code",
    "executionInfo": {
     "elapsed": 1350,
     "status": "ok",
     "timestamp": 1572057778414,
     "user": {
      "displayName": "김태웅",
      "photoUrl": "",
      "userId": "06196795162879697734"
     },
     "user_tz": -540
    },
    "id": "Zd-PJdDy77L6",
    "outputId": "8d84817b-1e15-456d-e51e-793e051e7487"
   },
   "outputs": [
    {
     "data": {
      "image/png": "[encoded data removed]",
      "text/plain": [
       "<Figure size 432x288 with 1 Axes>"
      ]
     },
     "metadata": {
      "tags": []
     },
     "output_type": "display_data"
    }
   ],
   "source": [
    "plt.plot(epochs, l1_model_val_loss, 'b+', label='L1-regularized model')\n",
    "plt.plot(epochs, l2_model_val_loss, 'bo', label='L2-regularized model')\n",
    "plt.plot(epochs, l1l2_model_val_loss, 'b^', label='L1L2-regularized model')\n",
    "plt.xlabel('Epochs')\n",
    "plt.ylabel('Validation loss')\n",
    "plt.legend()\n",
    "\n",
    "plt.show()"
   ]
  },
  {
   "cell_type": "markdown",
   "metadata": {
    "colab_type": "text",
    "id": "aXOTyfKJ-XdC"
   },
   "source": [
    "# DropOut"
   ]
  },
  {
   "cell_type": "code",
   "execution_count": 33,
   "metadata": {
    "colab": {
     "base_uri": "https://localhost:8080/",
     "height": 783
    },
    "colab_type": "code",
    "executionInfo": {
     "elapsed": 52049,
     "status": "ok",
     "timestamp": 1572058745303,
     "user": {
      "displayName": "김태웅",
      "photoUrl": "",
      "userId": "06196795162879697734"
     },
     "user_tz": -540
    },
    "id": "e4SZUXTX-Zd0",
    "outputId": "eba3af24-7947-4a1c-c9e6-5a9ebd5d0fe4"
   },
   "outputs": [
    {
     "name": "stdout",
     "output_type": "stream",
     "text": [
      "Train on 25000 samples, validate on 25000 samples\n",
      "Epoch 1/20\n",
      "25000/25000 [==============================] - 3s 124us/step - loss: 0.5925 - acc: 0.6795 - val_loss: 0.4674 - val_acc: 0.8588\n",
      "Epoch 2/20\n",
      "25000/25000 [==============================] - 3s 101us/step - loss: 0.4602 - acc: 0.7997 - val_loss: 0.3671 - val_acc: 0.8759\n",
      "Epoch 3/20\n",
      "25000/25000 [==============================] - 3s 100us/step - loss: 0.3880 - acc: 0.8556 - val_loss: 0.3192 - val_acc: 0.8832\n",
      "Epoch 4/20\n",
      "25000/25000 [==============================] - 3s 100us/step - loss: 0.3401 - acc: 0.8870 - val_loss: 0.3056 - val_acc: 0.8877\n",
      "Epoch 5/20\n",
      "25000/25000 [==============================] - 2s 100us/step - loss: 0.3042 - acc: 0.9060 - val_loss: 0.2971 - val_acc: 0.8881\n",
      "Epoch 6/20\n",
      "25000/25000 [==============================] - 3s 101us/step - loss: 0.2783 - acc: 0.9199 - val_loss: 0.2945 - val_acc: 0.8801\n",
      "Epoch 7/20\n",
      "25000/25000 [==============================] - 3s 102us/step - loss: 0.2552 - acc: 0.9251 - val_loss: 0.3018 - val_acc: 0.8818\n",
      "Epoch 8/20\n",
      "25000/25000 [==============================] - 3s 101us/step - loss: 0.2382 - acc: 0.9315 - val_loss: 0.3113 - val_acc: 0.8711\n",
      "Epoch 9/20\n",
      "25000/25000 [==============================] - 3s 101us/step - loss: 0.2251 - acc: 0.9359 - val_loss: 0.3276 - val_acc: 0.8814\n",
      "Epoch 10/20\n",
      "25000/25000 [==============================] - 3s 100us/step - loss: 0.2091 - acc: 0.9431 - val_loss: 0.3565 - val_acc: 0.8813\n",
      "Epoch 11/20\n",
      "25000/25000 [==============================] - 3s 101us/step - loss: 0.1997 - acc: 0.9449 - val_loss: 0.3587 - val_acc: 0.8786\n",
      "Epoch 12/20\n",
      "25000/25000 [==============================] - 3s 101us/step - loss: 0.1913 - acc: 0.9469 - val_loss: 0.3754 - val_acc: 0.8782\n",
      "Epoch 13/20\n",
      "25000/25000 [==============================] - 3s 102us/step - loss: 0.1821 - acc: 0.9498 - val_loss: 0.3975 - val_acc: 0.8770\n",
      "Epoch 14/20\n",
      "25000/25000 [==============================] - 2s 100us/step - loss: 0.1715 - acc: 0.9521 - val_loss: 0.4128 - val_acc: 0.8751\n",
      "Epoch 15/20\n",
      "25000/25000 [==============================] - 3s 101us/step - loss: 0.1631 - acc: 0.9539 - val_loss: 0.4560 - val_acc: 0.8784\n",
      "Epoch 16/20\n",
      "25000/25000 [==============================] - 2s 100us/step - loss: 0.1641 - acc: 0.9551 - val_loss: 0.4496 - val_acc: 0.8748\n",
      "Epoch 17/20\n",
      "25000/25000 [==============================] - 3s 102us/step - loss: 0.1555 - acc: 0.9546 - val_loss: 0.4695 - val_acc: 0.8748\n",
      "Epoch 18/20\n",
      "25000/25000 [==============================] - 3s 101us/step - loss: 0.1545 - acc: 0.9564 - val_loss: 0.4607 - val_acc: 0.8695\n",
      "Epoch 19/20\n",
      "25000/25000 [==============================] - 2s 99us/step - loss: 0.1483 - acc: 0.9583 - val_loss: 0.4886 - val_acc: 0.8719\n",
      "Epoch 20/20\n",
      "25000/25000 [==============================] - 2s 99us/step - loss: 0.1397 - acc: 0.9608 - val_loss: 0.5008 - val_acc: 0.8694\n"
     ]
    }
   ],
   "source": [
    "original_model_D = models.Sequential()\n",
    "original_model_D.add(layers.Dense(16, activation = 'relu', input_shape = (10000,)))\n",
    "original_model_D.add(layers.Dropout(0.5))\n",
    "original_model_D.add(layers.Dense(16,activation = 'relu'))\n",
    "original_model_D.add(layers.Dropout(0.5))\n",
    "original_model_D.add(layers.Dense(1, activation = 'sigmoid'))\n",
    "original_model_D.compile(optimizer = 'rmsprop',\n",
    "                 loss = 'binary_crossentropy',\n",
    "                 metrics = ['acc'])\n",
    "original_hist_D = original_model_D.fit(x_train, y_train,\n",
    "                             epochs = 20,\n",
    "                             batch_size = 512,\n",
    "                             validation_data = (x_test, y_test))"
   ]
  },
  {
   "cell_type": "code",
   "execution_count": 37,
   "metadata": {
    "colab": {
     "base_uri": "https://localhost:8080/",
     "height": 279
    },
    "colab_type": "code",
    "executionInfo": {
     "elapsed": 1054,
     "status": "ok",
     "timestamp": 1572058811072,
     "user": {
      "displayName": "김태웅",
      "photoUrl": "",
      "userId": "06196795162879697734"
     },
     "user_tz": -540
    },
    "id": "_nrjCrgr-o1A",
    "outputId": "a749691d-4850-489a-f989-3410f483cde5"
   },
   "outputs": [
    {
     "data": {
      "image/png": "[encoded data removed]",
      "text/plain": [
       "<Figure size 432x288 with 1 Axes>"
      ]
     },
     "metadata": {
      "tags": []
     },
     "output_type": "display_data"
    }
   ],
   "source": [
    "original_model_D_val_loss = original_hist_D.history['val_loss']\n",
    "\n",
    "plt.plot(epochs, original_val_loss, 'bo', label='original model')\n",
    "plt.plot(epochs, original_model_D_val_loss, 'b+', label='original DropOut model')\n",
    "plt.xlabel('Epochs')\n",
    "plt.ylabel('Validation loss')\n",
    "plt.legend()\n",
    "\n",
    "plt.show()"
   ]
  }
 ],
 "metadata": {
  "accelerator": "GPU",
  "colab": {
   "collapsed_sections": [],
   "name": "2019.10.26. overfitting & underfitting.ipynb",
   "provenance": []
  },
  "kernelspec": {
   "display_name": "Python 3",
   "language": "python",
   "name": "python3"
  },
  "language_info": {
   "codemirror_mode": {
    "name": "ipython",
    "version": 3
   },
   "file_extension": ".py",
   "mimetype": "text/x-python",
   "name": "python",
   "nbconvert_exporter": "python",
   "pygments_lexer": "ipython3",
   "version": "3.7.0"
  }
 },
 "nbformat": 4,
 "nbformat_minor": 1
}
