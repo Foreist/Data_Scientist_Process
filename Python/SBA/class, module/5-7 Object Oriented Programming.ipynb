{
 "cells": [
  {
   "cell_type": "markdown",
   "metadata": {},
   "source": [
    "# OOP(Object Oriented Programming)"
   ]
  },
  {
   "cell_type": "code",
   "execution_count": 1,
   "metadata": {
    "ExecuteTime": {
     "end_time": "2019-08-20T05:29:21.838867Z",
     "start_time": "2019-08-20T05:29:21.833985Z"
    }
   },
   "outputs": [
    {
     "name": "stdout",
     "output_type": "stream",
     "text": [
      "['_KpopGroup__country', '__class__', '__delattr__', '__dict__', '__dir__', '__doc__', '__eq__', '__format__', '__ge__', '__getattribute__', '__gt__', '__hash__', '__init__', '__init_subclass__', '__le__', '__lt__', '__module__', '__ne__', '__new__', '__reduce__', '__reduce_ex__', '__repr__', '__setattr__', '__sizeof__', '__str__', '__subclasshook__', '__weakref__']\n"
     ]
    }
   ],
   "source": [
    "# Hiding & Mangling\n",
    "\n",
    "# 이름장식 Name Mangling  : __가 있는 것에 한하여 이름을 변경해 버리는 이름 장식 기법\n",
    "# 변형된 규칙 : _[클래스명]__[변수명]\n",
    "class KpopGroup:\n",
    "    __country = 'Korea'\n",
    "\n",
    "result = dir(KpopGroup)\n",
    "print(result)\n",
    "\n",
    "# 클래스 내부 변형변수는 정의시 사용했던 변수명으로는 접근이 불가능\n",
    "# KpopGroup.__country"
   ]
  },
  {
   "cell_type": "markdown",
   "metadata": {},
   "source": [
    "# Inheritance"
   ]
  },
  {
   "cell_type": "code",
   "execution_count": 3,
   "metadata": {
    "ExecuteTime": {
     "end_time": "2019-08-20T05:30:05.048426Z",
     "start_time": "2019-08-20T05:30:05.038660Z"
    }
   },
   "outputs": [],
   "source": [
    "class Animal:\n",
    "    tribe = '동물'\n",
    "    def __init__(self, name):\n",
    "        self.name = name\n",
    "\n",
    "    def getInfo(self):\n",
    "        print('나는 %s이고, %s입니다.'%(self.name, self.tribe))\n",
    "\n",
    "        \n",
    "class Carnivore(Animal): # ()안에 적은 Animal은 Animal을 상속 받겠다는 것\n",
    "    # 대신에 name이랑 tiribe는 내가 정함\n",
    "    def __init__(self, name):\n",
    "        self.name = name\n",
    "        self.tribe = '육식동물'\n",
    "\n",
    "    def favoriteFood(self):\n",
    "        print('나는 고기를 좋아합니다.')\n",
    "\n",
    "class Herbivore(Animal):\n",
    "    def __init__(self, name):\n",
    "        self.name = name\n",
    "        self.tribe = '초식동물'\n",
    "\n",
    "    def favoriteFood(self):\n",
    "        print('나는 풀을 좋아합니다.')"
   ]
  },
  {
   "cell_type": "code",
   "execution_count": 4,
   "metadata": {
    "ExecuteTime": {
     "end_time": "2019-08-20T05:30:25.146280Z",
     "start_time": "2019-08-20T05:30:25.141397Z"
    }
   },
   "outputs": [
    {
     "name": "stdout",
     "output_type": "stream",
     "text": [
      "나는 호랑이이고, 육식동물입니다.\n",
      "나는 고기를 좋아합니다.\n"
     ]
    }
   ],
   "source": [
    "tiger = Carnivore('호랑이')\n",
    "tiger.getInfo()\n",
    "tiger.favoriteFood()"
   ]
  },
  {
   "cell_type": "markdown",
   "metadata": {
    "ExecuteTime": {
     "end_time": "2019-08-20T05:32:47.530601Z",
     "start_time": "2019-08-20T05:32:47.526695Z"
    }
   },
   "source": [
    "# 다형성(Polymorphism)"
   ]
  },
  {
   "cell_type": "code",
   "execution_count": null,
   "metadata": {},
   "outputs": [],
   "source": [
    "#  Developer 부모 클래스 선언\n",
    "class Developer:\n",
    "    def __init__(self, name):\n",
    "        self.name = name\n",
    "\n",
    "    def coding(self):\n",
    "        print(self.name + ' is developer!!')\n",
    "\n",
    "\n",
    "# PythonDeveloper 자식 클래스 선언\n",
    "class PythonDeveloper(Developer): #Developer를 상속 받음\n",
    "    def coding(self): #coding은 내가 여기서 새로 지정함\n",
    "        print(self.name + ' is Python developler!!')\n",
    "\n",
    "\n",
    "# JavaDeveloper 자식 클래스 선언\n",
    "class JavaDeveloper(Developer):\n",
    "    def coding(self):\n",
    "        print(self.name + ' is Java developler!!')\n",
    "\n",
    "\n",
    "# CPPDeveloper 자식 클래스 선언\n",
    "class CPPDeveloper(Developer):\n",
    "    def coding(self):\n",
    "        print(self.name + ' is C++ developler!!')"
   ]
  },
  {
   "cell_type": "code",
   "execution_count": 15,
   "metadata": {
    "ExecuteTime": {
     "end_time": "2019-08-20T05:40:00.447624Z",
     "start_time": "2019-08-20T05:40:00.441765Z"
    }
   },
   "outputs": [
    {
     "name": "stdout",
     "output_type": "stream",
     "text": [
      "['q', 'w', 'e', 'r']\n"
     ]
    },
    {
     "data": {
      "text/plain": [
       "NoneType"
      ]
     },
     "execution_count": 15,
     "metadata": {},
     "output_type": "execute_result"
    }
   ],
   "source": [
    "qw = 'q w e r'\n",
    "type(qw)\n",
    "c = print(qw.split())"
   ]
  },
  {
   "cell_type": "code",
   "execution_count": 17,
   "metadata": {
    "ExecuteTime": {
     "end_time": "2019-08-20T05:41:36.066537Z",
     "start_time": "2019-08-20T05:41:36.062675Z"
    }
   },
   "outputs": [],
   "source": [
    "ex = '12.12.12'\n",
    "q, w, e = ex.split('.')"
   ]
  }
 ],
 "metadata": {
  "kernelspec": {
   "display_name": "Python 3",
   "language": "python",
   "name": "python3"
  },
  "language_info": {
   "codemirror_mode": {
    "name": "ipython",
    "version": 3
   },
   "file_extension": ".py",
   "mimetype": "text/x-python",
   "name": "python",
   "nbconvert_exporter": "python",
   "pygments_lexer": "ipython3",
   "version": "3.7.3"
  },
  "varInspector": {
   "cols": {
    "lenName": 16,
    "lenType": 16,
    "lenVar": 40
   },
   "kernels_config": {
    "python": {
     "delete_cmd_postfix": "",
     "delete_cmd_prefix": "del ",
     "library": "var_list.py",
     "varRefreshCmd": "print(var_dic_list())"
    },
    "r": {
     "delete_cmd_postfix": ") ",
     "delete_cmd_prefix": "rm(",
     "library": "var_list.r",
     "varRefreshCmd": "cat(var_dic_list()) "
    }
   },
   "types_to_exclude": [
    "module",
    "function",
    "builtin_function_or_method",
    "instance",
    "_Feature"
   ],
   "window_display": false
  }
 },
 "nbformat": 4,
 "nbformat_minor": 2
}
