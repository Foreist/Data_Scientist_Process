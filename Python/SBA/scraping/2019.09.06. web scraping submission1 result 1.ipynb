{
 "cells": [
  {
   "cell_type": "code",
   "execution_count": 2,
   "metadata": {
    "ExecuteTime": {
     "end_time": "2019-09-06T02:07:09.903082Z",
     "start_time": "2019-09-06T02:07:09.899221Z"
    }
   },
   "outputs": [],
   "source": [
    "from IPython.display import Image "
   ]
  },
  {
   "cell_type": "markdown",
   "metadata": {},
   "source": [
    "## 과제1 : 메인페이지 정보 크롤링 - 랭킹, 메뉴, 카페, 링크(상세페이지)"
   ]
  },
  {
   "cell_type": "code",
   "execution_count": 3,
   "metadata": {
    "ExecuteTime": {
     "end_time": "2019-09-06T02:07:21.663580Z",
     "start_time": "2019-09-06T02:07:21.449746Z"
    }
   },
   "outputs": [],
   "source": [
    "import time\n",
    "from bs4 import BeautifulSoup \n",
    "from urllib.request import urlopen"
   ]
  },
  {
   "cell_type": "code",
   "execution_count": 4,
   "metadata": {
    "ExecuteTime": {
     "end_time": "2019-09-06T02:07:30.380952Z",
     "start_time": "2019-09-06T02:07:25.859155Z"
    }
   },
   "outputs": [],
   "source": [
    "# 구글에서 '50 Best Sandwiches' 검색\n",
    "site = 'http://www.chicagomag.com/Chicago-Magazine/November-2012/Best-Sandwiches-Chicago/'\n",
    "html = urlopen(site)\n",
    "soup = BeautifulSoup(html, \"lxml\")"
   ]
  },
  {
   "cell_type": "code",
   "execution_count": 5,
   "metadata": {
    "ExecuteTime": {
     "end_time": "2019-09-06T02:07:30.477607Z",
     "start_time": "2019-09-06T02:07:30.465891Z"
    }
   },
   "outputs": [
    {
     "data": {
      "text/plain": [
       "<title>\n",
       "  The 50 Best Sandwiches in Chicago |\n",
       "  Chicago magazine\n",
       "      |  November 2012\n",
       "    </title>"
      ]
     },
     "execution_count": 5,
     "metadata": {},
     "output_type": "execute_result"
    }
   ],
   "source": [
    "# 웹페이지 로딩 확인\n",
    "soup.title"
   ]
  },
  {
   "cell_type": "code",
   "execution_count": 6,
   "metadata": {
    "ExecuteTime": {
     "end_time": "2019-09-06T02:07:33.103748Z",
     "start_time": "2019-09-06T02:07:33.097888Z"
    }
   },
   "outputs": [
    {
     "data": {
      "text/plain": [
       "<title>\n",
       "  The 50 Best Sandwiches in Chicago |\n",
       "  Chicago magazine\n",
       "      |  November 2012\n",
       "    </title>"
      ]
     },
     "execution_count": 6,
     "metadata": {},
     "output_type": "execute_result"
    }
   ],
   "source": [
    "html_title = soup.find('title')\n",
    "html_title"
   ]
  },
  {
   "cell_type": "code",
   "execution_count": 7,
   "metadata": {
    "ExecuteTime": {
     "end_time": "2019-09-06T02:07:36.902813Z",
     "start_time": "2019-09-06T02:07:36.897930Z"
    }
   },
   "outputs": [
    {
     "data": {
      "text/plain": [
       "bs4.element.Tag"
      ]
     },
     "execution_count": 7,
     "metadata": {},
     "output_type": "execute_result"
    }
   ],
   "source": [
    "type(html_title)"
   ]
  },
  {
   "cell_type": "code",
   "execution_count": 8,
   "metadata": {
    "ExecuteTime": {
     "end_time": "2019-09-06T02:07:41.479295Z",
     "start_time": "2019-09-06T02:07:41.473411Z"
    }
   },
   "outputs": [
    {
     "data": {
      "text/plain": [
       "'\\r\\n  The 50 Best Sandwiches in Chicago |\\r\\n  Chicago magazine\\r\\n      |  November 2012\\r\\n    '"
      ]
     },
     "execution_count": 8,
     "metadata": {},
     "output_type": "execute_result"
    }
   ],
   "source": [
    "html_title.getText()"
   ]
  },
  {
   "cell_type": "code",
   "execution_count": 9,
   "metadata": {
    "ExecuteTime": {
     "end_time": "2019-09-06T02:07:44.575168Z",
     "start_time": "2019-09-06T02:07:44.570305Z"
    }
   },
   "outputs": [
    {
     "data": {
      "text/plain": [
       "'\\r\\n  The 50 Best Sandwiches in Chicago |\\r\\n  Chicago magazine\\r\\n      |  November 2012\\r\\n    '"
      ]
     },
     "execution_count": 9,
     "metadata": {},
     "output_type": "execute_result"
    }
   ],
   "source": [
    "html_title.get_text()"
   ]
  },
  {
   "cell_type": "code",
   "execution_count": 10,
   "metadata": {
    "ExecuteTime": {
     "end_time": "2019-09-06T02:07:48.935805Z",
     "start_time": "2019-09-06T02:07:48.929933Z"
    }
   },
   "outputs": [
    {
     "data": {
      "text/plain": [
       "'\\r\\n  The 50 Best Sandwiches in Chicago |\\r\\n  Chicago magazine\\r\\n      |  November 2012\\r\\n    '"
      ]
     },
     "execution_count": 10,
     "metadata": {},
     "output_type": "execute_result"
    }
   ],
   "source": [
    "title = html_title.text\n",
    "title"
   ]
  },
  {
   "cell_type": "code",
   "execution_count": 11,
   "metadata": {
    "ExecuteTime": {
     "end_time": "2019-09-06T02:07:52.966317Z",
     "start_time": "2019-09-06T02:07:52.962412Z"
    }
   },
   "outputs": [
    {
     "name": "stdout",
     "output_type": "stream",
     "text": [
      "The 50 Best Sandwiches in Chicago |\r\n",
      "  Chicago magazine\r\n",
      "      |  November 2012\n"
     ]
    }
   ],
   "source": [
    "print(title.strip())"
   ]
  },
  {
   "cell_type": "code",
   "execution_count": 12,
   "metadata": {
    "ExecuteTime": {
     "end_time": "2019-09-06T02:07:56.171597Z",
     "start_time": "2019-09-06T02:07:56.163784Z"
    }
   },
   "outputs": [
    {
     "data": {
      "text/plain": [
       "<div id=\"reveal-bar-mobile\">\n",
       "<button id=\"reveal-bar-mobile-sections-button\">More →</button>\n",
       "<ul class=\"reveal-share-buttons list-no-bullets clearfix\">\n",
       "<li class=\"fb\"><a href=\"https://www.facebook.com/sharer/sharer.php?u=http://www.chicagomag.com/Chicago-Magazine/November-2012/Best-Sandwiches-Chicago/%3Futm_source=facebook.com%26utm_medium=referral%26utm_campaign=Facebook%20mobile%20reveal%20bar%2019493%20Sep%2005%202019%2021:07\" onclick=\"ga('send',  'event', 'Sharing', 'Facebook share from mobile reveal bar','The 50 Best Sandwiches in Chicago'); return socialPopup('https://www.facebook.com/sharer/sharer.php?u=http://www.chicagomag.com/Chicago-Magazine/November-2012/Best-Sandwiches-Chicago/%3Futm_source=facebook.com%26utm_medium=referral%26utm_campaign=Facebook%20mobile%20reveal%20bar%2019493%20Sep%2005%202019%2021:07');\" target=\"_blank\"><i class=\"icon-facebook\"></i></a>\n",
       "</li>\n",
       "<li class=\"tw\"><a href=\"https://twitter.com/share?text=The+50+Best+Sandwiches+in+Chicago&amp;url=http://www.chicagomag.com/Chicago-Magazine/November-2012/Best-Sandwiches-Chicago/\" onclick=\"ga('send',  'event', 'Sharing', 'Tweet story from mobile reveal bar','The 50 Best Sandwiches in Chicago'); return tweetPopup('The+50+Best+Sandwiches+in+Chicago','/Chicago-Magazine/November-2012/Best-Sandwiches-Chicago/','mobile+reveal+bar+19493');\" target=\"_blank\"><i class=\"icon-twitter\"></i></a></li>\n",
       "</ul>\n",
       "</div>"
      ]
     },
     "execution_count": 12,
     "metadata": {},
     "output_type": "execute_result"
    }
   ],
   "source": [
    "# 이건 너무 많다.\n",
    "div_tag = soup.find('div')\n",
    "div_tag"
   ]
  },
  {
   "cell_type": "code",
   "execution_count": 13,
   "metadata": {
    "ExecuteTime": {
     "end_time": "2019-09-06T02:08:06.848046Z",
     "start_time": "2019-09-06T02:08:06.843164Z"
    }
   },
   "outputs": [
    {
     "name": "stdout",
     "output_type": "stream",
     "text": [
      "<div id=\"reveal-bar-mobile\">\n",
      " <button id=\"reveal-bar-mobile-sections-button\">\n",
      "  More →\n",
      " </button>\n",
      " <ul class=\"reveal-share-buttons list-no-bullets clearfix\">\n",
      "  <li class=\"fb\">\n",
      "   <a href=\"https://www.facebook.com/sharer/sharer.php?u=http://www.chicagomag.com/Chicago-Magazine/November-2012/Best-Sandwiches-Chicago/%3Futm_source=facebook.com%26utm_medium=referral%26utm_campaign=Facebook%20mobile%20reveal%20bar%2019493%20Sep%2005%202019%2021:07\" onclick=\"ga('send',  'event', 'Sharing', 'Facebook share from mobile reveal bar','The 50 Best Sandwiches in Chicago'); return socialPopup('https://www.facebook.com/sharer/sharer.php?u=http://www.chicagomag.com/Chicago-Magazine/November-2012/Best-Sandwiches-Chicago/%3Futm_source=facebook.com%26utm_medium=referral%26utm_campaign=Facebook%20mobile%20reveal%20bar%2019493%20Sep%2005%202019%2021:07');\" target=\"_blank\">\n",
      "    <i class=\"icon-facebook\">\n",
      "    </i>\n",
      "   </a>\n",
      "  </li>\n",
      "  <li class=\"tw\">\n",
      "   <a href=\"https://twitter.com/share?text=The+50+Best+Sandwiches+in+Chicago&amp;url=http://www.chicagomag.com/Chicago-Magazine/November-2012/Best-Sandwiches-Chicago/\" onclick=\"ga('send',  'event', 'Sharing', 'Tweet story from mobile reveal bar','The 50 Best Sandwiches in Chicago'); return tweetPopup('The+50+Best+Sandwiches+in+Chicago','/Chicago-Magazine/November-2012/Best-Sandwiches-Chicago/','mobile+reveal+bar+19493');\" target=\"_blank\">\n",
      "    <i class=\"icon-twitter\">\n",
      "    </i>\n",
      "   </a>\n",
      "  </li>\n",
      " </ul>\n",
      "</div>\n",
      "\n"
     ]
    }
   ],
   "source": [
    "print(div_tag.prettify())"
   ]
  },
  {
   "cell_type": "code",
   "execution_count": 14,
   "metadata": {
    "ExecuteTime": {
     "end_time": "2019-09-06T02:08:12.528090Z",
     "start_time": "2019-09-06T02:08:12.522230Z"
    }
   },
   "outputs": [],
   "source": [
    "div_tags = soup.find_all('div')"
   ]
  },
  {
   "cell_type": "code",
   "execution_count": 15,
   "metadata": {
    "ExecuteTime": {
     "end_time": "2019-09-06T02:08:20.031490Z",
     "start_time": "2019-09-06T02:08:20.026606Z"
    }
   },
   "outputs": [
    {
     "data": {
      "text/plain": [
       "217"
      ]
     },
     "execution_count": 15,
     "metadata": {},
     "output_type": "execute_result"
    }
   ],
   "source": [
    "len(div_tags)"
   ]
  },
  {
   "cell_type": "code",
   "execution_count": 16,
   "metadata": {
    "ExecuteTime": {
     "end_time": "2019-09-06T02:08:24.919534Z",
     "start_time": "2019-09-06T02:08:24.914609Z"
    }
   },
   "outputs": [
    {
     "name": "stdout",
     "output_type": "stream",
     "text": [
      "<div id=\"reveal-bar-mobile\">\n",
      " <button id=\"reveal-bar-mobile-sections-button\">\n",
      "  More →\n",
      " </button>\n",
      " <ul class=\"reveal-share-buttons list-no-bullets clearfix\">\n",
      "  <li class=\"fb\">\n",
      "   <a href=\"https://www.facebook.com/sharer/sharer.php?u=http://www.chicagomag.com/Chicago-Magazine/November-2012/Best-Sandwiches-Chicago/%3Futm_source=facebook.com%26utm_medium=referral%26utm_campaign=Facebook%20mobile%20reveal%20bar%2019493%20Sep%2005%202019%2021:07\" onclick=\"ga('send',  'event', 'Sharing', 'Facebook share from mobile reveal bar','The 50 Best Sandwiches in Chicago'); return socialPopup('https://www.facebook.com/sharer/sharer.php?u=http://www.chicagomag.com/Chicago-Magazine/November-2012/Best-Sandwiches-Chicago/%3Futm_source=facebook.com%26utm_medium=referral%26utm_campaign=Facebook%20mobile%20reveal%20bar%2019493%20Sep%2005%202019%2021:07');\" target=\"_blank\">\n",
      "    <i class=\"icon-facebook\">\n",
      "    </i>\n",
      "   </a>\n",
      "  </li>\n",
      "  <li class=\"tw\">\n",
      "   <a href=\"https://twitter.com/share?text=The+50+Best+Sandwiches+in+Chicago&amp;url=http://www.chicagomag.com/Chicago-Magazine/November-2012/Best-Sandwiches-Chicago/\" onclick=\"ga('send',  'event', 'Sharing', 'Tweet story from mobile reveal bar','The 50 Best Sandwiches in Chicago'); return tweetPopup('The+50+Best+Sandwiches+in+Chicago','/Chicago-Magazine/November-2012/Best-Sandwiches-Chicago/','mobile+reveal+bar+19493');\" target=\"_blank\">\n",
      "    <i class=\"icon-twitter\">\n",
      "    </i>\n",
      "   </a>\n",
      "  </li>\n",
      " </ul>\n",
      "</div>\n",
      "\n"
     ]
    }
   ],
   "source": [
    "div_tag = div_tags[0]\n",
    "print(div_tag.prettify())"
   ]
  },
  {
   "cell_type": "code",
   "execution_count": 17,
   "metadata": {
    "ExecuteTime": {
     "end_time": "2019-09-06T02:08:32.919994Z",
     "start_time": "2019-09-06T02:08:32.914135Z"
    }
   },
   "outputs": [
    {
     "data": {
      "text/plain": [
       "bs4.element.Tag"
      ]
     },
     "execution_count": 17,
     "metadata": {},
     "output_type": "execute_result"
    }
   ],
   "source": [
    "type(div_tag)"
   ]
  },
  {
   "cell_type": "code",
   "execution_count": 18,
   "metadata": {
    "ExecuteTime": {
     "end_time": "2019-09-06T02:08:38.463311Z",
     "start_time": "2019-09-06T02:08:38.458428Z"
    }
   },
   "outputs": [
    {
     "data": {
      "text/plain": [
       "bs4.element.ResultSet"
      ]
     },
     "execution_count": 18,
     "metadata": {},
     "output_type": "execute_result"
    }
   ],
   "source": [
    "type(div_tags)"
   ]
  },
  {
   "cell_type": "markdown",
   "metadata": {},
   "source": [
    "## STEP1 : 수집할 데이터의 Tag & Class 확인\n",
    "### 메인페이지 크롤링대상 타겟데이터\n",
    "\n",
    "- 랭킹\n",
    "- 메뉴\n",
    "- 카페\n",
    "- 링크(상세페이지)"
   ]
  },
  {
   "cell_type": "code",
   "execution_count": 19,
   "metadata": {
    "ExecuteTime": {
     "end_time": "2019-09-06T02:09:03.235377Z",
     "start_time": "2019-09-06T02:09:03.218775Z"
    }
   },
   "outputs": [
    {
     "data": {
      "text/plain": [
       "50"
      ]
     },
     "execution_count": 19,
     "metadata": {},
     "output_type": "execute_result"
    }
   ],
   "source": [
    "div_tags = soup.find_all('div', 'sammy')\n",
    "len(div_tags)"
   ]
  },
  {
   "cell_type": "code",
   "execution_count": 20,
   "metadata": {
    "ExecuteTime": {
     "end_time": "2019-09-06T02:09:07.216097Z",
     "start_time": "2019-09-06T02:09:07.211214Z"
    }
   },
   "outputs": [
    {
     "name": "stdout",
     "output_type": "stream",
     "text": [
      "<div class=\"sammy\" style=\"position: relative;\">\n",
      " <div class=\"sammyRank\">\n",
      "  1\n",
      " </div>\n",
      " <div class=\"sammyListing\">\n",
      "  <a href=\"/Chicago-Magazine/November-2012/Best-Sandwiches-in-Chicago-Old-Oak-Tap-BLT/\">\n",
      "   <b>\n",
      "    BLT\n",
      "   </b>\n",
      "   <br/>\n",
      "   Old Oak Tap\n",
      "   <br/>\n",
      "   <em>\n",
      "    Read more\n",
      "   </em>\n",
      "  </a>\n",
      " </div>\n",
      "</div>\n",
      "\n"
     ]
    }
   ],
   "source": [
    "div_tag = div_tags[0]\n",
    "print(div_tag.prettify())"
   ]
  },
  {
   "cell_type": "code",
   "execution_count": 21,
   "metadata": {
    "ExecuteTime": {
     "end_time": "2019-09-06T02:09:14.088600Z",
     "start_time": "2019-09-06T02:09:14.082740Z"
    }
   },
   "outputs": [
    {
     "data": {
      "text/plain": [
       "<div class=\"sammyRank\">1</div>"
      ]
     },
     "execution_count": 21,
     "metadata": {},
     "output_type": "execute_result"
    }
   ],
   "source": [
    "# 랭킹\n",
    "data_1 = div_tag.find('div', 'sammyRank')\n",
    "data_1"
   ]
  },
  {
   "cell_type": "code",
   "execution_count": 22,
   "metadata": {
    "ExecuteTime": {
     "end_time": "2019-09-06T02:09:19.216853Z",
     "start_time": "2019-09-06T02:09:19.211970Z"
    }
   },
   "outputs": [
    {
     "data": {
      "text/plain": [
       "'1'"
      ]
     },
     "execution_count": 22,
     "metadata": {},
     "output_type": "execute_result"
    }
   ],
   "source": [
    "data_1 = data_1.get_text()\n",
    "data_1"
   ]
  },
  {
   "cell_type": "code",
   "execution_count": 23,
   "metadata": {
    "ExecuteTime": {
     "end_time": "2019-09-06T02:09:23.298165Z",
     "start_time": "2019-09-06T02:09:23.291328Z"
    }
   },
   "outputs": [
    {
     "data": {
      "text/plain": [
       "<div class=\"sammyListing\"><a href=\"/Chicago-Magazine/November-2012/Best-Sandwiches-in-Chicago-Old-Oak-Tap-BLT/\"><b>BLT</b><br/>\n",
       "Old Oak Tap<br/>\n",
       "<em>Read more</em> </a></div>"
      ]
     },
     "execution_count": 23,
     "metadata": {},
     "output_type": "execute_result"
    }
   ],
   "source": [
    "div_listing = div_tag.find('div', 'sammyListing')\n",
    "div_listing"
   ]
  },
  {
   "cell_type": "code",
   "execution_count": 24,
   "metadata": {
    "ExecuteTime": {
     "end_time": "2019-09-06T02:09:26.905815Z",
     "start_time": "2019-09-06T02:09:26.900931Z"
    }
   },
   "outputs": [
    {
     "data": {
      "text/plain": [
       "'BLT\\r\\nOld Oak Tap\\nRead more '"
      ]
     },
     "execution_count": 24,
     "metadata": {},
     "output_type": "execute_result"
    }
   ],
   "source": [
    "div_listing.get_text()"
   ]
  },
  {
   "cell_type": "code",
   "execution_count": 25,
   "metadata": {
    "ExecuteTime": {
     "end_time": "2019-09-06T02:09:30.367947Z",
     "start_time": "2019-09-06T02:09:30.363064Z"
    }
   },
   "outputs": [
    {
     "data": {
      "text/plain": [
       "['BLT\\r', 'Old Oak Tap', 'Read more ']"
      ]
     },
     "execution_count": 25,
     "metadata": {},
     "output_type": "execute_result"
    }
   ],
   "source": [
    "div_listing.get_text().split('\\n')"
   ]
  },
  {
   "cell_type": "code",
   "execution_count": 26,
   "metadata": {
    "ExecuteTime": {
     "end_time": "2019-09-06T02:09:33.864263Z",
     "start_time": "2019-09-06T02:09:33.858402Z"
    }
   },
   "outputs": [
    {
     "data": {
      "text/plain": [
       "'BLT'"
      ]
     },
     "execution_count": 26,
     "metadata": {},
     "output_type": "execute_result"
    }
   ],
   "source": [
    "# 메뉴\n",
    "data_2 = div_listing.get_text().split('\\n')[0]\n",
    "data_2 = data_2.strip()\n",
    "data_2"
   ]
  },
  {
   "cell_type": "code",
   "execution_count": 27,
   "metadata": {
    "ExecuteTime": {
     "end_time": "2019-09-06T02:09:38.912434Z",
     "start_time": "2019-09-06T02:09:38.906574Z"
    }
   },
   "outputs": [
    {
     "data": {
      "text/plain": [
       "'Old Oak Tap'"
      ]
     },
     "execution_count": 27,
     "metadata": {},
     "output_type": "execute_result"
    }
   ],
   "source": [
    "# 카페\n",
    "data_3 = div_listing.get_text().split('\\n')[1]\n",
    "data_3 = data_3.strip()\n",
    "data_3"
   ]
  },
  {
   "cell_type": "code",
   "execution_count": 28,
   "metadata": {
    "ExecuteTime": {
     "end_time": "2019-09-06T02:09:43.240832Z",
     "start_time": "2019-09-06T02:09:43.234973Z"
    }
   },
   "outputs": [
    {
     "data": {
      "text/plain": [
       "'/Chicago-Magazine/November-2012/Best-Sandwiches-in-Chicago-Old-Oak-Tap-BLT/'"
      ]
     },
     "execution_count": 28,
     "metadata": {},
     "output_type": "execute_result"
    }
   ],
   "source": [
    "# 링크(상세페이지)\n",
    "data_4 = div_listing.find('a')['href']\n",
    "data_4"
   ]
  },
  {
   "cell_type": "markdown",
   "metadata": {},
   "source": [
    "## STEP2 : 메인페이지 정보 크롤링 모듈\n",
    "### 메인페이지의 타겟데이터를 한번에 수집"
   ]
  },
  {
   "cell_type": "code",
   "execution_count": 29,
   "metadata": {
    "ExecuteTime": {
     "end_time": "2019-09-06T02:09:58.200763Z",
     "start_time": "2019-09-06T02:09:58.187090Z"
    }
   },
   "outputs": [],
   "source": [
    "def getMainpageData(soup):\n",
    "    ret_dict  = dict()\n",
    "    columns   = [ '랭킹', '메뉴', '카페', '링크' ]\n",
    "    rank_list = list()\n",
    "    menu_list = list()\n",
    "    cafe_list = list()\n",
    "    link_list = list()\n",
    "    \n",
    "    div_tags = soup.find_all('div', 'sammy')\n",
    "    total = len(div_tags)\n",
    "    \n",
    "    for idx in range(total):\n",
    "        div_tag = div_tags[idx]\n",
    "        \n",
    "        # 랭킹\n",
    "        data_1 = div_tag.find('div', 'sammyRank')\n",
    "        data_1 = data_1.get_text()\n",
    "        \n",
    "        div_listing = div_tag.find('div', 'sammyListing')\n",
    "        \n",
    "        # 메뉴\n",
    "        data_2 = div_listing.get_text().split('\\n')[0]\n",
    "        data_2 = data_2.strip()    \n",
    "\n",
    "        # 카페\n",
    "        data_3 = div_listing.get_text().split('\\n')[1]\n",
    "        data_3 = data_3.strip()\n",
    "\n",
    "        # 링크(상세페이지)\n",
    "        data_4 = div_listing.find('a')['href']\n",
    "        \n",
    "        rank_list.append(data_1)\n",
    "        menu_list.append(data_2)\n",
    "        cafe_list.append(data_3)\n",
    "        link_list.append(data_4)\n",
    "    else:\n",
    "        print('크롤링 완료!!!')\n",
    "    \n",
    "    ret_dict[columns[0]] = rank_list\n",
    "    ret_dict[columns[1]] = menu_list\n",
    "    ret_dict[columns[2]] = cafe_list\n",
    "    ret_dict[columns[3]] = link_list\n",
    "    \n",
    "    return ret_dict"
   ]
  },
  {
   "cell_type": "code",
   "execution_count": 30,
   "metadata": {
    "ExecuteTime": {
     "end_time": "2019-09-06T02:10:02.128745Z",
     "start_time": "2019-09-06T02:10:02.107260Z"
    }
   },
   "outputs": [
    {
     "name": "stdout",
     "output_type": "stream",
     "text": [
      "크롤링 완료!!!\n"
     ]
    }
   ],
   "source": [
    "ret_dict = getMainpageData(soup)"
   ]
  },
  {
   "cell_type": "code",
   "execution_count": 31,
   "metadata": {
    "ExecuteTime": {
     "end_time": "2019-09-06T02:10:18.543901Z",
     "start_time": "2019-09-06T02:10:18.538965Z"
    }
   },
   "outputs": [
    {
     "data": {
      "text/plain": [
       "dict_keys(['랭킹', '메뉴', '카페', '링크'])"
      ]
     },
     "execution_count": 31,
     "metadata": {},
     "output_type": "execute_result"
    }
   ],
   "source": [
    "ret_dict.keys()"
   ]
  },
  {
   "cell_type": "code",
   "execution_count": 32,
   "metadata": {
    "ExecuteTime": {
     "end_time": "2019-09-06T02:10:22.096807Z",
     "start_time": "2019-09-06T02:10:22.091924Z"
    }
   },
   "outputs": [
    {
     "data": {
      "text/plain": [
       "['1', '2', '3', '4', '5', '6', '7', '8', '9', '10']"
      ]
     },
     "execution_count": 32,
     "metadata": {},
     "output_type": "execute_result"
    }
   ],
   "source": [
    "ret_dict['랭킹'][:10]"
   ]
  },
  {
   "cell_type": "code",
   "execution_count": 33,
   "metadata": {
    "ExecuteTime": {
     "end_time": "2019-09-06T02:10:26.593186Z",
     "start_time": "2019-09-06T02:10:26.588303Z"
    }
   },
   "outputs": [
    {
     "data": {
      "text/plain": [
       "['BLT',\n",
       " 'Fried Bologna',\n",
       " 'Woodland Mushroom',\n",
       " 'Roast Beef',\n",
       " 'PB&L',\n",
       " 'Belgian Chicken Curry Salad',\n",
       " 'Lobster Roll',\n",
       " 'Smoked Salmon Salad',\n",
       " 'Atomica Cemitas',\n",
       " 'Grilled Laughing Bird Shrimp and Fried Po’ Boy']"
      ]
     },
     "execution_count": 33,
     "metadata": {},
     "output_type": "execute_result"
    }
   ],
   "source": [
    "ret_dict['메뉴'][:10]"
   ]
  },
  {
   "cell_type": "code",
   "execution_count": 34,
   "metadata": {
    "ExecuteTime": {
     "end_time": "2019-09-06T02:10:29.761355Z",
     "start_time": "2019-09-06T02:10:29.755496Z"
    }
   },
   "outputs": [
    {
     "data": {
      "text/plain": [
       "['Old Oak Tap',\n",
       " 'Au Cheval',\n",
       " 'Xoco',\n",
       " 'Al’s Deli',\n",
       " 'Publican Quality Meats',\n",
       " 'Hendrickx Belgian Bread Crafter',\n",
       " 'Acadia',\n",
       " 'Birchwood Kitchen',\n",
       " 'Cemitas Puebla',\n",
       " 'Nana']"
      ]
     },
     "execution_count": 34,
     "metadata": {},
     "output_type": "execute_result"
    }
   ],
   "source": [
    "ret_dict['카페'][:10]"
   ]
  },
  {
   "cell_type": "code",
   "execution_count": 35,
   "metadata": {
    "ExecuteTime": {
     "end_time": "2019-09-06T02:10:34.008695Z",
     "start_time": "2019-09-06T02:10:34.002835Z"
    }
   },
   "outputs": [
    {
     "data": {
      "text/plain": [
       "['/Chicago-Magazine/November-2012/Best-Sandwiches-in-Chicago-Old-Oak-Tap-BLT/',\n",
       " '/Chicago-Magazine/November-2012/Best-Sandwiches-in-Chicago-Au-Cheval-Fried-Bologna/',\n",
       " '/Chicago-Magazine/November-2012/Best-Sandwiches-in-Chicago-Xoco-Woodland-Mushroom/',\n",
       " '/Chicago-Magazine/November-2012/Best-Sandwiches-in-Chicago-Als-Deli-Roast-Beef/',\n",
       " '/Chicago-Magazine/November-2012/Best-Sandwiches-in-Chicago-Publican-Quality-Meats-PB-L/',\n",
       " 'http://www.chicagomag.com/Chicago-Magazine/November-2012/Best-Sandwiches-in-Chicago-Hendrickx-Belgian-Bread-Crafter-Belgian-Chicken-Curry-Salad/',\n",
       " '/Chicago-Magazine/November-2012/Best-Sandwiches-in-Chicago-Acadia-Lobster-Roll/',\n",
       " '/Chicago-Magazine/November-2012/Best-Sandwiches-in-Chicago-Birchwood-Kitchen-Smoked-Salmon-Salad/',\n",
       " '/Chicago-Magazine/November-2012/Best-Sandwiches-in-Chicago-Cemitas-Puebla-Atomica-Cemitas/',\n",
       " '/Chicago-Magazine/November-2012/Best-Sandwiches-in-Chicago-Nana-Grilled-Laughing-Bird-Shrimp-and-Fried-Oyster-Po-Boy/']"
      ]
     },
     "execution_count": 35,
     "metadata": {},
     "output_type": "execute_result"
    }
   ],
   "source": [
    "ret_dict['링크'][:10]"
   ]
  },
  {
   "cell_type": "markdown",
   "metadata": {},
   "source": [
    "### STEP3 : 메인페이지 정보 크롤링 모듈 리팩토링\n",
    "## 개선할 부분 체킹 후 수정 보완"
   ]
  },
  {
   "cell_type": "code",
   "execution_count": 36,
   "metadata": {
    "ExecuteTime": {
     "end_time": "2019-09-06T02:10:46.016323Z",
     "start_time": "2019-09-06T02:10:46.011411Z"
    }
   },
   "outputs": [
    {
     "data": {
      "text/plain": [
       "'/Chicago-Magazine/November-2012/Best-Sandwiches-in-Chicago-Old-Oak-Tap-BLT/'"
      ]
     },
     "execution_count": 36,
     "metadata": {},
     "output_type": "execute_result"
    }
   ],
   "source": [
    "ret_dict['링크'][0]"
   ]
  },
  {
   "cell_type": "code",
   "execution_count": 37,
   "metadata": {
    "ExecuteTime": {
     "end_time": "2019-09-06T02:10:49.376857Z",
     "start_time": "2019-09-06T02:10:49.371975Z"
    }
   },
   "outputs": [
    {
     "data": {
      "text/plain": [
       "'http://www.chicagomag.com/Chicago-Magazine/November-2012/Best-Sandwiches-in-Chicago-Hendrickx-Belgian-Bread-Crafter-Belgian-Chicken-Curry-Salad/'"
      ]
     },
     "execution_count": 37,
     "metadata": {},
     "output_type": "execute_result"
    }
   ],
   "source": [
    "ret_dict['링크'][5]"
   ]
  },
  {
   "cell_type": "code",
   "execution_count": 38,
   "metadata": {
    "ExecuteTime": {
     "end_time": "2019-09-06T02:10:52.919075Z",
     "start_time": "2019-09-06T02:10:52.915211Z"
    }
   },
   "outputs": [],
   "source": [
    "url_base = 'http://www.chicagomag.com'"
   ]
  },
  {
   "cell_type": "code",
   "execution_count": 39,
   "metadata": {
    "ExecuteTime": {
     "end_time": "2019-09-06T02:10:56.464275Z",
     "start_time": "2019-09-06T02:10:56.459339Z"
    }
   },
   "outputs": [
    {
     "name": "stdout",
     "output_type": "stream",
     "text": [
      "http://www.chicagomag.com/Chicago-Magazine/November-2012/Best-Sandwiches-in-Chicago-Old-Oak-Tap-BLT/\n"
     ]
    }
   ],
   "source": [
    "data_4 = ret_dict['링크'][0]\n",
    "if not data_4.startswith(url_base):\n",
    "    data_4 = url_base + data_4\n",
    "    \n",
    "print(data_4)"
   ]
  },
  {
   "cell_type": "code",
   "execution_count": 40,
   "metadata": {
    "ExecuteTime": {
     "end_time": "2019-09-06T02:10:59.784745Z",
     "start_time": "2019-09-06T02:10:59.778929Z"
    }
   },
   "outputs": [
    {
     "name": "stdout",
     "output_type": "stream",
     "text": [
      "http://www.chicagomag.com/Chicago-Magazine/November-2012/Best-Sandwiches-in-Chicago-Hendrickx-Belgian-Bread-Crafter-Belgian-Chicken-Curry-Salad/\n"
     ]
    }
   ],
   "source": [
    "data_4 = ret_dict['링크'][5]\n",
    "if not data_4.startswith(url_base):\n",
    "    data_4 = url_base + data_4\n",
    "    \n",
    "print(data_4)"
   ]
  },
  {
   "cell_type": "code",
   "execution_count": 41,
   "metadata": {
    "ExecuteTime": {
     "end_time": "2019-09-06T02:11:12.075566Z",
     "start_time": "2019-09-06T02:11:12.059940Z"
    }
   },
   "outputs": [],
   "source": [
    "def getMainpageData(soup):\n",
    "    ret_dict  = dict()\n",
    "    columns   = [ '랭킹', '메뉴', '카페', '링크' ]\n",
    "    rank_list = list()\n",
    "    menu_list = list()\n",
    "    cafe_list = list()\n",
    "    link_list = list()\n",
    "    \n",
    "    div_tags = soup.find_all('div', 'sammy')\n",
    "    total = len(div_tags)\n",
    "    \n",
    "    for idx in range(total):\n",
    "        div_tag = div_tags[idx]\n",
    "        \n",
    "        # 랭킹\n",
    "        data_1 = div_tag.find('div', 'sammyRank')\n",
    "        data_1 = data_1.get_text()\n",
    "        \n",
    "        div_listing = div_tag.find('div', 'sammyListing')\n",
    "        \n",
    "\n",
    "        # # 메뉴\n",
    "        # data_2 = div_listing.get_text().split('\\n')[0]\n",
    "        # data_2 = data_2.strip()    \n",
    "\n",
    "        # # 카페\n",
    "        # data_3 = div_listing.get_text().split('\\n')[1]\n",
    "        # data_3 = data_3.strip()\n",
    "\n",
    "        data_split = div_listing.get_text().split('\\n')\n",
    "        \n",
    "        # 메뉴\n",
    "        data_2 = data_split[0].strip()    \n",
    "\n",
    "        # 카페\n",
    "        data_3 = data_split[1].strip()\n",
    "\n",
    "        # 링크(상세페이지)\n",
    "        data_4 = div_listing.find('a')['href']\n",
    "        if not data_4.startswith(url_base):\n",
    "            data_4 = url_base + data_4\n",
    "    \n",
    "        rank_list.append(data_1)\n",
    "        menu_list.append(data_2)\n",
    "        cafe_list.append(data_3)\n",
    "        link_list.append(data_4)\n",
    "        \n",
    "        time.sleep(0.3)\n",
    "        print('■', end='')\n",
    "    \n",
    "    else:\n",
    "        time.sleep(1)\n",
    "        print(' 크롤링 완료!!! ')\n",
    "        \n",
    "    ret_dict[columns[0]] = rank_list\n",
    "    ret_dict[columns[1]] = menu_list\n",
    "    ret_dict[columns[2]] = cafe_list\n",
    "    ret_dict[columns[3]] = link_list\n",
    "    \n",
    "    return ret_dict"
   ]
  },
  {
   "cell_type": "code",
   "execution_count": 42,
   "metadata": {
    "ExecuteTime": {
     "end_time": "2019-09-06T02:11:32.632561Z",
     "start_time": "2019-09-06T02:11:16.571947Z"
    }
   },
   "outputs": [
    {
     "name": "stdout",
     "output_type": "stream",
     "text": [
      "크롤링: □□□□□□□□□□□□□□□□□□□□□□□□□□□□□□□□□□□□□□□□□□□□□□□□□□ 100%\n",
      "진행률: ■■■■■■■■■■■■■■■■■■■■■■■■■■■■■■■■■■■■■■■■■■■■■■■■■■ 크롤링 완료!!! \n"
     ]
    }
   ],
   "source": [
    "print('크롤링:', '□'*50, '100%')\n",
    "print('진행률:', end=' ')\n",
    "ret_dict = getMainpageData(soup)"
   ]
  },
  {
   "cell_type": "code",
   "execution_count": null,
   "metadata": {},
   "outputs": [],
   "source": [
    "ret_dict['링크'][:10]"
   ]
  },
  {
   "cell_type": "markdown",
   "metadata": {},
   "source": [
    "### STEP4 : 메인페이지 크롤링 데이터 파일로 저장\n",
    "## CSV 파일로 저장"
   ]
  },
  {
   "cell_type": "code",
   "execution_count": 43,
   "metadata": {
    "ExecuteTime": {
     "end_time": "2019-09-06T02:11:40.625271Z",
     "start_time": "2019-09-06T02:11:39.844915Z"
    }
   },
   "outputs": [],
   "source": [
    "import pandas as pd"
   ]
  },
  {
   "cell_type": "code",
   "execution_count": 44,
   "metadata": {
    "ExecuteTime": {
     "end_time": "2019-09-06T02:11:42.808971Z",
     "start_time": "2019-09-06T02:11:42.804088Z"
    }
   },
   "outputs": [
    {
     "data": {
      "text/plain": [
       "dict_keys(['랭킹', '메뉴', '카페', '링크'])"
      ]
     },
     "execution_count": 44,
     "metadata": {},
     "output_type": "execute_result"
    }
   ],
   "source": [
    "ret_dict.keys()"
   ]
  },
  {
   "cell_type": "code",
   "execution_count": 45,
   "metadata": {
    "ExecuteTime": {
     "end_time": "2019-09-06T02:11:45.744705Z",
     "start_time": "2019-09-06T02:11:45.716383Z"
    }
   },
   "outputs": [
    {
     "data": {
      "text/html": [
       "<div>\n",
       "<style scoped>\n",
       "    .dataframe tbody tr th:only-of-type {\n",
       "        vertical-align: middle;\n",
       "    }\n",
       "\n",
       "    .dataframe tbody tr th {\n",
       "        vertical-align: top;\n",
       "    }\n",
       "\n",
       "    .dataframe thead th {\n",
       "        text-align: right;\n",
       "    }\n",
       "</style>\n",
       "<table border=\"1\" class=\"dataframe\">\n",
       "  <thead>\n",
       "    <tr style=\"text-align: right;\">\n",
       "      <th></th>\n",
       "      <th>랭킹</th>\n",
       "      <th>메뉴</th>\n",
       "      <th>카페</th>\n",
       "      <th>링크</th>\n",
       "    </tr>\n",
       "  </thead>\n",
       "  <tbody>\n",
       "    <tr>\n",
       "      <th>0</th>\n",
       "      <td>1</td>\n",
       "      <td>BLT</td>\n",
       "      <td>Old Oak Tap</td>\n",
       "      <td>http://www.chicagomag.com/Chicago-Magazine/Nov...</td>\n",
       "    </tr>\n",
       "    <tr>\n",
       "      <th>1</th>\n",
       "      <td>2</td>\n",
       "      <td>Fried Bologna</td>\n",
       "      <td>Au Cheval</td>\n",
       "      <td>http://www.chicagomag.com/Chicago-Magazine/Nov...</td>\n",
       "    </tr>\n",
       "    <tr>\n",
       "      <th>2</th>\n",
       "      <td>3</td>\n",
       "      <td>Woodland Mushroom</td>\n",
       "      <td>Xoco</td>\n",
       "      <td>http://www.chicagomag.com/Chicago-Magazine/Nov...</td>\n",
       "    </tr>\n",
       "    <tr>\n",
       "      <th>3</th>\n",
       "      <td>4</td>\n",
       "      <td>Roast Beef</td>\n",
       "      <td>Al’s Deli</td>\n",
       "      <td>http://www.chicagomag.com/Chicago-Magazine/Nov...</td>\n",
       "    </tr>\n",
       "    <tr>\n",
       "      <th>4</th>\n",
       "      <td>5</td>\n",
       "      <td>PB&amp;L</td>\n",
       "      <td>Publican Quality Meats</td>\n",
       "      <td>http://www.chicagomag.com/Chicago-Magazine/Nov...</td>\n",
       "    </tr>\n",
       "    <tr>\n",
       "      <th>5</th>\n",
       "      <td>6</td>\n",
       "      <td>Belgian Chicken Curry Salad</td>\n",
       "      <td>Hendrickx Belgian Bread Crafter</td>\n",
       "      <td>http://www.chicagomag.com/Chicago-Magazine/Nov...</td>\n",
       "    </tr>\n",
       "    <tr>\n",
       "      <th>6</th>\n",
       "      <td>7</td>\n",
       "      <td>Lobster Roll</td>\n",
       "      <td>Acadia</td>\n",
       "      <td>http://www.chicagomag.com/Chicago-Magazine/Nov...</td>\n",
       "    </tr>\n",
       "    <tr>\n",
       "      <th>7</th>\n",
       "      <td>8</td>\n",
       "      <td>Smoked Salmon Salad</td>\n",
       "      <td>Birchwood Kitchen</td>\n",
       "      <td>http://www.chicagomag.com/Chicago-Magazine/Nov...</td>\n",
       "    </tr>\n",
       "    <tr>\n",
       "      <th>8</th>\n",
       "      <td>9</td>\n",
       "      <td>Atomica Cemitas</td>\n",
       "      <td>Cemitas Puebla</td>\n",
       "      <td>http://www.chicagomag.com/Chicago-Magazine/Nov...</td>\n",
       "    </tr>\n",
       "    <tr>\n",
       "      <th>9</th>\n",
       "      <td>10</td>\n",
       "      <td>Grilled Laughing Bird Shrimp and Fried Po’ Boy</td>\n",
       "      <td>Nana</td>\n",
       "      <td>http://www.chicagomag.com/Chicago-Magazine/Nov...</td>\n",
       "    </tr>\n",
       "  </tbody>\n",
       "</table>\n",
       "</div>"
      ],
      "text/plain": [
       "   랭킹                                              메뉴  \\\n",
       "0   1                                             BLT   \n",
       "1   2                                   Fried Bologna   \n",
       "2   3                               Woodland Mushroom   \n",
       "3   4                                      Roast Beef   \n",
       "4   5                                            PB&L   \n",
       "5   6                     Belgian Chicken Curry Salad   \n",
       "6   7                                    Lobster Roll   \n",
       "7   8                             Smoked Salmon Salad   \n",
       "8   9                                 Atomica Cemitas   \n",
       "9  10  Grilled Laughing Bird Shrimp and Fried Po’ Boy   \n",
       "\n",
       "                                카페  \\\n",
       "0                      Old Oak Tap   \n",
       "1                        Au Cheval   \n",
       "2                             Xoco   \n",
       "3                        Al’s Deli   \n",
       "4           Publican Quality Meats   \n",
       "5  Hendrickx Belgian Bread Crafter   \n",
       "6                           Acadia   \n",
       "7                Birchwood Kitchen   \n",
       "8                   Cemitas Puebla   \n",
       "9                             Nana   \n",
       "\n",
       "                                                  링크  \n",
       "0  http://www.chicagomag.com/Chicago-Magazine/Nov...  \n",
       "1  http://www.chicagomag.com/Chicago-Magazine/Nov...  \n",
       "2  http://www.chicagomag.com/Chicago-Magazine/Nov...  \n",
       "3  http://www.chicagomag.com/Chicago-Magazine/Nov...  \n",
       "4  http://www.chicagomag.com/Chicago-Magazine/Nov...  \n",
       "5  http://www.chicagomag.com/Chicago-Magazine/Nov...  \n",
       "6  http://www.chicagomag.com/Chicago-Magazine/Nov...  \n",
       "7  http://www.chicagomag.com/Chicago-Magazine/Nov...  \n",
       "8  http://www.chicagomag.com/Chicago-Magazine/Nov...  \n",
       "9  http://www.chicagomag.com/Chicago-Magazine/Nov...  "
      ]
     },
     "execution_count": 45,
     "metadata": {},
     "output_type": "execute_result"
    }
   ],
   "source": [
    "df = pd.DataFrame(ret_dict)\n",
    "df.head(10)"
   ]
  },
  {
   "cell_type": "code",
   "execution_count": 46,
   "metadata": {
    "ExecuteTime": {
     "end_time": "2019-09-06T02:21:31.690537Z",
     "start_time": "2019-09-06T02:21:31.680730Z"
    }
   },
   "outputs": [],
   "source": [
    "df.to_csv('./data/chicagomag_info.csv', encoding='utf-8')"
   ]
  }
 ],
 "metadata": {
  "kernelspec": {
   "display_name": "Python 3",
   "language": "python",
   "name": "python3"
  },
  "language_info": {
   "codemirror_mode": {
    "name": "ipython",
    "version": 3
   },
   "file_extension": ".py",
   "mimetype": "text/x-python",
   "name": "python",
   "nbconvert_exporter": "python",
   "pygments_lexer": "ipython3",
   "version": "3.7.3"
  },
  "varInspector": {
   "cols": {
    "lenName": 16,
    "lenType": 16,
    "lenVar": 40
   },
   "kernels_config": {
    "python": {
     "delete_cmd_postfix": "",
     "delete_cmd_prefix": "del ",
     "library": "var_list.py",
     "varRefreshCmd": "print(var_dic_list())"
    },
    "r": {
     "delete_cmd_postfix": ") ",
     "delete_cmd_prefix": "rm(",
     "library": "var_list.r",
     "varRefreshCmd": "cat(var_dic_list()) "
    }
   },
   "types_to_exclude": [
    "module",
    "function",
    "builtin_function_or_method",
    "instance",
    "_Feature"
   ],
   "window_display": false
  }
 },
 "nbformat": 4,
 "nbformat_minor": 2
}
