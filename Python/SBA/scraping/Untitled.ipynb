{
 "cells": [
  {
   "cell_type": "code",
   "execution_count": 2,
   "metadata": {},
   "outputs": [],
   "source": [
    "import requests\n",
    "from bs4 import BeautifulSoup"
   ]
  },
  {
   "cell_type": "code",
   "execution_count": 72,
   "metadata": {},
   "outputs": [
    {
     "data": {
      "text/plain": [
       "<title>극장판 헬로카봇 : 달나라를 구해줘! : 네이버 영화</title>"
      ]
     },
     "execution_count": 72,
     "metadata": {},
     "output_type": "execute_result"
    }
   ],
   "source": [
    "# 주소를 url에 넣는다.\n",
    "url = 'https://movie.naver.com/movie/bi/mi/basic.nhn?code=187366'\n",
    "html_food = requests.get(url).text\n",
    "soup= BeautifulSoup(html_food, 'lxml')\n",
    "soup.title # 제대로 실행했는지 사이트 확인"
   ]
  },
  {
   "cell_type": "code",
   "execution_count": null,
   "metadata": {},
   "outputs": [],
   "source": [
    "영화랭킹 TOP 10 :\n",
    "데이터수집 : 순위, 영화명, 변동폭, 평점(관람객/평론가/네티즌), 장르, 감독, 출연, 등급"
   ]
  },
  {
   "cell_type": "code",
   "execution_count": 34,
   "metadata": {},
   "outputs": [
    {
     "data": {
      "text/plain": [
       "[<a href=\"./basic.nhn?code=180351\">변신</a>,\n",
       " <a class=\"opening\" href=\"/movie/running/current.nhn?order=reserve\"><em>상영중</em></a>,\n",
       " <a href=\"./basic.nhn?code=180351\">변신</a>,\n",
       " <a class=\"opening\" href=\"/movie/running/current.nhn?order=reserve\"><em>상영중</em></a>]"
      ]
     },
     "execution_count": 34,
     "metadata": {},
     "output_type": "execute_result"
    }
   ],
   "source": [
    "soup.select('h3.h_movie a')"
   ]
  },
  {
   "cell_type": "code",
   "execution_count": 35,
   "metadata": {},
   "outputs": [
    {
     "data": {
      "text/plain": [
       "'width:70.4%'"
      ]
     },
     "execution_count": 35,
     "metadata": {},
     "output_type": "execute_result"
    }
   ],
   "source": [
    "soup.select('span.st_off span')[7]['style']"
   ]
  },
  {
   "cell_type": "code",
   "execution_count": 36,
   "metadata": {},
   "outputs": [
    {
     "data": {
      "text/plain": [
       "['관람객 평점 8.03점',\n",
       " '',\n",
       " '',\n",
       " '0점',\n",
       " '',\n",
       " '관람객 평점 8.03점',\n",
       " '',\n",
       " '',\n",
       " '0점',\n",
       " '',\n",
       " '평점 - 총 10점 중',\n",
       " '평점 - 총 10점 중',\n",
       " '\\n\\n',\n",
       " '\\n\\n',\n",
       " '\\n\\n',\n",
       " '\\n\\n',\n",
       " '\\n\\n']"
      ]
     },
     "execution_count": 36,
     "metadata": {},
     "output_type": "execute_result"
    }
   ],
   "source": [
    "[i.text for i in soup.select('span.st_off')]"
   ]
  },
  {
   "cell_type": "code",
   "execution_count": 73,
   "metadata": {},
   "outputs": [
    {
     "data": {
      "text/plain": [
       "[<a href=\"/movie/bi/pi/basic.nhn?code=355328\">최신규</a>,\n",
       " <a href=\"/movie/bi/pi/basic.nhn?code=329476\">김진철</a>,\n",
       " <a href=\"/movie/bi/pi/basic.nhn?code=235282\">이지현<span>(차탄 / 모나 한국어 목소리)</span></a>,\n",
       " <a href=\"/movie/bi/pi/basic.nhn?code=48885\">김용준<span>(아빠 한국어 목소리)</span></a>,\n",
       " <a href=\"/movie/bi/pi/basic.nhn?code=5522\">양정화<span>(엄마 / 장군 한국어 목소리)</span></a>,\n",
       " <a href=\"/movie/sdb/browsing/bmovie.nhn?genre=15\">애니메이션</a>,\n",
       " <a href=\"/movie/sdb/browsing/bmovie.nhn?nation=KR\">한국</a>,\n",
       " <a href=\"/movie/sdb/browsing/bmovie.nhn?open=2019\"> 2019</a>,\n",
       " <a href=\"/movie/sdb/browsing/bmovie.nhn?open=20190904\">.09.04</a>,\n",
       " <a href=\"/movie/bi/pi/basic.nhn?code=355328\">최신규</a>,\n",
       " <a href=\"/movie/bi/pi/basic.nhn?code=329476\">김진철</a>,\n",
       " <a href=\"/movie/bi/pi/basic.nhn?code=235282\">이지현</a>,\n",
       " <a href=\"/movie/bi/pi/basic.nhn?code=48885\">김용준</a>,\n",
       " <a href=\"/movie/bi/pi/basic.nhn?code=5522\">양정화</a>,\n",
       " <a class=\"more\" href=\"detail.nhn?code=187366\" title=\"더보기\">더보기</a>,\n",
       " <a href=\"/movie/sdb/browsing/bmovie.nhn?grade=1001001\">전체 관람가</a>,\n",
       " <a href=\"/movie/running/current.nhn?view=list&amp;tab=normal&amp;order=reserve\">예매율 1위</a>,\n",
       " <a class=\"help\" href=\"#\" id=\"boxofficeHelpButtonBasic\" title=\"누적관객 도움말 보기\">누적관객 도움말</a>,\n",
       " <a class=\"go_report2\" href=\"#\" onclick=\"javascript:common.report('false','nanu****', 'tzLpHd82HCsBN+RJhAMsgSehXB0fZZHM10vkFzcx3JE=', '갑분 금연송, 갑분 아모르파티 ', '16121479', 'point_after', false);return false;\"><em>신고</em></a>,\n",
       " <a class=\"go_report2\" href=\"#\" onclick=\"javascript:common.report('false','eric****', 'XwUeVTA3E9cSnYVWNKWEwgCEYJ9WVPM5Xio3YvLQD80=', '색채나 캐릭터 더 예쁘고 발전했는데 스토리가 뭔가 급하게 만든것 같고 시즌6랑 연결고리도 하나도 없음. 추석에 맞춰 억지로 끼워 맞춘 느낌이 듬.  OST가  처음에는 좋았는데 갈수록 이상해지는 것 같음. 카봇 시계칩은 좋은데, 키트는 싫어요 ', '16121505', 'point_after', false);return false;\"><em>신고</em></a>,\n",
       " <a class=\"go_report2\" href=\"#\" onclick=\"javascript:common.report('false','el_t****', 'hcz2BplzTGjhPmDgZwrG9GO+zZv3uwaTLcq/cZj5N0o=', '실망 대실망... 억지로 짜집기한 것 같은 느낌. 아이도 저번 옴파로스편이 더 나았다고 하네요. ', '16126420', 'point_after', false);return false;\"><em>신고</em></a>,\n",
       " <a class=\"go_report2\" href=\"#\" onclick=\"javascript:common.report('false','love****', 'mih+9Htu9yBX6s4ZiqA2fcIrAr4W5u2yfD0M5cJxIAA=', '아이는 좋아했으나 담배피는 모습이 나와서 좀 놀랐네요. 굳이 그런 장면이 있어야 했나 싶어요. ', '16119694', 'point_after', false);return false;\"><em>신고</em></a>,\n",
       " <a class=\"go_report2\" href=\"#\" onclick=\"javascript:common.report('false','brea****', 'cHyRd8bW0HF1FoMeMih8IPAREEi+vLMEDkdf0UlHj78=', '역대최악.뜬금없는 노래.대충넘어가는 스토리.로봇 세대는 엑스트라.TV 1개에피소드보다 못한 최악의 극장판. ', '16126718', 'point_after', false);return false;\"><em>신고</em></a>]"
      ]
     },
     "execution_count": 73,
     "metadata": {},
     "output_type": "execute_result"
    }
   ],
   "source": [
    "soup.select('dd a')"
   ]
  },
  {
   "cell_type": "code",
   "execution_count": 74,
   "metadata": {},
   "outputs": [
    {
     "data": {
      "text/plain": [
       "'이지현(차탄 / 모나 한국어 목소리), 김용준(아빠 한국어 목소리), 양정화(엄마 / 장군 한국어 목소리)'"
      ]
     },
     "execution_count": 74,
     "metadata": {},
     "output_type": "execute_result"
    }
   ],
   "source": [
    "soup.select('dd > p')[2].text"
   ]
  },
  {
   "cell_type": "code",
   "execution_count": 80,
   "metadata": {},
   "outputs": [
    {
     "data": {
      "text/plain": [
       "0"
      ]
     },
     "execution_count": 80,
     "metadata": {},
     "output_type": "execute_result"
    }
   ],
   "source": [
    "# 첫째 줄은 둘째 줄에 주어질 수의 갯수 (최대 11개)\n",
    "# 둘째 줄은 수의 갯수(1부터 100까지)\n",
    "# 셋째 줄은 수의 갯수 - 1만큼의 +-*// 갯수\n"
   ]
  },
  {
   "cell_type": "code",
   "execution_count": 81,
   "metadata": {},
   "outputs": [
    {
     "ename": "SyntaxError",
     "evalue": "invalid syntax (<ipython-input-81-ec3de55a26c6>, line 2)",
     "output_type": "error",
     "traceback": [
      "\u001b[1;36m  File \u001b[1;32m\"<ipython-input-81-ec3de55a26c6>\"\u001b[1;36m, line \u001b[1;32m2\u001b[0m\n\u001b[1;33m    1 2 3 4\u001b[0m\n\u001b[1;37m      ^\u001b[0m\n\u001b[1;31mSyntaxError\u001b[0m\u001b[1;31m:\u001b[0m invalid syntax\n"
     ]
    }
   ],
   "source": [
    "input()\n",
    "1 2 3 4\n",
    "1 1 1 0\n",
    "\n",
    "1//4"
   ]
  },
  {
   "cell_type": "code",
   "execution_count": 89,
   "metadata": {},
   "outputs": [
    {
     "name": "stdout",
     "output_type": "stream",
     "text": [
      "0 2\n",
      "['0', '0']\n",
      "1 1\n",
      "['1']\n",
      "2 1\n",
      "['2']\n",
      "3 1\n",
      "['3']\n"
     ]
    }
   ],
   "source": [
    "for index, value in enumerate([2, 1, 1, 1]):\n",
    "    print(index, value)\n",
    "    print([str(index)] * value)"
   ]
  }
 ],
 "metadata": {
  "kernelspec": {
   "display_name": "Python 3",
   "language": "python",
   "name": "python3"
  },
  "language_info": {
   "codemirror_mode": {
    "name": "ipython",
    "version": 3
   },
   "file_extension": ".py",
   "mimetype": "text/x-python",
   "name": "python",
   "nbconvert_exporter": "python",
   "pygments_lexer": "ipython3",
   "version": "3.7.0"
  }
 },
 "nbformat": 4,
 "nbformat_minor": 2
}
