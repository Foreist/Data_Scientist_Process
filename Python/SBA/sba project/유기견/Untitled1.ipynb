{
 "cells": [
  {
   "cell_type": "code",
   "execution_count": 1,
   "metadata": {
    "ExecuteTime": {
     "end_time": "2019-09-18T05:11:17.572283Z",
     "start_time": "2019-09-18T05:11:16.826191Z"
    }
   },
   "outputs": [],
   "source": [
    "import requests\n",
    "from bs4 import BeautifulSoup\n",
    "import requests"
   ]
  },
  {
   "cell_type": "code",
   "execution_count": 15,
   "metadata": {
    "ExecuteTime": {
     "end_time": "2019-09-18T05:16:55.564819Z",
     "start_time": "2019-09-18T05:16:55.560913Z"
    }
   },
   "outputs": [],
   "source": [
    "특징 = []"
   ]
  },
  {
   "cell_type": "code",
   "execution_count": 20,
   "metadata": {
    "ExecuteTime": {
     "end_time": "2019-09-18T05:19:57.629225Z",
     "start_time": "2019-09-18T05:18:29.208980Z"
    }
   },
   "outputs": [],
   "source": [
    "ServiceKey = 'ePfZVL1%2BsyifhHhQoxgfW2sCTOIL71thr0v%2FSMFgGX7BPRmC4th9rUeE1kKSN7cteFjgQOvs%2F3f3G6DHB%2FQNvw%3D%3D'\n",
    "year = \"http://openapi.animal.go.kr/openapi/service/rest/abandonmentPublicSrvc/abandonmentPublic?bgnde=20170101&endde=20181231&upkind=417000&pageNo={page}&numOfRows=50000&ServiceKey=\"\n",
    "for i in range(1, 2): # 1부터 4까지 1개 1개 넣어서 5만 건 제대로 들어갔으면 그다음 실행\n",
    "    request = requests.get(year.format(page = i) + ServiceKey).text\n",
    "    soup = BeautifulSoup(request, 'lxml')    \n",
    "\n",
    "# append하면 나중에 이렇게됨 종 = [[50000개], [50000개]]\n",
    "    # 종\n",
    "    \n",
    "    특징 += [i.text for i in soup.select('item specialmark')]\n"
   ]
  },
  {
   "cell_type": "code",
   "execution_count": 24,
   "metadata": {
    "ExecuteTime": {
     "end_time": "2019-09-18T05:27:01.957059Z",
     "start_time": "2019-09-18T05:27:01.950223Z"
    }
   },
   "outputs": [
    {
     "data": {
      "text/plain": [
       "['18-1777슬기',\n",
       " '털이 약간 김',\n",
       " '어미와 함께 구조',\n",
       " '어미와 함께 구조',\n",
       " '새끼 두마리 출산',\n",
       " '옷 입고 있음(발톰 길음)',\n",
       " '양귀처짐.턱밑흰털섞임.엉덩이쪽오물오염.겁있음.소심.얌전함.사람따름.단미됨.털때탐.',\n",
       " '코검정. 마름. 사람좋아함. 활발함. 꼬리단미 안됨. 털상태 양호.',\n",
       " '파란바탕+빨간테두리목걸이.뒤로잘넘김.토검정.사람좋아함.활발함.단미안됨.털상태양호.',\n",
       " '다른옷착용하고있었음, 조용하고순함']"
      ]
     },
     "execution_count": 24,
     "metadata": {},
     "output_type": "execute_result"
    }
   ],
   "source": [
    "특징[:10]"
   ]
  },
  {
   "cell_type": "code",
   "execution_count": 25,
   "metadata": {
    "ExecuteTime": {
     "end_time": "2019-09-18T05:27:46.857210Z",
     "start_time": "2019-09-18T05:27:46.844513Z"
    }
   },
   "outputs": [
    {
     "ename": "TypeError",
     "evalue": "write() argument must be str, not list",
     "output_type": "error",
     "traceback": [
      "\u001b[1;31m---------------------------------------------------------------------------\u001b[0m",
      "\u001b[1;31mTypeError\u001b[0m                                 Traceback (most recent call last)",
      "\u001b[1;32m<ipython-input-25-b2691cfea6eb>\u001b[0m in \u001b[0;36m<module>\u001b[1;34m\u001b[0m\n\u001b[0;32m      1\u001b[0m \u001b[0mf\u001b[0m \u001b[1;33m=\u001b[0m \u001b[0mopen\u001b[0m\u001b[1;33m(\u001b[0m\u001b[1;34m\"새파일.txt\"\u001b[0m\u001b[1;33m,\u001b[0m \u001b[1;34m'w'\u001b[0m\u001b[1;33m)\u001b[0m\u001b[1;33m\u001b[0m\u001b[1;33m\u001b[0m\u001b[0m\n\u001b[1;32m----> 2\u001b[1;33m \u001b[0mf\u001b[0m\u001b[1;33m.\u001b[0m\u001b[0mwrite\u001b[0m\u001b[1;33m(\u001b[0m\u001b[0m특징\u001b[0m\u001b[1;33m)\u001b[0m\u001b[1;33m\u001b[0m\u001b[1;33m\u001b[0m\u001b[0m\n\u001b[0m\u001b[0;32m      3\u001b[0m \u001b[0mf\u001b[0m\u001b[1;33m.\u001b[0m\u001b[0mclose\u001b[0m\u001b[1;33m(\u001b[0m\u001b[1;33m)\u001b[0m\u001b[1;33m\u001b[0m\u001b[1;33m\u001b[0m\u001b[0m\n",
      "\u001b[1;31mTypeError\u001b[0m: write() argument must be str, not list"
     ]
    }
   ],
   "source": [
    "f = open(\"새파일.txt\", 'w')\n",
    "for i in 특징:\n",
    "f.write(특징)\n",
    "f.close()"
   ]
  }
 ],
 "metadata": {
  "kernelspec": {
   "display_name": "Python 3",
   "language": "python",
   "name": "python3"
  },
  "language_info": {
   "codemirror_mode": {
    "name": "ipython",
    "version": 3
   },
   "file_extension": ".py",
   "mimetype": "text/x-python",
   "name": "python",
   "nbconvert_exporter": "python",
   "pygments_lexer": "ipython3",
   "version": "3.7.3"
  },
  "varInspector": {
   "cols": {
    "lenName": 16,
    "lenType": 16,
    "lenVar": 40
   },
   "kernels_config": {
    "python": {
     "delete_cmd_postfix": "",
     "delete_cmd_prefix": "del ",
     "library": "var_list.py",
     "varRefreshCmd": "print(var_dic_list())"
    },
    "r": {
     "delete_cmd_postfix": ") ",
     "delete_cmd_prefix": "rm(",
     "library": "var_list.r",
     "varRefreshCmd": "cat(var_dic_list()) "
    }
   },
   "types_to_exclude": [
    "module",
    "function",
    "builtin_function_or_method",
    "instance",
    "_Feature"
   ],
   "window_display": false
  }
 },
 "nbformat": 4,
 "nbformat_minor": 2
}
