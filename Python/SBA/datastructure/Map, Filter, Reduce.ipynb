{
 "cells": [
  {
   "cell_type": "markdown",
   "metadata": {},
   "source": [
    "# Mission"
   ]
  },
  {
   "cell_type": "code",
   "execution_count": 36,
   "metadata": {
    "ExecuteTime": {
     "end_time": "2019-08-23T00:47:56.546568Z",
     "start_time": "2019-08-23T00:47:56.539731Z"
    }
   },
   "outputs": [
    {
     "data": {
      "text/plain": [
       "[1, 4, 9, 16, 25, 36, 49, 64, 81, 100]"
      ]
     },
     "execution_count": 36,
     "metadata": {},
     "output_type": "execute_result"
    }
   ],
   "source": [
    "# 1~10까지의 제곱 수의 리스트\n",
    "result = (lambda a,b:[x ** 2 for x in range(a, b)])(1,11)\n",
    "result"
   ]
  },
  {
   "cell_type": "code",
   "execution_count": 41,
   "metadata": {
    "ExecuteTime": {
     "end_time": "2019-08-23T00:49:27.576512Z",
     "start_time": "2019-08-23T00:49:27.570652Z"
    }
   },
   "outputs": [
    {
     "data": {
      "text/plain": [
       "[1, 4, 9, 16, 25, 36, 49, 64, 81, 100]"
      ]
     },
     "execution_count": 41,
     "metadata": {},
     "output_type": "execute_result"
    }
   ],
   "source": [
    "result = [x ** 2 for x in range(1,11)]\n",
    "result"
   ]
  },
  {
   "cell_type": "code",
   "execution_count": 19,
   "metadata": {
    "ExecuteTime": {
     "end_time": "2019-08-23T00:37:48.933585Z",
     "start_time": "2019-08-23T00:37:46.753766Z"
    }
   },
   "outputs": [
    {
     "name": "stdout",
     "output_type": "stream",
     "text": [
      "값을 입력하세요.(ex: 1 2 3)1 2 3\n"
     ]
    },
    {
     "data": {
      "text/plain": [
       "[1, 2, 3]"
      ]
     },
     "execution_count": 19,
     "metadata": {},
     "output_type": "execute_result"
    }
   ],
   "source": [
    "# 입력 받은 값이 정수인 경우만\n",
    "result = [int(x) for x in input(\"값을 입력하세요.(ex: 1 2 3)\").split(' ')\\\n",
    "          if int(x) > 0]\n",
    "result"
   ]
  },
  {
   "cell_type": "markdown",
   "metadata": {},
   "source": [
    "# map"
   ]
  },
  {
   "cell_type": "code",
   "execution_count": 23,
   "metadata": {
    "ExecuteTime": {
     "end_time": "2019-08-23T00:40:21.088285Z",
     "start_time": "2019-08-23T00:40:21.082425Z"
    }
   },
   "outputs": [
    {
     "data": {
      "text/plain": [
       "[1, 4, 9, 16, 25]"
      ]
     },
     "execution_count": 23,
     "metadata": {},
     "output_type": "execute_result"
    }
   ],
   "source": [
    "# 맵은 두 번째 인덱스에 입력된 것들 첫 번째 인덱스에 입력된 형태로 변환해 준다.\n",
    "list(map(lambda x:x ** 2, [1, 2, 3, 4, 5]))"
   ]
  },
  {
   "cell_type": "code",
   "execution_count": 43,
   "metadata": {
    "ExecuteTime": {
     "end_time": "2019-08-23T00:50:01.945790Z",
     "start_time": "2019-08-23T00:50:01.939930Z"
    }
   },
   "outputs": [
    {
     "data": {
      "text/plain": [
       "[False, False, False, True, True]"
      ]
     },
     "execution_count": 43,
     "metadata": {},
     "output_type": "execute_result"
    }
   ],
   "source": [
    "# 하지만 이런 조건식의 경우에는 T, F 꼴로 나온다. map은 무조건\n",
    "입력 받은만큼 돌려줌\n",
    "list(map(lambda x: x > 3, [1, 2, 3, 4, 5]))"
   ]
  },
  {
   "cell_type": "code",
   "execution_count": 45,
   "metadata": {
    "ExecuteTime": {
     "end_time": "2019-08-23T00:51:10.929478Z",
     "start_time": "2019-08-23T00:51:10.923619Z"
    }
   },
   "outputs": [
    {
     "data": {
      "text/plain": [
       "[4, 5]"
      ]
     },
     "execution_count": 45,
     "metadata": {},
     "output_type": "execute_result"
    }
   ],
   "source": [
    "# 상단의 조건식을 값으로 돌려받고 싶다면\n",
    "list(filter(lambda x: x > 3, [1, 2, 3, 4, 5]))"
   ]
  },
  {
   "cell_type": "markdown",
   "metadata": {},
   "source": [
    "# reduce"
   ]
  },
  {
   "cell_type": "code",
   "execution_count": 13,
   "metadata": {
    "ExecuteTime": {
     "end_time": "2019-08-23T01:13:24.301436Z",
     "start_time": "2019-08-23T01:13:24.293623Z"
    }
   },
   "outputs": [
    {
     "name": "stdout",
     "output_type": "stream",
     "text": [
      "15\n"
     ]
    },
    {
     "data": {
      "text/plain": [
       "15"
      ]
     },
     "execution_count": 13,
     "metadata": {},
     "output_type": "execute_result"
    }
   ],
   "source": [
    "from functools import reduce\n",
    "print(reduce(lambda x, y : x + y, [1, 2, 3, 4, 5]))\n",
    "# 위 식은 아래와 같다(계산이 필요한 것에 쓰면 되는 거)\n",
    "\n",
    "y = int() # 3\n",
    "for x in range(1, 6):\n",
    "    y += x\n",
    "    \n",
    "y"
   ]
  },
  {
   "cell_type": "code",
   "execution_count": 82,
   "metadata": {
    "ExecuteTime": {
     "end_time": "2019-08-23T01:31:17.405831Z",
     "start_time": "2019-08-23T01:31:17.399927Z"
    }
   },
   "outputs": [
    {
     "data": {
      "text/plain": [
       "['None', 'None', 3, 4, 5]"
      ]
     },
     "execution_count": 82,
     "metadata": {},
     "output_type": "execute_result"
    }
   ],
   "source": [
    "# else가 들어간 list comprehension\n",
    "\n",
    "# 1~5 데이터 값, 2 초과인 값, 2 이하인 값을 각각 x, y에 담기\n",
    "\n",
    "[x if x > 2 else 'None' for x in range(1, 6)]"
   ]
  },
  {
   "cell_type": "code",
   "execution_count": 4,
   "metadata": {
    "ExecuteTime": {
     "end_time": "2019-08-23T04:34:47.902306Z",
     "start_time": "2019-08-23T04:34:47.896447Z"
    }
   },
   "outputs": [],
   "source": [
    "def draw_histogram(a, b):\n",
    "    if not a.get(b):\n",
    "        a[b] = 1\n",
    "    else:\n",
    "        a[b] += 1\n",
    "    print(a, b)\n",
    "        \n",
    "    return a"
   ]
  },
  {
   "cell_type": "code",
   "execution_count": 15,
   "metadata": {
    "ExecuteTime": {
     "end_time": "2019-08-23T04:34:48.621099Z",
     "start_time": "2019-08-23T04:34:48.615239Z"
    }
   },
   "outputs": [
    {
     "name": "stdout",
     "output_type": "stream",
     "text": [
      "{'cat': 1} cat\n",
      "{'cat': 2} cat\n",
      "{'cat': 3} cat\n",
      "{'cat': 3, 'sheep': 1} sheep\n",
      "{'cat': 3, 'sheep': 2} sheep\n",
      "{'cat': 3, 'sheep': 2, 'duck': 1} duck\n",
      "{'cat': 3, 'sheep': 2, 'duck': 2} duck\n",
      "{'cat': 3, 'sheep': 2, 'duck': 3} duck\n",
      "{'cat': 3, 'sheep': 2, 'duck': 4} duck\n"
     ]
    },
    {
     "data": {
      "text/plain": [
       "{'cat': 3, 'sheep': 2, 'duck': 4}"
      ]
     },
     "execution_count": 15,
     "metadata": {},
     "output_type": "execute_result"
    }
   ],
   "source": [
    "data = [\"cat\", \"cat\", \"cat\", \"sheep\", \"sheep\", \"duck\", \"duck\", \"duck\", \"duck\"]\n",
    "reduce(draw_histogram, data, {})"
   ]
  },
  {
   "cell_type": "code",
   "execution_count": 237,
   "metadata": {
    "ExecuteTime": {
     "end_time": "2019-08-23T05:01:52.288152Z",
     "start_time": "2019-08-23T05:01:52.283269Z"
    }
   },
   "outputs": [
    {
     "name": "stdout",
     "output_type": "stream",
     "text": [
      "cat ===\n",
      "sheep ==\n",
      "duck ====\n"
     ]
    }
   ],
   "source": [
    "for key, value in reduce(draw_histogram, data, {}).items():\n",
    "    print(key, value * \"=\")"
   ]
  }
 ],
 "metadata": {
  "kernelspec": {
   "display_name": "Python 3",
   "language": "python",
   "name": "python3"
  },
  "language_info": {
   "codemirror_mode": {
    "name": "ipython",
    "version": 3
   },
   "file_extension": ".py",
   "mimetype": "text/x-python",
   "name": "python",
   "nbconvert_exporter": "python",
   "pygments_lexer": "ipython3",
   "version": "3.7.3"
  },
  "varInspector": {
   "cols": {
    "lenName": 16,
    "lenType": 16,
    "lenVar": 40
   },
   "kernels_config": {
    "python": {
     "delete_cmd_postfix": "",
     "delete_cmd_prefix": "del ",
     "library": "var_list.py",
     "varRefreshCmd": "print(var_dic_list())"
    },
    "r": {
     "delete_cmd_postfix": ") ",
     "delete_cmd_prefix": "rm(",
     "library": "var_list.r",
     "varRefreshCmd": "cat(var_dic_list()) "
    }
   },
   "types_to_exclude": [
    "module",
    "function",
    "builtin_function_or_method",
    "instance",
    "_Feature"
   ],
   "window_display": false
  }
 },
 "nbformat": 4,
 "nbformat_minor": 2
}
