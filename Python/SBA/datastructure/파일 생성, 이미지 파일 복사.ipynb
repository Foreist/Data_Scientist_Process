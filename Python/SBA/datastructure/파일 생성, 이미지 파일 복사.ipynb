{
 "cells": [
  {
   "cell_type": "markdown",
   "metadata": {},
   "source": [
    "# 목차\n",
    "- csv 첫 로우에 컬럼명 있으면 가져오는 함수\n",
    "- txt 파일 생성 후 줄마다 글 적어주는 함수\n",
    "- 이미지 복사\n",
    "- 파일 크기 확인\n",
    "- 파일명 변환\n",
    "- 디렉토리와 하위 파일 삭제\n",
    "- 파일인지 디렉토리인지\n",
    "- 디렉토리 생성"
   ]
  },
  {
   "cell_type": "code",
   "execution_count": 1,
   "metadata": {},
   "outputs": [],
   "source": [
    "def read_csv(filepath):\n",
    "    \n",
    "    fp = open(filepath, 'r', encoding='utf-8') # 파일을 불러오고 read할 거고, utf-8로 인코딩할 거임.\n",
    "    data = fp.read() # data는 전체 데이터를 의미\n",
    "    fp.close() # 읽고 나서 닫아줌\n",
    "    line = data.split(\"\\n\") # data를 row마다 구분\n",
    "    title = line[0].split(', ') # 제목을 잘라서 넣어줄 공간\n",
    "    \n",
    "    print('데이터의 column명은 {0}입니다.'.format(title))\n",
    "    \n",
    "    elements = [] # 마지막 전체 거 다 넣는 장소\n",
    "    columns = len(title) # 컬럼 총 갯수\n",
    "    \n",
    "    for row in line[1:]: # line 첫 줄 제외하고 나머지를 row에 넣음\n",
    "        element =  {} # 포문 한 번 돌릴 때마다 넣는 임시 저장소\n",
    "        fields = row.split(', ') # 첫 줄 제외한 데이터들을 ,로 구분함\n",
    "        \n",
    "        for column in range(columns): #  컬럼 갯수들을 정수로 한 개씩 불러올 거임            \n",
    "            element[title[column]] = fields[column] # dict 타입의 element에 key값 넣고, key값 없으면 value값도 넣어줌\n",
    "        elements.append(element) # 위 for문 다 돌아가면 element에 저장된 것들 list타입 elements에 저장\n",
    "    return elements"
   ]
  },
  {
   "cell_type": "code",
   "execution_count": 2,
   "metadata": {},
   "outputs": [
    {
     "name": "stdout",
     "output_type": "stream",
     "text": [
      "데이터의 column명은 ['이름', '학교', '이메일']입니다.\n"
     ]
    },
    {
     "data": {
      "text/plain": [
       "[{'이름': '김태희', '학교': '서울대', '이메일': 'thkim@gmail.com'},\n",
       " {'이름': '신민아', '학교': '성균관대', '이메일': 'sma@gmial.com'},\n",
       " {'이름': '전지현', '학교': '중앙대', '이메일': 'jhjeon@gmail.com'},\n",
       " {'이름': '이영애', '학교': '숭실대', '이메일': 'janggumi@gamil.com'}]"
      ]
     },
     "execution_count": 2,
     "metadata": {},
     "output_type": "execute_result"
    }
   ],
   "source": [
    "filepath = './data/students.csv'\n",
    "read_csv(filepath)"
   ]
  },
  {
   "cell_type": "code",
   "execution_count": 4,
   "metadata": {},
   "outputs": [],
   "source": [
    "# 버전 2\n",
    "def read(categori):\n",
    "    op = open(categori, 'r', encoding='UTF-8')\n",
    "    input = op.read()\n",
    "    op.close()\n",
    "    slice = input.split('\\n')\n",
    "    head = slice[0].split(', ')    \n",
    "    print(\"현 자료의 Column명들은 아래와 같습니다. \\n {Column_head}\".format(Column_head = head))    \n",
    "    result = []    \n",
    "    for lines in slice[1:]:\n",
    "        dummy = {}\n",
    "        line = lines.split(', ')\n",
    "        \n",
    "        for word in line:\n",
    "            dummy[head[line.index(word)]] =  word\n",
    "        result.append(dummy)\n",
    "    return result"
   ]
  },
  {
   "cell_type": "code",
   "execution_count": 5,
   "metadata": {},
   "outputs": [
    {
     "name": "stdout",
     "output_type": "stream",
     "text": [
      "현 자료의 Column명들은 아래와 같습니다. \n",
      " ['랭킹', '회사이름', '영문명', '창업자']\n"
     ]
    },
    {
     "data": {
      "text/plain": [
       "[{'랭킹': '1', '회사이름': '애플', '영문명': 'Apple', '창업자': '스티브잡스'},\n",
       " {'랭킹': '2', '회사이름': '구글', '영문명': 'Google', '창업자': '세르게이브린 & 레리페이지'},\n",
       " {'랭킹': '3', '회사이름': '마이크로소프트', '영문명': 'Microsoft', '창업자': '빌게이츠 & 폴앨런'},\n",
       " {'랭킹': '4', '회사이름': '페이스북', '영문명': 'Facebook', '창업자': '마크쥬크버그'},\n",
       " {'랭킹': '5', '회사이름': '에어비엔비', '영문명': 'Airbnb', '창업자': '브라이언체크키 & 조게비어'}]"
      ]
     },
     "execution_count": 5,
     "metadata": {},
     "output_type": "execute_result"
    }
   ],
   "source": [
    "read('./data/company.csv')"
   ]
  },
  {
   "cell_type": "code",
   "execution_count": null,
   "metadata": {},
   "outputs": [],
   "source": []
  },
  {
   "cell_type": "code",
   "execution_count": null,
   "metadata": {},
   "outputs": [],
   "source": []
  },
  {
   "cell_type": "code",
   "execution_count": null,
   "metadata": {},
   "outputs": [],
   "source": [
    "# read라는 걸로 뭔가를 읽으면 닫기 전에는 그 파일은 읽고 있는 것에 권한이 있음"
   ]
  },
  {
   "cell_type": "code",
   "execution_count": null,
   "metadata": {
    "ExecuteTime": {
     "start_time": "2019-08-22T02:17:42.986Z"
    }
   },
   "outputs": [],
   "source": [
    "def write_txt(filepath):\n",
    "    # 텍스트 파일에 한줄씩 쓰기(writelines)\n",
    "    count = 1 # 줄 세어주는 공간\n",
    "    data = [] # data 넣어주는 공간 \n",
    "    print('파일에 내용을 저장하려면 내용을 입력하지 말고 [Enter]를 누르세요')\n",
    "\n",
    "    while True:\n",
    "        # 1씩 증가하는 count\n",
    "        text = input('[%d] 파일에 저장할 내용을 입력하세요: ' %count)\n",
    "        # 아무것도 없으면 break\n",
    "        if text == '':\n",
    "            break\n",
    "        data.append(text+'\\n') # data에 list형태로 줄 구분해서 넣어줌\n",
    "        count += 1\n",
    "    \n",
    "    # 문장 엔터로 끝나면 filepath로 write\n",
    "    f = open(filepath, 'w')\n",
    "    f.writelines(data)\n",
    "    f.close()\n",
    "    \n",
    "    ret = 'TEXT 파일을 생성하였습니다.'\n",
    "    \n",
    "    return ret"
   ]
  },
  {
   "cell_type": "code",
   "execution_count": 4,
   "metadata": {
    "ExecuteTime": {
     "end_time": "2019-08-22T02:19:35.757729Z",
     "start_time": "2019-08-22T02:19:31.907895Z"
    }
   },
   "outputs": [
    {
     "name": "stdout",
     "output_type": "stream",
     "text": [
      "내용을 입력하세요.5\n",
      "내용을 입력하세요.5\n",
      "내용을 입력하세요.\n"
     ]
    },
    {
     "data": {
      "text/plain": [
       "'txt 파일을 생성하였습니다.'"
      ]
     },
     "execution_count": 4,
     "metadata": {},
     "output_type": "execute_result"
    }
   ],
   "source": [
    "filepath = './mydata.txt'\n",
    "write_txt(filepath)"
   ]
  },
  {
   "cell_type": "code",
   "execution_count": 30,
   "metadata": {
    "ExecuteTime": {
     "end_time": "2019-08-22T00:39:41.407314Z",
     "start_time": "2019-08-22T00:39:41.386805Z"
    }
   },
   "outputs": [
    {
     "name": "stdout",
     "output_type": "stream",
     "text": [
      " C 드라이브의 볼륨에는 이름이 없습니다.\n",
      " 볼륨 일련 번호: 8484-2321\n",
      "\n",
      " C:\\Users\\301-1\\Desktop\\data\\Python\\six 디렉터리\n",
      "\n",
      "2019-08-22  오전 09:38    <DIR>          .\n",
      "2019-08-22  오전 09:38    <DIR>          ..\n",
      "2019-08-22  오전 09:13    <DIR>          .ipynb_checkpoints\n",
      "2019-08-22  오전 09:38           119,459 file_open.ipynb\n",
      "2019-08-22  오전 09:30             5,922 jupyter_logo.png\n",
      "2019-08-22  오전 09:21            41,581 logo.png\n",
      "2019-08-22  오전 09:25            41,581 logo_copy.png\n",
      "2019-08-22  오전 09:17                38 mydata.txt\n",
      "2019-08-22  오전 09:18                38 mydata_copy.txt\n",
      "               6개 파일             208,619 바이트\n",
      "               3개 디렉터리  22,689,386,496 바이트 남음\n"
     ]
    }
   ],
   "source": [
    "# 현재 경로 위치\n",
    "#%pwd\n",
    "# 현 폴더의 데이터\n",
    "%ls"
   ]
  },
  {
   "cell_type": "code",
   "execution_count": 6,
   "metadata": {
    "ExecuteTime": {
     "end_time": "2019-08-22T00:18:17.767484Z",
     "start_time": "2019-08-22T00:18:17.760648Z"
    }
   },
   "outputs": [],
   "source": [
    "# 텍스트 파일 복사하기(read, write)\n",
    "# f에 위쪽에 입력했던 텍스트 파일을 오픈\n",
    "f = open('mydata.txt',      'r')\n",
    "# h에 mydata_copy라는 텍스트 파일을 등록\n",
    "h = open('mydata_copy.txt', 'w')\n",
    "\n",
    "data = f.read()\n",
    "h.write(data)\n",
    "\n",
    "h.close()\n",
    "f.close()"
   ]
  },
  {
   "cell_type": "code",
   "execution_count": 9,
   "metadata": {
    "ExecuteTime": {
     "end_time": "2019-08-22T00:18:38.398541Z",
     "start_time": "2019-08-22T00:18:38.392681Z"
    }
   },
   "outputs": [
    {
     "name": "stdout",
     "output_type": "stream",
     "text": [
      "첫 번째 줄입니다.\n",
      "두 번째 줄입니다.\n",
      "\n"
     ]
    }
   ],
   "source": [
    "with open('mydata_copy.txt', 'r') as fp:\n",
    "    data = fp.read()\n",
    "    print(data)"
   ]
  },
  {
   "cell_type": "code",
   "execution_count": 1,
   "metadata": {
    "ExecuteTime": {
     "end_time": "2019-08-22T00:43:43.711251Z",
     "start_time": "2019-08-22T00:43:43.706410Z"
    }
   },
   "outputs": [],
   "source": [
    "from IPython.display import Image\n",
    "\n",
    "origin_img = 'won.jpg'\n",
    "copied_img = 'won-b.jpg'"
   ]
  },
  {
   "cell_type": "code",
   "execution_count": 2,
   "metadata": {
    "ExecuteTime": {
     "end_time": "2019-08-22T00:25:45.152346Z",
     "start_time": "2019-08-22T00:25:45.145510Z"
    }
   },
   "outputs": [
    {
     "data": {
      "image/jpeg": "[encoded data removed]",
      "text/plain": [
       "<IPython.core.display.Image object>"
      ]
     },
     "execution_count": 2,
     "metadata": {},
     "output_type": "execute_result"
    }
   ],
   "source": [
    "Image(origin_img)"
   ]
  },
  {
   "cell_type": "code",
   "execution_count": 3,
   "metadata": {
    "ExecuteTime": {
     "end_time": "2019-08-22T00:25:56.672534Z",
     "start_time": "2019-08-22T00:25:56.665698Z"
    }
   },
   "outputs": [],
   "source": [
    "# 바이너리 파일 = 텍스트 파일이 아닌 파일\n",
    "\n",
    "# 바이너리 파일 복사하기(read, write)\n",
    "bufsize = 1024\n",
    "f = open(origin_img, 'rb')\n",
    "h = open(copied_img, 'wb')\n",
    "\n",
    "# 왜 1024를 해줌?\n",
    "data = f.read(bufsize)\n",
    "while data:\n",
    "    h.write(data)\n",
    "    data = f.read(bufsize)\n",
    "\n",
    "h.close()\n",
    "f.close()"
   ]
  },
  {
   "cell_type": "code",
   "execution_count": 4,
   "metadata": {
    "ExecuteTime": {
     "end_time": "2019-08-22T00:26:01.166932Z",
     "start_time": "2019-08-22T00:26:01.161115Z"
    }
   },
   "outputs": [
    {
     "data": {
      "image/jpeg": "[encoded data removed]",
      "text/plain": [
       "<IPython.core.display.Image object>"
      ]
     },
     "execution_count": 4,
     "metadata": {},
     "output_type": "execute_result"
    }
   ],
   "source": [
    "Image(copied_img)"
   ]
  },
  {
   "cell_type": "code",
   "execution_count": 12,
   "metadata": {
    "ExecuteTime": {
     "end_time": "2019-08-22T00:35:22.737195Z",
     "start_time": "2019-08-22T00:35:22.730359Z"
    }
   },
   "outputs": [
    {
     "name": "stdout",
     "output_type": "stream",
     "text": [
      "34\n",
      "File Name: ./data/text.txt \t File Size: 34 Byte\n",
      "File Name: ./data/won.jpg \t File Size: 6512 Byte\n"
     ]
    }
   ],
   "source": [
    "# 파일 크기 구하기(ospathgetsize)\n",
    "from os.path import getsize\n",
    "\n",
    "file1 = './data/text.txt' # file1에 mydata_copy 넣어두기\n",
    "file2 = './data/won.jpg'# file2에 jupyter_logo 넣어두기\n",
    "# OK!! # 이렇게 적어주면 맥 OS 같은 다른 곳에서도 전부 통용이 가능\n",
    "# file2 = '/Users/user/Dropbox/sect_tech/src_anaconda/images/jupyter_logo.png'\n",
    "\n",
    "# SyntaxError\n",
    "# file2 = 'C:\\Users\\user\\Dropbox\\sect_tech\\src_anaconda\\images\\upyter_logo.png'\n",
    "\n",
    "# 각각  파일 사이즈를 묻는 명령어 getsize\n",
    "file_size1 = getsize(file1)\n",
    "file_size2 = getsize(file2)\n",
    "\n",
    "print('File Name: %s \\t File Size: %d Byte' %(file1, file_size1))\n",
    "print('File Name: %s \\t File Size: %d Byte' %(file2, file_size2))"
   ]
  },
  {
   "cell_type": "markdown",
   "metadata": {},
   "source": [
    "# 파일 삭제하기"
   ]
  },
  {
   "cell_type": "code",
   "execution_count": 31,
   "metadata": {
    "ExecuteTime": {
     "end_time": "2019-08-22T00:40:23.103065Z",
     "start_time": "2019-08-22T00:40:20.123403Z"
    }
   },
   "outputs": [
    {
     "name": "stdout",
     "output_type": "stream",
     "text": [
      "[mydata_copy.txt] 파일을 삭제하겠습니까? (y/n)\n",
      "[mydata_copy.txt] 파일을 삭제했습니다.\n"
     ]
    }
   ],
   "source": [
    "# 파일 삭제하기(osremove)\n",
    "\n",
    "from os import remove # os 인의 remove를 불러옴\n",
    "target_file = 'mydata_copy.txt' # mydata_copy를 target_file로 넣어줌\n",
    "k = input('[%s] 파일을 삭제하겠습니까? ([y]/n)' %target_file)\n",
    "\n",
    "if k == 'y' or k == '': # 상단 입력을 Enter or y로 받으면 삭제\n",
    "    remove(target_file)\n",
    "    print('[%s] 파일을 삭제했습니다.' %target_file)"
   ]
  },
  {
   "cell_type": "code",
   "execution_count": 32,
   "metadata": {
    "ExecuteTime": {
     "end_time": "2019-08-22T00:40:34.152572Z",
     "start_time": "2019-08-22T00:40:34.123229Z"
    }
   },
   "outputs": [
    {
     "name": "stdout",
     "output_type": "stream",
     "text": [
      " C 드라이브의 볼륨에는 이름이 없습니다.\n",
      " 볼륨 일련 번호: 8484-2321\n",
      "\n",
      " C:\\Users\\301-1\\Desktop\\data\\Python\\six 디렉터리\n",
      "\n",
      "2019-08-22  오전 09:40    <DIR>          .\n",
      "2019-08-22  오전 09:40    <DIR>          ..\n",
      "2019-08-22  오전 09:13    <DIR>          .ipynb_checkpoints\n",
      "2019-08-22  오전 09:38           119,459 file_open.ipynb\n",
      "2019-08-22  오전 09:30             5,922 jupyter_logo.png\n",
      "2019-08-22  오전 09:21            41,581 logo.png\n",
      "2019-08-22  오전 09:25            41,581 logo_copy.png\n",
      "2019-08-22  오전 09:17                38 mydata.txt\n",
      "               5개 파일             208,581 바이트\n",
      "               3개 디렉터리  22,689,189,888 바이트 남음\n"
     ]
    }
   ],
   "source": [
    "%ls"
   ]
  },
  {
   "cell_type": "markdown",
   "metadata": {},
   "source": [
    "# 파일 이름 바꾸기"
   ]
  },
  {
   "cell_type": "code",
   "execution_count": 55,
   "metadata": {
    "ExecuteTime": {
     "end_time": "2019-08-22T01:17:31.052035Z",
     "start_time": "2019-08-22T01:17:27.565503Z"
    }
   },
   "outputs": [
    {
     "name": "stdout",
     "output_type": "stream",
     "text": [
      "[./mydata.txt]에 대한 새로운 파일 이름을 입력하세요: test.txt\n",
      "[./mydata.txt] -> [test.txt] 로 파일이름이 변경되었습니다.\n"
     ]
    }
   ],
   "source": [
    "# 파일이름 바꾸기(osrename)\n",
    "from os import rename\n",
    "\n",
    "folder_path = './'\n",
    "target_file = folder_path + 'mydata.txt'\n",
    "newname = input('[%s]에 대한 새로운 파일 이름을 입력하세요: ' %target_file)\n",
    "\n",
    "# new_file = folder_path + newname\n",
    "new_file = newname\n",
    "# 바꾸어질 데이터, 변경할 데이터 명\n",
    "rename(target_file, new_file)\n",
    "\n",
    "print('[%s] -> [%s] 로 파일이름이 변경되었습니다.' %(target_file, new_file))"
   ]
  },
  {
   "cell_type": "code",
   "execution_count": 58,
   "metadata": {
    "ExecuteTime": {
     "end_time": "2019-08-22T01:20:46.432552Z",
     "start_time": "2019-08-22T01:20:45.382686Z"
    }
   },
   "outputs": [
    {
     "name": "stdout",
     "output_type": "stream",
     "text": [
      "[test.txt]를 이동할 디렉터리의 절대경로를 입력하세요: ./\n",
      "[WinError 2] 지정된 파일을 찾을 수 없습니다: 'test.txt' -> './test.txt'\n"
     ]
    }
   ],
   "source": [
    "# 파일을 다른 디렉터리로 이동하기(osrename)\n",
    "from os import rename\n",
    "\n",
    "# target_file = 'yourdata.txt'\n",
    "target_file = new_file\n",
    "newpath = input('[%s]를 이동할 디렉터리의 절대경로를 입력하세요: ' %target_file)\n",
    "\n",
    "if newpath[-1] == '/':\n",
    "    newname = newpath + target_file\n",
    "    # 경로를 ./test/가 아니라 ./test로 적어줬을 경우를 대비\n",
    "else:\n",
    "    newname = newpath + '/' + target_file\n",
    "\n",
    "try:\n",
    "    rename(target_file, newname)\n",
    "    print('[%s] -> [%s]로 이동되었습니다.' %(target_file, newname))\n",
    "except FileNotFoundError as e:\n",
    "    print(e)"
   ]
  },
  {
   "cell_type": "code",
   "execution_count": 7,
   "metadata": {},
   "outputs": [
    {
     "name": "stdout",
     "output_type": "stream",
     "text": [
      "['my_area.py', 'my_module_test1.py', 'my_module_test3.py', '__pycache__']\n",
      "[]\n"
     ]
    }
   ],
   "source": [
    "# 디렉터리에 있는 파일목록 얻기(os.listdir, glob.glob)\n",
    "import os, glob\n",
    "\n",
    "# folder = 'E:/devlab'\n",
    "folder = 'modules'\n",
    "file_list1 = os.listdir(folder)\n",
    "print(file_list1)\n",
    "\n",
    "# files = '*.txt' 텍스트 파일만\n",
    "files = 'data/*.txt'\n",
    "file_list2 = glob.glob(files)\n",
    "print(file_list2)"
   ]
  },
  {
   "cell_type": "code",
   "execution_count": 62,
   "metadata": {
    "ExecuteTime": {
     "end_time": "2019-08-22T01:28:07.694563Z",
     "start_time": "2019-08-22T01:28:07.686750Z"
    }
   },
   "outputs": [
    {
     "name": "stdout",
     "output_type": "stream",
     "text": [
      "C:\\Users\\301-1\\Desktop\\data\\Python\\six\n",
      "C:\\Users\\301-1\\Desktop\\data\\Python\\six\\test\n",
      "C:\\Users\\301-1\\Desktop\\data\\Python\\six\n",
      "C:\\Users\\301-1\\Desktop\\data\\Python\\six\n",
      "C:\\Users\\301-1\\Desktop\\data\\Python\\six\n"
     ]
    }
   ],
   "source": [
    "# 현재 디렉터리 확인하고 바꾸기(os.getcwd, os.chdir)\n",
    "import os\n",
    "# change directory \n",
    "# 현재 위치 출력\n",
    "pdir = os.getcwd(); print(pdir)\n",
    "# ./test로 이동\n",
    "os.chdir('test');   print(os.getcwd())\n",
    "# 상위 폴더로 이동\n",
    "os.chdir('..');     print(os.getcwd())\n",
    "# 현재 위치로 이동 아래와 동일\n",
    "os.chdir(pdir);     print(os.getcwd())\n",
    "os.chdir('.');     print(os.getcwd())"
   ]
  },
  {
   "cell_type": "code",
   "execution_count": 68,
   "metadata": {
    "ExecuteTime": {
     "end_time": "2019-08-22T01:34:50.130223Z",
     "start_time": "2019-08-22T01:34:36.655799Z"
    }
   },
   "outputs": [
    {
     "name": "stdout",
     "output_type": "stream",
     "text": [
      "새로 생성할 디렉터리 이름을 입력하세요: text\n",
      "[text] 디렉터리를 새로 생성했습니다.\n"
     ]
    }
   ],
   "source": [
    "# 디렉터리 생성하기(osmkdir)\n",
    "import os\n",
    "\n",
    "newfolder = input('새로 생성할 디렉터리 이름을 입력하세요: ')\n",
    "\n",
    "try:\n",
    "    os.mkdir(newfolder)\n",
    "    print('[%s] 디렉터리를 새로 생성했습니다.' %newfolder)\n",
    "except Exception as e:\n",
    "    print(e)"
   ]
  },
  {
   "cell_type": "code",
   "execution_count": 72,
   "metadata": {
    "ExecuteTime": {
     "end_time": "2019-08-22T01:44:40.859226Z",
     "start_time": "2019-08-22T01:44:39.920693Z"
    }
   },
   "outputs": [
    {
     "name": "stdout",
     "output_type": "stream",
     "text": [
      "새로 생성할 디렉터리 이름을 입력하세요: as\n",
      "[as] 디렉터리를 생성했습니다.\n"
     ]
    }
   ],
   "source": [
    "# 파일이 존재하는지 체크하기(os.pathexists)\n",
    "import os\n",
    "from os.path import exists\n",
    "\n",
    "dir_name = input('새로 생성할 디렉터리 이름을 입력하세요: ')\n",
    "\n",
    "if not exists(dir_name):\n",
    "    os.mkdir(dir_name)\n",
    "    print('[%s] 디렉터리를 생성했습니다.' %dir_name)\n",
    "else:\n",
    "    print('[%s]은(는) 이미 존재합니다.' %dir_name)"
   ]
  },
  {
   "cell_type": "code",
   "execution_count": 70,
   "metadata": {
    "ExecuteTime": {
     "end_time": "2019-08-22T01:35:19.026450Z",
     "start_time": "2019-08-22T01:35:18.303798Z"
    }
   },
   "outputs": [
    {
     "name": "stdout",
     "output_type": "stream",
     "text": [
      "[text] 디렉터리를 삭제하겠습니까? (y/n)\n",
      "[text] 디렉터리를 삭제했습니다.\n"
     ]
    }
   ],
   "source": [
    "# 디렉터리 제거하기(osrmdir)\n",
    "import os\n",
    "\n",
    "target_folder = newfolder\n",
    "k = input('[%s] 디렉터리를 삭제하겠습니까? (y/n)' %target_folder)\n",
    "if k == 'y' or k == '':\n",
    "    try:\n",
    "        os.rmdir(target_folder)\n",
    "        print('[%s] 디렉터리를 삭제했습니다.' %target_folder)\n",
    "    except Exception as e:\n",
    "        print(e)"
   ]
  },
  {
   "cell_type": "code",
   "execution_count": 71,
   "metadata": {
    "ExecuteTime": {
     "end_time": "2019-08-22T01:43:47.051380Z",
     "start_time": "2019-08-22T01:43:44.465290Z"
    }
   },
   "outputs": [
    {
     "name": "stdout",
     "output_type": "stream",
     "text": [
      "[./test/] 하위 모든 디렉터리 및 파일들을 삭제합니다.\n",
      "개개비\n",
      "[./test/]를 삭제하겠습니까? (y/n) y\n",
      "[./test/]의 모든 하위 디렉터리와 파일들을 삭제했습니다.\n"
     ]
    }
   ],
   "source": [
    "# 하위 디렉터리 및 파일 전체 삭제하기(shutil.rmtree)\n",
    "import shutil\n",
    "import os\n",
    "\n",
    "target_folder = './test/'\n",
    "print('[%s] 하위 모든 디렉터리 및 파일들을 삭제합니다.' %target_folder)\n",
    "\n",
    "for file in os.listdir(target_folder):\n",
    "    print(file)\n",
    "k = input('[%s]를 삭제하겠습니까? (y/n) ' %target_folder)\n",
    "\n",
    "if k == 'y':\n",
    "    try:\n",
    "        shutil.rmtree(target_folder)\n",
    "        print('[%s]의 모든 하위 디렉터리와 파일들을 삭제했습니다.' %target_folder)\n",
    "    except Exception as e:\n",
    "        print(e)"
   ]
  },
  {
   "cell_type": "code",
   "execution_count": 73,
   "metadata": {
    "ExecuteTime": {
     "end_time": "2019-08-22T01:45:56.475969Z",
     "start_time": "2019-08-22T01:45:56.465227Z"
    }
   },
   "outputs": [
    {
     "name": "stdout",
     "output_type": "stream",
     "text": [
      "DIR: .ipynb_checkpoints\n",
      "DIR: as\n",
      "DIR: 비둘기\n",
      "FILE: File.ipynb\n",
      "FILE: jupyter_logo.png\n",
      "FILE: logo.png\n",
      "FILE: logo_copy.png\n",
      "FILE: test.txt\n"
     ]
    }
   ],
   "source": [
    "# 파일인지 디렉터리인지 확인하기(os.pathisfile, os.pathisdir)\n",
    "import os\n",
    "from os.path import isdir, isfile\n",
    "\n",
    "# files = os.listdir('..')\n",
    "files = os.listdir()\n",
    "\n",
    "for file in files:\n",
    "    if isdir(file):\n",
    "        print('DIR: %s' %file)\n",
    "\n",
    "for file in files:\n",
    "    if isfile(file):\n",
    "        print('FILE: %s' %file)"
   ]
  }
 ],
 "metadata": {
  "kernelspec": {
   "display_name": "Python 3",
   "language": "python",
   "name": "python3"
  },
  "language_info": {
   "codemirror_mode": {
    "name": "ipython",
    "version": 3
   },
   "file_extension": ".py",
   "mimetype": "text/x-python",
   "name": "python",
   "nbconvert_exporter": "python",
   "pygments_lexer": "ipython3",
   "version": "3.7.3"
  },
  "varInspector": {
   "cols": {
    "lenName": 16,
    "lenType": 16,
    "lenVar": 40
   },
   "kernels_config": {
    "python": {
     "delete_cmd_postfix": "",
     "delete_cmd_prefix": "del ",
     "library": "var_list.py",
     "varRefreshCmd": "print(var_dic_list())"
    },
    "r": {
     "delete_cmd_postfix": ") ",
     "delete_cmd_prefix": "rm(",
     "library": "var_list.r",
     "varRefreshCmd": "cat(var_dic_list()) "
    }
   },
   "position": {
    "height": "144px",
    "left": "762px",
    "right": "20px",
    "top": "78px",
    "width": "350px"
   },
   "types_to_exclude": [
    "module",
    "function",
    "builtin_function_or_method",
    "instance",
    "_Feature"
   ],
   "window_display": true
  }
 },
 "nbformat": 4,
 "nbformat_minor": 2
}
