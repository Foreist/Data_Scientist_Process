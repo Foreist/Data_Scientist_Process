{
 "cells": [
  {
   "cell_type": "code",
   "execution_count": 11,
   "metadata": {},
   "outputs": [],
   "source": [
    "import numpy as np\n",
    "import torch\n",
    "import torch.optim as optim"
   ]
  },
  {
   "cell_type": "code",
   "execution_count": 4,
   "metadata": {},
   "outputs": [],
   "source": [
    "x_train = torch.FloatTensor([[1], [2], [3]])\n",
    "y_train = torch.FloatTensor([[2], [4], [6]])"
   ]
  },
  {
   "cell_type": "code",
   "execution_count": 12,
   "metadata": {},
   "outputs": [],
   "source": [
    "W = torch.zeros(1, requires_grad = True)\n",
    "b = torch.zeros(1, requires_grad = True)\n",
    "\n",
    "optimizer = optim.SGD([W, b], lr = 0.01)"
   ]
  },
  {
   "cell_type": "code",
   "execution_count": 14,
   "metadata": {},
   "outputs": [
    {
     "name": "stdout",
     "output_type": "stream",
     "text": [
      "Epoch  100/1000 W: 1.977, b: 0.052 Cost: 0.000393\n",
      "Epoch  200/1000 W: 1.982, b: 0.041 Cost: 0.000243\n",
      "Epoch  300/1000 W: 1.986, b: 0.032 Cost: 0.000150\n",
      "Epoch  400/1000 W: 1.989, b: 0.025 Cost: 0.000093\n",
      "Epoch  500/1000 W: 1.991, b: 0.020 Cost: 0.000057\n",
      "Epoch  600/1000 W: 1.993, b: 0.016 Cost: 0.000035\n",
      "Epoch  700/1000 W: 1.995, b: 0.012 Cost: 0.000022\n",
      "Epoch  800/1000 W: 1.996, b: 0.010 Cost: 0.000014\n",
      "Epoch  900/1000 W: 1.997, b: 0.008 Cost: 0.000008\n",
      "Epoch 1000/1000 W: 1.997, b: 0.006 Cost: 0.000005\n"
     ]
    }
   ],
   "source": [
    "nb_epochs = 1000\n",
    "for epoch in range(1, nb_epochs + 1):\n",
    "    hypothesis  = x_train * W + b\n",
    "    cost  = torch.mean((hypothesis - y_train) ** 2)\n",
    "    optimizer.zero_grad() # 이걸로 gradient를 0으로 초기화\n",
    "    cost.backward() # gradient 계산\n",
    "    optimizer.step() # 경사하강\n",
    "    \n",
    "    if epoch % 100 == 0:\n",
    "        print('Epoch {:4d}/{} W: {:.3f}, b: {:.3f} Cost: {:.6f}'.format(\n",
    "            epoch, nb_epochs, W.item(), b.item(), cost.item()\n",
    "        ))"
   ]
  }
 ],
 "metadata": {
  "kernelspec": {
   "display_name": "Python 3",
   "language": "python",
   "name": "python3"
  },
  "language_info": {
   "codemirror_mode": {
    "name": "ipython",
    "version": 3
   },
   "file_extension": ".py",
   "mimetype": "text/x-python",
   "name": "python",
   "nbconvert_exporter": "python",
   "pygments_lexer": "ipython3",
   "version": "3.7.0"
  }
 },
 "nbformat": 4,
 "nbformat_minor": 2
}
