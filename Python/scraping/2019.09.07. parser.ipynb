{
 "cells": [
  {
   "cell_type": "code",
   "execution_count": 1,
   "metadata": {},
   "outputs": [],
   "source": [
    "from urllib.parse import urlsplit"
   ]
  },
  {
   "cell_type": "code",
   "execution_count": 2,
   "metadata": {},
   "outputs": [
    {
     "name": "stdout",
     "output_type": "stream",
     "text": [
      "urlsplit: SplitResult(scheme='http', netloc='www.Python.org', path='/doc/', query='', fragment=''), \n",
      " geturl(): http://www.Python.org/doc/\n"
     ]
    }
   ],
   "source": [
    "url = 'HTTP://www.Python.org/doc/#'\n",
    "r1 = urlsplit(url)\n",
    "print('urlsplit: {}, \\n geturl(): {}'.format(r1, r1.geturl()))"
   ]
  },
  {
   "cell_type": "code",
   "execution_count": 3,
   "metadata": {},
   "outputs": [
    {
     "name": "stdout",
     "output_type": "stream",
     "text": [
      "urlsplit: SplitResult(scheme='http', netloc='www.Python.org', path='/doc/', query='', fragment=''), \n",
      " geturl() : http://www.Python.org/doc/\n"
     ]
    }
   ],
   "source": [
    "# 똑같이 나오지 않을까?\n",
    "r2 = urlsplit(r1.geturl())\n",
    "print('urlsplit: {}, \\n geturl() : {}'. format(r2, r2.geturl()))"
   ]
  },
  {
   "cell_type": "code",
   "execution_count": 4,
   "metadata": {},
   "outputs": [
    {
     "data": {
      "text/plain": [
       "True"
      ]
     },
     "execution_count": 4,
     "metadata": {},
     "output_type": "execute_result"
    }
   ],
   "source": [
    "r1 == r2"
   ]
  },
  {
   "cell_type": "code",
   "execution_count": 5,
   "metadata": {},
   "outputs": [
    {
     "name": "stdout",
     "output_type": "stream",
     "text": [
      " url_address : https://www.google.com/search?q=%EB%B0%A9%ED%83%84%EC%86%8C%EB%85%84%EB%8B%A8&source=lnms&tbm=nws&sa=X&ved=0ahUKEwi94bn43MLeAhWEfbwKHWs_Cg8Q_AUIECgD&biw=1920&bih=889, \n",
      " r1.geturl() : https://www.google.com/search?q=%EB%B0%A9%ED%83%84%EC%86%8C%EB%85%84%EB%8B%A8&source=lnms&tbm=nws&sa=X&ved=0ahUKEwi94bn43MLeAhWEfbwKHWs_Cg8Q_AUIECgD&biw=1920&bih=889, \n",
      " r2.geturl() : https://www.google.com/search?q=%EB%B0%A9%ED%83%84%EC%86%8C%EB%85%84%EB%8B%A8&source=lnms&tbm=nws&sa=X&ved=0ahUKEwi94bn43MLeAhWEfbwKHWs_Cg8Q_AUIECgD&biw=1920&bih=889\n"
     ]
    }
   ],
   "source": [
    "url = 'https://www.google.com/search?q=%EB%B0%A9%ED%83%84%EC%86%8C%EB%85%84%EB%8B%A8&source=lnms&tbm=nws&sa=X&ved=0ahUKEwi94bn43MLeAhWEfbwKHWs_Cg8Q_AUIECgD&biw=1920&bih=889'\n",
    "r1 = urlsplit(url)\n",
    "r2 = urlsplit(r1.geturl())\n",
    "print(\" url_address : {}, \\n r1.geturl() : {}, \\n r2.geturl() : {}\".format(url, r1.geturl(), r2.geturl()))"
   ]
  },
  {
   "cell_type": "code",
   "execution_count": 7,
   "metadata": {},
   "outputs": [
    {
     "data": {
      "text/plain": [
       "True"
      ]
     },
     "execution_count": 7,
     "metadata": {},
     "output_type": "execute_result"
    }
   ],
   "source": [
    "url == r1.geturl() == r2.geturl()"
   ]
  },
  {
   "cell_type": "code",
   "execution_count": 8,
   "metadata": {},
   "outputs": [
    {
     "data": {
      "text/plain": [
       "SplitResult(scheme='https', netloc='www.google.com', path='/search', query='q=%EB%B0%A9%ED%83%84%EC%86%8C%EB%85%84%EB%8B%A8&source=lnms&tbm=nws&sa=X&ved=0ahUKEwi94bn43MLeAhWEfbwKHWs_Cg8Q_AUIECgD&biw=1920&bih=889', fragment='')"
      ]
     },
     "execution_count": 8,
     "metadata": {},
     "output_type": "execute_result"
    }
   ],
   "source": [
    "r1"
   ]
  },
  {
   "cell_type": "markdown",
   "metadata": {},
   "source": [
    "## requests : requests"
   ]
  },
  {
   "cell_type": "code",
   "execution_count": 11,
   "metadata": {},
   "outputs": [],
   "source": [
    "import requests\n",
    "from bs4 import BeautifulSoup"
   ]
  },
  {
   "cell_type": "code",
   "execution_count": 22,
   "metadata": {},
   "outputs": [],
   "source": [
    "# 토착왜구라는 걸 검색을 하는데 news 항목에서 0페이지부터 시작하는듯\n",
    "url = 'https://www.google.co.kr/search'\n",
    "search_q = '토착왜구'\n",
    "search_tbm = 'nws'\n",
    "navi_page = 1"
   ]
  },
  {
   "cell_type": "code",
   "execution_count": 37,
   "metadata": {},
   "outputs": [
    {
     "data": {
      "text/plain": [
       "(<Response [200]>, requests.models.Response)"
      ]
     },
     "execution_count": 37,
     "metadata": {},
     "output_type": "execute_result"
    }
   ],
   "source": [
    "search_start = (navi_page-1)*10\n",
    "\n",
    "params = {\n",
    "    'q'     : search_q,\n",
    "    'tbm'   : search_tbm,\n",
    "    'start' : search_start\n",
    "}\n",
    "response = requests.get(url, params = params)\n",
    "response, type(response)"
   ]
  },
  {
   "cell_type": "code",
   "execution_count": 21,
   "metadata": {},
   "outputs": [
    {
     "data": {
      "text/plain": [
       "'https://www.google.co.kr/search?q=%ED%86%A0%EC%B0%A9%EC%99%9C%EA%B5%AC&tbm=nws&start=0'"
      ]
     },
     "execution_count": 21,
     "metadata": {},
     "output_type": "execute_result"
    }
   ],
   "source": [
    "response.url"
   ]
  },
  {
   "cell_type": "code",
   "execution_count": 42,
   "metadata": {},
   "outputs": [
    {
     "data": {
      "text/plain": [
       "SplitResult(scheme='https', netloc='www.google.co.kr', path='/search', query='q=%ED%86%A0%EC%B0%A9%EC%99%9C%EA%B5%AC&tbm=nws&start=-100', fragment='')"
      ]
     },
     "execution_count": 42,
     "metadata": {},
     "output_type": "execute_result"
    }
   ],
   "source": [
    "urlsplit(response.url)"
   ]
  },
  {
   "cell_type": "code",
   "execution_count": 38,
   "metadata": {},
   "outputs": [],
   "source": [
    "html = response.text\n",
    "soup = BeautifulSoup(html, 'lxml')"
   ]
  },
  {
   "cell_type": "code",
   "execution_count": 39,
   "metadata": {},
   "outputs": [
    {
     "data": {
      "text/plain": [
       "bs4.BeautifulSoup"
      ]
     },
     "execution_count": 39,
     "metadata": {},
     "output_type": "execute_result"
    }
   ],
   "source": [
    "type(soup)"
   ]
  },
  {
   "cell_type": "code",
   "execution_count": 41,
   "metadata": {},
   "outputs": [
    {
     "data": {
      "text/plain": [
       "<div class=\"sd\" id=\"resultStats\">검색결과 약 39,300개</div>"
      ]
     },
     "execution_count": 41,
     "metadata": {},
     "output_type": "execute_result"
    }
   ],
   "source": [
    "s_count = soup.find('div', {'id':'resultStats'})\n",
    "s_count"
   ]
  },
  {
   "cell_type": "code",
   "execution_count": 18,
   "metadata": {},
   "outputs": [
    {
     "data": {
      "text/plain": [
       "<!DOCTYPE html>\n",
       "<html itemscope=\"\" itemtype=\"http://schema.org/SearchResultsPage\" lang=\"ko\"><head><meta content=\"text/html; charset=utf-8\" http-equiv=\"Content-Type\"/><meta content=\"/images/branding/googleg/1x/googleg_standard_color_128dp.png\" itemprop=\"image\"/><noscript><meta content=\"0;url=/search?q=%ED%86%A0%EC%B0%A9%EC%99%9C%EA%B5%AC&amp;tbm=nws&amp;ie=UTF-8&amp;gbv=1&amp;sei=RIJzXcK0I52Zr7wPqJ2Q-AQ\" http-equiv=\"refresh\"/><style>table,div,span,p{display:none}</style><div style=\"display:block\">몇 초 안에 이동하지 않는 경우 <a href=\"/search?q=%ED%86%A0%EC%B0%A9%EC%99%9C%EA%B5%AC&amp;tbm=nws&amp;ie=UTF-8&amp;gbv=1&amp;sei=RIJzXcK0I52Zr7wPqJ2Q-AQ\">여기</a>를 클릭하세요.</div></noscript><title>토착왜구 - Google 검색</title><style>#gbar,#guser{font-size:13px;padding-top:1px !important;}#gbar{height:22px}#guser{padding-bottom:7px !important;text-align:right}.gbh,.gbd{border-top:1px solid #c9d7f1;font-size:1px}.gbh{height:0;position:absolute;top:24px;width:100%}@media all{.gb1{height:22px;margin-right:.5em;vertical-align:top}#gbar{float:left}}a.gb1,a.gb4{text-decoration:underline !important}a.gb1,a.gb4{color:#00c !important}.gbi .gb4{color:#dd8e27 !important}.gbf .gb4{color:#900 !important}\n",
       "</style><style>.star{float:left;margin-top:1px;overflow:hidden}.ybhkme{font-size:11px}.j{width:34em}body,td,div,a{font-family:arial,sans-serif;tap-highlight-color:rgba(255,255,255,0)}body{margin:0}a img{border:0}#gbar{float:left;height:22px;padding-left:2px;font-size:13px}.gsfi,.gsfs{font-size:17px}.w,.q:active,.q:visited,.tbotu{color:#11c}a.gl{text-decoration:none}#foot{padding:0 8px}#foot a{white-space:nowrap}h3{font-size:16px;font-weight:normal;margin:0;padding:0}#res h3{display:inline}.hd{height:1px;position:absolute;top:-1000em}.g,body,html,table,.std{font-size:13px}.g{margin-bottom:23px;margin-top:0;zoom:1}ol li,ul li{list-style:none}h1,ol,ul,li{margin:0;padding:0}.e{margin:2px 0 0.75em}#leftnav a{text-decoration:none}#leftnav h2{color:#767676;font-weight:normal;margin:0}#nav{border-collapse:collapse;margin-top:17px;text-align:left}#nav td{text-align:center}.nobr{white-space:nowrap}.ts{border-collapse:collapse}.s br{display:none}.csb{display:block;height:40px}.images_table td{line-height:17px;padding-bottom:16px}.images_table img{border:1px solid #ccc;padding:1px}#tbd,#abd{display:block;min-height:1px}#abd{padding-top:3px}#tbd li{display:inline}.TIrJXe,.UU5df{margin-bottom:8px}#tbd .tbt li{display:block;font-size:13px;line-height:1.2;padding-bottom:3px;padding-left:8px;text-indent:-8px}.tbos,.b{font-weight:bold}em{font-weight:bold;font-style:normal}.mime{color:#1a0dab;font-weight:bold;font-size:x-small}.soc a{text-decoration:none}.soc{color:#808080}.ul7Gbc{color:#e7711b}#Db7kif{border:1px solid #e0e0e0;margin-left:-8px;margin-right:-8px;padding:15px 20px 5px}.mrH1y{font-size:32px}.PZ6wOb{color:#777;font-size:16px;margin-top:5px}.gwrItc{color:#777;font-size:14px;margin-top:5px}.SVob4e{border:1px solid #e0e0e0;padding-left:20px}.mYu5Hb{border:1px solid #e0e0e0;padding:5px 20px}#vob{border:1px solid #e0e0e0;padding:15px 15px}#ZjIC2e{font-size:22px;line-height:22px;padding-bottom:5px}#vob_st{line-height:1.24}.DfLGHd{border-width:1px;border-style:solid;border-color:#eee;background-color:#fff;position:relative;margin-bottom:26px}.uRIxYb,.NjTIc,.PftIHd,.DXoZmb{font-family:Arial;font-weight:lighter}.uRIxYb{margin-bottom:5px}.uRIxYb{font-size:xx-large}.NjTIc{font-size:medium}.PftIHd{font-size:large}.DXoZmb{font-size:small}.DfLGHd{margin-left:-8px;margin-right:-15px;padding:20px 20px 24px}.ernfsc{border-spacing:0px 2px}.D3VFNd{max-width:380px;text-overflow:ellipsis;white-space:nowrap;overflow:hidden;padding-left:0px}.c1Ujmc{padding-left:15px;white-space:nowrap;color:#666}.EjZtie{padding-left:0px}.SFt5jb{color:#212121}.Pt7r9e{color:#878787}.bkcGhd{color:#093}.fIP9ce{color:#c00}.LDBB9d{padding:1px}.gssb_a{padding:0 10px !important}.gssb_c{left:132px !important;right:295px !important;top:78px !important;width:572px !important}.gssb_c table{font-size:16px !important}.gssb_e{border:1px solid #ccc !important;border-top-color:#d9d9d9 !important}.gssb_i{background:#eee !important}#res{padding:0 8px}#rhs_block{padding-top:43px}#MCN7mf{padding:0 8px}#subform_ctrl{font-size:11px;height:17px;margin:5px 3px 0 17px}.taf{padding-bottom:3px}.WIkLp{padding:20px 0 3px}.FuZzl{padding:20px 0 3px}#topstuff .e{padding-bottom:6px}.slk .sld{width:250px}.slk{margin-bottom:-3px}.slk .zaHRAf{padding-bottom:5px;width:250px}.ac,.st{line-height:1.24}.a1DBFd,#ofr{font-size:16px;margin:1em 0;padding:0 8px}.tZz6cc{padding-bottom:25px}.s{color:#545454}.ac{color:#545454}a.fl,.A8ul6 a,.osl a{color:#1a0dab;text-decoration:none}a:link{color:#1a0dab;cursor:pointer}#tads a:link{color:#1a0dab}#tads .soc a:link{color:#808080}a:visited{color:#61C}.blg a{text-decoration:none}cite,cite a:link{color:#006621;font-style:normal}#tads cite{color:#006621}.hJND5c{font-size:15px}.kvs{margin-top:1px}.hJND5c,.kvs,.slp{display:block;margin-bottom:1px}.kt{border-spacing:2px 0;margin-top:1px}.f{color:#808080}.L4Zeue{color:#093}h4.r{display:inline;font-size:small;font-weight:normal}.g{line-height:1.2}.NpC9Hd{display:inline-block;vertical-align:top;overflow:hidden;position:relative}.COi8F{margin:0 0 2em 1.3em}.COi8F li{list-style-type:disc}.osl{color:#777;margin-top:4px}.r{font-size:16px;margin:0}.gL9Hy{font-size:16px}.spell_orig{font-size:13px}.spell_orig a{text-decoration:none}.spell_orig b i{font-style:normal;font-weight:normal}.th{border:1px solid #ebebeb}.ts td{padding:0}.videobox{padding-bottom:3px}.slk a{text-decoration:none}#leftnav a:hover,#leftnav .tbou a:hover,.slk h3 a,a:hover{text-decoration:underline}#mn{table-layout:fixed;width:100%}#leftnav a{color:#222;font-size:13px}#leftnav{padding:43px 4px 4px 0}.tbos{color:#dd4b39}.tbt{margin-bottom:28px}#tbd{padding:0 0 0 16px}.tbou a{color:#222}#center_col{border:0;padding:0 8px 0 0}#topstuff .e{padding-top:3px}#topstuff .p64x9c{padding-top:6px}#ab_name{color:#dd4b39;font:20px \"Arial\";margin-left:15px}#resultStats{color:#999;font-size:13px;overflow:hidden;white-space:nowrap}.mslg>td{padding-right:1px;padding-top:2px}.slk .sld{margin-top:2px;padding:5px 0 5px 5px}.fmp{padding-top:3px}.close_btn{overflow:hidden}#fll a,#bfl a{color:#1a0dab !important;margin:0 12px;text-decoration:none !important}.ng{color:#dd4b39}#mss{margin:.33em 0 0;padding:0;display:table}.NYKCib{display:inline-block;float:left;white-space:nowrap;padding-right:16px}#mss p{margin:0;padding-top:5px}.tn{border-bottom:1px solid #ebebeb;display:block;float:left;height:59px;line-height:54px;min-width:980px;padding:0;position:relative;white-space:nowrap}.qrSWbe,a.qrSWbe{color:#777;cursor:pointer;display:inline-block;font-family:arial,sans-serif;font-size:small;height:54px;line-height:54px;margin:0 8px;padding:0 8px;text-decoration:none;white-space:nowrap}.tnuiC{border-bottom:3px solid #dd4b39;color:#dd4b39;font-weight:bold;margin:2px 8px 0}a.KDZjCd:hover{color:black;text-decoration:none;white-space:nowrap}body{margin:0;padding:0}.sFTC8c{display:inline-block;float:left;margin-top:2px}.pqkqJe,a.pqkqJe{margin-left:1px}.sd{line-height:43px;padding:0 8px 0 9px}a:active,.osl a:active,.tbou a:active,#leftnav a:active{color:#dd4b39}#bfl a:active{color:#dd4b39 !important}.csb{background:url(/images/nav_logo229.png) no-repeat;overflow:hidden}.close_btn{background:url(/images/nav_logo229.png) no-repeat -138px -84px;height:14px;width:14px;display:block}.star{background:url(/images/nav_logo229.png) no-repeat -94px -245px;height:13px;width:65px;display:block}.star div,.star span{background:url(/images/nav_logo229.png) no-repeat 0 -245px;height:13px;width:65px;display:block}.Pj9hGd{display:inline;margin:0 3px;outline-color:transparent;overflow:hidden;position:relative}.Pj9hGd>div{outline-color:transparent}.CiacGf{border-color:transparent;border-style:solid dashed dashed;border-top-color:green;border-width:4px 4px 0 4px;cursor:pointer;display:inline-block;font-size:0;height:0;left:4px;line-height:0;outline-color:transparent;position:relative;top:-3px;width:0}.CiacGf{margin-top:-4px}.am-dropdown-menu{display:block;background:#fff;border:1px solid #dcdcdc;font-size:13px;left:0;padding:0;position:absolute;right:auto;white-space:nowrap;z-index:3}.mUpfKd{list-style:none;white-space:nowrap}.mUpfKd:hover{background-color:#eee}a.imx0m{color:#333;cursor:pointer;display:block;padding:7px 18px;text-decoration:none}#tads a.imx0m{color:#333}.sfbgg{background:#f1f1f1;border-bottom:1px solid #e5e5e5;height:71px}#logocont{z-index:1;padding-left:4px;padding-top:4px}#logo{display:block;height:49px;margin-top:12px;margin-left:12px;overflow:hidden;position:relative;width:137px}#logo img{left:0;position:absolute;top:-41px}.lst-a{background:white;border:1px solid #d9d9d9;border-top-color:silver;width:570px}.lst-a:hover{border:1px solid #b9b9b9;border-top:1px solid #a0a0a0;box-shadow:inset 0 1px 2px rgba(0,0,0,0.1);-webkit-box-shadow:inset 0 1px 2px rgba(0,0,0,0.1);-moz-box-shadow:inset 0 1px 2px rgba(0,0,0,0.1)}.lst-td{border:none;padding:0}.tia input{border-right:none;padding-right:0}.tia{padding-right:0}.lst{background:none;border:none;color:#000;font:16px arial,sans-serif;float:left;height:22px;margin:0;padding:3px 6px 2px 9px;vertical-align:top;width:100%;word-break:break-all}.lst:focus{outline:none}.lst-b{background:none;border:none;height:26px;padding:0 6px 0 12px}.ds{border-right:1px solid #e7e7e7;position:relative;height:29px;margin-left:17px;z-index:100}.lsbb{background-image:-moz-linear-gradient(top,#4d90fe,#4787ed);background-image:-ms-linear-gradient(top,#4d90fe,#4787ed);background-image:-o-linear-gradient(top,#4d90fe,#4787ed);background-image:-webkit-gradient(linear,left top,left bottom,from(#4d90fe),to(#4787ed));background-image:-webkit-linear-gradient(top,#4d90fe,#4787ed);background-image:linear-gradient(top,#4d90fe,#4787ed);border:1px solid #3079ed;border-radius:2px;background-color:#4d90fe;height:27px;width:68px}.lsbb:hover{background-image:-moz-linear-gradient(top,#4d90fe,#357ae8);background-image:-ms-linear-gradient(top,#4d90fe,#357ae8);background-image:-o-linear-gradient(top,#4d90fe,#357ae8);background-image:-webkit-gradient(linear,left top,left bottom,from(#4d90fe),to(#357ae8));background-image:-webkit-linear-gradient(top,#4d90fe,#357ae8);background-color:#357ae8;background-image:linear-gradient(top,#4d90fe,#357ae8);border:1px solid #2f5bb7}.lsb{background:transparent;background-position:0 -343px;background-repeat:repeat-x;border:none;color:#000;cursor:default;font:15px arial,sans-serif;height:29px;margin:0;vertical-align:top;width:100%}.lsb:active{-moz-box-shadow:inset 0 1px 2px rgba(0,0,0,0.3);-webkit-box-shadow:inset 0 1px 2px rgba(0,0,0,0.3);box-shadow:inset 0 1px 2px rgba(0,0,0,0.3);background:transparent;color:transparent;overflow:hidden;position:relative;width:100%}.sbico{color:transparent;display:inline-block;height:15px;margin:0 auto;margin-top:2px;width:15px;overflow:hidden}</style><script nonce=\"p5zMiTJOw9bt971vlnhhwA==\">(function(){window.google={kEI:'RIJzXcK0I52Zr7wPqJ2Q-AQ',kEXPI:'0,1353747,2014,3648,730,224,510,1065,3152,378,206,1017,54,1430,577,2,37,87,10,713,226,112,161,377,82,2329780,329476,1294,12383,4855,32691,15248,867,2236,9927,5281,11240,369,8819,2436,5948,1119,2,578,728,2431,1362,4323,4967,3025,4743,2900,6414,669,1050,1808,1478,7,491,2044,7242,1667,5297,2016,38,920,873,1217,1364,346,1,671,3329,3061,2,631,2403,837,8066,2884,20,317,1118,902,104,83,1941,1,368,1399,1379,520,399,992,840,446,7,109,2687,889,78,48,553,11,14,1279,390,1822,202,168,155,5,68,1177,7,840,324,193,513,961,48,157,663,2620,335,483,45,215,52,1137,2,1510,553,606,1839,184,595,82,1100,520,361,1586,449,298,61,150,34,72,112,44,1102,204,124,1284,16,84,417,506,1920,1639,607,101,373,1339,504,225,501,263,294,2446,438,210,134,520,252,181,79,693,76,27,160,332,29,211,285,6,503,225,592,523,241,810,1115,112,151,222,736,639,218,759,2,601,284,244,309,60,56,336,622,21,328,190,487,288,1079,1175,502,3,48,347,214,52,43,9,112,2,90,193,411,129,139,24,11,51,3,473,809,100,148,685,291,229,67,2,287,530,754,1670,1065,40,5894385,6000653,26779284',authuser:0,kscs:'c9c918f0_RIJzXcK0I52Zr7wPqJ2Q-AQ',kGL:'KR',kBL:'76D0'};google.sn='newssearch';google.kHL='ko';google.jsfs='Ffpdje';})();(function(){google.lc=[];google.li=0;google.getEI=function(a){for(var b;a&&(!a.getAttribute||!(b=a.getAttribute(\"eid\")));)a=a.parentNode;return b||google.kEI};google.getLEI=function(a){for(var b=null;a&&(!a.getAttribute||!(b=a.getAttribute(\"leid\")));)a=a.parentNode;return b};google.https=function(){return\"https:\"==window.location.protocol};google.ml=function(){return null};google.time=function(){return(new Date).getTime()};google.log=function(a,b,e,c,g){if(a=google.logUrl(a,b,e,c,g)){b=new Image;var d=google.lc,f=google.li;d[f]=b;b.onerror=b.onload=b.onabort=function(){delete d[f]};google.vel&&google.vel.lu&&google.vel.lu(a);b.src=a;google.li=f+1}};google.logUrl=function(a,b,e,c,g){var d=\"\",f=google.ls||\"\";e||-1!=b.search(\"&ei=\")||(d=\"&ei=\"+google.getEI(c),-1==b.search(\"&lei=\")&&(c=google.getLEI(c))&&(d+=\"&lei=\"+c));c=\"\";!e&&google.cshid&&-1==b.search(\"&cshid=\")&&\"slh\"!=a&&(c=\"&cshid=\"+google.cshid);a=e||\"/\"+(g||\"gen_204\")+\"?atyp=i&ct=\"+a+\"&cad=\"+b+d+f+\"&zx=\"+google.time()+c;/^http:/i.test(a)&&google.https()&&(google.ml(Error(\"a\"),!1,{src:a,glmm:1}),a=\"\");return a};}).call(this);(function(){google.y={};google.x=function(a,b){if(a)var c=a.id;else{do c=Math.random();while(google.y[c])}google.y[c]=[a,b];return!1};google.lm=[];google.plm=function(a){google.lm.push.apply(google.lm,a)};google.lq=[];google.load=function(a,b,c){google.lq.push([[a],b,c])};google.loadAll=function(a,b){google.lq.push([a,b])};}).call(this);google.f={};(function(){var b=[function(){google.tick&&google.tick(\"load\",\"dcl\")}];google.dclc=function(a){b.length?b.push(a):a()};function c(){for(var a;a=b.shift();)a()}window.addEventListener?(document.addEventListener(\"DOMContentLoaded\",c,!1),window.addEventListener(\"load\",c,!1)):window.attachEvent&&window.attachEvent(\"onload\",c);}).call(this);</script><script nonce=\"p5zMiTJOw9bt971vlnhhwA==\" type=\"text/javascript\"></script><script nonce=\"p5zMiTJOw9bt971vlnhhwA==\">(function(){google.sham=function(c){for(var d=c.parentElement,a=null,b=0;b<d.childNodes.length;b++){var e=d.childNodes[b];-1<(\" \"+e.className+\" \").indexOf(\" am-dropdown-menu \")&&(a=e)}\"none\"==a.style.display?(a.style.display=\"\",google.log(\"hpam\",\"&ved=\"+c.getAttribute(\"data-ved\"))):a.style.display=\"none\"};}).call(this);(function(){var b=[];google.jsc={xx:b,x:function(a){b.push(a)},mm:[],m:function(a){google.jsc.mm.length||(google.jsc.mm=a)}};}).call(this);</script></head><body bgcolor=\"#ffffff\" class=\"hsrp\" marginheight=\"0\" marginwidth=\"0\" topmargin=\"0\"><div id=\"gbar\"><nobr><a class=\"gb1\" href=\"https://www.google.co.kr/search?tab=nw\" target=\"_blank\">검색</a> <a class=\"gb1\" href=\"https://www.google.co.kr/search?hl=ko&amp;tbm=isch&amp;source=og&amp;tab=ni\" target=\"_blank\">이미지</a> <a class=\"gb1\" href=\"https://maps.google.co.kr/maps?hl=ko&amp;tab=nl\" target=\"_blank\">지도</a> <a class=\"gb1\" href=\"https://play.google.com/?hl=ko&amp;tab=n8\" target=\"_blank\">Play</a> <a class=\"gb1\" href=\"https://www.youtube.com/results?gl=KR&amp;tab=n1\" target=\"_blank\">YouTube</a> <b class=\"gb1\">뉴스</b> <a class=\"gb1\" href=\"https://mail.google.com/mail/?tab=nm\" target=\"_blank\">Gmail</a> <a class=\"gb1\" href=\"https://drive.google.com/?tab=no\" target=\"_blank\">드라이브</a> <a class=\"gb1\" href=\"https://www.google.co.kr/intl/ko/about/products?tab=nh\" style=\"text-decoration:none\" target=\"_blank\"><u>더보기</u> »</a></nobr></div><div id=\"guser\" width=\"100%\"><nobr><span class=\"gbi\" id=\"gbn\"></span><span class=\"gbf\" id=\"gbf\"></span><span id=\"gbe\"></span><a class=\"gb4\" href=\"http://www.google.co.kr/history/optout?hl=ko\" target=\"_blank\">웹 기록</a> | <a class=\"gb4\" href=\"/preferences?hl=ko\">설정</a> | <a class=\"gb4\" href=\"https://accounts.google.com/ServiceLogin?hl=ko&amp;passive=true&amp;continue=https://www.google.co.kr/search%3Fq%3D%25ED%2586%25A0%25EC%25B0%25A9%25EC%2599%259C%25EA%25B5%25AC%26tbm%3Dnws%26start%3D0\" id=\"gb_70\" target=\"_top\">로그인</a></nobr></div><div class=\"gbh\" style=\"left:0\"></div><div class=\"gbh\" style=\"right:0\"></div><table border=\"0\" cellpadding=\"0\" cellspacing=\"0\" id=\"mn\" style=\"position:relative\"><tr><th width=\"132\"></th><th width=\"573\"></th><th width=\"278\"></th><th></th></tr><tr><td class=\"sfbgg\" valign=\"top\"><div id=\"logocont\"><h1><a href=\"/webhp?hl=ko\" id=\"logo\" style=\"background-image:url(/images/nav_logo229.png);background-repeat:no-repeat;height:37px;width:95px;display:block;background-position:0 -41px\" title=\"Go to Google Home\"></a></h1></div></td><td class=\"sfbgg\" colspan=\"2\" style=\"padding-left:0px\" valign=\"top\"><form action=\"/search\" id=\"tsf\" method=\"GET\" name=\"gs\" style=\"display:block;margin:0;background:none\"><table border=\"0\" cellpadding=\"0\" cellspacing=\"0\" style=\"margin-top:20px;position:relative\"><tr><td><div class=\"lst-a\"><table cellpadding=\"0\" cellspacing=\"0\"><tr><td class=\"lst-td tia\" valign=\"bottom\" width=\"526\"><div style=\"position:relative;zoom:1\"><input autocomplete=\"off\" class=\"lst\" id=\"sbhost\" maxlength=\"2048\" name=\"q\" title=\"검색\" type=\"text\" value=\"토착왜구\"/></div></td><td class=\"lst-td\"><div class=\"lst-b\"><img alt=\"\" data-script-url=\"/textinputassistant/11/ko_tia.js\" height=\"23\" onclick=\"var s=document.createElement('script');s.src=this.getAttribute('data-script-url');(document.getElementById('xjsc')||document.body).appendChild(s);\" src=\"/textinputassistant/tia.png\" style=\"padding-top:2px\" width=\"27\"/></div></td></tr></table></div></td><td><div class=\"ds\" style=\"margin-left:16px\"><div class=\"lsbb\"><button class=\"lsb\" name=\"btnG\" type=\"submit\" value=\"검색\"><span class=\"sbico\" style=\"background-image:url(/images/nav_logo229.png);background-repeat:no-repeat;height:14px;width:13px;display:block;background-position:-36px -111px\"></span></button></div></div></td></tr></table><input name=\"tbm\" type=\"hidden\" value=\"nws\"/></form></td><td class=\"sfbgg\"> </td></tr><tr style=\"position:relative\"><td><div style=\"border-bottom:1px solid #ebebeb;height:59px\"></div></td><td colspan=\"2\"><div class=\"tn\"><div class=\"sFTC8c\"><a class=\"qrSWbe KDZjCd pqkqJe\" href=\"/search?q=%ED%86%A0%EC%B0%A9%EC%99%9C%EA%B5%AC&amp;ie=UTF-8&amp;source=lnms&amp;sa=X&amp;ved=0ahUKEwjC5uuzvL7kAhWdzIsBHagOBE8Q_AUIBA\">전체</a></div><div class=\"sFTC8c\"><a class=\"qrSWbe KDZjCd\" href=\"/search?q=%ED%86%A0%EC%B0%A9%EC%99%9C%EA%B5%AC&amp;ie=UTF-8&amp;tbm=isch&amp;source=lnms&amp;sa=X&amp;ved=0ahUKEwjC5uuzvL7kAhWdzIsBHagOBE8Q_AUIBQ\">이미지</a></div><div class=\"sFTC8c\"><a class=\"qrSWbe KDZjCd\" href=\"/search?q=%ED%86%A0%EC%B0%A9%EC%99%9C%EA%B5%AC&amp;ie=UTF-8&amp;tbm=vid&amp;source=lnms&amp;sa=X&amp;ved=0ahUKEwjC5uuzvL7kAhWdzIsBHagOBE8Q_AUIBg\">동영상</a></div><div class=\"qrSWbe tnuiC sFTC8c\">뉴스</div><div class=\"sFTC8c\"><a class=\"qrSWbe KDZjCd\" href=\"/search?q=%ED%86%A0%EC%B0%A9%EC%99%9C%EA%B5%AC&amp;ie=UTF-8&amp;tbm=shop&amp;source=lnms&amp;sa=X&amp;ved=0ahUKEwjC5uuzvL7kAhWdzIsBHagOBE8Q_AUICA\">쇼핑</a></div><div class=\"sFTC8c\"><a class=\"qrSWbe KDZjCd\" href=\"https://maps.google.co.kr/maps?q=%ED%86%A0%EC%B0%A9%EC%99%9C%EA%B5%AC&amp;um=1&amp;ie=UTF-8&amp;sa=X&amp;ved=0ahUKEwjC5uuzvL7kAhWdzIsBHagOBE8Q_AUICQ\">지도</a></div><div class=\"sFTC8c\"><a class=\"qrSWbe KDZjCd\" href=\"/search?q=%ED%86%A0%EC%B0%A9%EC%99%9C%EA%B5%AC&amp;ie=UTF-8&amp;tbm=bks&amp;source=lnms&amp;sa=X&amp;ved=0ahUKEwjC5uuzvL7kAhWdzIsBHagOBE8Q_AUICg\">도서</a></div></div><div style=\"border-bottom:1px solid #ebebeb;height:59px\"></div></td><td><div style=\"border-bottom:1px solid #ebebeb;height:59px\"></div></td></tr><tbody id=\"desktop-search\"><style>.pCA4Bd,.pCA4Bd a:link,.pCA4Bd a:visited,a.pCA4Bd:link,a.pCA4Bd:visited{color:#808080}.AzrInc{color:#61C}.ellip{overflow:hidden;text-overflow:ellipsis;white-space:nowrap}</style><tr><td id=\"leftnav\" valign=\"top\"><div><h2 class=\"hd\">Search Options</h2><ul class=\"med\" id=\"tbd\"><li><ul class=\"tbt\"><li class=\"tbos\" id=\"lr_\">웹 검색</li><li class=\"tbou\" id=\"lr_lang_1ko\"><a class=\"q\" href=\"/search?q=%ED%86%A0%EC%B0%A9%EC%99%9C%EA%B5%AC&amp;ie=UTF-8&amp;tbm=nws&amp;source=lnt&amp;tbs=lr:lang_1ko&amp;lr=lang_ko&amp;sa=X&amp;ved=0ahUKEwjC5uuzvL7kAhWdzIsBHagOBE8QpwUIDw\">한국어 웹</a></li></ul></li><li><ul class=\"tbt\"><li class=\"tbos\" id=\"nrt_\">전체 뉴스</li><li class=\"tbou\" id=\"nrt_b\"><a class=\"q\" href=\"/search?q=%ED%86%A0%EC%B0%A9%EC%99%9C%EA%B5%AC&amp;ie=UTF-8&amp;tbm=nws&amp;source=lnt&amp;tbs=nrt:b&amp;sa=X&amp;ved=0ahUKEwjC5uuzvL7kAhWdzIsBHagOBE8QpwUIDw\">블로그</a></li></ul></li><li><ul class=\"tbt\"><li class=\"tbos\" id=\"qdr_\">최근 항목</li><li class=\"tbou\" id=\"qdr_h\"><a class=\"q\" href=\"/search?q=%ED%86%A0%EC%B0%A9%EC%99%9C%EA%B5%AC&amp;ie=UTF-8&amp;tbm=nws&amp;source=lnt&amp;tbs=qdr:h&amp;sa=X&amp;ved=0ahUKEwjC5uuzvL7kAhWdzIsBHagOBE8QpwUIDw\"> 지난 1시간</a></li><li class=\"tbou\" id=\"qdr_d\"><a class=\"q\" href=\"/search?q=%ED%86%A0%EC%B0%A9%EC%99%9C%EA%B5%AC&amp;ie=UTF-8&amp;tbm=nws&amp;source=lnt&amp;tbs=qdr:d&amp;sa=X&amp;ved=0ahUKEwjC5uuzvL7kAhWdzIsBHagOBE8QpwUIDw\"> 지난 1일</a></li><li class=\"tbou\" id=\"qdr_w\"><a class=\"q\" href=\"/search?q=%ED%86%A0%EC%B0%A9%EC%99%9C%EA%B5%AC&amp;ie=UTF-8&amp;tbm=nws&amp;source=lnt&amp;tbs=qdr:w&amp;sa=X&amp;ved=0ahUKEwjC5uuzvL7kAhWdzIsBHagOBE8QpwUIDw\"> 지난 1주</a></li><li class=\"tbou\" id=\"qdr_m\"><a class=\"q\" href=\"/search?q=%ED%86%A0%EC%B0%A9%EC%99%9C%EA%B5%AC&amp;ie=UTF-8&amp;tbm=nws&amp;source=lnt&amp;tbs=qdr:m&amp;sa=X&amp;ved=0ahUKEwjC5uuzvL7kAhWdzIsBHagOBE8QpwUIDw\"> 지난 1개월</a></li><li class=\"tbou\" id=\"qdr_y\"><a class=\"q\" href=\"/search?q=%ED%86%A0%EC%B0%A9%EC%99%9C%EA%B5%AC&amp;ie=UTF-8&amp;tbm=nws&amp;source=lnt&amp;tbs=qdr:y&amp;sa=X&amp;ved=0ahUKEwjC5uuzvL7kAhWdzIsBHagOBE8QpwUIDw\"> 지난 1년</a></li><li class=\"tbou\" id=\"ar_1\"><a class=\"q\" href=\"/search?q=%ED%86%A0%EC%B0%A9%EC%99%9C%EA%B5%AC&amp;ie=UTF-8&amp;tbm=nws&amp;source=lnt&amp;tbs=ar:1&amp;sa=X&amp;ved=0ahUKEwjC5uuzvL7kAhWdzIsBHagOBE8QpwUIDw\">자료실</a></li></ul></li></ul></div></td><td valign=\"top\"><div id=\"center_col\"><div class=\"sd\" id=\"resultStats\">검색결과 약 42,500개</div><div id=\"res\"><div id=\"topstuff\"></div><div id=\"search\"><div id=\"ires\"><ol><div class=\"g\"><table><tr><td style=\"width:516px\" valign=\"top\"><h3 class=\"r\"><a href=\"/url?q=https://news.joins.com/article/23555267&amp;sa=U&amp;ved=0ahUKEwjC5uuzvL7kAhWdzIsBHagOBE8QqQIIFCgAMAA&amp;usg=AOvVaw3LiEVnTnx4heaz5se-8idj\">초·중생에 “<b>토착왜구</b> 한국당 해체” 합창시킨 진보단체</a></h3><div class=\"slp\"><span class=\"f\">중앙일보 - 2019년 8월 18일</span></div><div class=\"st\">아이들은 '요리 보고 조리 봐도 자한당은 <b>토착왜구</b>' '일본 손잡고 미국 섬기는 매국노 자한당' '총선은 한일전, 자한당 해체' 등으로 가사가 바뀐 노래 ...</div><a href=\"/url?q=http://news.chosun.com/site/data/html_dir/2019/08/18/2019081801104.html&amp;sa=U&amp;ved=0ahUKEwjC5uuzvL7kAhWdzIsBHagOBE8Q-AsIFigAMAA&amp;usg=AOvVaw2NgbZ6EZR5cYE5QLsO3D3N\">\"친일파 자한당 해체\"…광화문서 아이들에 '동요 개사 메들리' 합창시킨 ...</a> <span class=\"f\">조선일보</span><br/><a href=\"/url?q=http://www.donga.com/news/article/all/20190819/97025012/2&amp;sa=U&amp;ved=0ahUKEwjC5uuzvL7kAhWdzIsBHagOBE8Q-AsIFygBMAA&amp;usg=AOvVaw3jRYSL62V3o2regBp8ZRjJ\">나경원, 초·중생 '자한당 <b>토착왜구</b>' 합창시킨 단체 겨냥 “아동학대”</a> <span class=\"f\">동아일보</span><br/><a href=\"/url?q=https://monthly.chosun.com/client/mdaily/daily_view.asp%3FIdx%3D7696%26Newsnumb%3D2019087696&amp;sa=U&amp;ved=0ahUKEwjC5uuzvL7kAhWdzIsBHagOBE8Q-AsIGCgCMAA&amp;usg=AOvVaw2BnpVpzzGxXqvM0izBvxq9\">진보단체, 청소년합창단에 \"자한당은 <b>토착왜구</b>\" 야당 비난 노래 시켰다</a> <span class=\"f\">월간조선</span><br/><a class=\"gl\" href=\"/url?q=https://www.nocutnews.co.kr/news/5199494&amp;sa=U&amp;ved=0ahUKEwjC5uuzvL7kAhWdzIsBHagOBE8QjQwIGSgCMAA&amp;usg=AOvVaw1ZC7-iVdda12kYFJRdVxB-\"><cite style=\"text-decoration:underline\">노컷뉴스</cite></a> - <a class=\"gl\" href=\"/url?q=http://kpenews.com/View.aspx%3FNo%3D86319&amp;sa=U&amp;ved=0ahUKEwjC5uuzvL7kAhWdzIsBHagOBE8QjQwIGigDMAA&amp;usg=AOvVaw1k_K7Fnaoa1SP6J1oszmew\"><cite style=\"text-decoration:underline\">한국정경신문 (보도자료)</cite></a><br/></td><td style=\"padding:2px 0 0 8px;font-size:77%;text-align:center\" valign=\"top\"><a href=\"/url?q=https://news.joins.com/article/23555267&amp;sa=U&amp;ved=0ahUKEwjC5uuzvL7kAhWdzIsBHagOBE8QpwIIGzAA&amp;usg=AOvVaw0Kv49ShBuIh9yIn6-neFZX\"><img border=\"1\" class=\"th\" src=\"https://encrypted-tbn1.gstatic.com/images?q=tbn:ANd9GcTRGtKJDoiclLaLztsNTksK3yR6cAnhZbGyEDHFt4D2rnX64ndawviaIqDDvRLjfHmPVu6n5WhD\"/></a><div class=\"f\">중앙일보</div></td></tr></table></div><div class=\"g\"><table><tr><td style=\"width:516px\" valign=\"top\"><h3 class=\"r\"><a href=\"/url?q=http://www.usjournal.kr/news/newsview.php%3Fncode%3D1065580892563054&amp;sa=U&amp;ved=0ahUKEwjC5uuzvL7kAhWdzIsBHagOBE8QqQIIHSgAMAE&amp;usg=AOvVaw2A7RaKXJ3MG7jIxDIFCVkO\">친일과 친일파 그리고 <b>토착왜구</b></a></h3><div class=\"slp\"><span class=\"f\">울산저널i - 2019년 8월 15일</span></div><div class=\"st\">오늘에 다시 묻는다. '친일'이란 '친일파'란 도대체 무엇인가? 아베 정권 일본이 촉발한 한일 간 경제전쟁이 격화되면서 성숙한 시민의식을 가진 국민 ...</div></td><td style=\"padding:2px 0 0 8px;font-size:77%;text-align:center\" valign=\"top\"><div class=\"f\"></div></td></tr></table></div><div class=\"g\"><table><tr><td style=\"width:516px\" valign=\"top\"><h3 class=\"r\"><a href=\"/url?q=https://www.edaily.co.kr/news/read%3FnewsId%3D03919606622591912%26mediaCodeNo%3D257&amp;sa=U&amp;ved=0ahUKEwjC5uuzvL7kAhWdzIsBHagOBE8QqQIIHygAMAI&amp;usg=AOvVaw3hGOSK5w6ILkGwlPF2JQZG\">보은군수 친일 발언 파문…\"한국당, '<b>토착왜구</b>' 억울하면 제명해야\"</a></h3><div class=\"slp\"><span class=\"f\">이데일리 - 2019년 8월 28일</span></div><div class=\"st\">민주당은 정 군수가 속한 자유한국당에 대해서도 “국민으로부터 '<b>토착 왜구</b>' 비난을 받는 게 억울하다면 정 군수를 즉각 제명하라”고 요구했다.</div><a href=\"/url?q=https://www.nocutnews.co.kr/news/5204852&amp;sa=U&amp;ved=0ahUKEwjC5uuzvL7kAhWdzIsBHagOBE8Q-AsIISgAMAI&amp;usg=AOvVaw3fuN_YPudz5-fvuXqe1mXy\">친일성 발언 정상혁 보은군수 비난 확산…\"인용이 오해 불러\"</a> <span class=\"f\">노컷뉴스</span><br/><a href=\"/url?q=https://www.huffingtonpost.kr/entry/story_kr_5d67508fe4b063c341fa984f&amp;sa=U&amp;ved=0ahUKEwjC5uuzvL7kAhWdzIsBHagOBE8Q-AsIIigBMAI&amp;usg=AOvVaw1CtRrhL9LNIcKVXvqtBKK4\">“일본 돈 받아 발전했다” 발언 논란에 충북 보은군수가 사과했다</a> <span class=\"f\">허프포스트코리아</span><br/></td><td style=\"padding:2px 0 0 8px;font-size:77%;text-align:center\" valign=\"top\"><a href=\"/url?q=https://www.edaily.co.kr/news/read%3FnewsId%3D03919606622591912%26mediaCodeNo%3D257&amp;sa=U&amp;ved=0ahUKEwjC5uuzvL7kAhWdzIsBHagOBE8QpwIIIzAC&amp;usg=AOvVaw1xb65W41-5OyTyS66X8h0m\"><img border=\"1\" class=\"th\" src=\"https://encrypted-tbn3.gstatic.com/images?q=tbn:ANd9GcR3MlmVp9E1xGlW6YaJ8Ly1Oz3XOfVdpJC1sjWcf4QNPfD63z1MfeZgg9Z3BsQ0OdZWmnQzUQ\"/></a><div class=\"f\">이데일리</div></td></tr></table></div><div class=\"g\"><table><tr><td style=\"width:516px\" valign=\"top\"><h3 class=\"r\"><a href=\"/url?q=http://www.incheonnews.com/news/articleView.html%3Fidxno%3D118741&amp;sa=U&amp;ved=0ahUKEwjC5uuzvL7kAhWdzIsBHagOBE8QqQIIJSgAMAM&amp;usg=AOvVaw3jmBCKE3YmkHbChDxhJAZj\">2000여 촛불시민들 \"<b>토착왜구</b>-적폐 언론 몰아내자\"</a></h3><div class=\"slp\"><span class=\"f\">인천뉴스 - 4일 전</span></div><div class=\"st\">서울 광화문 7차 아베규탄 촛불문화제에서 참가자들이 “아베 신조와 도착<b>왜구</b> 몰아내고 '적폐언론'을 몰아내자”고 외쳤다. 전국 700여 시민사회단체 ...</div></td><td style=\"padding:2px 0 0 8px;font-size:77%;text-align:center\" valign=\"top\"><a href=\"/url?q=http://www.incheonnews.com/news/articleView.html%3Fidxno%3D118741&amp;sa=U&amp;ved=0ahUKEwjC5uuzvL7kAhWdzIsBHagOBE8QpwIIJjAD&amp;usg=AOvVaw3nLBspCsdEwlfC_j75Pw10\"><img border=\"1\" class=\"th\" src=\"https://encrypted-tbn2.gstatic.com/images?q=tbn:ANd9GcRztf-zQ7_SAJZxvITIkIRpbtBHY4K16RCFTIN23mP4jNsEJJXV7hFPT8nGcIY6T_D_oaQAph4\"/></a><div class=\"f\">인천뉴스</div></td></tr></table></div><div class=\"g\"><table><tr><td style=\"width:516px\" valign=\"top\"><h3 class=\"r\"><a href=\"/url?q=http://www.minplus.or.kr/news/articleView.html%3Fidxno%3D7822&amp;sa=U&amp;ved=0ahUKEwjC5uuzvL7kAhWdzIsBHagOBE8QqQIIKCgAMAQ&amp;usg=AOvVaw1QqqAzZQlMLOeKyOI1B4es\">지소미아 폐기에 '뒷말하는 자'가 <b>토착왜구</b></a></h3><div class=\"slp\"><span class=\"f\">현장언론 민플러스 - 2019년 8월 22일</span></div><div class=\"st\">이처럼 지소미아 폐기를 두고 '국익'과 '안보'를 들먹이며 반대하는 것은 어디까지나 '일본의 국익', '일본의 안보'를 지키려는 <b>토착왜구</b>의 수작이다.</div></td><td style=\"padding:2px 0 0 8px;font-size:77%;text-align:center\" valign=\"top\"><a href=\"/url?q=http://www.minplus.or.kr/news/articleView.html%3Fidxno%3D7822&amp;sa=U&amp;ved=0ahUKEwjC5uuzvL7kAhWdzIsBHagOBE8QpwIIKTAE&amp;usg=AOvVaw2ZZsJwqzmImBsZJiO2xYy2\"><img border=\"1\" class=\"th\" src=\"https://encrypted-tbn0.gstatic.com/images?q=tbn:ANd9GcR0PDVm8ziWwEB3Pc3z_wxdqqKDISmC8XdzusDA9AI7rF2frTmd510-cT0Xolj29K6JU-IAkhNh\"/></a><div class=\"f\">현장언론 민플러스</div></td></tr></table></div><div class=\"g\"><table><tr><td style=\"width:516px\" valign=\"top\"><h3 class=\"r\"><a href=\"/url?q=http://imnews.imbc.com/news/2019/politic/article/5457434_24691.html%3Fmenuid%3Dpolitic&amp;sa=U&amp;ved=0ahUKEwjC5uuzvL7kAhWdzIsBHagOBE8QqQIIKygAMAU&amp;usg=AOvVaw2JFEVeQU3cOazX2a82mFkA\">[정참시] \"<b>토착왜구</b>\" 어린이 합창, 나경원 \"北 소년단\" 발끈</a></h3><div class=\"slp\"><span class=\"f\">MBC뉴스 - 2019년 8월 19일</span></div><div class=\"st\">... ◁ 앵커 ▷ 다음 소식, '<b>토착왜구</b>' 합창에 '北 소년단' 발끈… 진보단체 집회에서 한국당을 비난한 합창이 정치권에서 논란이 됐어요. ◁ 기자 ▷</div></td><td style=\"padding:2px 0 0 8px;font-size:77%;text-align:center\" valign=\"top\"><a href=\"/url?q=http://imnews.imbc.com/news/2019/politic/article/5457434_24691.html%3Fmenuid%3Dpolitic&amp;sa=U&amp;ved=0ahUKEwjC5uuzvL7kAhWdzIsBHagOBE8QpwIILDAF&amp;usg=AOvVaw1vWyiNCAMReK1SKf2vMYSJ\"><img border=\"1\" class=\"th\" src=\"https://encrypted-tbn3.gstatic.com/images?q=tbn:ANd9GcTAlbBsecOXq6Pw-lt7RUMUOV_OlzQyx2umA9c_lQ2jiHo2c024hkEJMzlEg1P6X0v8DDV556F4\"/></a><div class=\"f\">MBC뉴스</div></td></tr></table></div><div class=\"g\"><table><tr><td style=\"width:516px\" valign=\"top\"><h3 class=\"r\"><a href=\"/url?q=http://www.seniormaeil.com/news/articleView.html%3Fidxno%3D10753&amp;sa=U&amp;ved=0ahUKEwjC5uuzvL7kAhWdzIsBHagOBE8QqQIILigAMAY&amp;usg=AOvVaw3IOPFKQrUKaWd-G-vlH4Gi\">(26) '<b>토착왜구</b>'라는 말</a></h3><div class=\"slp\"><span class=\"f\">시니어매일 - 2019년 8월 11일</span></div><div class=\"st\">그러자 그 다음 날 여당 대변인이 “나경원이 <b>토착왜구</b> 라고 스스로를 밝혔으니 반민특위에 회부하라”라고 공격했다. 이 말에 야당의 대변인이 15일 ...</div></td><td style=\"padding:2px 0 0 8px;font-size:77%;text-align:center\" valign=\"top\"><a href=\"/url?q=http://www.seniormaeil.com/news/articleView.html%3Fidxno%3D10753&amp;sa=U&amp;ved=0ahUKEwjC5uuzvL7kAhWdzIsBHagOBE8QpwIILzAG&amp;usg=AOvVaw3V07m9PoBp132oHqz9EuLN\"><img border=\"1\" class=\"th\" src=\"https://encrypted-tbn2.gstatic.com/images?q=tbn:ANd9GcS9SZo5GH-S0Hr5Hi0a-l1vnR4nqboXupZtQ0hoqzVmoVDmVwJPHd6MX6csL4hMXwXLM20U2GA\"/></a><div class=\"f\">시니어매일</div></td></tr></table></div><div class=\"g\"><table><tr><td style=\"width:516px\" valign=\"top\"><h3 class=\"r\"><a href=\"/url?q=http://imnews.imbc.com/replay/2019/nwdesk/article/5457432_24634.html&amp;sa=U&amp;ved=0ahUKEwjC5uuzvL7kAhWdzIsBHagOBE8QqQIIMSgAMAc&amp;usg=AOvVaw0DTp8EbhHUCOoNCoqQ3oOL\">조국 동생 '위장이혼'?…\"우리 형도 이혼\" / \"<b>토착왜구</b>\" 합창에 \"北 ...</a></h3><div class=\"slp\"><span class=\"f\">MBC뉴스 - 2019년 8월 19일</span></div><div class=\"st\">요리 보고 조리 봐도 음음~ 자한당은 <b>토착왜구</b> 우리나라에 암처럼 기어든 왜구들~ 자한당! 친일이 제일 좋아 자한당 모였다 자한당 해체해~ 자한당 ...</div></td><td style=\"padding:2px 0 0 8px;font-size:77%;text-align:center\" valign=\"top\"><a href=\"/url?q=http://imnews.imbc.com/replay/2019/nwdesk/article/5457432_24634.html&amp;sa=U&amp;ved=0ahUKEwjC5uuzvL7kAhWdzIsBHagOBE8QpwIIMjAH&amp;usg=AOvVaw3LeJhglGoDzgawFlAIiQpw\"><img border=\"1\" class=\"th\" src=\"https://encrypted-tbn3.gstatic.com/images?q=tbn:ANd9GcSF0e1yoEmxEcofDPX55gDvRrRBvq8DfJ3gv6eQdO3oSRDykvRN5Zc8Z_b7XjDH4bHHny6Qxyjg\"/></a><div class=\"f\">MBC뉴스</div></td></tr></table></div><div class=\"g\"><table><tr><td style=\"width:516px\" valign=\"top\"><h3 class=\"r\"><a href=\"/url?q=http://www.newsis.com/view%3Fid%3DNISX20190819_0000744608&amp;sa=U&amp;ved=0ahUKEwjC5uuzvL7kAhWdzIsBHagOBE8QqQIINCgAMAg&amp;usg=AOvVaw2QwJDhcYnZ_Y9LF1wEIxVy\">한국당, '<b>토착왜구</b>' 청소년 노랫말 규탄…\"좌파단체 고발\"</a></h3><div class=\"slp\"><span class=\"f\">뉴시스 - 2019년 8월 19일</span></div><div class=\"st\">자한당 해체 동요-만화 주제가 메들리' 동영상 확산 \"요리보고 조리보고 음음 자한당은 <b>토착 왜구</b>\" 등 가사 민중공동행동 '자주통일대회'서 어린이· ...</div><a href=\"/url?q=http://news.chosun.com/site/data/html_dir/2019/08/19/2019081902568.html&amp;sa=U&amp;ved=0ahUKEwjC5uuzvL7kAhWdzIsBHagOBE8Q-AsINigAMAg&amp;usg=AOvVaw15XoM9gPjI3CNdCgCa126_\">[사설] 초등생들에게 \"한국당 해체, 황교안 구속\" 외치게 한 사람들</a> <span class=\"f\">조선일보 (풍자) (보도자료)</span><br/></td><td style=\"padding:2px 0 0 8px;font-size:77%;text-align:center\" valign=\"top\"><a href=\"/url?q=http://www.newsis.com/view%3Fid%3DNISX20190819_0000744608&amp;sa=U&amp;ved=0ahUKEwjC5uuzvL7kAhWdzIsBHagOBE8QpwIINzAI&amp;usg=AOvVaw1LZmcdh1l8n3H4iQ88rhNF\"><img border=\"1\" class=\"th\" src=\"https://encrypted-tbn3.gstatic.com/images?q=tbn:ANd9GcSI_RjbfhvTQAGZE3IyNfMxB7xEP6mM_ornaXLIrDAUJK-BruqujE1HWtg9_TtBvnSNNyhjtZ0\"/></a><div class=\"f\">뉴시스</div></td></tr></table></div><div class=\"g\"><table><tr><td style=\"width:516px\" valign=\"top\"><h3 class=\"r\"><a href=\"/url?q=http://www.ukoreanews.com/news/articleView.html%3Fidxno%3D9053&amp;sa=U&amp;ved=0ahUKEwjC5uuzvL7kAhWdzIsBHagOBE8QqQIIOSgAMAk&amp;usg=AOvVaw1_2szY2OpPsNGiz6sdQ_Fs\">'빨갱이', '<b>토착왜구</b>'라는 색깔론과 상호필멸전략평화통일연대 '평화칼럼'</a></h3><div class=\"slp\"><span class=\"f\">유코리아뉴스 - 2019년 8월 12일</span></div><div class=\"st\">35년간 일본의 지배를 받았고, 400년 전 임진왜란의 기억이 선명하게 남아 있는 우리에게 '친일파' 나아가 '<b>토착왜구</b>'는 우리의 가슴 깊숙한 곳 ...</div></td><td style=\"padding:2px 0 0 8px;font-size:77%;text-align:center\" valign=\"top\"><a href=\"/url?q=http://www.ukoreanews.com/news/articleView.html%3Fidxno%3D9053&amp;sa=U&amp;ved=0ahUKEwjC5uuzvL7kAhWdzIsBHagOBE8QpwIIOjAJ&amp;usg=AOvVaw3ddAOvBpOWtIudRFW88gZh\"><img border=\"1\" class=\"th\" src=\"https://encrypted-tbn1.gstatic.com/images?q=tbn:ANd9GcRkyFPm1xxMQYB9eGjU5p5QuZRqg6FOS_jPNSss_W6vAd8K6BXl5S0KclCNYuEALF55G1SFJI3B\"/></a><div class=\"f\">유코리아뉴스</div></td></tr></table></div></ol></div></div></div></div><div id=\"foot\"><table align=\"center\" border=\"0\" cellpadding=\"0\" cellspacing=\"0\" id=\"nav\"><tr valign=\"top\"><td align=\"left\" class=\"b\"><span class=\"csb\" style=\"background-position:-24px 0;width:28px\"></span><b></b></td><td><span class=\"csb\" style=\"background-position:-53px 0;width:20px\"></span><b>1</b></td><td><a class=\"fl\" href=\"/search?q=%ED%86%A0%EC%B0%A9%EC%99%9C%EA%B5%AC&amp;ie=UTF-8&amp;tbm=nws&amp;ei=RIJzXcK0I52Zr7wPqJ2Q-AQ&amp;start=10&amp;sa=N\"><span class=\"csb\" style=\"background-position:-74px 0;width:20px\"></span>2</a></td><td><a class=\"fl\" href=\"/search?q=%ED%86%A0%EC%B0%A9%EC%99%9C%EA%B5%AC&amp;ie=UTF-8&amp;tbm=nws&amp;ei=RIJzXcK0I52Zr7wPqJ2Q-AQ&amp;start=20&amp;sa=N\"><span class=\"csb\" style=\"background-position:-74px 0;width:20px\"></span>3</a></td><td><a class=\"fl\" href=\"/search?q=%ED%86%A0%EC%B0%A9%EC%99%9C%EA%B5%AC&amp;ie=UTF-8&amp;tbm=nws&amp;ei=RIJzXcK0I52Zr7wPqJ2Q-AQ&amp;start=30&amp;sa=N\"><span class=\"csb\" style=\"background-position:-74px 0;width:20px\"></span>4</a></td><td><a class=\"fl\" href=\"/search?q=%ED%86%A0%EC%B0%A9%EC%99%9C%EA%B5%AC&amp;ie=UTF-8&amp;tbm=nws&amp;ei=RIJzXcK0I52Zr7wPqJ2Q-AQ&amp;start=40&amp;sa=N\"><span class=\"csb\" style=\"background-position:-74px 0;width:20px\"></span>5</a></td><td><a class=\"fl\" href=\"/search?q=%ED%86%A0%EC%B0%A9%EC%99%9C%EA%B5%AC&amp;ie=UTF-8&amp;tbm=nws&amp;ei=RIJzXcK0I52Zr7wPqJ2Q-AQ&amp;start=50&amp;sa=N\"><span class=\"csb\" style=\"background-position:-74px 0;width:20px\"></span>6</a></td><td><a class=\"fl\" href=\"/search?q=%ED%86%A0%EC%B0%A9%EC%99%9C%EA%B5%AC&amp;ie=UTF-8&amp;tbm=nws&amp;ei=RIJzXcK0I52Zr7wPqJ2Q-AQ&amp;start=60&amp;sa=N\"><span class=\"csb\" style=\"background-position:-74px 0;width:20px\"></span>7</a></td><td><a class=\"fl\" href=\"/search?q=%ED%86%A0%EC%B0%A9%EC%99%9C%EA%B5%AC&amp;ie=UTF-8&amp;tbm=nws&amp;ei=RIJzXcK0I52Zr7wPqJ2Q-AQ&amp;start=70&amp;sa=N\"><span class=\"csb\" style=\"background-position:-74px 0;width:20px\"></span>8</a></td><td><a class=\"fl\" href=\"/search?q=%ED%86%A0%EC%B0%A9%EC%99%9C%EA%B5%AC&amp;ie=UTF-8&amp;tbm=nws&amp;ei=RIJzXcK0I52Zr7wPqJ2Q-AQ&amp;start=80&amp;sa=N\"><span class=\"csb\" style=\"background-position:-74px 0;width:20px\"></span>9</a></td><td><a class=\"fl\" href=\"/search?q=%ED%86%A0%EC%B0%A9%EC%99%9C%EA%B5%AC&amp;ie=UTF-8&amp;tbm=nws&amp;ei=RIJzXcK0I52Zr7wPqJ2Q-AQ&amp;start=90&amp;sa=N\"><span class=\"csb\" style=\"background-position:-74px 0;width:20px\"></span>10</a></td><td class=\"b\" style=\"text-align:left\"><a class=\"fl\" href=\"/search?q=%ED%86%A0%EC%B0%A9%EC%99%9C%EA%B5%AC&amp;ie=UTF-8&amp;tbm=nws&amp;ei=RIJzXcK0I52Zr7wPqJ2Q-AQ&amp;start=10&amp;sa=N\" style=\"text-align:left\"><span class=\"csb\" style=\"background-position:-96px 0;width:71px\"></span><span style=\"display:block;margin-left:53px\">다음</span></a></td></tr></table><div class=\"f\" style=\"font-size:10px;padding:16px;text-align:center\">이 페이지의 게시물은 컴퓨터 프로그램을 통해 자동으로 선택 및 게재됩니다. 표시된 시간이나 날짜는 Google 뉴스에 추가되거나 업데이트된 시간을 나타냅니다.</div><p class=\"A8ul6\" id=\"bfl\" style=\"margin:19px 0 0;text-align:center\"><a href=\"http://news.google.co.kr/news/advanced_news_search?q=%ED%86%A0%EC%B0%A9%EC%99%9C%EA%B5%AC\">고급검색</a><a href=\"http://news.google.co.kr/news?q=%ED%86%A0%EC%B0%A9%EC%99%9C%EA%B5%AC&amp;um=1&amp;ie=UTF-8&amp;output=rss\"><img alt=\"RSS\" height=\"12\" src=\"/images/rss.png\" style=\"border:0;margin:1px 3px;vertical-align:text-bottom\" width=\"12\"/>RSS</a> <a href=\"/support/websearch/bin/answer.py?answer=134479&amp;hl=ko\">검색 도움말</a> <a href=\"/tools/feedback/survey/html?productId=196&amp;query=%ED%86%A0%EC%B0%A9%EC%99%9C%EA%B5%AC&amp;hl=ko\">의견 보내기</a></p><div class=\"A8ul6\" id=\"fll\" style=\"margin:19px auto 19px auto;text-align:center\"><a href=\"/\">Google 홈</a> <a href=\"/intl/ko/ads\">Google 광고 프로그램</a> <a href=\"/intl/ko/policies/privacy/\">개인정보처리방침</a> <a href=\"/intl/ko/policies/terms/\">약관</a> <a href=\"/intl/ko/about.html\">Google 정보</a></div></div></td><td id=\"rhs_block\" valign=\"top\"></td></tr></tbody></table><script nonce=\"p5zMiTJOw9bt971vlnhhwA==\" type=\"text/javascript\">(function(){var eventid='RIJzXcK0I52Zr7wPqJ2Q-AQ';google.kEI = eventid;})();</script><script nonce=\"p5zMiTJOw9bt971vlnhhwA==\" src=\"/xjs/_/js/k=xjs.hp.en.JsVoCDMC1nE.O/m=sb_he,d/d=1/rs=ACT90oFOy79Zvbstk-KH_CWvForEisX6EQ\"></script><script nonce=\"p5zMiTJOw9bt971vlnhhwA==\" type=\"text/javascript\">google.ac&&google.ac.c({\"agen\":true,\"cgen\":true,\"client\":\"heirloom-serp\",\"dh\":true,\"dhqt\":true,\"ds\":\"n\",\"ffql\":\"ko\",\"host\":\"google.co.kr\",\"isbh\":28,\"jsonp\":true,\"msgs\":{\"cibl\":\"검색어 지우기\",\"dym\":\"이것을 찾으셨나요?\",\"lcky\":\"I’m Feeling Lucky\",\"lml\":\"자세히 알아보기\",\"oskt\":\"입력 도구\",\"psrc\":\"검색어가 \\u003Ca href=\\\"/history\\\"\\u003E웹 기록\\u003C/a\\u003E에서 삭제되었습니다.\",\"psrl\":\"삭제\",\"sbit\":\"이미지로 검색\",\"srch\":\"Google 검색\"},\"ovr\":{},\"pq\":\"토착왜구\",\"refspre\":true,\"sbpl\":24,\"sbpr\":24,\"scd\":10,\"sce\":5,\"stok\":\"T85Q-4kz87zVicN8oLtdX89mUG0\",\"uhde\":false})</script><script nonce=\"p5zMiTJOw9bt971vlnhhwA==\">(function(){window.google.cdo={height:0,width:0};(function(){var a=window.innerWidth,b=window.innerHeight;if(!a||!b){var c=window.document,d=\"CSS1Compat\"==c.compatMode?c.documentElement:c.body;a=d.clientWidth;b=d.clientHeight}a&&b&&(a!=google.cdo.width||b!=google.cdo.height)&&google.log(\"\",\"\",\"/client_204?&atyp=i&biw=\"+a+\"&bih=\"+b+\"&ei=\"+google.kEI);}).call(this);})();</script></body></html>"
      ]
     },
     "execution_count": 18,
     "metadata": {},
     "output_type": "execute_result"
    }
   ],
   "source": [
    "soup"
   ]
  }
 ],
 "metadata": {
  "kernelspec": {
   "display_name": "Python 3",
   "language": "python",
   "name": "python3"
  },
  "language_info": {
   "codemirror_mode": {
    "name": "ipython",
    "version": 3
   },
   "file_extension": ".py",
   "mimetype": "text/x-python",
   "name": "python",
   "nbconvert_exporter": "python",
   "pygments_lexer": "ipython3",
   "version": "3.7.0"
  }
 },
 "nbformat": 4,
 "nbformat_minor": 2
}
