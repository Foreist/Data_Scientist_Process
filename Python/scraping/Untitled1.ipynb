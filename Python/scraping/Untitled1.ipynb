{
 "cells": [
  {
   "cell_type": "code",
   "execution_count": null,
   "metadata": {},
   "outputs": [],
   "source": [
    "# 타이틀, 평점 예매율"
   ]
  },
  {
   "cell_type": "code",
   "execution_count": 1,
   "metadata": {
    "ExecuteTime": {
     "end_time": "2019-10-15T00:32:52.075757Z",
     "start_time": "2019-10-15T00:32:50.692855Z"
    }
   },
   "outputs": [
    {
     "data": {
      "text/plain": [
       "<title>현재 상영영화 : 네이버 영화</title>"
      ]
     },
     "execution_count": 1,
     "metadata": {},
     "output_type": "execute_result"
    }
   ],
   "source": [
    "import requests\n",
    "from bs4 import BeautifulSoup\n",
    "\n",
    "url = \"https://movie.naver.com/movie/running/current.nhn\"\n",
    "html_food = requests.get(url).text\n",
    "soup_food = BeautifulSoup(html_food, 'lxml')\n",
    "soup_food.title # 제대로 실행했는지 사이트 확인"
   ]
  },
  {
   "cell_type": "code",
   "execution_count": 104,
   "metadata": {
    "ExecuteTime": {
     "end_time": "2019-10-15T02:52:36.797706Z",
     "start_time": "2019-10-15T02:52:33.448884Z"
    }
   },
   "outputs": [],
   "source": [
    "from sklearn.model_selection import train_test_split"
   ]
  },
  {
   "cell_type": "code",
   "execution_count": null,
   "metadata": {},
   "outputs": [],
   "source": [
    "train_test_split()"
   ]
  },
  {
   "cell_type": "code",
   "execution_count": 106,
   "metadata": {
    "ExecuteTime": {
     "end_time": "2019-10-15T06:10:53.689410Z",
     "start_time": "2019-10-15T06:10:53.677721Z"
    }
   },
   "outputs": [
    {
     "data": {
      "text/plain": [
       "2.5"
      ]
     },
     "execution_count": 106,
     "metadata": {},
     "output_type": "execute_result"
    }
   ],
   "source": [
    "import numpy as np\n",
    "a = np.array([2, 3])\n",
    "a.mean()"
   ]
  },
  {
   "cell_type": "code",
   "execution_count": 116,
   "metadata": {
    "ExecuteTime": {
     "end_time": "2019-10-15T06:14:14.998387Z",
     "start_time": "2019-10-15T06:14:14.988622Z"
    }
   },
   "outputs": [
    {
     "data": {
      "text/plain": [
       "<pandas.core.groupby.generic.DataFrameGroupBy object at 0x00000269B846AB70>"
      ]
     },
     "execution_count": 116,
     "metadata": {},
     "output_type": "execute_result"
    }
   ],
   "source": [
    "pd.DataFrame(a).groupby(0).[]"
   ]
  },
  {
   "cell_type": "code",
   "execution_count": 103,
   "metadata": {
    "ExecuteTime": {
     "end_time": "2019-10-15T01:28:22.324220Z",
     "start_time": "2019-10-15T01:28:22.318375Z"
    },
    "scrolled": true
   },
   "outputs": [
    {
     "data": {
      "text/plain": [
       "['조커',\n",
       " '가장 보통의 연애',\n",
       " '퍼펙트맨',\n",
       " '제미니 맨',\n",
       " '소피와 드래곤: 마법책의 비밀',\n",
       " '장사리 : 잊혀진 영웅들',\n",
       " '잃어버린 세계를 찾아서',\n",
       " '몬스터 하우스',\n",
       " '벌새',\n",
       " '판소리 복서',\n",
       " '원스 어폰 어 타임... 인 할리우드',\n",
       " '쿵푸 보이',\n",
       " '극장판 헬로카봇 : 달나라를 구해줘!',\n",
       " '메기',\n",
       " '아이언 자이언트',\n",
       " '뱅드림! 필름 라이브',\n",
       " '애드 아스트라',\n",
       " '디어 마이 프렌드',\n",
       " '양자물리학',\n",
       " '나쁜 녀석들: 더 무비',\n",
       " '미드 90',\n",
       " '아워 바디',\n",
       " '100일 동안 100가지로 100퍼센트 행복찾기',\n",
       " '오션스: 문어구출대작전',\n",
       " '열두 번째 용의자',\n",
       " '여배우들의 티타임',\n",
       " '예스터데이',\n",
       " '미드소마',\n",
       " '트루 시크릿',\n",
       " '수상한 이웃',\n",
       " '나의 노래는 멀리멀리',\n",
       " '레플리카',\n",
       " '뷰티풀 보이',\n",
       " '우리집',\n",
       " '마왕의 딸 이리샤',\n",
       " '교회오빠',\n",
       " '주전장',\n",
       " '계절과 계절 사이',\n",
       " '이타미 준의 바다',\n",
       " '비뚤어진 집',\n",
       " '마리아 칼라스: 세기의 디바',\n",
       " '여수 밤바다',\n",
       " '헬로우 평양',\n",
       " '레드슈즈',\n",
       " '기생충',\n",
       " '엑시트',\n",
       " '디스트로이어',\n",
       " '더 룸',\n",
       " '47미터 2',\n",
       " '동물, 원',\n",
       " '힘을 내요, 미스터 리',\n",
       " '와인스타인',\n",
       " '안녕 베일리',\n",
       " '에곤 쉴레: 욕망이 그린 그림',\n",
       " '체인지오버',\n",
       " '밤의 문이 열린다',\n",
       " '타짜: 원 아이드 잭',\n",
       " '폴란드로 간 아이들',\n",
       " '마담 B',\n",
       " '애월',\n",
       " '댄스 타운',\n",
       " '두만강',\n",
       " '려행',\n",
       " '련희와 연희',\n",
       " '말 없는 사나이',\n",
       " '무산일기',\n",
       " '뷰티풀 데이즈',\n",
       " '설지',\n",
       " '우리 지금 만나',\n",
       " '우리가족',\n",
       " '갈까부다',\n",
       " '구름은 흘러도',\n",
       " '김복동',\n",
       " '늙은 자전거',\n",
       " '별의 정원',\n",
       " '불빛 아래서',\n",
       " '블루스 인 인디아',\n",
       " '사랑의 선물',\n",
       " '셜리에 관한 모든 것',\n",
       " '아내 업고 달리기',\n",
       " '악사들',\n",
       " '언더독',\n",
       " '옹알스',\n",
       " '집의 시간들',\n",
       " '콜 미 바이 유어 네임',\n",
       " '플레이모빌: 더 무비',\n",
       " '한강에게',\n",
       " '미스 사이공: 25주년 특별 공연',\n",
       " '소공녀']"
      ]
     },
     "execution_count": 103,
     "metadata": {},
     "output_type": "execute_result"
    }
   ],
   "source": [
    "title"
   ]
  },
  {
   "cell_type": "code",
   "execution_count": null,
   "metadata": {},
   "outputs": [],
   "source": []
  },
  {
   "cell_type": "code",
   "execution_count": 102,
   "metadata": {
    "ExecuteTime": {
     "end_time": "2019-10-15T01:28:18.281020Z",
     "start_time": "2019-10-15T01:28:18.090545Z"
    },
    "scrolled": true
   },
   "outputs": [],
   "source": [
    "# 타이틀\n",
    "title = [i.text for i in soup_food.select('dt.tit a')]"
   ]
  },
  {
   "cell_type": "code",
   "execution_count": 100,
   "metadata": {
    "ExecuteTime": {
     "end_time": "2019-10-15T01:07:44.459438Z",
     "start_time": "2019-10-15T01:07:44.386219Z"
    },
    "scrolled": true
   },
   "outputs": [],
   "source": [
    "# 평점\n",
    "grade = [i['style'][6:] for i in soup_food.select('span.st_on')]"
   ]
  },
  {
   "cell_type": "code",
   "execution_count": 95,
   "metadata": {
    "ExecuteTime": {
     "end_time": "2019-10-15T01:07:34.181555Z",
     "start_time": "2019-10-15T01:07:34.112244Z"
    },
    "scrolled": true
   },
   "outputs": [],
   "source": [
    "# 예매율\n",
    "rate = [i.text.strip() for i in soup_food.select('div.star_t1.b_star')]"
   ]
  },
  {
   "cell_type": "code",
   "execution_count": 49,
   "metadata": {
    "ExecuteTime": {
     "end_time": "2019-10-15T00:42:01.202731Z",
     "start_time": "2019-10-15T00:41:59.435035Z"
    }
   },
   "outputs": [],
   "source": [
    "import pandas as pd"
   ]
  },
  {
   "cell_type": "code",
   "execution_count": 101,
   "metadata": {
    "ExecuteTime": {
     "end_time": "2019-10-15T01:07:46.420528Z",
     "start_time": "2019-10-15T01:07:46.414623Z"
    },
    "scrolled": true
   },
   "outputs": [
    {
     "data": {
      "text/plain": [
       "(89, 89, 86)"
      ]
     },
     "execution_count": 101,
     "metadata": {},
     "output_type": "execute_result"
    }
   ],
   "source": [
    "len(title), len(grade), len(rate)"
   ]
  },
  {
   "cell_type": "code",
   "execution_count": 90,
   "metadata": {
    "ExecuteTime": {
     "end_time": "2019-10-15T00:50:22.191508Z",
     "start_time": "2019-10-15T00:50:22.185651Z"
    }
   },
   "outputs": [],
   "source": [
    "result = pd.DataFrame({'타이틀': title, '평점': grade, '예매율': rate})"
   ]
  },
  {
   "cell_type": "code",
   "execution_count": 92,
   "metadata": {
    "ExecuteTime": {
     "end_time": "2019-10-15T00:50:44.529629Z",
     "start_time": "2019-10-15T00:50:44.523795Z"
    }
   },
   "outputs": [],
   "source": [
    "movie = result.set_index('타이틀')"
   ]
  },
  {
   "cell_type": "code",
   "execution_count": 93,
   "metadata": {
    "ExecuteTime": {
     "end_time": "2019-10-15T00:50:47.162582Z",
     "start_time": "2019-10-15T00:50:47.145981Z"
    }
   },
   "outputs": [
    {
     "data": {
      "text/html": [
       "<div>\n",
       "<style scoped>\n",
       "    .dataframe tbody tr th:only-of-type {\n",
       "        vertical-align: middle;\n",
       "    }\n",
       "\n",
       "    .dataframe tbody tr th {\n",
       "        vertical-align: top;\n",
       "    }\n",
       "\n",
       "    .dataframe thead th {\n",
       "        text-align: right;\n",
       "    }\n",
       "</style>\n",
       "<table border=\"1\" class=\"dataframe\">\n",
       "  <thead>\n",
       "    <tr style=\"text-align: right;\">\n",
       "      <th></th>\n",
       "      <th>평점</th>\n",
       "      <th>예매율</th>\n",
       "    </tr>\n",
       "    <tr>\n",
       "      <th>타이틀</th>\n",
       "      <th></th>\n",
       "      <th></th>\n",
       "    </tr>\n",
       "  </thead>\n",
       "  <tbody>\n",
       "    <tr>\n",
       "      <th>조커</th>\n",
       "      <td>87.4%</td>\n",
       "      <td>49.71%</td>\n",
       "    </tr>\n",
       "    <tr>\n",
       "      <th>가장 보통의 연애</th>\n",
       "      <td>79.7%</td>\n",
       "      <td>28.56%</td>\n",
       "    </tr>\n",
       "    <tr>\n",
       "      <th>퍼펙트맨</th>\n",
       "      <td>80.4%</td>\n",
       "      <td>7.89%</td>\n",
       "    </tr>\n",
       "    <tr>\n",
       "      <th>제미니 맨</th>\n",
       "      <td>68.8%</td>\n",
       "      <td>6.99%</td>\n",
       "    </tr>\n",
       "    <tr>\n",
       "      <th>소피와 드래곤: 마법책의 비밀</th>\n",
       "      <td>39.8%</td>\n",
       "      <td>1.16%</td>\n",
       "    </tr>\n",
       "    <tr>\n",
       "      <th>장사리 : 잊혀진 영웅들</th>\n",
       "      <td>83.9%</td>\n",
       "      <td>1.12%</td>\n",
       "    </tr>\n",
       "    <tr>\n",
       "      <th>잃어버린 세계를 찾아서</th>\n",
       "      <td>85.7%</td>\n",
       "      <td>0.81%</td>\n",
       "    </tr>\n",
       "    <tr>\n",
       "      <th>몬스터 하우스</th>\n",
       "      <td>80.0%</td>\n",
       "      <td>0.6%</td>\n",
       "    </tr>\n",
       "    <tr>\n",
       "      <th>벌새</th>\n",
       "      <td>89.5%</td>\n",
       "      <td>0.45%</td>\n",
       "    </tr>\n",
       "    <tr>\n",
       "      <th>판소리 복서</th>\n",
       "      <td>75.2%</td>\n",
       "      <td>0.39%</td>\n",
       "    </tr>\n",
       "    <tr>\n",
       "      <th>원스 어폰 어 타임... 인 할리우드</th>\n",
       "      <td>76.5%</td>\n",
       "      <td>0.32%</td>\n",
       "    </tr>\n",
       "    <tr>\n",
       "      <th>쿵푸 보이</th>\n",
       "      <td>86.7%</td>\n",
       "      <td>0.29%</td>\n",
       "    </tr>\n",
       "    <tr>\n",
       "      <th>극장판 헬로카봇 : 달나라를 구해줘!</th>\n",
       "      <td>74.9%</td>\n",
       "      <td>0.2%</td>\n",
       "    </tr>\n",
       "    <tr>\n",
       "      <th>메기</th>\n",
       "      <td>83.4%</td>\n",
       "      <td>0.19%</td>\n",
       "    </tr>\n",
       "    <tr>\n",
       "      <th>아이언 자이언트</th>\n",
       "      <td>93.3%</td>\n",
       "      <td>0.14%</td>\n",
       "    </tr>\n",
       "    <tr>\n",
       "      <th>뱅드림! 필름 라이브</th>\n",
       "      <td>86.0%</td>\n",
       "      <td>0.11%</td>\n",
       "    </tr>\n",
       "    <tr>\n",
       "      <th>애드 아스트라</th>\n",
       "      <td>72.5%</td>\n",
       "      <td>0.11%</td>\n",
       "    </tr>\n",
       "    <tr>\n",
       "      <th>디어 마이 프렌드</th>\n",
       "      <td>88.5%</td>\n",
       "      <td>0.08%</td>\n",
       "    </tr>\n",
       "    <tr>\n",
       "      <th>양자물리학</th>\n",
       "      <td>83.5%</td>\n",
       "      <td>0.08%</td>\n",
       "    </tr>\n",
       "    <tr>\n",
       "      <th>나쁜 녀석들: 더 무비</th>\n",
       "      <td>65.8%</td>\n",
       "      <td>0.08%</td>\n",
       "    </tr>\n",
       "    <tr>\n",
       "      <th>미드 90</th>\n",
       "      <td>83.1%</td>\n",
       "      <td>0.08%</td>\n",
       "    </tr>\n",
       "    <tr>\n",
       "      <th>아워 바디</th>\n",
       "      <td>70.3%</td>\n",
       "      <td>0.07%</td>\n",
       "    </tr>\n",
       "    <tr>\n",
       "      <th>100일 동안 100가지로 100퍼센트 행복찾기</th>\n",
       "      <td>88.3%</td>\n",
       "      <td>0.07%</td>\n",
       "    </tr>\n",
       "    <tr>\n",
       "      <th>오션스: 문어구출대작전</th>\n",
       "      <td>55.3%</td>\n",
       "      <td>0.05%</td>\n",
       "    </tr>\n",
       "    <tr>\n",
       "      <th>열두 번째 용의자</th>\n",
       "      <td>79.8%</td>\n",
       "      <td>0.05%</td>\n",
       "    </tr>\n",
       "    <tr>\n",
       "      <th>여배우들의 티타임</th>\n",
       "      <td>93.8%</td>\n",
       "      <td>0.04%</td>\n",
       "    </tr>\n",
       "    <tr>\n",
       "      <th>예스터데이</th>\n",
       "      <td>65.5%</td>\n",
       "      <td>0.04%</td>\n",
       "    </tr>\n",
       "    <tr>\n",
       "      <th>미드소마</th>\n",
       "      <td>66.2%</td>\n",
       "      <td>0.04%</td>\n",
       "    </tr>\n",
       "    <tr>\n",
       "      <th>트루 시크릿</th>\n",
       "      <td>87.5%</td>\n",
       "      <td>0.03%</td>\n",
       "    </tr>\n",
       "    <tr>\n",
       "      <th>수상한 이웃</th>\n",
       "      <td>79.8%</td>\n",
       "      <td>0.03%</td>\n",
       "    </tr>\n",
       "    <tr>\n",
       "      <th>나의 노래는 멀리멀리</th>\n",
       "      <td>97.8%</td>\n",
       "      <td>0.03%</td>\n",
       "    </tr>\n",
       "    <tr>\n",
       "      <th>레플리카</th>\n",
       "      <td>68.1%</td>\n",
       "      <td>0.03%</td>\n",
       "    </tr>\n",
       "    <tr>\n",
       "      <th>뷰티풀 보이</th>\n",
       "      <td>82.5%</td>\n",
       "      <td>0.03%</td>\n",
       "    </tr>\n",
       "    <tr>\n",
       "      <th>우리집</th>\n",
       "      <td>87.9%</td>\n",
       "      <td>0.02%</td>\n",
       "    </tr>\n",
       "    <tr>\n",
       "      <th>마왕의 딸 이리샤</th>\n",
       "      <td>76.1%</td>\n",
       "      <td>0.01%</td>\n",
       "    </tr>\n",
       "    <tr>\n",
       "      <th>교회오빠</th>\n",
       "      <td>92.8%</td>\n",
       "      <td>0.01%</td>\n",
       "    </tr>\n",
       "    <tr>\n",
       "      <th>주전장</th>\n",
       "      <td>95.1%</td>\n",
       "      <td>0.01%</td>\n",
       "    </tr>\n",
       "    <tr>\n",
       "      <th>계절과 계절 사이</th>\n",
       "      <td>76.7%</td>\n",
       "      <td>0.01%</td>\n",
       "    </tr>\n",
       "    <tr>\n",
       "      <th>이타미 준의 바다</th>\n",
       "      <td>89.1%</td>\n",
       "      <td>0.01%</td>\n",
       "    </tr>\n",
       "    <tr>\n",
       "      <th>비뚤어진 집</th>\n",
       "      <td>65.5%</td>\n",
       "      <td>0.01% 미만</td>\n",
       "    </tr>\n",
       "    <tr>\n",
       "      <th>마리아 칼라스: 세기의 디바</th>\n",
       "      <td>86.6%</td>\n",
       "      <td>0.01% 미만</td>\n",
       "    </tr>\n",
       "    <tr>\n",
       "      <th>여수 밤바다</th>\n",
       "      <td>80.0%</td>\n",
       "      <td>0.01% 미만</td>\n",
       "    </tr>\n",
       "    <tr>\n",
       "      <th>헬로우 평양</th>\n",
       "      <td>63.8%</td>\n",
       "      <td>0.01% 미만</td>\n",
       "    </tr>\n",
       "    <tr>\n",
       "      <th>레드슈즈</th>\n",
       "      <td>92.5%</td>\n",
       "      <td>0.01% 미만</td>\n",
       "    </tr>\n",
       "    <tr>\n",
       "      <th>기생충</th>\n",
       "      <td>84.7%</td>\n",
       "      <td>0.01% 미만</td>\n",
       "    </tr>\n",
       "    <tr>\n",
       "      <th>엑시트</th>\n",
       "      <td>83.0%</td>\n",
       "      <td>0.01% 미만</td>\n",
       "    </tr>\n",
       "    <tr>\n",
       "      <th>디스트로이어</th>\n",
       "      <td>69.0%</td>\n",
       "      <td>0.01% 미만</td>\n",
       "    </tr>\n",
       "    <tr>\n",
       "      <th>더 룸</th>\n",
       "      <td>79.4%</td>\n",
       "      <td>0.01% 미만</td>\n",
       "    </tr>\n",
       "    <tr>\n",
       "      <th>47미터 2</th>\n",
       "      <td>72.8%</td>\n",
       "      <td>0.01% 미만</td>\n",
       "    </tr>\n",
       "    <tr>\n",
       "      <th>동물, 원</th>\n",
       "      <td>83.3%</td>\n",
       "      <td>0.01% 미만</td>\n",
       "    </tr>\n",
       "  </tbody>\n",
       "</table>\n",
       "</div>"
      ],
      "text/plain": [
       "                               평점       예매율\n",
       "타이틀                                        \n",
       "조커                          87.4%    49.71%\n",
       "가장 보통의 연애                   79.7%    28.56%\n",
       "퍼펙트맨                        80.4%     7.89%\n",
       "제미니 맨                       68.8%     6.99%\n",
       "소피와 드래곤: 마법책의 비밀            39.8%     1.16%\n",
       "장사리 : 잊혀진 영웅들               83.9%     1.12%\n",
       "잃어버린 세계를 찾아서                85.7%     0.81%\n",
       "몬스터 하우스                     80.0%      0.6%\n",
       "벌새                          89.5%     0.45%\n",
       "판소리 복서                      75.2%     0.39%\n",
       "원스 어폰 어 타임... 인 할리우드        76.5%     0.32%\n",
       "쿵푸 보이                       86.7%     0.29%\n",
       "극장판 헬로카봇 : 달나라를 구해줘!        74.9%      0.2%\n",
       "메기                          83.4%     0.19%\n",
       "아이언 자이언트                    93.3%     0.14%\n",
       "뱅드림! 필름 라이브                 86.0%     0.11%\n",
       "애드 아스트라                     72.5%     0.11%\n",
       "디어 마이 프렌드                   88.5%     0.08%\n",
       "양자물리학                       83.5%     0.08%\n",
       "나쁜 녀석들: 더 무비                65.8%     0.08%\n",
       "미드 90                       83.1%     0.08%\n",
       "아워 바디                       70.3%     0.07%\n",
       "100일 동안 100가지로 100퍼센트 행복찾기  88.3%     0.07%\n",
       "오션스: 문어구출대작전                55.3%     0.05%\n",
       "열두 번째 용의자                   79.8%     0.05%\n",
       "여배우들의 티타임                   93.8%     0.04%\n",
       "예스터데이                       65.5%     0.04%\n",
       "미드소마                        66.2%     0.04%\n",
       "트루 시크릿                      87.5%     0.03%\n",
       "수상한 이웃                      79.8%     0.03%\n",
       "나의 노래는 멀리멀리                 97.8%     0.03%\n",
       "레플리카                        68.1%     0.03%\n",
       "뷰티풀 보이                      82.5%     0.03%\n",
       "우리집                         87.9%     0.02%\n",
       "마왕의 딸 이리샤                   76.1%     0.01%\n",
       "교회오빠                        92.8%     0.01%\n",
       "주전장                         95.1%     0.01%\n",
       "계절과 계절 사이                   76.7%     0.01%\n",
       "이타미 준의 바다                   89.1%     0.01%\n",
       "비뚤어진 집                      65.5%  0.01% 미만\n",
       "마리아 칼라스: 세기의 디바             86.6%  0.01% 미만\n",
       "여수 밤바다                      80.0%  0.01% 미만\n",
       "헬로우 평양                      63.8%  0.01% 미만\n",
       "레드슈즈                        92.5%  0.01% 미만\n",
       "기생충                         84.7%  0.01% 미만\n",
       "엑시트                         83.0%  0.01% 미만\n",
       "디스트로이어                      69.0%  0.01% 미만\n",
       "더 룸                         79.4%  0.01% 미만\n",
       "47미터 2                      72.8%  0.01% 미만\n",
       "동물, 원                       83.3%  0.01% 미만"
      ]
     },
     "execution_count": 93,
     "metadata": {},
     "output_type": "execute_result"
    }
   ],
   "source": [
    "movie"
   ]
  }
 ],
 "metadata": {
  "kernelspec": {
   "display_name": "Python 3",
   "language": "python",
   "name": "python3"
  },
  "language_info": {
   "codemirror_mode": {
    "name": "ipython",
    "version": 3
   },
   "file_extension": ".py",
   "mimetype": "text/x-python",
   "name": "python",
   "nbconvert_exporter": "python",
   "pygments_lexer": "ipython3",
   "version": "3.7.3"
  },
  "varInspector": {
   "cols": {
    "lenName": 16,
    "lenType": 16,
    "lenVar": 40
   },
   "kernels_config": {
    "python": {
     "delete_cmd_postfix": "",
     "delete_cmd_prefix": "del ",
     "library": "var_list.py",
     "varRefreshCmd": "print(var_dic_list())"
    },
    "r": {
     "delete_cmd_postfix": ") ",
     "delete_cmd_prefix": "rm(",
     "library": "var_list.r",
     "varRefreshCmd": "cat(var_dic_list()) "
    }
   },
   "types_to_exclude": [
    "module",
    "function",
    "builtin_function_or_method",
    "instance",
    "_Feature"
   ],
   "window_display": false
  }
 },
 "nbformat": 4,
 "nbformat_minor": 2
}
