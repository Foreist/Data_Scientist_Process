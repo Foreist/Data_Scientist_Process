{
 "cells": [
  {
   "cell_type": "code",
   "execution_count": 2,
   "metadata": {},
   "outputs": [
    {
     "data": {
      "text/html": [
       "<div>\n",
       "<style scoped>\n",
       "    .dataframe tbody tr th:only-of-type {\n",
       "        vertical-align: middle;\n",
       "    }\n",
       "\n",
       "    .dataframe tbody tr th {\n",
       "        vertical-align: top;\n",
       "    }\n",
       "\n",
       "    .dataframe thead th {\n",
       "        text-align: right;\n",
       "    }\n",
       "</style>\n",
       "<table border=\"1\" class=\"dataframe\">\n",
       "  <thead>\n",
       "    <tr style=\"text-align: right;\">\n",
       "      <th></th>\n",
       "      <th>Unnamed: 0</th>\n",
       "      <th>종</th>\n",
       "      <th>나이</th>\n",
       "      <th>성별</th>\n",
       "      <th>무게</th>\n",
       "      <th>접수일</th>\n",
       "      <th>중성화 유무</th>\n",
       "      <th>접수장소</th>\n",
       "    </tr>\n",
       "  </thead>\n",
       "  <tbody>\n",
       "    <tr>\n",
       "      <th>0</th>\n",
       "      <td>0</td>\n",
       "      <td>골든 리트리버</td>\n",
       "      <td>1</td>\n",
       "      <td>M</td>\n",
       "      <td>24</td>\n",
       "      <td>20181231</td>\n",
       "      <td>N</td>\n",
       "      <td>제주특별자치도</td>\n",
       "    </tr>\n",
       "    <tr>\n",
       "      <th>1</th>\n",
       "      <td>1</td>\n",
       "      <td>골든 리트리버</td>\n",
       "      <td>4</td>\n",
       "      <td>M</td>\n",
       "      <td>30</td>\n",
       "      <td>20181229</td>\n",
       "      <td>N</td>\n",
       "      <td>충청북도 청주시</td>\n",
       "    </tr>\n",
       "    <tr>\n",
       "      <th>2</th>\n",
       "      <td>2</td>\n",
       "      <td>골든 리트리버</td>\n",
       "      <td>4</td>\n",
       "      <td>F</td>\n",
       "      <td>20</td>\n",
       "      <td>20181229</td>\n",
       "      <td>U</td>\n",
       "      <td>경기도 시흥시</td>\n",
       "    </tr>\n",
       "    <tr>\n",
       "      <th>3</th>\n",
       "      <td>3</td>\n",
       "      <td>골든 리트리버</td>\n",
       "      <td>2</td>\n",
       "      <td>F</td>\n",
       "      <td>21</td>\n",
       "      <td>20181228</td>\n",
       "      <td>N</td>\n",
       "      <td>제주특별자치도</td>\n",
       "    </tr>\n",
       "    <tr>\n",
       "      <th>4</th>\n",
       "      <td>4</td>\n",
       "      <td>골든 리트리버</td>\n",
       "      <td>4</td>\n",
       "      <td>F</td>\n",
       "      <td>22</td>\n",
       "      <td>20181228</td>\n",
       "      <td>U</td>\n",
       "      <td>충청북도 충주시</td>\n",
       "    </tr>\n",
       "  </tbody>\n",
       "</table>\n",
       "</div>"
      ],
      "text/plain": [
       "   Unnamed: 0        종  나이 성별  무게       접수일 중성화 유무      접수장소\n",
       "0           0  골든 리트리버   1  M  24  20181231      N   제주특별자치도\n",
       "1           1  골든 리트리버   4  M  30  20181229      N  충청북도 청주시\n",
       "2           2  골든 리트리버   4  F  20  20181229      U   경기도 시흥시\n",
       "3           3  골든 리트리버   2  F  21  20181228      N   제주특별자치도\n",
       "4           4  골든 리트리버   4  F  22  20181228      U  충청북도 충주시"
      ]
     },
     "execution_count": 2,
     "metadata": {},
     "output_type": "execute_result"
    }
   ],
   "source": [
    "import pandas as pd\n",
    "data = pd.read_excel('data.xlsx'); data.head()"
   ]
  },
  {
   "cell_type": "code",
   "execution_count": 3,
   "metadata": {},
   "outputs": [],
   "source": [
    "del data['Unnamed: 0']"
   ]
  },
  {
   "cell_type": "code",
   "execution_count": 6,
   "metadata": {},
   "outputs": [
    {
     "data": {
      "text/html": [
       "<div>\n",
       "<style scoped>\n",
       "    .dataframe tbody tr th:only-of-type {\n",
       "        vertical-align: middle;\n",
       "    }\n",
       "\n",
       "    .dataframe tbody tr th {\n",
       "        vertical-align: top;\n",
       "    }\n",
       "\n",
       "    .dataframe thead th {\n",
       "        text-align: right;\n",
       "    }\n",
       "</style>\n",
       "<table border=\"1\" class=\"dataframe\">\n",
       "  <thead>\n",
       "    <tr style=\"text-align: right;\">\n",
       "      <th></th>\n",
       "      <th>종</th>\n",
       "      <th>나이</th>\n",
       "      <th>성별</th>\n",
       "      <th>무게</th>\n",
       "      <th>접수일</th>\n",
       "      <th>중성화 유무</th>\n",
       "      <th>접수장소</th>\n",
       "    </tr>\n",
       "  </thead>\n",
       "  <tbody>\n",
       "    <tr>\n",
       "      <th>0</th>\n",
       "      <td>골든 리트리버</td>\n",
       "      <td>1</td>\n",
       "      <td>M</td>\n",
       "      <td>24</td>\n",
       "      <td>20181231</td>\n",
       "      <td>N</td>\n",
       "      <td>제주특별자치도</td>\n",
       "    </tr>\n",
       "    <tr>\n",
       "      <th>1</th>\n",
       "      <td>골든 리트리버</td>\n",
       "      <td>4</td>\n",
       "      <td>M</td>\n",
       "      <td>30</td>\n",
       "      <td>20181229</td>\n",
       "      <td>N</td>\n",
       "      <td>충청북도 청주시</td>\n",
       "    </tr>\n",
       "    <tr>\n",
       "      <th>2</th>\n",
       "      <td>골든 리트리버</td>\n",
       "      <td>4</td>\n",
       "      <td>F</td>\n",
       "      <td>20</td>\n",
       "      <td>20181229</td>\n",
       "      <td>U</td>\n",
       "      <td>경기도 시흥시</td>\n",
       "    </tr>\n",
       "    <tr>\n",
       "      <th>3</th>\n",
       "      <td>골든 리트리버</td>\n",
       "      <td>2</td>\n",
       "      <td>F</td>\n",
       "      <td>21</td>\n",
       "      <td>20181228</td>\n",
       "      <td>N</td>\n",
       "      <td>제주특별자치도</td>\n",
       "    </tr>\n",
       "    <tr>\n",
       "      <th>4</th>\n",
       "      <td>골든 리트리버</td>\n",
       "      <td>4</td>\n",
       "      <td>F</td>\n",
       "      <td>22</td>\n",
       "      <td>20181228</td>\n",
       "      <td>U</td>\n",
       "      <td>충청북도 충주시</td>\n",
       "    </tr>\n",
       "  </tbody>\n",
       "</table>\n",
       "</div>"
      ],
      "text/plain": [
       "         종  나이 성별  무게       접수일 중성화 유무      접수장소\n",
       "0  골든 리트리버   1  M  24  20181231      N   제주특별자치도\n",
       "1  골든 리트리버   4  M  30  20181229      N  충청북도 청주시\n",
       "2  골든 리트리버   4  F  20  20181229      U   경기도 시흥시\n",
       "3  골든 리트리버   2  F  21  20181228      N   제주특별자치도\n",
       "4  골든 리트리버   4  F  22  20181228      U  충청북도 충주시"
      ]
     },
     "execution_count": 6,
     "metadata": {},
     "output_type": "execute_result"
    }
   ],
   "source": [
    "data.head()"
   ]
  },
  {
   "cell_type": "code",
   "execution_count": 17,
   "metadata": {},
   "outputs": [
    {
     "name": "stdout",
     "output_type": "stream",
     "text": [
      "<class 'pandas.core.frame.DataFrame'>\n",
      "RangeIndex: 161878 entries, 0 to 161877\n",
      "Data columns (total 7 columns):\n",
      "종         161878 non-null object\n",
      "나이        161878 non-null int64\n",
      "성별        161878 non-null object\n",
      "무게        161878 non-null int64\n",
      "접수일       161878 non-null int64\n",
      "중성화 유무    161878 non-null object\n",
      "접수장소      161878 non-null object\n",
      "dtypes: int64(3), object(4)\n",
      "memory usage: 8.6+ MB\n"
     ]
    }
   ],
   "source": [
    "data.info()"
   ]
  },
  {
   "cell_type": "code",
   "execution_count": 5,
   "metadata": {},
   "outputs": [
    {
     "data": {
      "text/plain": [
       "149"
      ]
     },
     "execution_count": 5,
     "metadata": {},
     "output_type": "execute_result"
    }
   ],
   "source": [
    "len(data['종'].unique())"
   ]
  }
 ],
 "metadata": {
  "kernelspec": {
   "display_name": "Python 3",
   "language": "python",
   "name": "python3"
  },
  "language_info": {
   "codemirror_mode": {
    "name": "ipython",
    "version": 3
   },
   "file_extension": ".py",
   "mimetype": "text/x-python",
   "name": "python",
   "nbconvert_exporter": "python",
   "pygments_lexer": "ipython3",
   "version": "3.7.3"
  }
 },
 "nbformat": 4,
 "nbformat_minor": 2
}
