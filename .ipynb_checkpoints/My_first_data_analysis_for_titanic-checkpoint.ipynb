{
 "cells": [
  {
   "cell_type": "markdown",
   "metadata": {},
   "source": [
    "# Kaggle titanic\n",
    " - 1. Dataset check\n",
    " - 2. EDA - Pclass\n",
    " - 3. EDA - Sex\n",
    " - 4. EDA - Age"
   ]
  },
  {
   "cell_type": "markdown",
   "metadata": {},
   "source": [
    "## 1. Dataset check"
   ]
  },
  {
   "cell_type": "code",
   "execution_count": null,
   "metadata": {
    "_cell_guid": "b1076dfc-b9ad-4769-8c92-a6c4dae69d19",
    "_uuid": "8f2839f25d086af736a60e9eeb907d3b93b6e0e5"
   },
   "outputs": [],
   "source": [
    "import numpy as np\n",
    "import pandas as pd\n",
    "import matplotlib.pyplot as plt\n",
    "import seaborn as sns\n",
    "\n",
    "plt.style.use('seaborn') # plt의 그림 표기는 seaborn으로\n",
    "sns.set(font_scale = 2.5) # 모든  폰트 사이즈는 2.5\n",
    "\n",
    "import missingno as msno # NaN값을 쉽게 볼 수 있는 라이브러리\n",
    "\n",
    "import warnings # ignore\n",
    "warnings.filterwarnings('ignore')\n",
    "\n",
    "%matplotlib inline"
   ]
  },
  {
   "cell_type": "code",
   "execution_count": null,
   "metadata": {},
   "outputs": [],
   "source": [
    "import os\n",
    "print (os.getcwd())"
   ]
  },
  {
   "cell_type": "code",
   "execution_count": null,
   "metadata": {
    "_cell_guid": "79c7e3d0-c299-4dcb-8224-4455121ee9b0",
    "_uuid": "d629ff2d2480ee46fbb7e2d37f6b5fab8052498a"
   },
   "outputs": [],
   "source": [
    "#train, test 셋 가져오기\n",
    "df_train = pd.read_csv('../input/titanic/train.csv')\n",
    "df_test = pd.read_csv('../input/titanic/test.csv')"
   ]
  },
  {
   "cell_type": "code",
   "execution_count": null,
   "metadata": {},
   "outputs": [],
   "source": [
    "df_train.head() # 데이터 확인"
   ]
  },
  {
   "cell_type": "code",
   "execution_count": null,
   "metadata": {},
   "outputs": [],
   "source": [
    "df_train.shape"
   ]
  },
  {
   "cell_type": "code",
   "execution_count": null,
   "metadata": {},
   "outputs": [],
   "source": [
    "df_train.describe() # 각 피처 통계 확인(결측치를 알 수 있음, 카테고리 형은 나오지 않는 듯)"
   ]
  },
  {
   "cell_type": "code",
   "execution_count": null,
   "metadata": {},
   "outputs": [],
   "source": [
    "df_train.max()"
   ]
  },
  {
   "cell_type": "code",
   "execution_count": null,
   "metadata": {},
   "outputs": [],
   "source": [
    "df_test.describe()"
   ]
  },
  {
   "cell_type": "code",
   "execution_count": null,
   "metadata": {},
   "outputs": [],
   "source": [
    "df_train.columns # 컬럼명 확인"
   ]
  },
  {
   "cell_type": "markdown",
   "metadata": {},
   "source": [
    "# NaN값 비율 확인"
   ]
  },
  {
   "cell_type": "code",
   "execution_count": null,
   "metadata": {},
   "outputs": [],
   "source": [
    "for col in df_train.columns:\n",
    "    # 컬럼명을 우측정렬하고, 각 컬럼별 데이터(df_train[col]) 중 isnull로 boolean으로 값을 나타내고, NaN은 전부 합함.\n",
    "    # 그것들을 각 컬럼의 열 수로 나누면 NaN 퍼센트를 알 수 있음.\n",
    "    msg = 'column: {:>10} \\t Percent of NaN value: {:.2f}%'.format(col, 100 * \n",
    "                                                                   (df_train[col].isnull().sum() / df_train[col].shape[0]))\n",
    "# 값 모르면 하나씩 찍어보기\n",
    "#     print(df_train[col]) # 컬럼명에 해당하는 값이 나옴. PassengerId면 사람 이름...\n",
    "#     print(df_train[col].isnull()) # 값이 NaN이면 True 아니면 False\n",
    "    print(df_train[col].isnull().sum()) # 각 컬럼에 해당하는 값들의 NaN값의 갯수를 합함\n",
    "#     print(df_train[col].shape[0]) # == (\"892\",) NaN의 갯수 / 전체 갯수\n",
    "    print(msg)"
   ]
  },
  {
   "cell_type": "code",
   "execution_count": null,
   "metadata": {},
   "outputs": [],
   "source": [
    "False + True # print(df_train[col].isnull().sum())을 하면 어떻게 NaN의 값을 세어주는가? True가 1, False가 0이니까 다 더하면 해당 컬럼의 NaN 갯수가 나오는 거."
   ]
  },
  {
   "cell_type": "code",
   "execution_count": null,
   "metadata": {},
   "outputs": [],
   "source": [
    "# 자료를 찾거나 변경하고 싶은 line을 클릭만 하고 비활성화(커서가 없는 상태)에서 F를 누르고 원하는 문자만 변경해줄 수 있다.(아래는 위에 거 복사해서 이 방법으로 df_train을 test로 변경한 거임)"
   ]
  },
  {
   "cell_type": "code",
   "execution_count": null,
   "metadata": {},
   "outputs": [],
   "source": [
    "for col in df_test.columns:\n",
    "    # 컬럼명을 우측정렬하고, 각 컬럼별 데이터(df_test[col]) 중 isnull로 boolean으로 값을 나타내고, NaN은 전부 합함.\n",
    "    # 그것들을 각 컬럼의 열 수로 나누면 NaN 퍼센트를 알 수 있음.\n",
    "    msg = 'column: {:>10} \\t Percent of NaN value: {:.2f}%'.format(col, 100 * \n",
    "                                                                   (df_test[col].isnull().sum() / df_test[col].shape[0]))\n",
    "# 값 모르면 하나씩 찍어보기\n",
    "#     print(df_test[col]) # 컬럼명에 해당하는 값이 나옴. PassengerId면 사람 이름...\n",
    "#     print(df_test[col].isnull()) # 값이 NaN이면 True 아니면 False\n",
    "    print(df_test[col].isnull().sum()) # 각 컬럼에 해당하는 값들의 NaN값의 갯수를 합함\n",
    "#     print(df_test[col].shape[0]) # == (\"892\",) NaN의 갯수 / 전체 갯수\n",
    "    print(msg)"
   ]
  },
  {
   "cell_type": "code",
   "execution_count": null,
   "metadata": {},
   "outputs": [],
   "source": [
    "#  missingno로 matrix를 만들어서 NaN값 분포를 알 수 있음\n",
    "msno.matrix(df = df_train.iloc[:], figsize = (8, 8), color = (0.8, 0.5, 0.2)) # color는 rgb임 전부 1이면 백"
   ]
  },
  {
   "cell_type": "code",
   "execution_count": null,
   "metadata": {},
   "outputs": [],
   "source": [
    "#  bar는 위처럼 직관적이지는 않지만 비율로 볼 수 있음.\n",
    "msno.bar(df = df_train.iloc[:], figsize = (8, 8), color = (0.8, 0.5, 0.2)) # color는 rgb임 전부 1이면 백"
   ]
  },
  {
   "cell_type": "code",
   "execution_count": null,
   "metadata": {},
   "outputs": [],
   "source": [
    "# 타깃의 분포를 알아야 한다.\n",
    "# 100명 중 1명 생존일 때 100명 다 사망이라고 해버리면 정확도는 99%지만 모델의 생존율 정확도는 0%라서 모델의 타겟 밸런스가 중요함."
   ]
  },
  {
   "cell_type": "code",
   "execution_count": null,
   "metadata": {},
   "outputs": [],
   "source": [
    "f, ax = plt.subplots(1, 2, figsize = (18, 8)) # 1은 low, 2는 col, 1행에 2개의 파트로 나눠진 배경을 준비. figsize는 가로, 세로\n",
    "\n",
    "# .pie: 파이 모양으로 그려짐\n",
    "# explode: 좌측이 [0]값인 0의 값의 자리이고 둘 다 0이면 그냥 파이모양인데 값을 올리면 해당 위치값에 해당하는 그래프가 원의 중심에서 바깥으로 이동, -하면 원의 중심쪽으로 이동.\n",
    "# ax: 도화지 어디에서 그릴 것인가? 첫 번째 위치에 그림.\n",
    "df_train['Survived'].value_counts().plot.pie(explode = [0, 0.1], autopct = '%1.1f%%', ax = ax[0], shadow = True) # 소숫점 첫째 자리까지만 표현\n",
    "ax[0].set_title('Pie plot - Survived')  # 좌측 그래프 명\n",
    "ax[0].set_ylabel('') # ylabel명은 없앰, 안 해주면 Survived가 생김\n",
    "sns.countplot('Survived', data = df_train, ax = ax[1]) # 세어주는 plot인데 이름은 Survived, 데이터는 df_train, 두 번째에 그려줌\n",
    "ax[1].set_title('Count plot - Survived')\n",
    "plt.show()\n",
    "# print(df_train['Survived'].value_counts()) # [[0, 549], [1, 342]] 각 레이블의 값의 갯수를 반환(series)"
   ]
  },
  {
   "cell_type": "code",
   "execution_count": null,
   "metadata": {},
   "outputs": [],
   "source": []
  },
  {
   "cell_type": "markdown",
   "metadata": {},
   "source": [
    "## EDA - Pclass"
   ]
  },
  {
   "cell_type": "code",
   "execution_count": null,
   "metadata": {},
   "outputs": [],
   "source": [
    "# 카테고리형 데이터(데이터의 순위가 없음)"
   ]
  },
  {
   "cell_type": "code",
   "execution_count": null,
   "metadata": {},
   "outputs": [],
   "source": [
    "df_train[['Pclass', 'Survived']].groupby(['Pclass'], as_index = True).count() # Pclass x에 해당하는 survived의 값(0, 1)들을 다 더하면 y가 나옴"
   ]
  },
  {
   "cell_type": "code",
   "execution_count": null,
   "metadata": {},
   "outputs": [],
   "source": [
    "df_train[['Pclass', 'Survived']] # 시리즈가 2개부터는 DF니까 팬시인덱싱을 사용하기 위해서."
   ]
  },
  {
   "cell_type": "code",
   "execution_count": null,
   "metadata": {},
   "outputs": [],
   "source": [
    "for i in df_train[['Pclass', 'Survived']].groupby(['Pclass']): # Pclass 기준으로 그룹을 해주는데 Pclass는 3개의 값을 가지고 있으니 i도 3개\n",
    "    print(i)\n",
    "    print(\"check\")"
   ]
  },
  {
   "cell_type": "code",
   "execution_count": null,
   "metadata": {},
   "outputs": [],
   "source": [
    "for i in df_train[['Pclass', 'Survived']].groupby(['Pclass'], as_index = True):\n",
    "    print(i)"
   ]
  },
  {
   "cell_type": "code",
   "execution_count": null,
   "metadata": {},
   "outputs": [],
   "source": [
    "?"
   ]
  }
 ],
 "metadata": {
  "kernelspec": {
   "display_name": "Python 3",
   "language": "python",
   "name": "python3"
  },
  "language_info": {
   "codemirror_mode": {
    "name": "ipython",
    "version": 3
   },
   "file_extension": ".py",
   "mimetype": "text/x-python",
   "name": "python",
   "nbconvert_exporter": "python",
   "pygments_lexer": "ipython3",
   "version": "3.7.0"
  }
 },
 "nbformat": 4,
 "nbformat_minor": 1
}
