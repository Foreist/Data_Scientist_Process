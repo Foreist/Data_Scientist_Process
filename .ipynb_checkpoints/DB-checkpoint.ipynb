{
 "cells": [
  {
   "cell_type": "code",
   "execution_count": null,
   "metadata": {},
   "outputs": [],
   "source": [
    "# Create"
   ]
  },
  {
   "cell_type": "code",
   "execution_count": 1,
   "metadata": {
    "ExecuteTime": {
     "end_time": "2019-09-02T00:27:13.357472Z",
     "start_time": "2019-09-02T00:27:13.353566Z"
    }
   },
   "outputs": [],
   "source": [
    "import sqlite3  \n",
    "\n",
    "db_name = './database/my_books.db'"
   ]
  },
  {
   "cell_type": "code",
   "execution_count": 3,
   "metadata": {
    "ExecuteTime": {
     "end_time": "2019-09-02T00:42:35.828715Z",
     "start_time": "2019-09-02T00:42:35.820902Z"
    }
   },
   "outputs": [],
   "source": [
    "def create_table(db_name, db_sql):\n",
    "    \"\"\"\n",
    "    데이터베이스 테이블을 생성하는 함수\n",
    "    Args:\n",
    "        db_name : Database Name\n",
    "        db_sql  : Query for creating Table\n",
    "    Returns : \n",
    "        is_success : Boolean \n",
    "    \"\"\"\n",
    "    is_success = True\n",
    "    \n",
    "    try :\n",
    "        # 데이터베이스 커넥션 생성\n",
    "        conn = sqlite3.connect(db_name)  \n",
    "\n",
    "        # 커서 확보\n",
    "        cur = conn.cursor()  \n",
    "\n",
    "        # 테이블 생성\n",
    "        cur.execute(db_sql)\n",
    "    \n",
    "    # except OperationalError as e:\n",
    "    #     is_success = False\n",
    "    #     print('Error:', e)\n",
    "        \n",
    "    except:\n",
    "        is_success = False\n",
    "        print(\"Database Error!\")\n",
    "        \n",
    "    finally :        \n",
    "        if is_success:\n",
    "            # 데이터베이스 반영\n",
    "            conn.commit()  \n",
    "        else:\n",
    "            # 데이터베이스 철회\n",
    "            conn.rollback()\n",
    "            \n",
    "        # 데이터베이스 커넥션 닫기\n",
    "        # print('Finish process of function.')\n",
    "        conn.close()\n",
    "    \n",
    "    return is_success"
   ]
  },
  {
   "cell_type": "code",
   "execution_count": 4,
   "metadata": {
    "ExecuteTime": {
     "end_time": "2019-09-02T00:42:36.535786Z",
     "start_time": "2019-09-02T00:42:36.531902Z"
    }
   },
   "outputs": [],
   "source": [
    "import os\n",
    "from os.path import exists"
   ]
  },
  {
   "cell_type": "code",
   "execution_count": 5,
   "metadata": {
    "ExecuteTime": {
     "end_time": "2019-09-02T00:42:37.435253Z",
     "start_time": "2019-09-02T00:42:37.429394Z"
    }
   },
   "outputs": [
    {
     "data": {
      "text/plain": [
       "'C:\\\\Users\\\\301-1\\\\Desktop\\\\data\\\\dummy'"
      ]
     },
     "execution_count": 5,
     "metadata": {},
     "output_type": "execute_result"
    }
   ],
   "source": [
    "%pwd"
   ]
  },
  {
   "cell_type": "code",
   "execution_count": 11,
   "metadata": {
    "ExecuteTime": {
     "end_time": "2019-09-02T00:44:31.314953Z",
     "start_time": "2019-09-02T00:44:31.309094Z"
    }
   },
   "outputs": [
    {
     "name": "stdout",
     "output_type": "stream",
     "text": [
      "[database]은(는) 이미 존재합니다.\n"
     ]
    }
   ],
   "source": [
    "dir_name = 'database'\n",
    "\n",
    "if not exists(dir_name):\n",
    "    os.mkdir(dir_name)\n",
    "    print('[%s] 디렉터리를 생성했습니다.' %dir_name)\n",
    "else:\n",
    "    print('[%s]은(는) 이미 존재합니다.' %dir_name)"
   ]
  },
  {
   "cell_type": "code",
   "execution_count": 12,
   "metadata": {
    "ExecuteTime": {
     "end_time": "2019-09-02T00:44:35.608174Z",
     "start_time": "2019-09-02T00:44:35.595478Z"
    }
   },
   "outputs": [
    {
     "name": "stdout",
     "output_type": "stream",
     "text": [
      "테이블이 성공적으로 생성되었습니다.\n"
     ]
    }
   ],
   "source": [
    "db_sql  = '''\n",
    "CREATE TABLE my_books (\n",
    "    title text,\n",
    "    published_date text,\n",
    "    publisher text,\n",
    "    pages integer,\n",
    "    recommendation integer\n",
    ")\n",
    "'''\n",
    "\n",
    "if create_table(db_name, db_sql):\n",
    "    print('테이블이 성공적으로 생성되었습니다.')\n",
    "else :\n",
    "    print('테이블이 생성되지 않았습니다')"
   ]
  },
  {
   "cell_type": "code",
   "execution_count": 9,
   "metadata": {
    "ExecuteTime": {
     "end_time": "2019-09-02T00:44:11.159473Z",
     "start_time": "2019-09-02T00:44:11.131151Z"
    }
   },
   "outputs": [
    {
     "name": "stdout",
     "output_type": "stream",
     "text": [
      " C 드라이브의 볼륨에는 이름이 없습니다.\n",
      " 볼륨 일련 번호: 8484-2321\n",
      "\n",
      " C:\\Users\\301-1\\Desktop\\data\\dummy\\database 디렉터리\n",
      "\n",
      "2019-09-02  오전 09:44    <DIR>          .\n",
      "2019-09-02  오전 09:44    <DIR>          ..\n",
      "2019-09-02  오전 09:44             8,192 my_books.db\n",
      "               1개 파일               8,192 바이트\n",
      "               2개 디렉터리  20,497,530,880 바이트 남음\n"
     ]
    }
   ],
   "source": [
    "%ls database"
   ]
  },
  {
   "cell_type": "code",
   "execution_count": 10,
   "metadata": {
    "ExecuteTime": {
     "end_time": "2019-09-02T00:44:15.888266Z",
     "start_time": "2019-09-02T00:44:15.883383Z"
    }
   },
   "outputs": [],
   "source": [
    "# # Database 파일 삭제\n",
    "# db_name = './database/my_books.db'\n",
    "# os.remove(db_name)"
   ]
  },
  {
   "cell_type": "code",
   "execution_count": 13,
   "metadata": {
    "ExecuteTime": {
     "end_time": "2019-09-02T00:51:03.280353Z",
     "start_time": "2019-09-02T00:51:03.269652Z"
    }
   },
   "outputs": [],
   "source": [
    "import sqlite3  \n",
    "\n",
    "# 데이터 입력 함수\n",
    "def insert_books(db_name):\n",
    "    \"\"\"\n",
    "    데이터베이스 테이블에 데이터를 등록하는 함수\n",
    "    Args:\n",
    "        db_name : Database Name\n",
    "    Returns : \n",
    "        is_success : Boolean \n",
    "    \"\"\"\n",
    "    is_success = True\n",
    "    \n",
    "    try:\n",
    "        # 데이터베이스 커넥션 생성\n",
    "        conn = sqlite3.connect(db_name) \n",
    "\n",
    "        # 커서 확보\n",
    "        cur = conn.cursor()  \n",
    "\n",
    "        # 데이터 입력 SQL1\n",
    "        db_sql = \"INSERT INTO my_books VALUES ('메가트랜드', '2002.03.02','A', 200, 0)\"\n",
    "        cur.execute(db_sql)\n",
    "\n",
    "        # 데이터 입력 SQL2 # 이런 식으로 하면 비효율적임\n",
    "        db_sql = 'INSERT INTO my_books VALUES (?, ?, ?, ?, ?)'\n",
    "        cur.execute(db_sql, ('인더스트리 4.0', '2016.07.09','B', 584, 1))\n",
    "\n",
    "        # # 데이터 입력 SQL3 # 이 방법이 제일 좋아보임.\n",
    "        books = [\n",
    "            ('유니콘 스타트업', '2011.07.15','A', 248, 1),\n",
    "            ('빅데이터 마케팅', '2012.08.25','A', 296, 1),\n",
    "            ('사물인터넷 전망', '2013.08.22','B', 526, 0)\n",
    "        ]\n",
    "        cur.executemany(db_sql, books)\n",
    "          \n",
    "    except:\n",
    "        is_success = False\n",
    "        print(\"Database Error!\")\n",
    "        \n",
    "        # 파이널리 한 이유?\n",
    "    finally :      \n",
    "        if is_success:\n",
    "            # 데이터베이스 반영\n",
    "            conn.commit()\n",
    "        else:\n",
    "            # 데이터베이스 철회(처음 시작할 때부터 다시)\n",
    "            conn.rollback()\n",
    "            \n",
    "        # 데이터베이스 커넥션 닫기\n",
    "        # print('Finish process of function.')\n",
    "        conn.close()\n",
    "    \n",
    "    return is_success    "
   ]
  },
  {
   "cell_type": "code",
   "execution_count": 14,
   "metadata": {
    "ExecuteTime": {
     "end_time": "2019-09-02T00:51:03.891717Z",
     "start_time": "2019-09-02T00:51:03.876091Z"
    }
   },
   "outputs": [
    {
     "name": "stdout",
     "output_type": "stream",
     "text": [
      "데이터가 성공적으로 등록되었습니다.\n"
     ]
    }
   ],
   "source": [
    "if insert_books(db_name):\n",
    "    print('데이터가 성공적으로 등록되었습니다.')\n",
    "else :\n",
    "    print('데이터가 등록되지 않았습니다')"
   ]
  },
  {
   "attachments": {
    "image.png": {
     "image/png": "[encoded data removed]"
    }
   },
   "cell_type": "markdown",
   "metadata": {},
   "source": [
    "![image.png](attachment:image.png)"
   ]
  },
  {
   "cell_type": "markdown",
   "metadata": {},
   "source": [
    "## 데이터 조회"
   ]
  },
  {
   "cell_type": "code",
   "execution_count": 15,
   "metadata": {
    "ExecuteTime": {
     "end_time": "2019-09-02T01:52:33.556071Z",
     "start_time": "2019-09-02T01:52:32.131181Z"
    }
   },
   "outputs": [],
   "source": [
    "import pandas as pd\n",
    "\n",
    "def getBooksDF(books):\n",
    "    ret_df = pd.DataFrame()\n",
    "    \n",
    "    title          = list()\n",
    "    published_date = list()\n",
    "    publisher      = list()\n",
    "    pages          = list()\n",
    "    recommendation = list()\n",
    "\n",
    "    column_name = ['title', 'published_date', 'publisher', 'pages', 'recommendation']\n",
    "    for book in books:\n",
    "        # print(book)\n",
    "        # for value in book:\n",
    "        #     print(value, end=\" | \")\n",
    "        title         .append(book[0])\n",
    "        published_date.append(book[1])\n",
    "        publisher     .append(book[2])\n",
    "        pages         .append(book[3])\n",
    "        recommendation.append(book[4])\n",
    "\n",
    "    data = {\n",
    "        'title'          : title         ,\n",
    "        'published_date' : published_date,\n",
    "        'publisher'      : publisher     ,\n",
    "        'pages'          : pages         ,\n",
    "        'recommendation' : recommendation\n",
    "    }\n",
    "\n",
    "    ret_df = pd.DataFrame(data, columns=column_name)\n",
    "    \n",
    "    return ret_df"
   ]
  },
  {
   "cell_type": "code",
   "execution_count": 16,
   "metadata": {
    "ExecuteTime": {
     "end_time": "2019-09-02T01:52:34.755361Z",
     "start_time": "2019-09-02T01:52:34.746572Z"
    }
   },
   "outputs": [],
   "source": [
    "import sqlite3\n",
    "import pandas as pd\n",
    "\n",
    "def select_all_books(db_name):\n",
    "    \"\"\"\n",
    "    전체 데이터를 조회하는 함수\n",
    "    Args:\n",
    "        db_name : Database Name\n",
    "    Returns :\n",
    "        is_success : Boolean \n",
    "        ret_df : DataFrame of books\n",
    "    \"\"\"\n",
    "    ret_df = pd.DataFrame()\n",
    "    is_success = True\n",
    "    \n",
    "    try:\n",
    "        # 데이터베이스 커넥션 생성\n",
    "        conn = sqlite3.connect(db_name) \n",
    "\n",
    "        # 커서 확보\n",
    "        cur = conn.cursor()  \n",
    "\n",
    "        # 조회용 SQL 실행\n",
    "        db_sql = \"SELECT * FROM my_books\"\n",
    "        cur.execute(db_sql) \n",
    "\n",
    "        # 조회한 데이터 불러오기\n",
    "        print('[1] 전체 데이터 출력하기')\n",
    "        books = cur.fetchall()                          \n",
    "\n",
    "        ret_df = getBooksDF(books)\n",
    "        \n",
    "        # 데이터 출력하기\n",
    "        # for book in books:                              \n",
    "        #     print(book)\n",
    "     \n",
    "    except:\n",
    "        is_success = False\n",
    "        print(\"Database Error!\")\n",
    "        \n",
    "    finally : \n",
    "        # 데이터베이스 커넥션 닫기\n",
    "        conn.close()\n",
    "        \n",
    "    return is_success, ret_df"
   ]
  },
  {
   "cell_type": "code",
   "execution_count": 17,
   "metadata": {
    "ExecuteTime": {
     "end_time": "2019-09-02T01:52:35.423370Z",
     "start_time": "2019-09-02T01:52:35.377470Z"
    }
   },
   "outputs": [
    {
     "name": "stdout",
     "output_type": "stream",
     "text": [
      "[1] 전체 데이터 출력하기\n",
      "조회된 데이터는 총 5 건 입니다.\n"
     ]
    },
    {
     "data": {
      "text/html": [
       "<div>\n",
       "<style scoped>\n",
       "    .dataframe tbody tr th:only-of-type {\n",
       "        vertical-align: middle;\n",
       "    }\n",
       "\n",
       "    .dataframe tbody tr th {\n",
       "        vertical-align: top;\n",
       "    }\n",
       "\n",
       "    .dataframe thead th {\n",
       "        text-align: right;\n",
       "    }\n",
       "</style>\n",
       "<table border=\"1\" class=\"dataframe\">\n",
       "  <thead>\n",
       "    <tr style=\"text-align: right;\">\n",
       "      <th></th>\n",
       "      <th>title</th>\n",
       "      <th>published_date</th>\n",
       "      <th>publisher</th>\n",
       "      <th>pages</th>\n",
       "      <th>recommendation</th>\n",
       "    </tr>\n",
       "  </thead>\n",
       "  <tbody>\n",
       "    <tr>\n",
       "      <th>0</th>\n",
       "      <td>메가트랜드</td>\n",
       "      <td>2002.03.02</td>\n",
       "      <td>A</td>\n",
       "      <td>200</td>\n",
       "      <td>0</td>\n",
       "    </tr>\n",
       "    <tr>\n",
       "      <th>1</th>\n",
       "      <td>인더스트리 4.0</td>\n",
       "      <td>2016.07.09</td>\n",
       "      <td>B</td>\n",
       "      <td>584</td>\n",
       "      <td>1</td>\n",
       "    </tr>\n",
       "    <tr>\n",
       "      <th>2</th>\n",
       "      <td>유니콘 스타트업</td>\n",
       "      <td>2011.07.15</td>\n",
       "      <td>A</td>\n",
       "      <td>248</td>\n",
       "      <td>1</td>\n",
       "    </tr>\n",
       "    <tr>\n",
       "      <th>3</th>\n",
       "      <td>빅데이터 마케팅</td>\n",
       "      <td>2012.08.25</td>\n",
       "      <td>A</td>\n",
       "      <td>296</td>\n",
       "      <td>1</td>\n",
       "    </tr>\n",
       "    <tr>\n",
       "      <th>4</th>\n",
       "      <td>사물인터넷 전망</td>\n",
       "      <td>2013.08.22</td>\n",
       "      <td>B</td>\n",
       "      <td>526</td>\n",
       "      <td>0</td>\n",
       "    </tr>\n",
       "  </tbody>\n",
       "</table>\n",
       "</div>"
      ],
      "text/plain": [
       "       title published_date publisher  pages  recommendation\n",
       "0      메가트랜드     2002.03.02         A    200               0\n",
       "1  인더스트리 4.0     2016.07.09         B    584               1\n",
       "2   유니콘 스타트업     2011.07.15         A    248               1\n",
       "3   빅데이터 마케팅     2012.08.25         A    296               1\n",
       "4   사물인터넷 전망     2013.08.22         B    526               0"
      ]
     },
     "execution_count": 17,
     "metadata": {},
     "output_type": "execute_result"
    }
   ],
   "source": [
    "is_success, books_df = select_all_books(db_name)\n",
    "if is_success:\n",
    "    print('조회된 데이터는 총 %d 건 입니다.'%len(books_df))\n",
    "else :\n",
    "    print('데이터를 조회하지 못했습니다')\n",
    "\n",
    "books_df"
   ]
  },
  {
   "cell_type": "code",
   "execution_count": 19,
   "metadata": {
    "ExecuteTime": {
     "end_time": "2019-09-02T01:56:09.643309Z",
     "start_time": "2019-09-02T01:56:09.634520Z"
    }
   },
   "outputs": [],
   "source": [
    "# 일부 조회용 함수\n",
    "def select_some_books(db_name, number):\n",
    "    \"\"\"\n",
    "    일부 데이터를 조회하는 함수\n",
    "    Args:\n",
    "        db_name : Database Name\n",
    "        number  : Count of data to query\n",
    "    Returns : \n",
    "        is_success : Boolean \n",
    "        ret_df : DataFrame of books\n",
    "    \"\"\"\n",
    "    ret_df = pd.DataFrame()\n",
    "    is_success = True\n",
    "    \n",
    "    try:\n",
    "        # 데이터베이스 커넥션 생성\n",
    "        conn = sqlite3.connect(db_name) \n",
    "\n",
    "        # 커서 확보\n",
    "        cur = conn.cursor()  \n",
    "\n",
    "        # 조회용 SQL 실행\n",
    "        db_sql = \"SELECT * FROM my_books\"\n",
    "        cur.execute(db_sql) \n",
    "\n",
    "        # 조회한 데이터 일부 불러오기\n",
    "        print('[2] 데이터 일부 출력하기')\n",
    "        books = cur.fetchmany(number)                   \n",
    "\n",
    "        ret_df = getBooksDF(books)\n",
    "     \n",
    "    except:\n",
    "        is_success = False\n",
    "        print(\"Database Error!\")\n",
    "        \n",
    "    finally : \n",
    "        # 데이터베이스 커넥션 닫기\n",
    "        conn.close()\n",
    "        \n",
    "    return is_success, ret_df"
   ]
  },
  {
   "cell_type": "code",
   "execution_count": 20,
   "metadata": {
    "ExecuteTime": {
     "end_time": "2019-09-02T01:56:10.141386Z",
     "start_time": "2019-09-02T01:56:10.121854Z"
    }
   },
   "outputs": [
    {
     "name": "stdout",
     "output_type": "stream",
     "text": [
      "[2] 데이터 일부 출력하기\n",
      "조회된 데이터는 총 3 건 입니다.\n"
     ]
    },
    {
     "data": {
      "text/html": [
       "<div>\n",
       "<style scoped>\n",
       "    .dataframe tbody tr th:only-of-type {\n",
       "        vertical-align: middle;\n",
       "    }\n",
       "\n",
       "    .dataframe tbody tr th {\n",
       "        vertical-align: top;\n",
       "    }\n",
       "\n",
       "    .dataframe thead th {\n",
       "        text-align: right;\n",
       "    }\n",
       "</style>\n",
       "<table border=\"1\" class=\"dataframe\">\n",
       "  <thead>\n",
       "    <tr style=\"text-align: right;\">\n",
       "      <th></th>\n",
       "      <th>title</th>\n",
       "      <th>published_date</th>\n",
       "      <th>publisher</th>\n",
       "      <th>pages</th>\n",
       "      <th>recommendation</th>\n",
       "    </tr>\n",
       "  </thead>\n",
       "  <tbody>\n",
       "    <tr>\n",
       "      <th>0</th>\n",
       "      <td>메가트랜드</td>\n",
       "      <td>2002.03.02</td>\n",
       "      <td>A</td>\n",
       "      <td>200</td>\n",
       "      <td>0</td>\n",
       "    </tr>\n",
       "    <tr>\n",
       "      <th>1</th>\n",
       "      <td>인더스트리 4.0</td>\n",
       "      <td>2016.07.09</td>\n",
       "      <td>B</td>\n",
       "      <td>584</td>\n",
       "      <td>1</td>\n",
       "    </tr>\n",
       "    <tr>\n",
       "      <th>2</th>\n",
       "      <td>유니콘 스타트업</td>\n",
       "      <td>2011.07.15</td>\n",
       "      <td>A</td>\n",
       "      <td>248</td>\n",
       "      <td>1</td>\n",
       "    </tr>\n",
       "  </tbody>\n",
       "</table>\n",
       "</div>"
      ],
      "text/plain": [
       "       title published_date publisher  pages  recommendation\n",
       "0      메가트랜드     2002.03.02         A    200               0\n",
       "1  인더스트리 4.0     2016.07.09         B    584               1\n",
       "2   유니콘 스타트업     2011.07.15         A    248               1"
      ]
     },
     "execution_count": 20,
     "metadata": {},
     "output_type": "execute_result"
    }
   ],
   "source": [
    "# select_some_books(db_name, number=3)\n",
    "\n",
    "is_success, books_df = select_some_books(db_name, number=3)\n",
    "if is_success:\n",
    "    print('조회된 데이터는 총 %d 건 입니다.'%len(books_df))\n",
    "else :\n",
    "    print('데이터를 조회하지 못했습니다')\n",
    "\n",
    "books_df"
   ]
  },
  {
   "cell_type": "code",
   "execution_count": 22,
   "metadata": {
    "ExecuteTime": {
     "end_time": "2019-09-02T01:56:30.947328Z",
     "start_time": "2019-09-02T01:56:30.938538Z"
    }
   },
   "outputs": [],
   "source": [
    "# 1개 조회용 함수\n",
    "def select_one_book(db_name):\n",
    "    \"\"\"\n",
    "    최상단 하나의 데이터를 조회하는 함수\n",
    "    Args:\n",
    "        db_name : Database Name\n",
    "    Returns : \n",
    "        is_success : Boolean \n",
    "        ret_df : DataFrame of books\n",
    "    \"\"\"\n",
    "    ret_df = pd.DataFrame()\n",
    "    is_success = True\n",
    "    \n",
    "    try:\n",
    "        # 데이터베이스 커넥션 생성\n",
    "        conn = sqlite3.connect(db_name) \n",
    "\n",
    "        # 커서 확보\n",
    "        cur = conn.cursor()  \n",
    "\n",
    "        # 조회용 SQL 실행\n",
    "        db_sql = \"SELECT * FROM my_books \"\n",
    "        cur.execute(db_sql) \n",
    "\n",
    "        # 데이터 한개 출력하기\n",
    "        print('[3] 1개 데이터 출력하기')\n",
    "        # print(cur.fetchone())                          \n",
    "        book = cur.fetchone()\n",
    "        books = [book]\n",
    "        ret_df = getBooksDF(books)\n",
    "     \n",
    "    except:\n",
    "        is_success = False\n",
    "        print(\"Database Error!\")\n",
    "        \n",
    "    finally : \n",
    "        # 데이터베이스 커넥션 닫기\n",
    "        conn.close()\n",
    "        \n",
    "    return is_success, ret_df        "
   ]
  },
  {
   "cell_type": "code",
   "execution_count": 24,
   "metadata": {
    "ExecuteTime": {
     "end_time": "2019-09-02T01:56:49.580289Z",
     "start_time": "2019-09-02T01:56:49.562711Z"
    }
   },
   "outputs": [
    {
     "name": "stdout",
     "output_type": "stream",
     "text": [
      "[3] 1개 데이터 출력하기\n",
      "하나의 데이터를 성공적으로 조회하였습니다.\n"
     ]
    },
    {
     "data": {
      "text/html": [
       "<div>\n",
       "<style scoped>\n",
       "    .dataframe tbody tr th:only-of-type {\n",
       "        vertical-align: middle;\n",
       "    }\n",
       "\n",
       "    .dataframe tbody tr th {\n",
       "        vertical-align: top;\n",
       "    }\n",
       "\n",
       "    .dataframe thead th {\n",
       "        text-align: right;\n",
       "    }\n",
       "</style>\n",
       "<table border=\"1\" class=\"dataframe\">\n",
       "  <thead>\n",
       "    <tr style=\"text-align: right;\">\n",
       "      <th></th>\n",
       "      <th>title</th>\n",
       "      <th>published_date</th>\n",
       "      <th>publisher</th>\n",
       "      <th>pages</th>\n",
       "      <th>recommendation</th>\n",
       "    </tr>\n",
       "  </thead>\n",
       "  <tbody>\n",
       "    <tr>\n",
       "      <th>0</th>\n",
       "      <td>메가트랜드</td>\n",
       "      <td>2002.03.02</td>\n",
       "      <td>A</td>\n",
       "      <td>200</td>\n",
       "      <td>0</td>\n",
       "    </tr>\n",
       "  </tbody>\n",
       "</table>\n",
       "</div>"
      ],
      "text/plain": [
       "   title published_date publisher  pages  recommendation\n",
       "0  메가트랜드     2002.03.02         A    200               0"
      ]
     },
     "execution_count": 24,
     "metadata": {},
     "output_type": "execute_result"
    }
   ],
   "source": [
    "# select_one_book(db_name) \n",
    "\n",
    "is_success, books_df = select_one_book(db_name) \n",
    "if is_success:\n",
    "    print('하나의 데이터를 성공적으로 조회하였습니다.')\n",
    "else :\n",
    "    print('데이터를 조회하지 못했습니다')\n",
    "\n",
    "books_df"
   ]
  },
  {
   "cell_type": "code",
   "execution_count": 80,
   "metadata": {
    "ExecuteTime": {
     "end_time": "2019-09-02T02:20:07.126067Z",
     "start_time": "2019-09-02T02:20:07.117261Z"
    }
   },
   "outputs": [],
   "source": [
    "# 쪽수 많은 책 조회용 함수\n",
    "def find_big_books(db_name):\n",
    "    \"\"\"\n",
    "    조건에 맞는 데이터를 조회하는 함수\n",
    "    조건 : 페이지수가 300쪽보다 큰 데이터\n",
    "    Args:\n",
    "        db_name : Database Name\n",
    "    Returns : \n",
    "        is_success : Boolean \n",
    "        ret_df : DataFrame of books\n",
    "    \"\"\"\n",
    "    ret_df = pd.DataFrame()\n",
    "    is_success = True\n",
    "    \n",
    "    try:\n",
    "        # 데이터베이스 커넥션 생성\n",
    "        conn = sqlite3.connect(db_name) \n",
    "\n",
    "        # 커서 확보\n",
    "        cur = conn.cursor()  \n",
    "\n",
    "        # 조회용 SQL 실행\n",
    "        # db_sql = \"SELECT title, pages FROM my_books \"\n",
    "        db_sql = \"SELECT * FROM my_books \"\n",
    "        db_sql+= \"WHERE pages > 300\"\n",
    "        cur.execute(db_sql) \n",
    "\n",
    "        # 조회한 데이터 불러오기\n",
    "        print('[4] 페이지 많은 책 출력하기')\n",
    "        books = cur.fetchall()\n",
    "        \n",
    "        ret_df = getBooksDF(books)\n",
    "\n",
    "    except:\n",
    "        is_success = False\n",
    "        print(\"Database Error!\")\n",
    "        \n",
    "    finally : \n",
    "        # 데이터베이스 커넥션 닫기\n",
    "        conn.close()\n",
    "        \n",
    "    return is_success, ret_df            "
   ]
  },
  {
   "cell_type": "code",
   "execution_count": 81,
   "metadata": {
    "ExecuteTime": {
     "end_time": "2019-09-02T02:20:07.391693Z",
     "start_time": "2019-09-02T02:20:07.373137Z"
    }
   },
   "outputs": [
    {
     "name": "stdout",
     "output_type": "stream",
     "text": [
      "[4] 페이지 많은 책 출력하기\n",
      "조건에 맞는 데이터는 총 2 건 입니다.(조건:pages>300)\n"
     ]
    },
    {
     "data": {
      "text/html": [
       "<div>\n",
       "<style scoped>\n",
       "    .dataframe tbody tr th:only-of-type {\n",
       "        vertical-align: middle;\n",
       "    }\n",
       "\n",
       "    .dataframe tbody tr th {\n",
       "        vertical-align: top;\n",
       "    }\n",
       "\n",
       "    .dataframe thead th {\n",
       "        text-align: right;\n",
       "    }\n",
       "</style>\n",
       "<table border=\"1\" class=\"dataframe\">\n",
       "  <thead>\n",
       "    <tr style=\"text-align: right;\">\n",
       "      <th></th>\n",
       "      <th>title</th>\n",
       "      <th>published_date</th>\n",
       "      <th>publisher</th>\n",
       "      <th>pages</th>\n",
       "      <th>recommendation</th>\n",
       "    </tr>\n",
       "  </thead>\n",
       "  <tbody>\n",
       "    <tr>\n",
       "      <th>0</th>\n",
       "      <td>인더스트리 4.0</td>\n",
       "      <td>2016.07.09</td>\n",
       "      <td>B</td>\n",
       "      <td>584</td>\n",
       "      <td>1</td>\n",
       "    </tr>\n",
       "    <tr>\n",
       "      <th>1</th>\n",
       "      <td>사물인터넷 전망</td>\n",
       "      <td>2013.08.22</td>\n",
       "      <td>B</td>\n",
       "      <td>526</td>\n",
       "      <td>0</td>\n",
       "    </tr>\n",
       "  </tbody>\n",
       "</table>\n",
       "</div>"
      ],
      "text/plain": [
       "       title published_date publisher  pages  recommendation\n",
       "0  인더스트리 4.0     2016.07.09         B    584               1\n",
       "1   사물인터넷 전망     2013.08.22         B    526               0"
      ]
     },
     "execution_count": 81,
     "metadata": {},
     "output_type": "execute_result"
    }
   ],
   "source": [
    "# find_big_books(db_name)\n",
    "\n",
    "is_success, books_df = find_big_books(db_name)\n",
    "if is_success:\n",
    "    print('조건에 맞는 데이터는 총 %d 건 입니다.(조건:pages>300)'%len(books_df))\n",
    "else :\n",
    "    print('데이터를 조회하지 못했습니다')\n",
    "\n",
    "books_df"
   ]
  },
  {
   "cell_type": "code",
   "execution_count": 166,
   "metadata": {
    "ExecuteTime": {
     "end_time": "2019-09-02T02:40:41.392015Z",
     "start_time": "2019-09-02T02:40:41.382248Z"
    }
   },
   "outputs": [],
   "source": [
    "import sqlite3\n",
    "import pandas as pd\n",
    "\n",
    "def find_books_by_title(db_name, title):\n",
    "    \"\"\"\n",
    "    이름으로 데이터를 조회하는 함수\n",
    "    Args:\n",
    "        db_name : Database Name\n",
    "    Returns :\n",
    "        is_success : Boolean \n",
    "        ret_df : DataFrame of books\n",
    "    \"\"\"\n",
    "    ret_df = pd.DataFrame()\n",
    "    is_success = True\n",
    "    try:\n",
    "        # 데이터베이스 커넥션 생성\n",
    "        conn = sqlite3.connect(db_name) \n",
    "\n",
    "        # 커서 확보\n",
    "        cur = conn.cursor()  \n",
    "\n",
    "        # 조회용 SQL 실행\n",
    "        db_sql = \"SELECT * FROM my_books \" #<- 한 칸 띄어주는 게 중요함\n",
    "        db_sql += \"WHERE title like '{}%'\"        \n",
    "        cur.execute(db_sql.format(title))\n",
    "        print(title)\n",
    "        \n",
    "        # 조회한 데이터 불러오기\n",
    "        print('[1] 선택한 데이터 데이터 출력하기')\n",
    "        books = cur.fetchall()                                  \n",
    "        ret_df = getBooksDF(books)\n",
    "        \n",
    "        # 데이터 출력하기\n",
    "        # for book in books:                              \n",
    "        #     print(book)\n",
    "     \n",
    "    except:\n",
    "        is_success = False\n",
    "        print(\"Database Error!\")\n",
    "        \n",
    "    finally : \n",
    "        # 데이터베이스 커넥션 닫기\n",
    "        conn.close()\n",
    "        \n",
    "    return is_success, ret_df"
   ]
  },
  {
   "cell_type": "code",
   "execution_count": 167,
   "metadata": {
    "ExecuteTime": {
     "end_time": "2019-09-02T02:40:41.688908Z",
     "start_time": "2019-09-02T02:40:41.670353Z"
    }
   },
   "outputs": [
    {
     "name": "stdout",
     "output_type": "stream",
     "text": [
      "빅데이터\n",
      "[1] 선택한 데이터 데이터 출력하기\n",
      "조건에 맞는 데이터는 총 1 건 입니다.\n"
     ]
    },
    {
     "data": {
      "text/html": [
       "<div>\n",
       "<style scoped>\n",
       "    .dataframe tbody tr th:only-of-type {\n",
       "        vertical-align: middle;\n",
       "    }\n",
       "\n",
       "    .dataframe tbody tr th {\n",
       "        vertical-align: top;\n",
       "    }\n",
       "\n",
       "    .dataframe thead th {\n",
       "        text-align: right;\n",
       "    }\n",
       "</style>\n",
       "<table border=\"1\" class=\"dataframe\">\n",
       "  <thead>\n",
       "    <tr style=\"text-align: right;\">\n",
       "      <th></th>\n",
       "      <th>title</th>\n",
       "      <th>published_date</th>\n",
       "      <th>publisher</th>\n",
       "      <th>pages</th>\n",
       "      <th>recommendation</th>\n",
       "    </tr>\n",
       "  </thead>\n",
       "  <tbody>\n",
       "    <tr>\n",
       "      <th>0</th>\n",
       "      <td>빅데이터 마케팅</td>\n",
       "      <td>2012.08.25</td>\n",
       "      <td>A</td>\n",
       "      <td>296</td>\n",
       "      <td>1</td>\n",
       "    </tr>\n",
       "  </tbody>\n",
       "</table>\n",
       "</div>"
      ],
      "text/plain": [
       "      title published_date publisher  pages  recommendation\n",
       "0  빅데이터 마케팅     2012.08.25         A    296               1"
      ]
     },
     "execution_count": 167,
     "metadata": {},
     "output_type": "execute_result"
    }
   ],
   "source": [
    "# find_books_by_title(db_name)\n",
    "\n",
    "is_success, books_df = find_books_by_title(db_name, \"빅데이터\")\n",
    "if is_success:\n",
    "    print('조건에 맞는 데이터는 총 %d 건 입니다.'%len(books_df))\n",
    "else :\n",
    "    print('데이터를 조회하지 못했습니다')\n",
    "\n",
    "books_df"
   ]
  },
  {
   "cell_type": "code",
   "execution_count": 173,
   "metadata": {
    "ExecuteTime": {
     "end_time": "2019-09-02T04:14:41.879788Z",
     "start_time": "2019-09-02T04:14:41.871974Z"
    }
   },
   "outputs": [],
   "source": [
    "## data renewal\n",
    "\n",
    "def updata_books(db_name):\n",
    "    \"\"\"\n",
    "    데이터를 수정하는 함수\n",
    "    Args:\n",
    "        db_name : Database Name\n",
    "    Returns:\n",
    "        is_success : Boolean\n",
    "    \"\"\"\n",
    "    is_success = True\n",
    "    \n",
    "    try:\n",
    "        # 데이터베이스 커넥션 생성\n",
    "        conn = sqlite3.connect(db_name)\n",
    "        \n",
    "        # 커서 확보\n",
    "        cur = conn.cursor()\n",
    "        \n",
    "        # 데이터 수정 SQL (제목이 ?인 책의 추천 유무를 ?로 변경하라)\n",
    "        db_sql = \"UPDATE my_books SET recommendation = ? WHERE title = ?\"\n",
    "        \n",
    "        # 수정 SQL 실행\n",
    "        cur.exectute(db_sql, (1, '메가트랜드'))\n",
    "        \n",
    "    except:\n",
    "        is_success = False # 실행이 안 되면 False로 바꿈\n",
    "        print(\"Database Error!\")\n",
    "        \n",
    "    finally:\n",
    "        if is_success:\n",
    "            # 데이터베이스 반영\n",
    "            conn.commit()\n",
    "            \n",
    "        else:\n",
    "            # 데이터베이스 철회\n",
    "            conn.rollback()\n",
    "            \n",
    "        # 데이터베이스 커넥션 닫기\n",
    "        conn.close()\n",
    "        \n",
    "    return is_success"
   ]
  },
  {
   "cell_type": "code",
   "execution_count": 174,
   "metadata": {
    "ExecuteTime": {
     "end_time": "2019-09-02T04:14:42.195237Z",
     "start_time": "2019-09-02T04:14:42.164962Z"
    }
   },
   "outputs": [
    {
     "name": "stdout",
     "output_type": "stream",
     "text": [
      "[3] 1개 데이터 출력하기\n",
      "Database Error!\n",
      "데이터가 수정되지 않았습니다\n",
      "[3] 1개 데이터 출력하기\n"
     ]
    },
    {
     "data": {
      "text/html": [
       "<div>\n",
       "<style scoped>\n",
       "    .dataframe tbody tr th:only-of-type {\n",
       "        vertical-align: middle;\n",
       "    }\n",
       "\n",
       "    .dataframe tbody tr th {\n",
       "        vertical-align: top;\n",
       "    }\n",
       "\n",
       "    .dataframe thead th {\n",
       "        text-align: right;\n",
       "    }\n",
       "</style>\n",
       "<table border=\"1\" class=\"dataframe\">\n",
       "  <thead>\n",
       "    <tr style=\"text-align: right;\">\n",
       "      <th></th>\n",
       "      <th>title</th>\n",
       "      <th>published_date</th>\n",
       "      <th>publisher</th>\n",
       "      <th>pages</th>\n",
       "      <th>recommendation</th>\n",
       "    </tr>\n",
       "    <tr>\n",
       "      <th>update</th>\n",
       "      <th></th>\n",
       "      <th></th>\n",
       "      <th></th>\n",
       "      <th></th>\n",
       "      <th></th>\n",
       "    </tr>\n",
       "  </thead>\n",
       "  <tbody>\n",
       "    <tr>\n",
       "      <th>수정전</th>\n",
       "      <td>메가트랜드</td>\n",
       "      <td>2002.03.02</td>\n",
       "      <td>A</td>\n",
       "      <td>200</td>\n",
       "      <td>0</td>\n",
       "    </tr>\n",
       "    <tr>\n",
       "      <th>수정후</th>\n",
       "      <td>메가트랜드</td>\n",
       "      <td>2002.03.02</td>\n",
       "      <td>A</td>\n",
       "      <td>200</td>\n",
       "      <td>0</td>\n",
       "    </tr>\n",
       "  </tbody>\n",
       "</table>\n",
       "</div>"
      ],
      "text/plain": [
       "        title published_date publisher  pages  recommendation\n",
       "update                                                       \n",
       "수정전     메가트랜드     2002.03.02         A    200               0\n",
       "수정후     메가트랜드     2002.03.02         A    200               0"
      ]
     },
     "execution_count": 174,
     "metadata": {},
     "output_type": "execute_result"
    }
   ],
   "source": [
    "# select_one_book(db_name)\n",
    "# update_books(db_name)\n",
    "# print('[데이터 수정 완료] ================== ')\n",
    "# select_one_book(db_name)\n",
    "\n",
    "\n",
    "is_success, books_df1 = select_one_book(db_name) \n",
    "\n",
    "if updata_books(db_name):\n",
    "    print('데이터가 성공적으로 수정되었습니다.')\n",
    "else :\n",
    "    print('데이터가 수정되지 않았습니다')\n",
    "    \n",
    "is_success, books_df2 = select_one_book(db_name) \n",
    "\n",
    "books_df = pd.concat([books_df1, books_df2], axis=0)\n",
    "books_df['update'] = ['수정전', '수정후']\n",
    "books_df.set_index('update', inplace=True)\n",
    "books_df"
   ]
  },
  {
   "cell_type": "markdown",
   "metadata": {},
   "source": [
    "## Data delete"
   ]
  },
  {
   "cell_type": "code",
   "execution_count": 186,
   "metadata": {
    "ExecuteTime": {
     "end_time": "2019-09-02T04:25:22.177386Z",
     "start_time": "2019-09-02T04:25:22.168626Z"
    }
   },
   "outputs": [],
   "source": [
    "import sqlite3 \n",
    "\n",
    "# 데이터 삭제용 함수\n",
    "def delete_books_by_title(db_name, title):\n",
    "    \"\"\"\n",
    "    책제목에 해당하는 데이터를 삭제하는 함수\n",
    "    Args:\n",
    "        db_name : Database Name\n",
    "        title   : Title of the book to be removed\n",
    "    Returns : \n",
    "        is_success : Boolean \n",
    "    \"\"\"\n",
    "    is_success = True\n",
    "    \n",
    "    try:    \n",
    "        # 데이터베이스 커넥션 생성\n",
    "        conn = sqlite3.connect(db_name) \n",
    "\n",
    "        # 커서 확보\n",
    "        cur = conn.cursor()  \n",
    "\n",
    "        # 데이터 삭제 SQL\n",
    "        db_sql = \"DELETE FROM my_books \" # my_books 안의\n",
    "        db_sql+= \"WHERE title = ?      \" # title ?을 지울 거임\n",
    "\n",
    "        # 수정 SQL 실행\n",
    "        # print('db_sql:', db_sql)\n",
    "        # print('title:', title)\n",
    "        cur.execute(db_sql, (title,)) # 위 ?에 title을 넣어줌\n",
    "        print(db_sql)\n",
    "        print(title)\n",
    "        # count = cur.execute(db_sql, (title,))\n",
    "        # print('count:', type(count), count)\n",
    "        \n",
    "    except:\n",
    "        is_success = False\n",
    "        print(\"Database Error!\")\n",
    "        \n",
    "    finally :      \n",
    "        if is_success:\n",
    "            # 데이터베이스 반영\n",
    "            conn.commit()  \n",
    "        else:\n",
    "            # 데이터베이스 철회\n",
    "            conn.rollback()\n",
    "            \n",
    "        # 데이터베이스 커넥션 닫기\n",
    "        conn.close()\n",
    "    \n",
    "    return is_success   "
   ]
  },
  {
   "cell_type": "code",
   "execution_count": 187,
   "metadata": {
    "ExecuteTime": {
     "end_time": "2019-09-02T04:25:22.349274Z",
     "start_time": "2019-09-02T04:25:22.327786Z"
    }
   },
   "outputs": [
    {
     "name": "stdout",
     "output_type": "stream",
     "text": [
      "DELETE FROM my_books WHERE title = ?      \n",
      "메가트랜드\n",
      "데이터가 성공적으로 삭제되었습니다.\n",
      "[1] 전체 데이터 출력하기\n"
     ]
    },
    {
     "data": {
      "text/html": [
       "<div>\n",
       "<style scoped>\n",
       "    .dataframe tbody tr th:only-of-type {\n",
       "        vertical-align: middle;\n",
       "    }\n",
       "\n",
       "    .dataframe tbody tr th {\n",
       "        vertical-align: top;\n",
       "    }\n",
       "\n",
       "    .dataframe thead th {\n",
       "        text-align: right;\n",
       "    }\n",
       "</style>\n",
       "<table border=\"1\" class=\"dataframe\">\n",
       "  <thead>\n",
       "    <tr style=\"text-align: right;\">\n",
       "      <th></th>\n",
       "      <th>title</th>\n",
       "      <th>published_date</th>\n",
       "      <th>publisher</th>\n",
       "      <th>pages</th>\n",
       "      <th>recommendation</th>\n",
       "    </tr>\n",
       "  </thead>\n",
       "  <tbody>\n",
       "    <tr>\n",
       "      <th>0</th>\n",
       "      <td>인더스트리 4.0</td>\n",
       "      <td>2016.07.09</td>\n",
       "      <td>B</td>\n",
       "      <td>584</td>\n",
       "      <td>1</td>\n",
       "    </tr>\n",
       "    <tr>\n",
       "      <th>1</th>\n",
       "      <td>유니콘 스타트업</td>\n",
       "      <td>2011.07.15</td>\n",
       "      <td>A</td>\n",
       "      <td>248</td>\n",
       "      <td>1</td>\n",
       "    </tr>\n",
       "    <tr>\n",
       "      <th>2</th>\n",
       "      <td>빅데이터 마케팅</td>\n",
       "      <td>2012.08.25</td>\n",
       "      <td>A</td>\n",
       "      <td>296</td>\n",
       "      <td>1</td>\n",
       "    </tr>\n",
       "    <tr>\n",
       "      <th>3</th>\n",
       "      <td>사물인터넷 전망</td>\n",
       "      <td>2013.08.22</td>\n",
       "      <td>B</td>\n",
       "      <td>526</td>\n",
       "      <td>0</td>\n",
       "    </tr>\n",
       "  </tbody>\n",
       "</table>\n",
       "</div>"
      ],
      "text/plain": [
       "       title published_date publisher  pages  recommendation\n",
       "0  인더스트리 4.0     2016.07.09         B    584               1\n",
       "1   유니콘 스타트업     2011.07.15         A    248               1\n",
       "2   빅데이터 마케팅     2012.08.25         A    296               1\n",
       "3   사물인터넷 전망     2013.08.22         B    526               0"
      ]
     },
     "execution_count": 187,
     "metadata": {},
     "output_type": "execute_result"
    }
   ],
   "source": [
    "title = '메가트랜드'\n",
    "if delete_books_by_title(db_name, title):\n",
    "    print('데이터가 성공적으로 삭제되었습니다.')\n",
    "else :\n",
    "    print('데이터가 삭제되지 않았습니다')\n",
    "\n",
    "is_success, books_df = select_all_books(db_name) \n",
    "books_df"
   ]
  },
  {
   "cell_type": "code",
   "execution_count": 188,
   "metadata": {
    "ExecuteTime": {
     "end_time": "2019-09-02T04:25:58.306569Z",
     "start_time": "2019-09-02T04:25:58.297779Z"
    }
   },
   "outputs": [],
   "source": [
    "def delete_books(db_name, col_name, col_val):\n",
    "    \"\"\"\n",
    "    조건에 맞는 데이터를 삭제하는 함수\n",
    "    Args:\n",
    "        db_name  : Database Name\n",
    "        col_name : Column Name\n",
    "        col_val  : Column Value\n",
    "    Returns : \n",
    "        is_success : Boolean \n",
    "    \"\"\"\n",
    "    is_success = True\n",
    "    \n",
    "    try: \n",
    "        # 데이터베이스 커넥션 생성\n",
    "        conn = sqlite3.connect(db_name) \n",
    "\n",
    "        # 커서 확보\n",
    "        cur = conn.cursor()  \n",
    "\n",
    "\n",
    "        # 데이터 삭제 SQL\n",
    "        # db_sql = \"DELETE FROM my_books \"\n",
    "        # db_sql+= \"WHERE {} = '{}' \"\n",
    "        # db_sql = db_sql.format(col_name, col_val)\n",
    "        # cur.execute(db_sql)    \n",
    "\n",
    "        # # 데이터 삭제 SQL\n",
    "        db_sql = 'DELETE FROM my_books '\n",
    "        db_sql+= 'WHERE {} = ? '\n",
    "        db_sql = db_sql.format(col_name)\n",
    "\n",
    "        # 수정 SQL 실행\n",
    "        cur.execute(db_sql, (col_val,))\n",
    "\n",
    "    except:\n",
    "        is_success = False\n",
    "        print(\"Database Error!\")\n",
    "        \n",
    "    finally :      \n",
    "        if is_success:\n",
    "            # 데이터베이스 반영\n",
    "            conn.commit()  \n",
    "        else:\n",
    "            # 데이터베이스 철회\n",
    "            conn.rollback()\n",
    "            \n",
    "        # 데이터베이스 커넥션 닫기\n",
    "        conn.close()\n",
    "    \n",
    "    return is_success   "
   ]
  },
  {
   "cell_type": "code",
   "execution_count": 193,
   "metadata": {
    "ExecuteTime": {
     "end_time": "2019-09-02T04:26:55.858963Z",
     "start_time": "2019-09-02T04:26:55.848220Z"
    }
   },
   "outputs": [
    {
     "name": "stdout",
     "output_type": "stream",
     "text": [
      "[1] 전체 데이터 출력하기\n",
      "True\n"
     ]
    }
   ],
   "source": [
    "is_success, books_df = select_all_books(db_name) \n",
    "books_df"
   ]
  },
  {
   "cell_type": "code",
   "execution_count": null,
   "metadata": {},
   "outputs": [],
   "source": [
    "print(is_success)"
   ]
  },
  {
   "cell_type": "code",
   "execution_count": 190,
   "metadata": {
    "ExecuteTime": {
     "end_time": "2019-09-02T04:25:59.154278Z",
     "start_time": "2019-09-02T04:25:59.127909Z"
    }
   },
   "outputs": [
    {
     "name": "stdout",
     "output_type": "stream",
     "text": [
      "데이터가 성공적으로 삭제되었습니다.\n",
      "[1] 전체 데이터 출력하기\n"
     ]
    },
    {
     "data": {
      "text/html": [
       "<div>\n",
       "<style scoped>\n",
       "    .dataframe tbody tr th:only-of-type {\n",
       "        vertical-align: middle;\n",
       "    }\n",
       "\n",
       "    .dataframe tbody tr th {\n",
       "        vertical-align: top;\n",
       "    }\n",
       "\n",
       "    .dataframe thead th {\n",
       "        text-align: right;\n",
       "    }\n",
       "</style>\n",
       "<table border=\"1\" class=\"dataframe\">\n",
       "  <thead>\n",
       "    <tr style=\"text-align: right;\">\n",
       "      <th></th>\n",
       "      <th>title</th>\n",
       "      <th>published_date</th>\n",
       "      <th>publisher</th>\n",
       "      <th>pages</th>\n",
       "      <th>recommendation</th>\n",
       "    </tr>\n",
       "  </thead>\n",
       "  <tbody>\n",
       "    <tr>\n",
       "      <th>0</th>\n",
       "      <td>인더스트리 4.0</td>\n",
       "      <td>2016.07.09</td>\n",
       "      <td>B</td>\n",
       "      <td>584</td>\n",
       "      <td>1</td>\n",
       "    </tr>\n",
       "    <tr>\n",
       "      <th>1</th>\n",
       "      <td>사물인터넷 전망</td>\n",
       "      <td>2013.08.22</td>\n",
       "      <td>B</td>\n",
       "      <td>526</td>\n",
       "      <td>0</td>\n",
       "    </tr>\n",
       "  </tbody>\n",
       "</table>\n",
       "</div>"
      ],
      "text/plain": [
       "       title published_date publisher  pages  recommendation\n",
       "0  인더스트리 4.0     2016.07.09         B    584               1\n",
       "1   사물인터넷 전망     2013.08.22         B    526               0"
      ]
     },
     "execution_count": 190,
     "metadata": {},
     "output_type": "execute_result"
    }
   ],
   "source": [
    "col_name = 'publisher'\n",
    "col_val  = 'A'\n",
    "if delete_books(db_name, col_name, col_val):\n",
    "    print('데이터가 성공적으로 삭제되었습니다.')\n",
    "else :\n",
    "    print('데이터가 삭제되지 않았습니다')\n",
    "\n",
    "is_success, books_df = select_all_books(db_name) \n",
    "books_df"
   ]
  },
  {
   "cell_type": "code",
   "execution_count": 191,
   "metadata": {
    "ExecuteTime": {
     "end_time": "2019-09-02T04:25:59.747088Z",
     "start_time": "2019-09-02T04:25:59.719742Z"
    }
   },
   "outputs": [
    {
     "name": "stdout",
     "output_type": "stream",
     "text": [
      "데이터가 성공적으로 삭제되었습니다.\n",
      "[1] 전체 데이터 출력하기\n"
     ]
    },
    {
     "data": {
      "text/html": [
       "<div>\n",
       "<style scoped>\n",
       "    .dataframe tbody tr th:only-of-type {\n",
       "        vertical-align: middle;\n",
       "    }\n",
       "\n",
       "    .dataframe tbody tr th {\n",
       "        vertical-align: top;\n",
       "    }\n",
       "\n",
       "    .dataframe thead th {\n",
       "        text-align: right;\n",
       "    }\n",
       "</style>\n",
       "<table border=\"1\" class=\"dataframe\">\n",
       "  <thead>\n",
       "    <tr style=\"text-align: right;\">\n",
       "      <th></th>\n",
       "      <th>title</th>\n",
       "      <th>published_date</th>\n",
       "      <th>publisher</th>\n",
       "      <th>pages</th>\n",
       "      <th>recommendation</th>\n",
       "    </tr>\n",
       "  </thead>\n",
       "  <tbody>\n",
       "    <tr>\n",
       "      <th>0</th>\n",
       "      <td>인더스트리 4.0</td>\n",
       "      <td>2016.07.09</td>\n",
       "      <td>B</td>\n",
       "      <td>584</td>\n",
       "      <td>1</td>\n",
       "    </tr>\n",
       "  </tbody>\n",
       "</table>\n",
       "</div>"
      ],
      "text/plain": [
       "       title published_date publisher  pages  recommendation\n",
       "0  인더스트리 4.0     2016.07.09         B    584               1"
      ]
     },
     "execution_count": 191,
     "metadata": {},
     "output_type": "execute_result"
    }
   ],
   "source": [
    "col_name = 'title'\n",
    "col_val  = '사물인터넷 전망'\n",
    "if delete_books(db_name, col_name, col_val):\n",
    "    print('데이터가 성공적으로 삭제되었습니다.')\n",
    "else :\n",
    "    print('데이터가 삭제되지 않았습니다')\n",
    "\n",
    "is_success, books_df = select_all_books(db_name) \n",
    "books_df"
   ]
  },
  {
   "cell_type": "code",
   "execution_count": null,
   "metadata": {},
   "outputs": [],
   "source": []
  }
 ],
 "metadata": {
  "kernelspec": {
   "display_name": "Python 3",
   "language": "python",
   "name": "python3"
  },
  "language_info": {
   "codemirror_mode": {
    "name": "ipython",
    "version": 3
   },
   "file_extension": ".py",
   "mimetype": "text/x-python",
   "name": "python",
   "nbconvert_exporter": "python",
   "pygments_lexer": "ipython3",
   "version": "3.7.3"
  },
  "varInspector": {
   "cols": {
    "lenName": 16,
    "lenType": 16,
    "lenVar": 40
   },
   "kernels_config": {
    "python": {
     "delete_cmd_postfix": "",
     "delete_cmd_prefix": "del ",
     "library": "var_list.py",
     "varRefreshCmd": "print(var_dic_list())"
    },
    "r": {
     "delete_cmd_postfix": ") ",
     "delete_cmd_prefix": "rm(",
     "library": "var_list.r",
     "varRefreshCmd": "cat(var_dic_list()) "
    }
   },
   "types_to_exclude": [
    "module",
    "function",
    "builtin_function_or_method",
    "instance",
    "_Feature"
   ],
   "window_display": false
  }
 },
 "nbformat": 4,
 "nbformat_minor": 2
}
